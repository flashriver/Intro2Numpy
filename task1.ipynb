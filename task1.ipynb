{
 "cells": [
  {
   "cell_type": "code",
   "execution_count": 105,
   "metadata": {},
   "outputs": [],
   "source": [
    "import numpy as np"
   ]
  },
  {
   "cell_type": "code",
   "execution_count": 106,
   "metadata": {},
   "outputs": [
    {
     "data": {
      "text/plain": [
       "'1.18.5'"
      ]
     },
     "execution_count": 106,
     "metadata": {},
     "output_type": "execute_result"
    }
   ],
   "source": [
    "np.__version__"
   ]
  },
  {
   "cell_type": "markdown",
   "metadata": {},
   "source": [
    "# 常量"
   ]
  },
  {
   "cell_type": "code",
   "execution_count": 136,
   "metadata": {},
   "outputs": [
    {
     "name": "stdout",
     "output_type": "stream",
     "text": [
      "False\n",
      "True\n"
     ]
    }
   ],
   "source": [
    "#两个numpy.nan是不相等的。\n",
    "\n",
    "print(np.nan == np.nan)  # False\n",
    "print(np.nan != np.nan)  # True"
   ]
  },
  {
   "cell_type": "code",
   "execution_count": 137,
   "metadata": {},
   "outputs": [
    {
     "name": "stdout",
     "output_type": "stream",
     "text": [
      "[ 1.  1.  8. nan 10.]\n",
      "[False False False  True False]\n",
      "1\n"
     ]
    }
   ],
   "source": [
    "#numpy.isnan(x, *args, **kwargs) Test element-wise for NaN and return result as a boolean array.\n",
    "x = np.array([1, 1, 8, np.nan, 10])\n",
    "print(x)\n",
    "# [ 1.  1.  8. nan 10.]\n",
    "\n",
    "y = np.isnan(x)\n",
    "print(y)\n",
    "# [False False False  True False]\n",
    "\n",
    "z = np.count_nonzero(y)\n",
    "print(z)  # 1"
   ]
  },
  {
   "cell_type": "code",
   "execution_count": 138,
   "metadata": {},
   "outputs": [
    {
     "data": {
      "text/plain": [
       "(True, True, True, True)"
      ]
     },
     "execution_count": 138,
     "metadata": {},
     "output_type": "execute_result"
    }
   ],
   "source": [
    "#numpy.inf 表示正无穷大. Inf = inf = infty = Infinity = PINF\n",
    "np.inf==np.Inf,np.inf==np.infty,np.inf==np.Infinity,np.inf==np.PINF"
   ]
  },
  {
   "cell_type": "code",
   "execution_count": 139,
   "metadata": {},
   "outputs": [
    {
     "name": "stdout",
     "output_type": "stream",
     "text": [
      "3.141592653589793\n",
      "2.718281828459045\n"
     ]
    }
   ],
   "source": [
    "#numpy.pi 表示圆周率\n",
    "print(np.pi)# = 3.1415926535897932384626433...\n",
    "#numpy.e表示自然常数\n",
    "print(np.e)# = 2.71828182845904523536028747135266249775724709369995..."
   ]
  },
  {
   "cell_type": "markdown",
   "metadata": {},
   "source": [
    "# 数据类型"
   ]
  },
  {
   "cell_type": "markdown",
   "metadata": {},
   "source": [
    "## 常见数据类型\n",
    "\n",
    "Python 原生的数据类型相对较少， bool、int、float、str等。这在不需要关心数据在计算机中表示的所有方式的应用中是方便的。然而，对于科学计算，通常需要更多的控制。为了加以区分 numpy 在这些类型名称末尾都加了“_”。\n",
    "\n",
    "下表列举了常用 numpy 基本类型。\n",
    "\n",
    "\n",
    "类型 | 备注 | 说明 \n",
    "---|---|---\n",
    "bool_ = bool8 | 8位 | 布尔类型\n",
    "int8 = byte | 8位 | 整型\n",
    "int16 = short |\t16位| 整型\n",
    "int32 = intc | 32位| 整型\n",
    "int_ = int64 = long = int0 = intp | 64位| 整型\n",
    "uint8 = ubyte |8位 | 无符号整型\n",
    "uint16 = ushort|16位| 无符号整型\n",
    "uint32 = uintc|32位| 无符号整型\n",
    "uint64 = uintp = uint0 = uint| 64位| 无符号整型\n",
    "float16 = half|16位 | 浮点型\n",
    "float32 = single| 32位| 浮点型\n",
    "float_ = float64 = double| 64位| 浮点型\n",
    "str_ = unicode_ = str0 = unicode| |Unicode 字符串\n",
    "datetime64| |日期时间类型\n",
    "timedelta64| |表示两个时间之间的间隔\n",
    "\n"
   ]
  },
  {
   "cell_type": "markdown",
   "metadata": {},
   "source": [
    "## 创建数据类型\n",
    "\n",
    "numpy 的数值类型实际上是 dtype 对象的实例。\n",
    "\n",
    "```python\n",
    "class dtype(object):\n",
    "    def __init__(self, obj, align=False, copy=False):\n",
    "        pass\n",
    "```\n",
    "\n",
    "\n",
    "\n",
    "\n",
    "每个内建类型都有一个唯一定义它的字符代码，如下：\n",
    "\n",
    "字符 | \t对应类型|备注\n",
    "---|---|---\n",
    "b\t|boolean | 'b1'\n",
    "i\t|signed integer | 'i1', 'i2', 'i4', 'i8'\n",
    "u\t|unsigned integer | 'u1', 'u2' ,'u4' ,'u8'\n",
    "f\t|floating-point | 'f2', 'f4', 'f8'\n",
    "c\t|complex floating-point |\n",
    "m\t|timedelta64 |表示两个时间之间的间隔\n",
    "M\t|datetime64 |日期时间类型\n",
    "O\t|object |\n",
    "S\t|(byte-)string | S3表示长度为3的字符串\n",
    "U\t|Unicode | Unicode 字符串\n",
    "V\t|void\n",
    "\n",
    "【例】\n",
    "```python\n",
    "import numpy as np\n",
    "\n",
    "a = np.dtype('b1')\n",
    "print(a.type)  # <class 'numpy.bool_'>\n",
    "print(a.itemsize)  # 1\n",
    "\n",
    "a = np.dtype('i1')\n",
    "print(a.type)  # <class 'numpy.int8'>\n",
    "print(a.itemsize)  # 1\n",
    "a = np.dtype('i2')\n",
    "print(a.type)  # <class 'numpy.int16'>\n",
    "print(a.itemsize)  # 2\n",
    "a = np.dtype('i4')\n",
    "print(a.type)  # <class 'numpy.int32'>\n",
    "print(a.itemsize)  # 4\n",
    "a = np.dtype('i8')\n",
    "print(a.type)  # <class 'numpy.int64'>\n",
    "print(a.itemsize)  # 8\n",
    "\n",
    "a = np.dtype('u1')\n",
    "print(a.type)  # <class 'numpy.uint8'>\n",
    "print(a.itemsize)  # 1\n",
    "a = np.dtype('u2')\n",
    "print(a.type)  # <class 'numpy.uint16'>\n",
    "print(a.itemsize)  # 2\n",
    "a = np.dtype('u4')\n",
    "print(a.type)  # <class 'numpy.uint32'>\n",
    "print(a.itemsize)  # 4\n",
    "a = np.dtype('u8')\n",
    "print(a.type)  # <class 'numpy.uint64'>\n",
    "print(a.itemsize)  # 8\n",
    "\n",
    "a = np.dtype('f2')\n",
    "print(a.type)  # <class 'numpy.float16'>\n",
    "print(a.itemsize)  # 2\n",
    "a = np.dtype('f4')\n",
    "print(a.type)  # <class 'numpy.float32'>\n",
    "print(a.itemsize)  # 4\n",
    "a = np.dtype('f8')\n",
    "print(a.type)  # <class 'numpy.float64'>\n",
    "print(a.itemsize)  # 8\n",
    "\n",
    "a = np.dtype('S')\n",
    "print(a.type)  # <class 'numpy.bytes_'>\n",
    "print(a.itemsize)  # 0\n",
    "a = np.dtype('S3')\n",
    "print(a.type)  # <class 'numpy.bytes_'>\n",
    "print(a.itemsize)  # 3\n",
    "\n",
    "a = np.dtype('U3')\n",
    "print(a.type)  # <class 'numpy.str_'>\n",
    "print(a.itemsize)  # 12\n",
    "```\n"
   ]
  },
  {
   "cell_type": "code",
   "execution_count": 140,
   "metadata": {},
   "outputs": [
    {
     "name": "stdout",
     "output_type": "stream",
     "text": [
      "<class 'numpy.bool_'>\n",
      "1\n"
     ]
    }
   ],
   "source": [
    "a = np.dtype('b1')\n",
    "print(a.type)  # <class 'numpy.bool_'>\n",
    "print(a.itemsize)  # 1"
   ]
  },
  {
   "cell_type": "code",
   "execution_count": 141,
   "metadata": {},
   "outputs": [
    {
     "name": "stdout",
     "output_type": "stream",
     "text": [
      "<class 'numpy.int8'>\n",
      "1\n"
     ]
    }
   ],
   "source": [
    "a = np.dtype('i1')\n",
    "print(a.type)  # <class 'numpy.int8'>\n",
    "print(a.itemsize)  # 1"
   ]
  },
  {
   "cell_type": "code",
   "execution_count": 142,
   "metadata": {},
   "outputs": [
    {
     "name": "stdout",
     "output_type": "stream",
     "text": [
      "<class 'numpy.int16'>\n",
      "2\n"
     ]
    }
   ],
   "source": [
    "a = np.dtype('i2')\n",
    "print(a.type)  # <class 'numpy.int16'>\n",
    "print(a.itemsize)  # 2\n"
   ]
  },
  {
   "cell_type": "code",
   "execution_count": 143,
   "metadata": {},
   "outputs": [
    {
     "name": "stdout",
     "output_type": "stream",
     "text": [
      "<class 'numpy.int32'>\n",
      "4\n"
     ]
    }
   ],
   "source": [
    "a = np.dtype('i4')\n",
    "print(a.type)  # <class 'numpy.int32'>\n",
    "print(a.itemsize)  # 4"
   ]
  },
  {
   "cell_type": "code",
   "execution_count": 144,
   "metadata": {},
   "outputs": [
    {
     "name": "stdout",
     "output_type": "stream",
     "text": [
      "<class 'numpy.int64'>\n",
      "8\n"
     ]
    }
   ],
   "source": [
    "a = np.dtype('i8')\n",
    "print(a.type)  # <class 'numpy.int64'>\n",
    "print(a.itemsize)  # 8"
   ]
  },
  {
   "cell_type": "code",
   "execution_count": 145,
   "metadata": {},
   "outputs": [
    {
     "name": "stdout",
     "output_type": "stream",
     "text": [
      "<class 'numpy.uint8'>\n",
      "1\n"
     ]
    }
   ],
   "source": [
    "a = np.dtype('u1')\n",
    "print(a.type)  # <class 'numpy.uint8'>\n",
    "print(a.itemsize)  # 1"
   ]
  },
  {
   "cell_type": "code",
   "execution_count": 146,
   "metadata": {},
   "outputs": [
    {
     "name": "stdout",
     "output_type": "stream",
     "text": [
      "<class 'numpy.uint16'>\n",
      "2\n"
     ]
    }
   ],
   "source": [
    "a = np.dtype('u2')\n",
    "print(a.type)  # <class 'numpy.uint16'>\n",
    "print(a.itemsize)  # 2"
   ]
  },
  {
   "cell_type": "code",
   "execution_count": 147,
   "metadata": {},
   "outputs": [
    {
     "name": "stdout",
     "output_type": "stream",
     "text": [
      "<class 'numpy.uint32'>\n",
      "4\n"
     ]
    }
   ],
   "source": [
    "a = np.dtype('u4')\n",
    "print(a.type)  # <class 'numpy.uint32'>\n",
    "print(a.itemsize)  # 4"
   ]
  },
  {
   "cell_type": "code",
   "execution_count": 148,
   "metadata": {},
   "outputs": [
    {
     "name": "stdout",
     "output_type": "stream",
     "text": [
      "<class 'numpy.uint64'>\n",
      "8\n"
     ]
    }
   ],
   "source": [
    "a = np.dtype('u8')\n",
    "print(a.type)  # <class 'numpy.uint64'>\n",
    "print(a.itemsize)  # 8"
   ]
  },
  {
   "cell_type": "code",
   "execution_count": 149,
   "metadata": {},
   "outputs": [
    {
     "name": "stdout",
     "output_type": "stream",
     "text": [
      "<class 'numpy.float16'>\n",
      "2\n"
     ]
    }
   ],
   "source": [
    "a = np.dtype('f2')\n",
    "print(a.type)  # <class 'numpy.float16'>\n",
    "print(a.itemsize)  # 2"
   ]
  },
  {
   "cell_type": "code",
   "execution_count": 150,
   "metadata": {},
   "outputs": [
    {
     "name": "stdout",
     "output_type": "stream",
     "text": [
      "<class 'numpy.float32'>\n",
      "4\n"
     ]
    }
   ],
   "source": [
    "a = np.dtype('f4')\n",
    "print(a.type)  # <class 'numpy.float32'>\n",
    "print(a.itemsize)  # 4"
   ]
  },
  {
   "cell_type": "code",
   "execution_count": 151,
   "metadata": {},
   "outputs": [
    {
     "name": "stdout",
     "output_type": "stream",
     "text": [
      "<class 'numpy.float64'>\n",
      "8\n"
     ]
    }
   ],
   "source": [
    "a = np.dtype('f8')\n",
    "print(a.type)  # <class 'numpy.float64'>\n",
    "print(a.itemsize)  # 8"
   ]
  },
  {
   "cell_type": "code",
   "execution_count": 152,
   "metadata": {},
   "outputs": [
    {
     "name": "stdout",
     "output_type": "stream",
     "text": [
      "<class 'numpy.bytes_'>\n",
      "0\n"
     ]
    }
   ],
   "source": [
    "a = np.dtype('S')\n",
    "print(a.type)  # <class 'numpy.bytes_'>\n",
    "print(a.itemsize)  # 0"
   ]
  },
  {
   "cell_type": "code",
   "execution_count": 153,
   "metadata": {},
   "outputs": [
    {
     "name": "stdout",
     "output_type": "stream",
     "text": [
      "<class 'numpy.bytes_'>\n",
      "3\n"
     ]
    }
   ],
   "source": [
    "a = np.dtype('S3')\n",
    "print(a.type)  # <class 'numpy.bytes_'>\n",
    "print(a.itemsize)  # 3"
   ]
  },
  {
   "cell_type": "code",
   "execution_count": 154,
   "metadata": {},
   "outputs": [
    {
     "name": "stdout",
     "output_type": "stream",
     "text": [
      "<class 'numpy.str_'>\n",
      "12\n"
     ]
    }
   ],
   "source": [
    "a = np.dtype('U3')\n",
    "print(a.type)  # <class 'numpy.str_'>\n",
    "print(a.itemsize)  # 12"
   ]
  },
  {
   "cell_type": "markdown",
   "metadata": {},
   "source": [
    "## 数据类型信息\n",
    "\n",
    "Python 的浮点数通常是64位浮点数，几乎等同于 `np.float64`。\n",
    "\n",
    "NumPy和Python整数类型的行为在整数溢出方面存在显着差异，与 NumPy 不同，Python 的`int` 是灵活的。这意味着Python整数可以扩展以容纳任何整数并且不会溢出。\n",
    "\n",
    "Machine limits for integer types.\n",
    "```python\n",
    "class iinfo(object):\n",
    "    def __init__(self, int_type):\n",
    "        pass\n",
    "    def min(self):\n",
    "        pass\n",
    "    def max(self):\n",
    "        pass\n",
    "```\n",
    "【例】\n",
    "\n",
    "```python\n",
    "import numpy as np\n",
    "\n",
    "ii16 = np.iinfo(np.int16)\n",
    "print(ii16.min)  # -32768\n",
    "print(ii16.max)  # 32767\n",
    "\n",
    "ii32 = np.iinfo(np.int32)\n",
    "print(ii32.min)  # -2147483648\n",
    "print(ii32.max)  # 2147483647\n",
    "```\n",
    "\n",
    "Machine limits for floating point types.\n",
    "```python\n",
    "class finfo(object):\n",
    "    def _init(self, dtype):\n",
    "```\n",
    "【例】\n",
    "```python\n",
    "import numpy as np\n",
    "\n",
    "ff16 = np.finfo(np.float16)\n",
    "print(ff16.bits)  # 16\n",
    "print(ff16.min)  # -65500.0\n",
    "print(ff16.max)  # 65500.0\n",
    "print(ff16.eps)  # 0.000977\n",
    "\n",
    "ff32 = np.finfo(np.float32)\n",
    "print(ff32.bits)  # 32\n",
    "print(ff32.min)  # -3.4028235e+38\n",
    "print(ff32.max)  # 3.4028235e+38\n",
    "print(ff32.eps)  # 1.1920929e-07\n",
    "```"
   ]
  },
  {
   "cell_type": "code",
   "execution_count": 155,
   "metadata": {},
   "outputs": [
    {
     "name": "stdout",
     "output_type": "stream",
     "text": [
      "-32768\n",
      "32767\n"
     ]
    }
   ],
   "source": [
    "ii16 = np.iinfo(np.int16)\n",
    "print(ii16.min)  # -32768\n",
    "print(ii16.max)  # 32767"
   ]
  },
  {
   "cell_type": "code",
   "execution_count": 156,
   "metadata": {},
   "outputs": [
    {
     "name": "stdout",
     "output_type": "stream",
     "text": [
      "-2147483648\n",
      "2147483647\n"
     ]
    }
   ],
   "source": [
    "ii32 = np.iinfo(np.int32)\n",
    "print(ii32.min)  # -2147483648\n",
    "print(ii32.max)  # 2147483647"
   ]
  },
  {
   "cell_type": "code",
   "execution_count": 157,
   "metadata": {},
   "outputs": [
    {
     "name": "stdout",
     "output_type": "stream",
     "text": [
      "16\n",
      "-65500.0\n",
      "65500.0\n",
      "0.000977\n"
     ]
    }
   ],
   "source": [
    "ff16 = np.finfo(np.float16)\n",
    "print(ff16.bits)  # 16\n",
    "print(ff16.min)  # -65500.0\n",
    "print(ff16.max)  # 65500.0\n",
    "print(ff16.eps)  # 0.000977"
   ]
  },
  {
   "cell_type": "code",
   "execution_count": 158,
   "metadata": {},
   "outputs": [
    {
     "name": "stdout",
     "output_type": "stream",
     "text": [
      "32\n",
      "-3.4028235e+38\n",
      "3.4028235e+38\n",
      "1.1920929e-07\n"
     ]
    }
   ],
   "source": [
    "ff32 = np.finfo(np.float32)\n",
    "print(ff32.bits)  # 32\n",
    "print(ff32.min)  # -3.4028235e+38\n",
    "print(ff32.max)  # 3.4028235e+38\n",
    "print(ff32.eps)  # 1.1920929e-07"
   ]
  },
  {
   "cell_type": "markdown",
   "metadata": {},
   "source": [
    "# 时间日期和时间增量"
   ]
  },
  {
   "cell_type": "markdown",
   "metadata": {},
   "source": [
    "## datetime64 基础\n",
    "\n",
    "在 numpy 中，我们很方便的将字符串转换成时间日期类型 `datetime64`（`datetime` 已被 python 包含的日期时间库所占用）。\n",
    "\n",
    "`datatime64`是带单位的日期时间类型，其单位如下：\n",
    "\n",
    "日期单位 | 代码含义|时间单位 | 代码含义\n",
    ":---:|:---:|:---:|:---:\n",
    "Y | 年 |h | 小时\n",
    "M | 月 |m | 分钟\n",
    "W | 周 |s | 秒\n",
    "D | 天 |ms | 毫秒\n",
    "- | -  |us | 微秒\n",
    "- | -  |ns | 纳秒\n",
    "- | -  |ps | 皮秒\n",
    "- | -  |fs | 飞秒\n",
    "- | -  |as | 阿托秒\n",
    "\n",
    "注意：\n",
    "- 1秒 = 1000 毫秒（milliseconds）\n",
    "- 1毫秒 = 1000 微秒（microseconds）\n",
    "\n",
    "【例】从字符串创建 datetime64 类型时，默认情况下，numpy 会根据字符串自动选择对应的单位。\n",
    "```python\n",
    "import numpy as np\n",
    "\n",
    "a = np.datetime64('2020-03-01')\n",
    "print(a, a.dtype)  # 2020-03-01 datetime64[D]\n",
    "\n",
    "a = np.datetime64('2020-03')\n",
    "print(a, a.dtype)  # 2020-03 datetime64[M]\n",
    "\n",
    "a = np.datetime64('2020-03-08 20:00:05')\n",
    "print(a, a.dtype)  # 2020-03-08T20:00:05 datetime64[s]\n",
    "\n",
    "a = np.datetime64('2020-03-08 20:00')\n",
    "print(a, a.dtype)  # 2020-03-08T20:00 datetime64[m]\n",
    "\n",
    "a = np.datetime64('2020-03-08 20')\n",
    "print(a, a.dtype)  # 2020-03-08T20 datetime64[h]\n",
    "```\n",
    "\n",
    "\n",
    "\n",
    "\n",
    "\n",
    "【例】从字符串创建 datetime64 类型时，可以强制指定使用的单位。\n",
    "```python\n",
    "import numpy as np\n",
    "\n",
    "a = np.datetime64('2020-03', 'D')\n",
    "print(a, a.dtype)  # 2020-03-01 datetime64[D]\n",
    "\n",
    "a = np.datetime64('2020-03', 'Y')\n",
    "print(a, a.dtype)  # 2020 datetime64[Y]\n",
    "\n",
    "print(np.datetime64('2020-03') == np.datetime64('2020-03-01'))  # True\n",
    "print(np.datetime64('2020-03') == np.datetime64('2020-03-02'))  #False\n",
    "```\n",
    "\n",
    "由上例可以看出，2019-03 和 2019-03-01 所表示的其实是同一个时间。\n",
    "事实上，如果两个 datetime64 对象具有不同的单位，它们可能仍然代表相同的时刻。并且从较大的单位（如月份）转换为较小的单位（如天数）是安全的。\n",
    "\n",
    "\n",
    "【例】从字符串创建 datetime64 数组时，如果单位不统一，则一律转化成其中最小的单位。\n",
    "```python\n",
    "import numpy as np\n",
    "\n",
    "a = np.array(['2020-03', '2020-03-08', '2020-03-08 20:00'], dtype='datetime64')\n",
    "print(a, a.dtype)\n",
    "# ['2020-03-01T00:00' '2020-03-08T00:00' '2020-03-08T20:00'] datetime64[m]\n",
    "```\n",
    "\n",
    "\n",
    "【例】使用`arange()`创建 datetime64 数组，用于生成日期范围。\n",
    "```python\n",
    "import numpy as np\n",
    "\n",
    "a = np.arange('2020-08-01', '2020-08-10', dtype=np.datetime64)\n",
    "print(a)\n",
    "# ['2020-08-01' '2020-08-02' '2020-08-03' '2020-08-04' '2020-08-05'\n",
    "#  '2020-08-06' '2020-08-07' '2020-08-08' '2020-08-09']\n",
    "print(a.dtype)  # datetime64[D]\n",
    "\n",
    "a = np.arange('2020-08-01 20:00', '2020-08-10', dtype=np.datetime64)\n",
    "print(a)\n",
    "# ['2020-08-01T20:00' '2020-08-01T20:01' '2020-08-01T20:02' ...\n",
    "#  '2020-08-09T23:57' '2020-08-09T23:58' '2020-08-09T23:59']\n",
    "print(a.dtype)  # datetime64[m]\n",
    "\n",
    "a = np.arange('2020-05', '2020-12', dtype=np.datetime64)\n",
    "print(a)\n",
    "# ['2020-05' '2020-06' '2020-07' '2020-08' '2020-09' '2020-10' '2020-11']\n",
    "print(a.dtype)  # datetime64[M]\n",
    "```"
   ]
  },
  {
   "cell_type": "code",
   "execution_count": 159,
   "metadata": {},
   "outputs": [
    {
     "name": "stdout",
     "output_type": "stream",
     "text": [
      "2020-03-01 datetime64[D]\n",
      "2020-03 datetime64[M]\n",
      "2020-03-08T20:00:05 datetime64[s]\n",
      "2020-03-08T20:00 datetime64[m]\n",
      "2020-03-08T20 datetime64[h]\n"
     ]
    }
   ],
   "source": [
    "#从字符串创建 datetime64 类型时，默认情况下，numpy 会根据字符串自动选择对应的单位。\n",
    "a = np.datetime64('2020-03-01')\n",
    "print(a, a.dtype)  # 2020-03-01 datetime64[D]\n",
    "\n",
    "a = np.datetime64('2020-03')\n",
    "print(a, a.dtype)  # 2020-03 datetime64[M]\n",
    "\n",
    "a = np.datetime64('2020-03-08 20:00:05')\n",
    "print(a, a.dtype)  # 2020-03-08T20:00:05 datetime64[s]\n",
    "\n",
    "a = np.datetime64('2020-03-08 20:00')\n",
    "print(a, a.dtype)  # 2020-03-08T20:00 datetime64[m]\n",
    "\n",
    "a = np.datetime64('2020-03-08 20')\n",
    "print(a, a.dtype)  # 2020-03-08T20 datetime64[h]"
   ]
  },
  {
   "cell_type": "code",
   "execution_count": 160,
   "metadata": {},
   "outputs": [
    {
     "name": "stdout",
     "output_type": "stream",
     "text": [
      "2020-03-01 datetime64[D]\n",
      "2020 datetime64[Y]\n",
      "True\n",
      "False\n"
     ]
    }
   ],
   "source": [
    "#【例】从字符串创建 datetime64 类型时，可以强制指定使用的单位。\n",
    "a = np.datetime64('2020-03', 'D')\n",
    "print(a, a.dtype)  # 2020-03-01 datetime64[D]\n",
    "\n",
    "a = np.datetime64('2020-03', 'Y')\n",
    "print(a, a.dtype)  # 2020 datetime64[Y]\n",
    "\n",
    "print(np.datetime64('2020-03') == np.datetime64('2020-03-01'))  # True\n",
    "print(np.datetime64('2020-03') == np.datetime64('2020-03-02'))  #False"
   ]
  },
  {
   "cell_type": "code",
   "execution_count": 161,
   "metadata": {},
   "outputs": [
    {
     "name": "stdout",
     "output_type": "stream",
     "text": [
      "['2020-03-01T00:00' '2020-03-08T00:00' '2020-03-08T20:00'] datetime64[m]\n"
     ]
    }
   ],
   "source": [
    "#【例】从字符串创建 datetime64 数组时，如果单位不统一，则一律转化成其中最小的单位。\n",
    "a = np.array(['2020-03', '2020-03-08', '2020-03-08 20:00'], dtype='datetime64')\n",
    "print(a, a.dtype)\n",
    "# ['2020-03-01T00:00' '2020-03-08T00:00' '2020-03-08T20:00'] datetime64[m]"
   ]
  },
  {
   "cell_type": "code",
   "execution_count": 162,
   "metadata": {},
   "outputs": [
    {
     "name": "stdout",
     "output_type": "stream",
     "text": [
      "['2020-08-01' '2020-08-02' '2020-08-03' '2020-08-04' '2020-08-05'\n",
      " '2020-08-06' '2020-08-07' '2020-08-08' '2020-08-09']\n",
      "datetime64[D]\n",
      "['2020-08-01T20:00' '2020-08-01T20:01' '2020-08-01T20:02' ...\n",
      " '2020-08-09T23:57' '2020-08-09T23:58' '2020-08-09T23:59']\n",
      "datetime64[m]\n",
      "['2020-05' '2020-06' '2020-07' '2020-08' '2020-09' '2020-10' '2020-11']\n",
      "datetime64[M]\n"
     ]
    }
   ],
   "source": [
    "#【例】使用arange()创建 datetime64 数组，用于生成日期范围。\n",
    "a = np.arange('2020-08-01', '2020-08-10', dtype=np.datetime64)\n",
    "print(a)\n",
    "# ['2020-08-01' '2020-08-02' '2020-08-03' '2020-08-04' '2020-08-05'\n",
    "#  '2020-08-06' '2020-08-07' '2020-08-08' '2020-08-09']\n",
    "print(a.dtype)  # datetime64[D]\n",
    "\n",
    "a = np.arange('2020-08-01 20:00', '2020-08-10', dtype=np.datetime64)\n",
    "print(a)\n",
    "# ['2020-08-01T20:00' '2020-08-01T20:01' '2020-08-01T20:02' ...\n",
    "#  '2020-08-09T23:57' '2020-08-09T23:58' '2020-08-09T23:59']\n",
    "print(a.dtype)  # datetime64[m]\n",
    "\n",
    "a = np.arange('2020-05', '2020-12', dtype=np.datetime64)\n",
    "print(a)\n",
    "# ['2020-05' '2020-06' '2020-07' '2020-08' '2020-09' '2020-10' '2020-11']\n",
    "print(a.dtype)  # datetime64[M]"
   ]
  },
  {
   "cell_type": "markdown",
   "metadata": {},
   "source": [
    "## datetime64 和 timedelta64 运算\n",
    "\n",
    "【例】timedelta64 表示两个 datetime64 之间的差。timedelta64 也是带单位的，并且和相减运算中的两个 datetime64 中的较小的单位保持一致。\n",
    "```python\n",
    "import numpy as np\n",
    "\n",
    "a = np.datetime64('2020-03-08') - np.datetime64('2020-03-07')\n",
    "b = np.datetime64('2020-03-08') - np.datetime64('202-03-07 08:00')\n",
    "c = np.datetime64('2020-03-08') - np.datetime64('2020-03-07 23:00', 'D')\n",
    "\n",
    "print(a, a.dtype)  # 1 days timedelta64[D]\n",
    "print(b, b.dtype)  # 956178240 minutes timedelta64[m]\n",
    "print(c, c.dtype)  # 1 days timedelta64[D]\n",
    "\n",
    "a = np.datetime64('2020-03') + np.timedelta64(20, 'D')\n",
    "b = np.datetime64('2020-06-15 00:00') + np.timedelta64(12, 'h')\n",
    "print(a, a.dtype)  # 2020-03-21 datetime64[D]\n",
    "print(b, b.dtype)  # 2020-06-15T12:00 datetime64[m]\n",
    "```\n",
    "\n",
    "【例】生成 timedelta64时，要注意年（'Y'）和月（'M'）这两个单位无法和其它单位进行运算（一年有几天？一个月有几个小时？这些都是不确定的）。\n",
    "```python\n",
    "import numpy as np\n",
    "\n",
    "a = np.timedelta64(1, 'Y')\n",
    "b = np.timedelta64(a, 'M')\n",
    "print(a)  # 1 years\n",
    "print(b)  # 12 months\n",
    "\n",
    "c = np.timedelta64(1, 'h')\n",
    "d = np.timedelta64(c, 'm')\n",
    "print(c)  # 1 hours\n",
    "print(d)  # 60 minutes\n",
    "\n",
    "print(np.timedelta64(a, 'D'))\n",
    "# TypeError: Cannot cast NumPy timedelta64 scalar from metadata [Y] to [D] according to the rule 'same_kind'\n",
    "\n",
    "print(np.timedelta64(b, 'D'))\n",
    "# TypeError: Cannot cast NumPy timedelta64 scalar from metadata [M] to [D] according to the rule 'same_kind'\n",
    "```\n",
    "\n",
    "\n",
    "【例】timedelta64 的运算。\n",
    "```python\n",
    "import numpy as np\n",
    "\n",
    "a = np.timedelta64(1, 'Y')\n",
    "b = np.timedelta64(6, 'M')\n",
    "c = np.timedelta64(1, 'W')\n",
    "d = np.timedelta64(1, 'D')\n",
    "e = np.timedelta64(10, 'D')\n",
    "\n",
    "print(a)  # 1 years\n",
    "print(b)  # 6 months\n",
    "print(a + b)  # 18 months\n",
    "print(a - b)  # 6 months\n",
    "print(2 * a)  # 2 years\n",
    "print(a / b)  # 2.0\n",
    "print(c / d)  # 7.0\n",
    "print(c % e)  # 7 days\n",
    "```\n",
    "\n",
    "【例】numpy.datetime64 与 datetime.datetime 相互转换\n",
    "```python\n",
    "import numpy as np\n",
    "import datetime\n",
    "\n",
    "dt = datetime.datetime(year=2020, month=6, day=1, hour=20, minute=5, second=30)\n",
    "dt64 = np.datetime64(dt, 's')\n",
    "print(dt64, dt64.dtype)\n",
    "# 2020-06-01T20:05:30 datetime64[s]\n",
    "\n",
    "dt2 = dt64.astype(datetime.datetime)\n",
    "print(dt2, type(dt2))\n",
    "# 2020-06-01 20:05:30 <class 'datetime.datetime'>\n",
    "```"
   ]
  },
  {
   "cell_type": "code",
   "execution_count": 163,
   "metadata": {},
   "outputs": [
    {
     "name": "stdout",
     "output_type": "stream",
     "text": [
      "1 days timedelta64[D]\n",
      "956178240 minutes timedelta64[m]\n",
      "1 days timedelta64[D]\n",
      "2020-03-21 datetime64[D]\n",
      "2020-06-15T12:00 datetime64[m]\n"
     ]
    }
   ],
   "source": [
    "#【例】timedelta64 表示两个 datetime64 之间的差。timedelta64 也是带单位的，并且和相减运算中的两个 datetime64 中的较小的单位保持一致。\n",
    "a = np.datetime64('2020-03-08') - np.datetime64('2020-03-07')\n",
    "b = np.datetime64('2020-03-08') - np.datetime64('202-03-07 08:00')\n",
    "c = np.datetime64('2020-03-08') - np.datetime64('2020-03-07 23:00', 'D')\n",
    "\n",
    "print(a, a.dtype)  # 1 days timedelta64[D]\n",
    "print(b, b.dtype)  # 956178240 minutes timedelta64[m]\n",
    "print(c, c.dtype)  # 1 days timedelta64[D]\n",
    "\n",
    "a = np.datetime64('2020-03') + np.timedelta64(20, 'D')\n",
    "b = np.datetime64('2020-06-15 00:00') + np.timedelta64(12, 'h')\n",
    "print(a, a.dtype)  # 2020-03-21 datetime64[D]\n",
    "print(b, b.dtype)  # 2020-06-15T12:00 datetime64[m]"
   ]
  },
  {
   "cell_type": "code",
   "execution_count": 164,
   "metadata": {},
   "outputs": [
    {
     "name": "stdout",
     "output_type": "stream",
     "text": [
      "1 years\n",
      "12 months\n",
      "1 hours\n",
      "60 minutes\n"
     ]
    },
    {
     "ename": "TypeError",
     "evalue": "Cannot cast NumPy timedelta64 scalar from metadata [Y] to [D] according to the rule 'same_kind'",
     "output_type": "error",
     "traceback": [
      "\u001b[1;31m---------------------------------------------------------------------------\u001b[0m",
      "\u001b[1;31mTypeError\u001b[0m                                 Traceback (most recent call last)",
      "\u001b[1;32m<ipython-input-164-52acbfeb2c89>\u001b[0m in \u001b[0;36m<module>\u001b[1;34m\u001b[0m\n\u001b[0;32m     10\u001b[0m \u001b[0mprint\u001b[0m\u001b[1;33m(\u001b[0m\u001b[0md\u001b[0m\u001b[1;33m)\u001b[0m  \u001b[1;31m# 60 minutes\u001b[0m\u001b[1;33m\u001b[0m\u001b[1;33m\u001b[0m\u001b[0m\n\u001b[0;32m     11\u001b[0m \u001b[1;33m\u001b[0m\u001b[0m\n\u001b[1;32m---> 12\u001b[1;33m \u001b[0mprint\u001b[0m\u001b[1;33m(\u001b[0m\u001b[0mnp\u001b[0m\u001b[1;33m.\u001b[0m\u001b[0mtimedelta64\u001b[0m\u001b[1;33m(\u001b[0m\u001b[0ma\u001b[0m\u001b[1;33m,\u001b[0m \u001b[1;34m'D'\u001b[0m\u001b[1;33m)\u001b[0m\u001b[1;33m)\u001b[0m\u001b[1;33m\u001b[0m\u001b[1;33m\u001b[0m\u001b[0m\n\u001b[0m\u001b[0;32m     13\u001b[0m \u001b[1;31m# TypeError: Cannot cast NumPy timedelta64 scalar from metadata [Y] to [D] according to the rule 'same_kind'\u001b[0m\u001b[1;33m\u001b[0m\u001b[1;33m\u001b[0m\u001b[1;33m\u001b[0m\u001b[0m\n",
      "\u001b[1;31mTypeError\u001b[0m: Cannot cast NumPy timedelta64 scalar from metadata [Y] to [D] according to the rule 'same_kind'"
     ]
    }
   ],
   "source": [
    "#【例】生成 timedelta64时，要注意年（'Y'）和月（'M'）这两个单位无法和其它单位进行运算（一年有几天？一个月有几个小时？这些都是不确定的）。\n",
    "a = np.timedelta64(1, 'Y')\n",
    "b = np.timedelta64(a, 'M')\n",
    "print(a)  # 1 years\n",
    "print(b)  # 12 months\n",
    "\n",
    "c = np.timedelta64(1, 'h')\n",
    "d = np.timedelta64(c, 'm')\n",
    "print(c)  # 1 hours\n",
    "print(d)  # 60 minutes\n",
    "\n",
    "print(np.timedelta64(a, 'D'))\n",
    "# TypeError: Cannot cast NumPy timedelta64 scalar from metadata [Y] to [D] according to the rule 'same_kind'"
   ]
  },
  {
   "cell_type": "code",
   "execution_count": 165,
   "metadata": {},
   "outputs": [
    {
     "ename": "TypeError",
     "evalue": "Cannot cast NumPy timedelta64 scalar from metadata [M] to [D] according to the rule 'same_kind'",
     "output_type": "error",
     "traceback": [
      "\u001b[1;31m---------------------------------------------------------------------------\u001b[0m",
      "\u001b[1;31mTypeError\u001b[0m                                 Traceback (most recent call last)",
      "\u001b[1;32m<ipython-input-165-bfc547e97227>\u001b[0m in \u001b[0;36m<module>\u001b[1;34m\u001b[0m\n\u001b[1;32m----> 1\u001b[1;33m \u001b[0mprint\u001b[0m\u001b[1;33m(\u001b[0m\u001b[0mnp\u001b[0m\u001b[1;33m.\u001b[0m\u001b[0mtimedelta64\u001b[0m\u001b[1;33m(\u001b[0m\u001b[0mb\u001b[0m\u001b[1;33m,\u001b[0m \u001b[1;34m'D'\u001b[0m\u001b[1;33m)\u001b[0m\u001b[1;33m)\u001b[0m\u001b[1;33m\u001b[0m\u001b[1;33m\u001b[0m\u001b[0m\n\u001b[0m\u001b[0;32m      2\u001b[0m \u001b[1;31m# TypeError: Cannot cast NumPy timedelta64 scalar from metadata [M] to [D] according to the rule 'same_kind'\u001b[0m\u001b[1;33m\u001b[0m\u001b[1;33m\u001b[0m\u001b[1;33m\u001b[0m\u001b[0m\n",
      "\u001b[1;31mTypeError\u001b[0m: Cannot cast NumPy timedelta64 scalar from metadata [M] to [D] according to the rule 'same_kind'"
     ]
    }
   ],
   "source": [
    "print(np.timedelta64(b, 'D'))\n",
    "# TypeError: Cannot cast NumPy timedelta64 scalar from metadata [M] to [D] according to the rule 'same_kind'"
   ]
  },
  {
   "cell_type": "code",
   "execution_count": 166,
   "metadata": {},
   "outputs": [
    {
     "name": "stdout",
     "output_type": "stream",
     "text": [
      "1 years\n",
      "6 months\n",
      "18 months\n",
      "6 months\n",
      "2 years\n",
      "2.0\n",
      "7.0\n",
      "7 days\n"
     ]
    }
   ],
   "source": [
    "#【例】timedelta64 的运算。\n",
    "a = np.timedelta64(1, 'Y')\n",
    "b = np.timedelta64(6, 'M')\n",
    "c = np.timedelta64(1, 'W')\n",
    "d = np.timedelta64(1, 'D')\n",
    "e = np.timedelta64(10, 'D')\n",
    "\n",
    "print(a)  # 1 years\n",
    "print(b)  # 6 months\n",
    "print(a + b)  # 18 months\n",
    "print(a - b)  # 6 months\n",
    "print(2 * a)  # 2 years\n",
    "print(a / b)  # 2.0\n",
    "print(c / d)  # 7.0\n",
    "print(c % e)  # 7 days"
   ]
  },
  {
   "cell_type": "code",
   "execution_count": 167,
   "metadata": {},
   "outputs": [
    {
     "name": "stdout",
     "output_type": "stream",
     "text": [
      "2020-06-01T20:05:30 datetime64[s]\n",
      "2020-06-01 20:05:30 <class 'datetime.datetime'>\n"
     ]
    }
   ],
   "source": [
    "#【例】numpy.datetime64 与 datetime.datetime 相互转换\n",
    "import datetime\n",
    "\n",
    "dt = datetime.datetime(year=2020, month=6, day=1, hour=20, minute=5, second=30)\n",
    "dt64 = np.datetime64(dt, 's')\n",
    "print(dt64, dt64.dtype)\n",
    "# 2020-06-01T20:05:30 datetime64[s]\n",
    "\n",
    "dt2 = dt64.astype(datetime.datetime)\n",
    "print(dt2, type(dt2))\n",
    "# 2020-06-01 20:05:30 <class 'datetime.datetime'>"
   ]
  },
  {
   "cell_type": "markdown",
   "metadata": {},
   "source": [
    "## datetime64 的应用\n",
    "\n",
    "为了允许在只有一周中某些日子有效的上下文中使用日期时间，NumPy包含一组“busday”（工作日）功能。\n",
    "\n",
    "- `numpy.busday_offset(dates, offsets, roll='raise', weekmask='1111100', holidays=None, busdaycal=None, out=None)` First adjusts the date to fall on a valid day according to the roll rule, then applies offsets to the given dates counted in valid days.\n",
    "\n",
    "参数`roll`：{'raise', 'nat', 'forward', 'following', 'backward', 'preceding', 'modifiedfollowing', 'modifiedpreceding'}\n",
    "- 'raise' means to raise an exception for an invalid day.\n",
    "- 'nat' means to return a NaT (not-a-time) for an invalid day.\n",
    "- 'forward' and 'following' mean to take the first valid day later in time.\n",
    "- 'backward' and 'preceding' mean to take the first valid day earlier in time.\n",
    "\n",
    "\n",
    "【例】将指定的偏移量应用于工作日，单位天（'D'）。计算下一个工作日，如果当前日期为非工作日，默认报错。可以指定 `forward` 或 `backward` 规则来避免报错。（一个是向前取第一个有效的工作日，一个是向后取第一个有效的工作日）\n",
    "```python\n",
    "import numpy as np\n",
    "\n",
    "# 2020-07-10 星期五\n",
    "a = np.busday_offset('2020-07-10', offsets=1)\n",
    "print(a)  # 2020-07-13\n",
    "\n",
    "a = np.busday_offset('2020-07-11', offsets=1)\n",
    "print(a)\n",
    "# ValueError: Non-business day date in busday_offset\n",
    "\n",
    "a = np.busday_offset('2020-07-11', offsets=0, roll='forward')\n",
    "b = np.busday_offset('2020-07-11', offsets=0, roll='backward')\n",
    "print(a)  # 2020-07-13\n",
    "print(b)  # 2020-07-10\n",
    "\n",
    "a = np.busday_offset('2020-07-11', offsets=1, roll='forward')\n",
    "b = np.busday_offset('2020-07-11', offsets=1, roll='backward')\n",
    "print(a)  # 2020-07-14\n",
    "print(b)  # 2020-07-13\n",
    "```\n",
    "\n",
    "可以指定偏移量为 0 来获取当前日期向前或向后最近的工作日，当然，如果当前日期本身就是工作日，则直接返回当前日期。\n",
    "\n",
    "- `numpy.is_busday(dates, weekmask='1111100', holidays=None, busdaycal=None, out=None)` Calculates which of the given dates are valid days, and which are not.\n",
    "\n",
    "【例】返回指定日期是否是工作日。\n",
    "```python\n",
    "import numpy as np\n",
    "\n",
    "# 2020-07-10 星期五\n",
    "a = np.is_busday('2020-07-10')\n",
    "b = np.is_busday('2020-07-11')\n",
    "print(a)  # True\n",
    "print(b)  # False\n",
    "```\n",
    "\n",
    "【例】统计一个 `datetime64[D]` 数组中的工作日天数。\n",
    "```python\n",
    "import numpy as np\n",
    "\n",
    "# 2020-07-10 星期五\n",
    "begindates = np.datetime64('2020-07-10')\n",
    "enddates = np.datetime64('2020-07-20')\n",
    "a = np.arange(begindates, enddates, dtype='datetime64')\n",
    "b = np.count_nonzero(np.is_busday(a))\n",
    "print(a)\n",
    "# ['2020-07-10' '2020-07-11' '2020-07-12' '2020-07-13' '2020-07-14'\n",
    "#  '2020-07-15' '2020-07-16' '2020-07-17' '2020-07-18' '2020-07-19']\n",
    "print(b)  # 6\n",
    "```\n",
    "\n",
    "\n",
    "【例】自定义周掩码值，即指定一周中哪些星期是工作日。\n",
    "```python\n",
    "import numpy as np\n",
    "\n",
    "# 2020-07-10 星期五\n",
    "a = np.is_busday('2020-07-10', weekmask=[1, 1, 1, 1, 1, 0, 0])\n",
    "b = np.is_busday('2020-07-10', weekmask=[1, 1, 1, 1, 0, 0, 1])\n",
    "print(a)  # True\n",
    "print(b)  # False\n",
    "```\n",
    "\n",
    "- `numpy.busday_count(begindates, enddates, weekmask='1111100', holidays=[], busdaycal=None, out=None)`Counts the number of valid days between `begindates` and `enddates`, not including the day of `enddates`.\n",
    "\n",
    "【例】返回两个日期之间的工作日数量。\n",
    "```python\n",
    "import numpy as np\n",
    "\n",
    "# 2020-07-10 星期五\n",
    "begindates = np.datetime64('2020-07-10')\n",
    "enddates = np.datetime64('2020-07-20')\n",
    "a = np.busday_count(begindates, enddates)\n",
    "b = np.busday_count(enddates, begindates)\n",
    "print(a)  # 6\n",
    "print(b)  # -6\n",
    "```\n",
    "\n",
    "\n",
    "---\n",
    "<b>参考图文</b>\n",
    "\n",
    "- https://www.jianshu.com/p/336cd77d9914\n",
    "- https://www.cnblogs.com/gl1573/p/10549547.html#h2datetime64\n",
    "- https://www.numpy.org.cn/reference/arrays/datetime.html#%E6%97%A5%E6%9C%9F%E6%97%B6%E9%97%B4%E5%8D%95%E4%BD%8D\n",
    "\n"
   ]
  },
  {
   "cell_type": "code",
   "execution_count": 168,
   "metadata": {},
   "outputs": [
    {
     "name": "stdout",
     "output_type": "stream",
     "text": [
      "2020-07-13\n"
     ]
    },
    {
     "ename": "ValueError",
     "evalue": "Non-business day date in busday_offset",
     "output_type": "error",
     "traceback": [
      "\u001b[1;31m---------------------------------------------------------------------------\u001b[0m",
      "\u001b[1;31mValueError\u001b[0m                                Traceback (most recent call last)",
      "\u001b[1;32m<ipython-input-168-027e79a37de2>\u001b[0m in \u001b[0;36m<module>\u001b[1;34m\u001b[0m\n\u001b[0;32m      4\u001b[0m \u001b[0mprint\u001b[0m\u001b[1;33m(\u001b[0m\u001b[0ma\u001b[0m\u001b[1;33m)\u001b[0m  \u001b[1;31m# 2020-07-13\u001b[0m\u001b[1;33m\u001b[0m\u001b[1;33m\u001b[0m\u001b[0m\n\u001b[0;32m      5\u001b[0m \u001b[1;33m\u001b[0m\u001b[0m\n\u001b[1;32m----> 6\u001b[1;33m \u001b[0ma\u001b[0m \u001b[1;33m=\u001b[0m \u001b[0mnp\u001b[0m\u001b[1;33m.\u001b[0m\u001b[0mbusday_offset\u001b[0m\u001b[1;33m(\u001b[0m\u001b[1;34m'2020-07-11'\u001b[0m\u001b[1;33m,\u001b[0m \u001b[0moffsets\u001b[0m\u001b[1;33m=\u001b[0m\u001b[1;36m1\u001b[0m\u001b[1;33m)\u001b[0m\u001b[1;33m\u001b[0m\u001b[1;33m\u001b[0m\u001b[0m\n\u001b[0m\u001b[0;32m      7\u001b[0m \u001b[0mprint\u001b[0m\u001b[1;33m(\u001b[0m\u001b[0ma\u001b[0m\u001b[1;33m)\u001b[0m\u001b[1;33m\u001b[0m\u001b[1;33m\u001b[0m\u001b[0m\n\u001b[0;32m      8\u001b[0m \u001b[1;31m# ValueError: Non-business day date in busday_offset\u001b[0m\u001b[1;33m\u001b[0m\u001b[1;33m\u001b[0m\u001b[1;33m\u001b[0m\u001b[0m\n",
      "\u001b[1;32m<__array_function__ internals>\u001b[0m in \u001b[0;36mbusday_offset\u001b[1;34m(*args, **kwargs)\u001b[0m\n",
      "\u001b[1;31mValueError\u001b[0m: Non-business day date in busday_offset"
     ]
    }
   ],
   "source": [
    "#【例】将指定的偏移量应用于工作日，单位天（'D'）。计算下一个工作日，如果当前日期为非工作日，默认报错。可以指定 forward 或 backward 规则来避免报错。（一个是向前取第一个有效的工作日，一个是向后取第一个有效的工作日）\n",
    "# 2020-07-10 星期五\n",
    "a = np.busday_offset('2020-07-10', offsets=1)\n",
    "print(a)  # 2020-07-13\n",
    "\n",
    "a = np.busday_offset('2020-07-11', offsets=1)\n",
    "print(a)\n",
    "# ValueError: Non-business day date in busday_offset\n",
    "\n",
    "a = np.busday_offset('2020-07-11', offsets=0, roll='forward')\n",
    "b = np.busday_offset('2020-07-11', offsets=0, roll='backward')\n",
    "print(a)  # 2020-07-13\n",
    "print(b)  # 2020-07-10\n",
    "\n",
    "a = np.busday_offset('2020-07-11', offsets=1, roll='forward')\n",
    "b = np.busday_offset('2020-07-11', offsets=1, roll='backward')\n",
    "print(a)  # 2020-07-14\n",
    "print(b)  # 2020-07-13"
   ]
  },
  {
   "cell_type": "code",
   "execution_count": 169,
   "metadata": {},
   "outputs": [
    {
     "name": "stdout",
     "output_type": "stream",
     "text": [
      "True\n",
      "False\n"
     ]
    }
   ],
   "source": [
    "#【例】返回指定日期是否是工作日。\n",
    "\n",
    "import numpy as np\n",
    "\n",
    "# 2020-07-10 星期五\n",
    "a = np.is_busday('2020-07-10')\n",
    "b = np.is_busday('2020-07-11')\n",
    "print(a)  # True\n",
    "print(b)  # False"
   ]
  },
  {
   "cell_type": "code",
   "execution_count": 170,
   "metadata": {},
   "outputs": [
    {
     "name": "stdout",
     "output_type": "stream",
     "text": [
      "['2020-07-10' '2020-07-11' '2020-07-12' '2020-07-13' '2020-07-14'\n",
      " '2020-07-15' '2020-07-16' '2020-07-17' '2020-07-18' '2020-07-19']\n",
      "6\n"
     ]
    }
   ],
   "source": [
    "#【例】统计一个 datetime64[D] 数组中的工作日天数。\n",
    "\n",
    "import numpy as np\n",
    "\n",
    "# 2020-07-10 星期五\n",
    "begindates = np.datetime64('2020-07-10')\n",
    "enddates = np.datetime64('2020-07-20')\n",
    "a = np.arange(begindates, enddates, dtype='datetime64')\n",
    "b = np.count_nonzero(np.is_busday(a))\n",
    "print(a)\n",
    "# ['2020-07-10' '2020-07-11' '2020-07-12' '2020-07-13' '2020-07-14'\n",
    "#  '2020-07-15' '2020-07-16' '2020-07-17' '2020-07-18' '2020-07-19']\n",
    "print(b)  # 6"
   ]
  },
  {
   "cell_type": "code",
   "execution_count": 171,
   "metadata": {},
   "outputs": [
    {
     "name": "stdout",
     "output_type": "stream",
     "text": [
      "['2020-07-10' '2020-07-11' '2020-07-12' '2020-07-13' '2020-07-14'\n",
      " '2020-07-15' '2020-07-16' '2020-07-17' '2020-07-18' '2020-07-19']\n",
      "6\n"
     ]
    }
   ],
   "source": [
    "#【例】统计一个 datetime64[D] 数组中的工作日天数。\n",
    "# 2020-07-10 星期五\n",
    "begindates = np.datetime64('2020-07-10')\n",
    "enddates = np.datetime64('2020-07-20')\n",
    "a = np.arange(begindates, enddates, dtype='datetime64')\n",
    "b = np.count_nonzero(np.is_busday(a))\n",
    "print(a)\n",
    "# ['2020-07-10' '2020-07-11' '2020-07-12' '2020-07-13' '2020-07-14'\n",
    "#  '2020-07-15' '2020-07-16' '2020-07-17' '2020-07-18' '2020-07-19']\n",
    "print(b)  # 6"
   ]
  },
  {
   "cell_type": "code",
   "execution_count": 172,
   "metadata": {},
   "outputs": [
    {
     "name": "stdout",
     "output_type": "stream",
     "text": [
      "True\n",
      "False\n"
     ]
    }
   ],
   "source": [
    "#【例】自定义周掩码值，即指定一周中哪些星期是工作日。\n",
    "# 2020-07-10 星期五\n",
    "a = np.is_busday('2020-07-10', weekmask=[1, 1, 1, 1, 1, 0, 0])\n",
    "b = np.is_busday('2020-07-10', weekmask=[1, 1, 1, 1, 0, 0, 1])\n",
    "print(a)  # True\n",
    "print(b)  # False"
   ]
  },
  {
   "cell_type": "code",
   "execution_count": 173,
   "metadata": {},
   "outputs": [
    {
     "name": "stdout",
     "output_type": "stream",
     "text": [
      "6\n",
      "-6\n"
     ]
    }
   ],
   "source": [
    "#【例】返回两个日期之间的工作日数量。\n",
    "# 2020-07-10 星期五\n",
    "begindates = np.datetime64('2020-07-10')\n",
    "enddates = np.datetime64('2020-07-20')\n",
    "a = np.busday_count(begindates, enddates)\n",
    "b = np.busday_count(enddates, begindates)\n",
    "print(a)  # 6\n",
    "print(b)  # -6"
   ]
  },
  {
   "cell_type": "markdown",
   "metadata": {},
   "source": [
    "# 数组的创建\n",
    "\n",
    "导入 numpy。\n",
    "\n",
    "```\n",
    "import numpy as np\n",
    "```\n",
    "\n",
    "numpy 提供的最重要的数据结构是`ndarray`，它是 python 中`list`的扩展。"
   ]
  },
  {
   "cell_type": "markdown",
   "metadata": {},
   "source": [
    "##  依据现有数据来创建 ndarray"
   ]
  },
  {
   "cell_type": "markdown",
   "metadata": {},
   "source": [
    "### **（a）通过array()函数进行创建。**\n",
    "\n",
    "```python\n",
    "def array(p_object, dtype=None, copy=True, order='K', subok=False, ndmin=0): \n",
    "``` \n",
    "\n",
    "\n",
    "【例】\n",
    "```python\n",
    "import numpy as np\n",
    "\n",
    "# 创建一维数组\n",
    "a = np.array([0, 1, 2, 3, 4])\n",
    "b = np.array((0, 1, 2, 3, 4))\n",
    "print(a, type(a))\n",
    "# [0 1 2 3 4] <class 'numpy.ndarray'>\n",
    "print(b, type(b))\n",
    "# [0 1 2 3 4] <class 'numpy.ndarray'>\n",
    "\n",
    "# 创建二维数组\n",
    "c = np.array([[11, 12, 13, 14, 15],\n",
    "              [16, 17, 18, 19, 20],\n",
    "              [21, 22, 23, 24, 25],\n",
    "              [26, 27, 28, 29, 30],\n",
    "              [31, 32, 33, 34, 35]])\n",
    "print(c, type(c))\n",
    "# [[11 12 13 14 15]\n",
    "#  [16 17 18 19 20]\n",
    "#  [21 22 23 24 25]\n",
    "#  [26 27 28 29 30]\n",
    "#  [31 32 33 34 35]] <class 'numpy.ndarray'>\n",
    "\n",
    "# 创建三维数组\n",
    "d = np.array([[(1.5, 2, 3), (4, 5, 6)],\n",
    "              [(3, 2, 1), (4, 5, 6)]])\n",
    "print(d, type(d))\n",
    "# [[[1.5 2.  3. ]\n",
    "#   [4.  5.  6. ]]\n",
    "#\n",
    "#  [[3.  2.  1. ]\n",
    "#   [4.  5.  6. ]]] <class 'numpy.ndarray'>\n",
    "```\n"
   ]
  },
  {
   "cell_type": "code",
   "execution_count": 174,
   "metadata": {},
   "outputs": [
    {
     "name": "stdout",
     "output_type": "stream",
     "text": [
      "[0 1 2 3 4] <class 'numpy.ndarray'>\n",
      "[0 1 2 3 4] <class 'numpy.ndarray'>\n",
      "[[11 12 13 14 15]\n",
      " [16 17 18 19 20]\n",
      " [21 22 23 24 25]\n",
      " [26 27 28 29 30]\n",
      " [31 32 33 34 35]] <class 'numpy.ndarray'>\n",
      "[[[1.5 2.  3. ]\n",
      "  [4.  5.  6. ]]\n",
      "\n",
      " [[3.  2.  1. ]\n",
      "  [4.  5.  6. ]]] <class 'numpy.ndarray'>\n"
     ]
    }
   ],
   "source": [
    "# 创建一维数组\n",
    "a = np.array([0, 1, 2, 3, 4])\n",
    "b = np.array((0, 1, 2, 3, 4))\n",
    "print(a, type(a))\n",
    "# [0 1 2 3 4] <class 'numpy.ndarray'>\n",
    "print(b, type(b))\n",
    "# [0 1 2 3 4] <class 'numpy.ndarray'>\n",
    "\n",
    "# 创建二维数组\n",
    "c = np.array([[11, 12, 13, 14, 15],\n",
    "              [16, 17, 18, 19, 20],\n",
    "              [21, 22, 23, 24, 25],\n",
    "              [26, 27, 28, 29, 30],\n",
    "              [31, 32, 33, 34, 35]])\n",
    "print(c, type(c))\n",
    "# [[11 12 13 14 15]\n",
    "#  [16 17 18 19 20]\n",
    "#  [21 22 23 24 25]\n",
    "#  [26 27 28 29 30]\n",
    "#  [31 32 33 34 35]] <class 'numpy.ndarray'>\n",
    "\n",
    "# 创建三维数组\n",
    "d = np.array([[(1.5, 2, 3), (4, 5, 6)],\n",
    "              [(3, 2, 1), (4, 5, 6)]])\n",
    "print(d, type(d))\n",
    "# [[[1.5 2.  3. ]\n",
    "#   [4.  5.  6. ]]\n",
    "#\n",
    "#  [[3.  2.  1. ]\n",
    "#   [4.  5.  6. ]]] <class 'numpy.ndarray'>"
   ]
  },
  {
   "cell_type": "markdown",
   "metadata": {},
   "source": [
    "### **（b）通过asarray()函数进行创建**\n",
    "\n",
    "`array()`和`asarray()`都可以将结构数据转化为 ndarray，但是`array()`和`asarray()`主要区别就是当数据源是**ndarray** 时，`array()`仍然会 copy 出一个副本，占用新的内存，但不改变 dtype 时 `asarray()`不会。\n",
    "\n",
    "```python\n",
    "def asarray(a, dtype=None, order=None):\n",
    "    return array(a, dtype, copy=False, order=order)\n",
    "```\n",
    "\n",
    "【例】`array()`和`asarray()`都可以将结构数据转化为 ndarray\n",
    "```python\n",
    "import numpy as np\n",
    "\n",
    "x = [[1, 1, 1], [1, 1, 1], [1, 1, 1]]\n",
    "y = np.array(x)\n",
    "z = np.asarray(x)\n",
    "x[1][2] = 2\n",
    "print(x,type(x))\n",
    "# [[1, 1, 1], [1, 1, 2], [1, 1, 1]] <class 'list'>\n",
    "\n",
    "print(y,type(y))\n",
    "# [[1 1 1]\n",
    "#  [1 1 1]\n",
    "#  [1 1 1]] <class 'numpy.ndarray'>\n",
    "\n",
    "print(z,type(z))\n",
    "# [[1 1 1]\n",
    "#  [1 1 1]\n",
    "#  [1 1 1]] <class 'numpy.ndarray'>\n",
    "```\n",
    "\n",
    "【例】`array()`和`asarray()`的区别。(`array()`和`asarray()`主要区别就是当数据源是**ndarray** 时，`array()`仍然会 copy 出一个副本，占用新的内存，但不改变 dtype 时 `asarray()`不会。)\n",
    "```python\n",
    "import numpy as np\n",
    "\n",
    "x = np.array([[1, 1, 1], [1, 1, 1], [1, 1, 1]])\n",
    "y = np.array(x)\n",
    "z = np.asarray(x)\n",
    "w = np.asarray(x, dtype=np.int)\n",
    "x[1][2] = 2\n",
    "print(x,type(x),x.dtype)\n",
    "# [[1 1 1]\n",
    "#  [1 1 2]\n",
    "#  [1 1 1]] <class 'numpy.ndarray'> int32\n",
    "\n",
    "print(y,type(y),y.dtype)\n",
    "# [[1 1 1]\n",
    "#  [1 1 1]\n",
    "#  [1 1 1]] <class 'numpy.ndarray'> int32\n",
    "\n",
    "print(z,type(z),z.dtype)\n",
    "# [[1 1 1]\n",
    "#  [1 1 2]\n",
    "#  [1 1 1]] <class 'numpy.ndarray'> int32\n",
    "\n",
    "print(w,type(w),w.dtype)\n",
    "# [[1 1 1]\n",
    "#  [1 1 2]\n",
    "#  [1 1 1]] <class 'numpy.ndarray'> int32\n",
    "```\n",
    "\n",
    "\n",
    "【例】更改为较大的dtype时，其大小必须是array的最后一个axis的总大小（以字节为单位）的除数\n",
    "```python\n",
    "import numpy as np\n",
    "\n",
    "x = np.array([[1, 1, 1], [1, 1, 1], [1, 1, 1]])\n",
    "print(x, x.dtype)\n",
    "# [[1 1 1]\n",
    "#  [1 1 1]\n",
    "#  [1 1 1]] int32\n",
    "x.dtype = np.float\n",
    "\n",
    "# ValueError: When changing to a larger dtype, its size must be a divisor of the total size in bytes of the last axis of the array.\n",
    "```"
   ]
  },
  {
   "cell_type": "code",
   "execution_count": 175,
   "metadata": {},
   "outputs": [
    {
     "name": "stdout",
     "output_type": "stream",
     "text": [
      "[[1, 1, 1], [1, 1, 2], [1, 1, 1]] <class 'list'>\n",
      "[[1 1 1]\n",
      " [1 1 1]\n",
      " [1 1 1]] <class 'numpy.ndarray'>\n",
      "[[1 1 1]\n",
      " [1 1 1]\n",
      " [1 1 1]] <class 'numpy.ndarray'>\n"
     ]
    }
   ],
   "source": [
    "#【例】array()和asarray()都可以将结构数据转化为 ndarray\n",
    "x = [[1, 1, 1], [1, 1, 1], [1, 1, 1]]\n",
    "y = np.array(x)\n",
    "z = np.asarray(x)\n",
    "x[1][2] = 2\n",
    "print(x,type(x))\n",
    "# [[1, 1, 1], [1, 1, 2], [1, 1, 1]] <class 'list'>\n",
    "\n",
    "print(y,type(y))\n",
    "# [[1 1 1]\n",
    "#  [1 1 1]\n",
    "#  [1 1 1]] <class 'numpy.ndarray'>\n",
    "\n",
    "print(z,type(z))\n",
    "# [[1 1 1]\n",
    "#  [1 1 1]\n",
    "#  [1 1 1]] <class 'numpy.ndarray'>"
   ]
  },
  {
   "cell_type": "code",
   "execution_count": 176,
   "metadata": {},
   "outputs": [
    {
     "name": "stdout",
     "output_type": "stream",
     "text": [
      "[[1 1 1]\n",
      " [1 1 2]\n",
      " [1 1 1]] <class 'numpy.ndarray'> int32\n",
      "[[1 1 1]\n",
      " [1 1 1]\n",
      " [1 1 1]] <class 'numpy.ndarray'> int32\n",
      "[[1 1 1]\n",
      " [1 1 2]\n",
      " [1 1 1]] <class 'numpy.ndarray'> int32\n",
      "[[1 1 1]\n",
      " [1 1 2]\n",
      " [1 1 1]] <class 'numpy.ndarray'> int32\n"
     ]
    }
   ],
   "source": [
    "#【例】array()和asarray()的区别。(array()和asarray()主要区别就是当数据源是ndarray 时，array()仍然会 copy 出一个副本，占用新的内存，但不改变 dtype 时 asarray()不会。)\n",
    "x = np.array([[1, 1, 1], [1, 1, 1], [1, 1, 1]])\n",
    "y = np.array(x)\n",
    "z = np.asarray(x)\n",
    "w = np.asarray(x, dtype=np.int)\n",
    "x[1][2] = 2\n",
    "print(x,type(x),x.dtype)\n",
    "# [[1 1 1]\n",
    "#  [1 1 2]\n",
    "#  [1 1 1]] <class 'numpy.ndarray'> int32\n",
    "\n",
    "print(y,type(y),y.dtype)\n",
    "# [[1 1 1]\n",
    "#  [1 1 1]\n",
    "#  [1 1 1]] <class 'numpy.ndarray'> int32\n",
    "\n",
    "print(z,type(z),z.dtype)\n",
    "# [[1 1 1]\n",
    "#  [1 1 2]\n",
    "#  [1 1 1]] <class 'numpy.ndarray'> int32\n",
    "\n",
    "print(w,type(w),w.dtype)\n",
    "# [[1 1 1]\n",
    "#  [1 1 2]\n",
    "#  [1 1 1]] <class 'numpy.ndarray'> int32"
   ]
  },
  {
   "cell_type": "code",
   "execution_count": 177,
   "metadata": {},
   "outputs": [
    {
     "name": "stdout",
     "output_type": "stream",
     "text": [
      "[[1 1 1]\n",
      " [1 1 1]\n",
      " [1 1 1]] int32\n"
     ]
    },
    {
     "ename": "ValueError",
     "evalue": "When changing to a larger dtype, its size must be a divisor of the total size in bytes of the last axis of the array.",
     "output_type": "error",
     "traceback": [
      "\u001b[1;31m---------------------------------------------------------------------------\u001b[0m",
      "\u001b[1;31mValueError\u001b[0m                                Traceback (most recent call last)",
      "\u001b[1;32m<ipython-input-177-bead0174e0a6>\u001b[0m in \u001b[0;36m<module>\u001b[1;34m\u001b[0m\n\u001b[0;32m      5\u001b[0m \u001b[1;31m#  [1 1 1]\u001b[0m\u001b[1;33m\u001b[0m\u001b[1;33m\u001b[0m\u001b[1;33m\u001b[0m\u001b[0m\n\u001b[0;32m      6\u001b[0m \u001b[1;31m#  [1 1 1]] int32\u001b[0m\u001b[1;33m\u001b[0m\u001b[1;33m\u001b[0m\u001b[1;33m\u001b[0m\u001b[0m\n\u001b[1;32m----> 7\u001b[1;33m \u001b[0mx\u001b[0m\u001b[1;33m.\u001b[0m\u001b[0mdtype\u001b[0m \u001b[1;33m=\u001b[0m \u001b[0mnp\u001b[0m\u001b[1;33m.\u001b[0m\u001b[0mfloat\u001b[0m\u001b[1;33m\u001b[0m\u001b[1;33m\u001b[0m\u001b[0m\n\u001b[0m\u001b[0;32m      8\u001b[0m \u001b[1;33m\u001b[0m\u001b[0m\n\u001b[0;32m      9\u001b[0m \u001b[1;31m# ValueError: When changing to a larger dtype, its size must be a divisor of the total size in bytes of the last axis of the array.\u001b[0m\u001b[1;33m\u001b[0m\u001b[1;33m\u001b[0m\u001b[1;33m\u001b[0m\u001b[0m\n",
      "\u001b[1;31mValueError\u001b[0m: When changing to a larger dtype, its size must be a divisor of the total size in bytes of the last axis of the array."
     ]
    }
   ],
   "source": [
    "#【例】更改为较大的dtype时，其大小必须是array的最后一个axis的总大小（以字节为单位）的除数\n",
    "x = np.array([[1, 1, 1], [1, 1, 1], [1, 1, 1]])\n",
    "print(x, x.dtype)\n",
    "# [[1 1 1]\n",
    "#  [1 1 1]\n",
    "#  [1 1 1]] int32\n",
    "x.dtype = np.float\n",
    "\n",
    "# ValueError: When changing to a larger dtype, its size must be a divisor of the total size in bytes of the last axis of the array."
   ]
  },
  {
   "cell_type": "markdown",
   "metadata": {},
   "source": [
    "### **（c）通过fromfunction()函数进行创建**\n",
    "\n",
    "给函数绘图的时候可能会用到`fromfunction()`，该函数可从函数中创建数组。\n",
    "\n",
    "```python\n",
    "def fromfunction(function, shape, **kwargs):\n",
    "```\n",
    "\n",
    "\n",
    "【例】通过在每个坐标上执行一个函数来构造数组。\n",
    "\n",
    "```python\n",
    "import numpy as np\n",
    "\n",
    "def f(x, y):\n",
    "    return 10 * x + y\n",
    "\n",
    "x = np.fromfunction(f, (5, 4), dtype=int)\n",
    "print(x)\n",
    "# [[ 0  1  2  3]\n",
    "#  [10 11 12 13]\n",
    "#  [20 21 22 23]\n",
    "#  [30 31 32 33]\n",
    "#  [40 41 42 43]]\n",
    "\n",
    "x = np.fromfunction(lambda i, j: i == j, (3, 3), dtype=int)\n",
    "print(x)\n",
    "# [[ True False False]\n",
    "#  [False  True False]\n",
    "#  [False False  True]]\n",
    "\n",
    "x = np.fromfunction(lambda i, j: i + j, (3, 3), dtype=int)\n",
    "print(x)\n",
    "# [[0 1 2]\n",
    "#  [1 2 3]\n",
    "#  [2 3 4]]\n",
    "```"
   ]
  },
  {
   "cell_type": "code",
   "execution_count": 178,
   "metadata": {},
   "outputs": [
    {
     "name": "stdout",
     "output_type": "stream",
     "text": [
      "[[ 0  1  2  3]\n",
      " [10 11 12 13]\n",
      " [20 21 22 23]\n",
      " [30 31 32 33]\n",
      " [40 41 42 43]]\n",
      "[[ True False False]\n",
      " [False  True False]\n",
      " [False False  True]]\n",
      "[[0 1 2]\n",
      " [1 2 3]\n",
      " [2 3 4]]\n"
     ]
    }
   ],
   "source": [
    "#例】通过在每个坐标上执行一个函数来构造数组。\n",
    "def f(x, y):\n",
    "    return 10 * x + y\n",
    "\n",
    "x = np.fromfunction(f, (5, 4), dtype=int)\n",
    "print(x)\n",
    "# [[ 0  1  2  3]\n",
    "#  [10 11 12 13]\n",
    "#  [20 21 22 23]\n",
    "#  [30 31 32 33]\n",
    "#  [40 41 42 43]]\n",
    "\n",
    "x = np.fromfunction(lambda i, j: i == j, (3, 3), dtype=int)\n",
    "print(x)\n",
    "# [[ True False False]\n",
    "#  [False  True False]\n",
    "#  [False False  True]]\n",
    "\n",
    "x = np.fromfunction(lambda i, j: i + j, (3, 3), dtype=int)\n",
    "print(x)\n",
    "# [[0 1 2]\n",
    "#  [1 2 3]\n",
    "#  [2 3 4]]"
   ]
  },
  {
   "cell_type": "markdown",
   "metadata": {},
   "source": [
    "## 2. 依据 ones 和 zeros 填充方式\n",
    "\n",
    "在机器学习任务中经常做的一件事就是初始化参数，需要用常数值或者随机值来创建一个固定大小的矩阵。"
   ]
  },
  {
   "cell_type": "markdown",
   "metadata": {},
   "source": [
    "### **（a）零数组**\n",
    "\n",
    "- `zeros()`函数：返回给定形状和类型的零数组。\n",
    "- `zeros_like()`函数：返回与给定数组形状和类型相同的零数组。\n",
    "\n",
    "```python\n",
    "def zeros(shape, dtype=None, order='C'):\n",
    "def zeros_like(a, dtype=None, order='K', subok=True, shape=None):\n",
    "```\n",
    "\n",
    "【例】\n",
    "```python\n",
    "import numpy as np\n",
    "\n",
    "x = np.zeros(5)\n",
    "print(x)  # [0. 0. 0. 0. 0.]\n",
    "x = np.zeros([2, 3])\n",
    "print(x)\n",
    "# [[0. 0. 0.]\n",
    "#  [0. 0. 0.]]\n",
    "\n",
    "x = np.array([[1, 2, 3], [4, 5, 6]])\n",
    "y = np.zeros_like(x)\n",
    "print(y)\n",
    "# [[0 0 0]\n",
    "#  [0 0 0]]\n",
    "```"
   ]
  },
  {
   "cell_type": "code",
   "execution_count": 179,
   "metadata": {},
   "outputs": [
    {
     "name": "stdout",
     "output_type": "stream",
     "text": [
      "[0. 0. 0. 0. 0.]\n",
      "[[0. 0. 0.]\n",
      " [0. 0. 0.]]\n",
      "[[0 0 0]\n",
      " [0 0 0]]\n"
     ]
    }
   ],
   "source": [
    "x = np.zeros(5)\n",
    "print(x)  # [0. 0. 0. 0. 0.]\n",
    "x = np.zeros([2, 3])\n",
    "print(x)\n",
    "# [[0. 0. 0.]\n",
    "#  [0. 0. 0.]]\n",
    "\n",
    "x = np.array([[1, 2, 3], [4, 5, 6]])\n",
    "y = np.zeros_like(x)\n",
    "print(y)\n",
    "# [[0 0 0]\n",
    "#  [0 0 0]]"
   ]
  },
  {
   "cell_type": "markdown",
   "metadata": {},
   "source": [
    "### **（b）1数组**\n",
    "\n",
    "- `ones()`函数：返回给定形状和类型的1数组。\n",
    "- `ones_like()`函数：返回与给定数组形状和类型相同的1数组。\n",
    "\n",
    "```python\n",
    "def ones(shape, dtype=None, order='C'):\n",
    "def ones_like(a, dtype=None, order='K', subok=True, shape=None):\n",
    "```\n",
    "\n",
    "【例】\n",
    "```python\n",
    "import numpy as np\n",
    "\n",
    "x = np.ones(5)\n",
    "print(x)  # [1. 1. 1. 1. 1.]\n",
    "x = np.ones([2, 3])\n",
    "print(x)\n",
    "# [[1. 1. 1.]\n",
    "#  [1. 1. 1.]]\n",
    "\n",
    "x = np.array([[1, 2, 3], [4, 5, 6]])\n",
    "y = np.ones_like(x)\n",
    "print(y)\n",
    "# [[1 1 1]\n",
    "#  [1 1 1]]\n",
    "```"
   ]
  },
  {
   "cell_type": "code",
   "execution_count": 180,
   "metadata": {},
   "outputs": [
    {
     "name": "stdout",
     "output_type": "stream",
     "text": [
      "[1. 1. 1. 1. 1.]\n",
      "[[1. 1. 1.]\n",
      " [1. 1. 1.]]\n",
      "[[1 1 1]\n",
      " [1 1 1]]\n"
     ]
    }
   ],
   "source": [
    "x = np.ones(5)\n",
    "print(x)  # [1. 1. 1. 1. 1.]\n",
    "x = np.ones([2, 3])\n",
    "print(x)\n",
    "# [[1. 1. 1.]\n",
    "#  [1. 1. 1.]]\n",
    "\n",
    "x = np.array([[1, 2, 3], [4, 5, 6]])\n",
    "y = np.ones_like(x)\n",
    "print(y)\n",
    "# [[1 1 1]\n",
    "#  [1 1 1]]"
   ]
  },
  {
   "cell_type": "markdown",
   "metadata": {},
   "source": [
    "### **（c）空数组**\n",
    "\n",
    "- `empty()`函数：返回一个空数组，数组元素为随机数。\n",
    "- `empty_like`函数：返回与给定数组具有相同形状和类型的新数组。\n",
    "\n",
    "```python\n",
    "def empty(shape, dtype=None, order='C'): \n",
    "def empty_like(prototype, dtype=None, order='K', subok=True, shape=None):\n",
    "```\n",
    "\n",
    "【例】\n",
    "```python\n",
    "import numpy as np\n",
    "\n",
    "x = np.empty(5)\n",
    "print(x)\n",
    "# [1.95821574e-306 1.60219035e-306 1.37961506e-306 \n",
    "#  9.34609790e-307 1.24610383e-306]\n",
    "\n",
    "x = np.empty((3, 2))\n",
    "print(x)\n",
    "# [[1.60220393e-306 9.34587382e-307]\n",
    "#  [8.45599367e-307 7.56598449e-307]\n",
    "#  [1.33509389e-306 3.59412896e-317]]\n",
    "\n",
    "x = np.array([[1, 2, 3], [4, 5, 6]])\n",
    "y = np.empty_like(x)\n",
    "print(y)\n",
    "# [[  7209029   6422625   6619244]\n",
    "#  [      100 707539280       504]]\n",
    "```\n"
   ]
  },
  {
   "cell_type": "code",
   "execution_count": 181,
   "metadata": {},
   "outputs": [
    {
     "name": "stdout",
     "output_type": "stream",
     "text": [
      "[1. 1. 1. 1. 1.]\n",
      "[[1. 1.]\n",
      " [1. 1.]\n",
      " [1. 1.]]\n",
      "[[0 0 0]\n",
      " [0 0 0]]\n"
     ]
    }
   ],
   "source": [
    "x = np.empty(5)\n",
    "print(x)\n",
    "# [1.95821574e-306 1.60219035e-306 1.37961506e-306 \n",
    "#  9.34609790e-307 1.24610383e-306]\n",
    "\n",
    "x = np.empty((3, 2))\n",
    "print(x)\n",
    "# [[1.60220393e-306 9.34587382e-307]\n",
    "#  [8.45599367e-307 7.56598449e-307]\n",
    "#  [1.33509389e-306 3.59412896e-317]]\n",
    "\n",
    "x = np.array([[1, 2, 3], [4, 5, 6]])\n",
    "y = np.empty_like(x)\n",
    "print(y)\n",
    "# [[  7209029   6422625   6619244]\n",
    "#  [      100 707539280       504]]"
   ]
  },
  {
   "cell_type": "markdown",
   "metadata": {},
   "source": [
    "### **（d）单位数组**\n",
    "\n",
    "- `eye()`函数：返回一个对角线上为1，其它地方为零的单位数组。\n",
    "- `identity()`函数：返回一个方的单位数组。\n",
    "\n",
    "```python\n",
    "def eye(N, M=None, k=0, dtype=float, order='C'):\n",
    "def identity(n, dtype=None):\n",
    "```\n",
    "\n",
    "\n",
    "【例】\n",
    "```python\n",
    "import numpy as np\n",
    "\n",
    "x = np.eye(4)\n",
    "print(x)\n",
    "# [[1. 0. 0. 0.]\n",
    "#  [0. 1. 0. 0.]\n",
    "#  [0. 0. 1. 0.]\n",
    "#  [0. 0. 0. 1.]]\n",
    "\n",
    "x = np.eye(2, 3)\n",
    "print(x)\n",
    "# [[1. 0. 0.]\n",
    "#  [0. 1. 0.]]\n",
    "\n",
    "x = np.identity(4)\n",
    "print(x)\n",
    "# [[1. 0. 0. 0.]\n",
    "#  [0. 1. 0. 0.]\n",
    "#  [0. 0. 1. 0.]\n",
    "#  [0. 0. 0. 1.]]\n",
    "```"
   ]
  },
  {
   "cell_type": "code",
   "execution_count": 182,
   "metadata": {},
   "outputs": [
    {
     "name": "stdout",
     "output_type": "stream",
     "text": [
      "[[1. 0. 0. 0.]\n",
      " [0. 1. 0. 0.]\n",
      " [0. 0. 1. 0.]\n",
      " [0. 0. 0. 1.]]\n",
      "[[1. 0. 0.]\n",
      " [0. 1. 0.]]\n",
      "[[1. 0. 0. 0.]\n",
      " [0. 1. 0. 0.]\n",
      " [0. 0. 1. 0.]\n",
      " [0. 0. 0. 1.]]\n"
     ]
    }
   ],
   "source": [
    "x = np.eye(4)\n",
    "print(x)\n",
    "# [[1. 0. 0. 0.]\n",
    "#  [0. 1. 0. 0.]\n",
    "#  [0. 0. 1. 0.]\n",
    "#  [0. 0. 0. 1.]]\n",
    "\n",
    "x = np.eye(2, 3)\n",
    "print(x)\n",
    "# [[1. 0. 0.]\n",
    "#  [0. 1. 0.]]\n",
    "\n",
    "x = np.identity(4)\n",
    "print(x)\n",
    "# [[1. 0. 0. 0.]\n",
    "#  [0. 1. 0. 0.]\n",
    "#  [0. 0. 1. 0.]\n",
    "#  [0. 0. 0. 1.]]"
   ]
  },
  {
   "cell_type": "markdown",
   "metadata": {},
   "source": [
    "### **（e）对角数组**\n",
    "\n",
    "- `diag()`函数：提取对角线或构造对角数组。\n",
    "\n",
    "```python\n",
    "def diag(v, k=0):\n",
    "```\n",
    "\n",
    "【例】\n",
    "```python\n",
    "import numpy as np\n",
    "\n",
    "x = np.arange(9).reshape((3, 3))\n",
    "print(x)\n",
    "# [[0 1 2]\n",
    "#  [3 4 5]\n",
    "#  [6 7 8]]\n",
    "print(np.diag(x))  # [0 4 8]\n",
    "print(np.diag(x, k=1))  # [1 5]\n",
    "print(np.diag(x, k=-1))  # [3 7]\n",
    "\n",
    "v = [1, 3, 5, 7]\n",
    "x = np.diag(v)\n",
    "print(x)\n",
    "# [[1 0 0 0]\n",
    "#  [0 3 0 0]\n",
    "#  [0 0 5 0]\n",
    "#  [0 0 0 7]]\n",
    "```"
   ]
  },
  {
   "cell_type": "code",
   "execution_count": 183,
   "metadata": {},
   "outputs": [
    {
     "name": "stdout",
     "output_type": "stream",
     "text": [
      "[[0 1 2]\n",
      " [3 4 5]\n",
      " [6 7 8]]\n",
      "[0 4 8]\n",
      "[1 5]\n",
      "[3 7]\n",
      "[[1 0 0 0]\n",
      " [0 3 0 0]\n",
      " [0 0 5 0]\n",
      " [0 0 0 7]]\n"
     ]
    }
   ],
   "source": [
    "x = np.arange(9).reshape((3, 3))\n",
    "print(x)\n",
    "# [[0 1 2]\n",
    "#  [3 4 5]\n",
    "#  [6 7 8]]\n",
    "print(np.diag(x))  # [0 4 8]\n",
    "print(np.diag(x, k=1))  # [1 5]\n",
    "print(np.diag(x, k=-1))  # [3 7]\n",
    "\n",
    "v = [1, 3, 5, 7]\n",
    "x = np.diag(v)\n",
    "print(x)\n",
    "# [[1 0 0 0]\n",
    "#  [0 3 0 0]\n",
    "#  [0 0 5 0]\n",
    "#  [0 0 0 7]]"
   ]
  },
  {
   "cell_type": "markdown",
   "metadata": {},
   "source": [
    "### **（f）常数数组**\n",
    "\n",
    "- `full()`函数：返回一个常数数组。\n",
    "- `full_like()`函数：返回与给定数组具有相同形状和类型的常数数组。\n",
    "\n",
    "```python\n",
    "def full(shape, fill_value, dtype=None, order='C'):\n",
    "def full_like(a, fill_value, dtype=None, order='K', subok=True, shape=None):\n",
    "```\n",
    "\n",
    "\n",
    "【例】\n",
    "```python\n",
    "import numpy as np\n",
    "\n",
    "x = np.full((2,), 7)\n",
    "print(x)\n",
    "# [7 7]\n",
    "\n",
    "x = np.full(2, 7)\n",
    "print(x)\n",
    "# [7 7]\n",
    "\n",
    "x = np.full((2, 7), 7)\n",
    "print(x)\n",
    "# [[7 7 7 7 7 7 7]\n",
    "#  [7 7 7 7 7 7 7]]\n",
    "\n",
    "x = np.array([[1, 2, 3], [4, 5, 6]])\n",
    "y = np.full_like(x, 7)\n",
    "print(y)\n",
    "# [[7 7 7]\n",
    "#  [7 7 7]]\n",
    "```"
   ]
  },
  {
   "cell_type": "code",
   "execution_count": 184,
   "metadata": {},
   "outputs": [
    {
     "name": "stdout",
     "output_type": "stream",
     "text": [
      "[7 7]\n",
      "[7 7]\n",
      "[[7 7 7 7 7 7 7]\n",
      " [7 7 7 7 7 7 7]]\n",
      "[[7 7 7]\n",
      " [7 7 7]]\n"
     ]
    }
   ],
   "source": [
    "x = np.full((2,), 7)\n",
    "print(x)\n",
    "# [7 7]\n",
    "\n",
    "x = np.full(2, 7)\n",
    "print(x)\n",
    "# [7 7]\n",
    "\n",
    "x = np.full((2, 7), 7)\n",
    "print(x)\n",
    "# [[7 7 7 7 7 7 7]\n",
    "#  [7 7 7 7 7 7 7]]\n",
    "\n",
    "x = np.array([[1, 2, 3], [4, 5, 6]])\n",
    "y = np.full_like(x, 7)\n",
    "print(y)\n",
    "# [[7 7 7]\n",
    "#  [7 7 7]]"
   ]
  },
  {
   "cell_type": "markdown",
   "metadata": {},
   "source": [
    "## 利用数值范围来创建ndarray\n",
    " - `arange()`函数：返回给定间隔内的均匀间隔的值。\n",
    " - `linspace()`函数：返回指定间隔内的等间隔数字。\n",
    " - `logspace()`函数：返回数以对数刻度均匀分布。\n",
    " - `numpy.random.rand()` 返回一个由[0,1)内的随机数组成的数组。\n",
    "\n",
    "```python\n",
    "def arange([start,] stop[, step,], dtype=None): \n",
    "def linspace(start, stop, num=50, endpoint=True, retstep=False, \n",
    "             dtype=None, axis=0):\n",
    "def logspace(start, stop, num=50, endpoint=True, base=10.0, \n",
    "             dtype=None, axis=0):\n",
    "def rand(d0, d1, ..., dn): \n",
    "```\n",
    "\n",
    "\n",
    "【例】\n",
    "```python\n",
    "import numpy as np\n",
    "\n",
    "x = np.arange(5)\n",
    "print(x)  # [0 1 2 3 4]\n",
    "\n",
    "x = np.arange(3, 7, 2)\n",
    "print(x)  # [3 5]\n",
    "\n",
    "x = np.linspace(start=0, stop=2, num=9)\n",
    "print(x)  \n",
    "# [0.   0.25 0.5  0.75 1.   1.25 1.5  1.75 2.  ]\n",
    "\n",
    "x = np.logspace(0, 1, 5)\n",
    "print(np.around(x, 2))\n",
    "# [ 1.    1.78  3.16  5.62 10.  ]            \n",
    "                                    #np.around 返回四舍五入后的值，可指定精度。\n",
    "                                   # around(a, decimals=0, out=None)\n",
    "                                   # a 输入数组\n",
    "                                   # decimals 要舍入的小数位数。 默认值为0。 如果为负，整数将四舍五入到小数点左侧的位置\n",
    "\n",
    "\n",
    "x = np.linspace(start=0, stop=1, num=5)\n",
    "x = [10 ** i for i in x]\n",
    "print(np.around(x, 2))\n",
    "# [ 1.    1.78  3.16  5.62 10.  ]\n",
    "\n",
    "x = np.random.random(5)\n",
    "print(x)\n",
    "# [0.41768753 0.16315577 0.80167915 0.99690199 0.11812291]\n",
    "\n",
    "x = np.random.random([2, 3])\n",
    "print(x)\n",
    "# [[0.41151858 0.93785153 0.57031309]\n",
    "#  [0.13482333 0.20583516 0.45429181]]\n",
    "```"
   ]
  },
  {
   "cell_type": "code",
   "execution_count": 185,
   "metadata": {},
   "outputs": [
    {
     "name": "stdout",
     "output_type": "stream",
     "text": [
      "[0 1 2 3 4]\n",
      "[3 5]\n",
      "[0.   0.25 0.5  0.75 1.   1.25 1.5  1.75 2.  ]\n",
      "[ 1.    1.78  3.16  5.62 10.  ]\n",
      "[ 1.    1.78  3.16  5.62 10.  ]\n",
      "[0.88495089 0.50449516 0.0661815  0.46223532 0.24361575]\n",
      "[[0.18283977 0.50840062 0.98168029]\n",
      " [0.12902088 0.69218581 0.25020814]]\n"
     ]
    }
   ],
   "source": [
    "x = np.arange(5)\n",
    "print(x)  # [0 1 2 3 4]\n",
    "\n",
    "x = np.arange(3, 7, 2)\n",
    "print(x)  # [3 5]\n",
    "\n",
    "x = np.linspace(start=0, stop=2, num=9)\n",
    "print(x)  \n",
    "# [0.   0.25 0.5  0.75 1.   1.25 1.5  1.75 2.  ]\n",
    "\n",
    "x = np.logspace(0, 1, 5)\n",
    "print(np.around(x, 2))\n",
    "# [ 1.    1.78  3.16  5.62 10.  ]            \n",
    "                                    #np.around 返回四舍五入后的值，可指定精度。\n",
    "                                   # around(a, decimals=0, out=None)\n",
    "                                   # a 输入数组\n",
    "                                   # decimals 要舍入的小数位数。 默认值为0。 如果为负，整数将四舍五入到小数点左侧的位置\n",
    "\n",
    "\n",
    "x = np.linspace(start=0, stop=1, num=5)\n",
    "x = [10 ** i for i in x]\n",
    "print(np.around(x, 2))\n",
    "# [ 1.    1.78  3.16  5.62 10.  ]\n",
    "\n",
    "x = np.random.random(5)\n",
    "print(x)\n",
    "# [0.41768753 0.16315577 0.80167915 0.99690199 0.11812291]\n",
    "\n",
    "x = np.random.random([2, 3])\n",
    "print(x)\n",
    "# [[0.41151858 0.93785153 0.57031309]\n",
    "#  [0.13482333 0.20583516 0.45429181]]"
   ]
  },
  {
   "cell_type": "markdown",
   "metadata": {},
   "source": [
    "## 结构数组的创建\n",
    "\n",
    "结构数组，首先需要定义结构，然后利用`np.array()`来创建数组，其参数`dtype`为定义的结构。\n",
    "\n"
   ]
  },
  {
   "cell_type": "markdown",
   "metadata": {},
   "source": [
    "### **（a）利用字典来定义结构**\n",
    "\n",
    "【例】\n",
    "```python\n",
    "import numpy as np\n",
    "\n",
    "personType = np.dtype({\n",
    "    'names': ['name', 'age', 'weight'],\n",
    "    'formats': ['U30', 'i8', 'f8']})\n",
    "\n",
    "a = np.array([('Liming', 24, 63.9), ('Mike', 15, 67.), ('Jan', 34, 45.8)],\n",
    "             dtype=personType)\n",
    "print(a, type(a))\n",
    "# [('Liming', 24, 63.9) ('Mike', 15, 67. ) ('Jan', 34, 45.8)]\n",
    "# <class 'numpy.ndarray'>\n",
    "```"
   ]
  },
  {
   "cell_type": "code",
   "execution_count": 186,
   "metadata": {},
   "outputs": [
    {
     "name": "stdout",
     "output_type": "stream",
     "text": [
      "[('Liming', 24, 63.9) ('Mike', 15, 67. ) ('Jan', 34, 45.8)] <class 'numpy.ndarray'>\n"
     ]
    }
   ],
   "source": [
    "personType = np.dtype({\n",
    "    'names': ['name', 'age', 'weight'],\n",
    "    'formats': ['U30', 'i8', 'f8']})\n",
    "\n",
    "a = np.array([('Liming', 24, 63.9), ('Mike', 15, 67.), ('Jan', 34, 45.8)],\n",
    "             dtype=personType)\n",
    "print(a, type(a))\n",
    "# [('Liming', 24, 63.9) ('Mike', 15, 67. ) ('Jan', 34, 45.8)]\n",
    "# <class 'numpy.ndarray'>"
   ]
  },
  {
   "cell_type": "markdown",
   "metadata": {},
   "source": [
    "### **（b）利用包含多个元组的列表来定义结构**\n",
    "\n",
    "【例】\n",
    "```python\n",
    "import numpy as np\n",
    "\n",
    "personType = np.dtype([('name', 'U30'), ('age', 'i8'), ('weight', 'f8')])\n",
    "a = np.array([('Liming', 24, 63.9), ('Mike', 15, 67.), ('Jan', 34, 45.8)],\n",
    "             dtype=personType)\n",
    "print(a, type(a))\n",
    "# [('Liming', 24, 63.9) ('Mike', 15, 67. ) ('Jan', 34, 45.8)]\n",
    "# <class 'numpy.ndarray'>\n",
    "\n",
    "# 结构数组的取值方式和一般数组差不多，可以通过下标取得元素：\n",
    "print(a[0])\n",
    "# ('Liming', 24, 63.9)\n",
    "\n",
    "print(a[-2:])\n",
    "# [('Mike', 15, 67. ) ('Jan', 34, 45.8)]\n",
    "\n",
    "# 我们可以使用字段名作为下标获取对应的值\n",
    "print(a['name'])\n",
    "# ['Liming' 'Mike' 'Jan']\n",
    "print(a['age'])\n",
    "# [24 15 34]\n",
    "print(a['weight'])\n",
    "# [63.9 67.  45.8]\n",
    "```"
   ]
  },
  {
   "cell_type": "code",
   "execution_count": 187,
   "metadata": {},
   "outputs": [
    {
     "name": "stdout",
     "output_type": "stream",
     "text": [
      "[('Liming', 24, 63.9) ('Mike', 15, 67. ) ('Jan', 34, 45.8)] <class 'numpy.ndarray'>\n",
      "('Liming', 24, 63.9)\n",
      "[('Mike', 15, 67. ) ('Jan', 34, 45.8)]\n",
      "['Liming' 'Mike' 'Jan']\n",
      "[24 15 34]\n",
      "[63.9 67.  45.8]\n"
     ]
    }
   ],
   "source": [
    "personType = np.dtype([('name', 'U30'), ('age', 'i8'), ('weight', 'f8')])\n",
    "a = np.array([('Liming', 24, 63.9), ('Mike', 15, 67.), ('Jan', 34, 45.8)],\n",
    "             dtype=personType)\n",
    "print(a, type(a))\n",
    "# [('Liming', 24, 63.9) ('Mike', 15, 67. ) ('Jan', 34, 45.8)]\n",
    "# <class 'numpy.ndarray'>\n",
    "\n",
    "# 结构数组的取值方式和一般数组差不多，可以通过下标取得元素：\n",
    "print(a[0])\n",
    "# ('Liming', 24, 63.9)\n",
    "\n",
    "print(a[-2:])\n",
    "# [('Mike', 15, 67. ) ('Jan', 34, 45.8)]\n",
    "\n",
    "# 我们可以使用字段名作为下标获取对应的值\n",
    "print(a['name'])\n",
    "# ['Liming' 'Mike' 'Jan']\n",
    "print(a['age'])\n",
    "# [24 15 34]\n",
    "print(a['weight'])\n",
    "# [63.9 67.  45.8]"
   ]
  },
  {
   "cell_type": "markdown",
   "metadata": {},
   "source": [
    "# 数组的属性\n",
    "\n",
    "在使用 numpy 时，你会想知道数组的某些信息。很幸运，在这个包里边包含了很多便捷的方法，可以给你想要的信息。\n",
    "\n",
    "\n",
    "\n",
    " - `numpy.ndarray.ndim`用于返回数组的维数（轴的个数）也称为秩，一维数组的秩为 1，二维数组的秩为 2，以此类推。\n",
    " - `numpy.ndarray.shape`表示数组的维度，返回一个元组，这个元组的长度就是维度的数目，即 `ndim` 属性(秩)。\n",
    " - `numpy.ndarray.size`数组中所有元素的总量，相当于数组的`shape`中所有元素的乘积，例如矩阵的元素总量为行与列的乘积。\n",
    " - `numpy.ndarray.dtype` `ndarray` 对象的元素类型。\n",
    " - `numpy.ndarray.itemsize`以字节的形式返回数组中每一个元素的大小。\n",
    "\n",
    "```python\n",
    "class ndarray(object):\n",
    "    shape = property(lambda self: object(), lambda self, v: None, lambda self: None)\n",
    "    dtype = property(lambda self: object(), lambda self, v: None, lambda self: None)\n",
    "    size = property(lambda self: object(), lambda self, v: None, lambda self: None)\n",
    "    ndim = property(lambda self: object(), lambda self, v: None, lambda self: None)\n",
    "    itemsize = property(lambda self: object(), lambda self, v: None, lambda self: None)\n",
    "```\n",
    "\n",
    "【例】\n",
    "```python\n",
    "import numpy as np\n",
    "\n",
    "a = np.array([1, 2, 3, 4, 5])\n",
    "print(a.shape)  # (5,)\n",
    "print(a.dtype)  # int32\n",
    "print(a.size)  # 5\n",
    "print(a.ndim)  # 1\n",
    "print(a.itemsize)  # 4\n",
    "\n",
    "b = np.array([[1, 2, 3], [4, 5, 6.0]])\n",
    "print(b.shape)  # (2, 3)\n",
    "print(b.dtype)  # float64\n",
    "print(b.size)  # 6\n",
    "print(b.ndim)  # 2\n",
    "print(b.itemsize)  # 8\n",
    "```\n",
    "\n",
    "在`ndarray`中所有元素必须是同一类型，否则会自动向下转换，`int->float->str`。\n",
    "\n",
    "【例】\n",
    "```python\n",
    "import numpy as np\n",
    "\n",
    "a = np.array([1, 2, 3, 4, 5])\n",
    "print(a)  # [1 2 3 4 5]\n",
    "b = np.array([1, 2, 3, 4, '5'])\n",
    "print(b)  # ['1' '2' '3' '4' '5']\n",
    "c = np.array([1, 2, 3, 4, 5.0])\n",
    "print(c)  # [1. 2. 3. 4. 5.]\n",
    "```"
   ]
  },
  {
   "cell_type": "code",
   "execution_count": 188,
   "metadata": {},
   "outputs": [
    {
     "name": "stdout",
     "output_type": "stream",
     "text": [
      "(5,)\n",
      "int32\n",
      "5\n",
      "1\n",
      "4\n",
      "(2, 3)\n",
      "float64\n",
      "6\n",
      "2\n",
      "8\n"
     ]
    }
   ],
   "source": [
    "a = np.array([1, 2, 3, 4, 5])\n",
    "print(a.shape)  # (5,)\n",
    "print(a.dtype)  # int32\n",
    "print(a.size)  # 5\n",
    "print(a.ndim)  # 1\n",
    "print(a.itemsize)  # 4\n",
    "\n",
    "b = np.array([[1, 2, 3], [4, 5, 6.0]])\n",
    "print(b.shape)  # (2, 3)\n",
    "print(b.dtype)  # float64\n",
    "print(b.size)  # 6\n",
    "print(b.ndim)  # 2\n",
    "print(b.itemsize)  # 8"
   ]
  },
  {
   "cell_type": "code",
   "execution_count": 189,
   "metadata": {},
   "outputs": [
    {
     "name": "stdout",
     "output_type": "stream",
     "text": [
      "[1 2 3 4 5]\n",
      "['1' '2' '3' '4' '5']\n",
      "[1. 2. 3. 4. 5.]\n"
     ]
    }
   ],
   "source": [
    "#在ndarray中所有元素必须是同一类型，否则会自动向下转换，int->float->str。\n",
    "a = np.array([1, 2, 3, 4, 5])\n",
    "print(a)  # [1 2 3 4 5]\n",
    "b = np.array([1, 2, 3, 4, '5'])\n",
    "print(b)  # ['1' '2' '3' '4' '5']\n",
    "c = np.array([1, 2, 3, 4, 5.0])\n",
    "print(c)  # [1. 2. 3. 4. 5.]"
   ]
  },
  {
   "cell_type": "markdown",
   "metadata": {},
   "source": [
    "# 练习"
   ]
  },
  {
   "cell_type": "markdown",
   "metadata": {},
   "source": [
    "### **什么是numpy？**\n"
   ]
  },
  {
   "cell_type": "markdown",
   "metadata": {},
   "source": [
    "### **如何安装numpy？**"
   ]
  },
  {
   "cell_type": "markdown",
   "metadata": {},
   "source": [
    "### **什么是n维数组对象？**"
   ]
  },
  {
   "cell_type": "markdown",
   "metadata": {},
   "source": [
    "### **如何区分一维、二维、多维？**"
   ]
  },
  {
   "cell_type": "markdown",
   "metadata": {},
   "source": [
    "### **以下表达式运行的结果分别是什么?**\n",
    "\n",
    "(提示: NaN = not a number, inf = infinity)\n",
    "\n",
    "0 * np.nan\n",
    "\n",
    "np.nan == np.nan\n",
    "\n",
    "np.inf > np.nan\n",
    "\n",
    "np.nan - np.nan\n",
    "\n",
    "0.3 == 3 * 0.1"
   ]
  },
  {
   "cell_type": "markdown",
   "metadata": {},
   "source": [
    "### **将numpy的datetime64对象转换为datetime的datetime对象。**\n",
    "\n",
    "- `dt64 = np.datetime64('2020-02-25 22:10:10')`\n",
    "\n",
    "【知识点：时间日期和时间增量】\n",
    "- 如何将numpy的datetime64对象转换为datetime的datetime对象？"
   ]
  },
  {
   "cell_type": "markdown",
   "metadata": {},
   "source": [
    "### **给定一系列不连续的日期序列。填充缺失的日期，使其成为连续的日期序列。**\n",
    "\n",
    "- `dates = np.arange('2020-02-01', '2020-02-10', 2, np.datetime64)`\n",
    "\n",
    "【知识点：时间日期和时间增量、数学函数】\n",
    "- 如何填写不规则系列的numpy日期中的缺失日期？"
   ]
  },
  {
   "cell_type": "markdown",
   "metadata": {},
   "source": [
    "### **如何得到昨天，今天，明天的的日期**\n",
    "\n",
    "【知识点：时间日期】\n",
    "- (提示: np.datetime64, np.timedelta64)"
   ]
  },
  {
   "cell_type": "markdown",
   "metadata": {},
   "source": [
    "\n",
    "### **创建从0到9的一维数字数组。**\n",
    "\n",
    "【知识点：数组的创建】\n",
    "- 如何创建一维数组？"
   ]
  },
  {
   "cell_type": "markdown",
   "metadata": {},
   "source": [
    "### **创建一个元素全为`True`的 3×3 数组。**\n",
    "\n",
    "【知识点：数组的创建】\n",
    "- 如何创建一个布尔数组？"
   ]
  },
  {
   "cell_type": "markdown",
   "metadata": {},
   "source": [
    "### **创建一个长度为10并且除了第五个值为1的空向量**\n",
    "\n",
    "【知识点：数组的创建】\n",
    "\n",
    "- (提示: array[4])"
   ]
  },
  {
   "cell_type": "markdown",
   "metadata": {},
   "source": [
    "### **创建一个值域范围从10到49的向量**\n",
    "\n",
    "【知识点：创建数组】\n",
    "\n",
    "- (提示: np.arange)"
   ]
  },
  {
   "cell_type": "markdown",
   "metadata": {},
   "source": [
    "### **创建一个 3x3x3的随机数组**\n",
    "\n",
    "【知识点：创建数组】\n",
    "\n",
    "(提示: np.random.random)"
   ]
  },
  {
   "cell_type": "markdown",
   "metadata": {},
   "source": [
    "### **创建一个二维数组，其中边界值为1，其余值为0**\n",
    "\n",
    "【知识点：二维数组的创建】\n",
    "\n",
    "- (提示: array[1:-1, 1:-1])"
   ]
  },
  {
   "cell_type": "markdown",
   "metadata": {},
   "source": [
    "### **创建长度为10的numpy数组，从5开始，在连续的数字之间的步长为3。**\n",
    "\n",
    "【知识点：数组的创建与属性】\n",
    "- 如何在给定起始点、长度和步骤的情况下创建一个numpy数组序列？"
   ]
  },
  {
   "cell_type": "markdown",
   "metadata": {},
   "source": [
    "### **将本地图像导入并将其转换为numpy数组。**\n",
    "\n",
    "【知识点：数组的创建与属性】\n",
    "- 如何将图像转换为numpy数组？"
   ]
  },
  {
   "cell_type": "code",
   "execution_count": 190,
   "metadata": {},
   "outputs": [],
   "source": [
    "# 参考答案"
   ]
  },
  {
   "cell_type": "markdown",
   "metadata": {},
   "source": [
    "**什么是numpy？**"
   ]
  },
  {
   "cell_type": "markdown",
   "metadata": {},
   "source": [
    "numpy是python中基于数组对象的科学计算库。\n",
    "提炼关键字，可以得出numpy以下三大特点：\n",
    "拥有n维数组对象;\n",
    "拥有广播功能（后面讲到）；\n",
    "拥有各种科学计算API，任你调用；"
   ]
  },
  {
   "cell_type": "markdown",
   "metadata": {},
   "source": [
    "**如何安装numpy？**"
   ]
  },
  {
   "cell_type": "markdown",
   "metadata": {},
   "source": [
    "因为numpy是一个python库，所以使用python包管理工具pip或者conda都可以安装。   \n",
    "安装python后，打开cmd命令行，输入 pip install numpy    \n",
    "或者如下直接在jupyter notebook里输入!pip install numpy"
   ]
  },
  {
   "cell_type": "code",
   "execution_count": 191,
   "metadata": {},
   "outputs": [
    {
     "name": "stdout",
     "output_type": "stream",
     "text": [
      "Requirement already satisfied: numpy in d:\\programdata\\anaconda3\\lib\\site-packages (1.18.5)\n"
     ]
    }
   ],
   "source": [
    "!pip install numpy"
   ]
  },
  {
   "cell_type": "markdown",
   "metadata": {},
   "source": [
    "**什么是n维数组对象？**"
   ]
  },
  {
   "cell_type": "markdown",
   "metadata": {},
   "source": [
    "n维数组（ndarray）对象，是一系列同类数据的集合，可以进行索引、切片、迭代操作。\n",
    "numpy中可以使用array函数创建数组:"
   ]
  },
  {
   "cell_type": "code",
   "execution_count": 192,
   "metadata": {
    "ExecuteTime": {
     "end_time": "2020-09-04T05:37:45.921044Z",
     "start_time": "2020-09-04T05:37:45.912067Z"
    }
   },
   "outputs": [
    {
     "data": {
      "text/plain": [
       "array([1, 2, 3])"
      ]
     },
     "execution_count": 192,
     "metadata": {},
     "output_type": "execute_result"
    }
   ],
   "source": [
    "import numpy as np\n",
    "np.array([1,2,3])"
   ]
  },
  {
   "cell_type": "markdown",
   "metadata": {},
   "source": [
    "**如何区分一维、二维、多维？**"
   ]
  },
  {
   "cell_type": "markdown",
   "metadata": {},
   "source": [
    "判断一个数组是几维，主要是看它有几个轴（axis）。\n",
    "\n",
    "一个轴表示一维数组，两个轴表示二维数组，以此类推。\n",
    "\n",
    "每个轴都代表一个一维数组。\n",
    "\n",
    "比如说，二维数组第一个轴里的每个元素都是一个一维数组，也就是第二个轴。\n",
    "\n",
    "一维数组一个轴："
   ]
  },
  {
   "cell_type": "code",
   "execution_count": 193,
   "metadata": {
    "ExecuteTime": {
     "end_time": "2020-09-04T05:38:56.810220Z",
     "start_time": "2020-09-04T05:38:56.807228Z"
    }
   },
   "outputs": [
    {
     "data": {
      "text/plain": [
       "[1, 2, 3]"
      ]
     },
     "execution_count": 193,
     "metadata": {},
     "output_type": "execute_result"
    }
   ],
   "source": [
    "[1,2,3]"
   ]
  },
  {
   "cell_type": "markdown",
   "metadata": {},
   "source": [
    "二维数组两个轴："
   ]
  },
  {
   "cell_type": "code",
   "execution_count": 194,
   "metadata": {
    "ExecuteTime": {
     "end_time": "2020-09-04T05:39:21.661540Z",
     "start_time": "2020-09-04T05:39:21.657550Z"
    }
   },
   "outputs": [
    {
     "data": {
      "text/plain": [
       "[[0, 1, 2], [3, 4, 5]]"
      ]
     },
     "execution_count": 194,
     "metadata": {},
     "output_type": "execute_result"
    }
   ],
   "source": [
    "[[0, 1, 2],\n",
    " [3, 4, 5]]"
   ]
  },
  {
   "cell_type": "markdown",
   "metadata": {},
   "source": [
    "三维数组三个轴："
   ]
  },
  {
   "cell_type": "code",
   "execution_count": 195,
   "metadata": {
    "ExecuteTime": {
     "end_time": "2020-09-04T05:39:49.201611Z",
     "start_time": "2020-09-04T05:39:49.196659Z"
    }
   },
   "outputs": [
    {
     "data": {
      "text/plain": [
       "[[[0, 1, 2], [3, 4, 5]], [[6, 7, 8], [9, 10, 11]]]"
      ]
     },
     "execution_count": 195,
     "metadata": {},
     "output_type": "execute_result"
    }
   ],
   "source": [
    "[[[ 0,  1,  2],\n",
    "  [ 3,  4,  5]],\n",
    "\n",
    " [[ 6,  7,  8],\n",
    "  [ 9, 10, 11]]]"
   ]
  },
  {
   "cell_type": "markdown",
   "metadata": {},
   "source": [
    "以此类推n维数组。"
   ]
  },
  {
   "cell_type": "markdown",
   "metadata": {},
   "source": [
    "**以下表达式运行的结果分别是什么?**\n",
    "\n",
    "(提示: NaN = not a number, inf = infinity)\n",
    "\n",
    "0 * np.nan\n",
    "\n",
    "np.nan == np.nan\n",
    "\n",
    "np.inf > np.nan\n",
    "\n",
    "np.nan - np.nan\n",
    "\n",
    "0.3 == 3 * 0.1\n"
   ]
  },
  {
   "cell_type": "code",
   "execution_count": 196,
   "metadata": {
    "ExecuteTime": {
     "end_time": "2020-09-06T02:29:21.779136Z",
     "start_time": "2020-09-06T02:29:21.774149Z"
    }
   },
   "outputs": [
    {
     "name": "stdout",
     "output_type": "stream",
     "text": [
      "nan\n",
      "False\n",
      "False\n",
      "nan\n",
      "False\n"
     ]
    }
   ],
   "source": [
    "print(0 * np.nan)\n",
    "print(np.nan == np.nan)\n",
    "print(np.inf > np.nan)\n",
    "print(np.nan - np.nan)\n",
    "print(0.3 == 3 * 0.1)"
   ]
  },
  {
   "cell_type": "code",
   "execution_count": null,
   "metadata": {},
   "outputs": [],
   "source": []
  },
  {
   "cell_type": "code",
   "execution_count": null,
   "metadata": {},
   "outputs": [],
   "source": []
  },
  {
   "cell_type": "markdown",
   "metadata": {},
   "source": [
    "**将numpy的datetime64对象转换为datetime的datetime对象。**\n",
    "\n",
    "- `dt64 = np.datetime64('2020-02-25 22:10:10')`\n",
    "\n",
    "【知识点：时间日期和时间增量】\n",
    "- 如何将numpy的datetime64对象转换为datetime的datetime对象？"
   ]
  },
  {
   "cell_type": "code",
   "execution_count": 197,
   "metadata": {
    "ExecuteTime": {
     "end_time": "2020-09-06T03:22:33.585786Z",
     "start_time": "2020-09-06T03:22:33.577808Z"
    }
   },
   "outputs": [
    {
     "name": "stdout",
     "output_type": "stream",
     "text": [
      "2020-02-25 22:10:10 <class 'datetime.datetime'>\n"
     ]
    }
   ],
   "source": [
    "import numpy as np\n",
    "import datetime\n",
    "\n",
    "dt64 = np.datetime64('2020-02-25 22:10:10')\n",
    "dt = dt64.astype(datetime.datetime)\n",
    "print(dt, type(dt))\n",
    "# 2020-02-25 22:10:10 <class 'datetime.datetime'>"
   ]
  },
  {
   "cell_type": "markdown",
   "metadata": {
    "ExecuteTime": {
     "end_time": "2020-09-06T03:23:02.362883Z",
     "start_time": "2020-09-06T03:23:02.357896Z"
    }
   },
   "source": [
    "**给定一系列不连续的日期序列。填充缺失的日期，使其成为连续的日期序列。**\n",
    "\n",
    "- `dates = np.arange('2020-02-01', '2020-02-10', 2, np.datetime64)`\n",
    "\n",
    "【知识点：时间日期和时间增量、数学函数】\n",
    "- 如何填写不规则系列的numpy日期中的缺失日期？"
   ]
  },
  {
   "cell_type": "code",
   "execution_count": 198,
   "metadata": {
    "ExecuteTime": {
     "end_time": "2020-09-06T03:23:17.318967Z",
     "start_time": "2020-09-06T03:23:17.307994Z"
    }
   },
   "outputs": [
    {
     "name": "stdout",
     "output_type": "stream",
     "text": [
      "['2020-02-01' '2020-02-03' '2020-02-05' '2020-02-07' '2020-02-09']\n",
      "['2020-02-01' '2020-02-02' '2020-02-03' '2020-02-04' '2020-02-05'\n",
      " '2020-02-06' '2020-02-07' '2020-02-08' '2020-02-09']\n"
     ]
    }
   ],
   "source": [
    "import numpy as np\n",
    "\n",
    "dates = np.arange('2020-02-01', '2020-02-10', 2, np.datetime64)\n",
    "print(dates)\n",
    "# ['2020-02-01' '2020-02-03' '2020-02-05' '2020-02-07' '2020-02-09']\n",
    "\n",
    "out = []\n",
    "for date, d in zip(dates, np.diff(dates)):\n",
    "    out.extend(np.arange(date, date + d))\n",
    "fillin = np.array(out)\n",
    "output = np.hstack([fillin, dates[-1]])\n",
    "print(output)\n",
    "# ['2020-02-01' '2020-02-02' '2020-02-03' '2020-02-04' '2020-02-05'\n",
    "#  '2020-02-06' '2020-02-07' '2020-02-08' '2020-02-09']"
   ]
  },
  {
   "cell_type": "markdown",
   "metadata": {},
   "source": [
    "**如何得到昨天，今天，明天的的日期**\n",
    "\n",
    "【知识点：时间日期】\n",
    "- (提示: np.datetime64, np.timedelta64)"
   ]
  },
  {
   "cell_type": "code",
   "execution_count": 199,
   "metadata": {
    "ExecuteTime": {
     "end_time": "2020-09-14T09:21:51.819371Z",
     "start_time": "2020-09-14T09:21:51.815870Z"
    }
   },
   "outputs": [],
   "source": [
    "yesterday = np.datetime64('today', 'D') - np.timedelta64(1, 'D')\n",
    "today     = np.datetime64('today', 'D')\n",
    "tomorrow  = np.datetime64('today', 'D') + np.timedelta64(1, 'D')"
   ]
  },
  {
   "cell_type": "code",
   "execution_count": 200,
   "metadata": {
    "ExecuteTime": {
     "end_time": "2020-09-14T09:21:53.263787Z",
     "start_time": "2020-09-14T09:21:53.258801Z"
    }
   },
   "outputs": [
    {
     "name": "stdout",
     "output_type": "stream",
     "text": [
      "Yesterday is 2020-10-19\n",
      "Today is 2020-10-20\n",
      "Tomorrow is 2020-10-21\n"
     ]
    }
   ],
   "source": [
    "print (\"Yesterday is \" + str(yesterday))\n",
    "print (\"Today is \" + str(today))\n",
    "print (\"Tomorrow is \"+ str(tomorrow))"
   ]
  },
  {
   "cell_type": "markdown",
   "metadata": {},
   "source": [
    "\n",
    "**创建从0到9的一维数字数组。**\n",
    "\n",
    "【知识点：数组的创建】\n",
    "- 如何创建一维数组？\n"
   ]
  },
  {
   "cell_type": "code",
   "execution_count": 201,
   "metadata": {
    "ExecuteTime": {
     "end_time": "2020-09-04T05:21:17.599471Z",
     "start_time": "2020-09-04T05:21:17.595447Z"
    }
   },
   "outputs": [
    {
     "name": "stdout",
     "output_type": "stream",
     "text": [
      "[0 1 2 3 4 5 6 7 8 9]\n"
     ]
    }
   ],
   "source": [
    "#【答案】\n",
    "\n",
    "import numpy as np\n",
    "\n",
    "arr = np.arange(10)\n",
    "print(arr)\n",
    "# [0 1 2 3 4 5 6 7 8 9]"
   ]
  },
  {
   "cell_type": "markdown",
   "metadata": {},
   "source": [
    "**创建一个元素全为`True`的 3×3 数组。**\n",
    "\n",
    "【知识点：数组的创建】\n",
    "- 如何创建一个布尔数组？"
   ]
  },
  {
   "cell_type": "code",
   "execution_count": 202,
   "metadata": {
    "ExecuteTime": {
     "end_time": "2020-09-04T05:23:28.582218Z",
     "start_time": "2020-09-04T05:23:28.578229Z"
    }
   },
   "outputs": [
    {
     "name": "stdout",
     "output_type": "stream",
     "text": [
      "[[ True  True  True]\n",
      " [ True  True  True]\n",
      " [ True  True  True]]\n"
     ]
    }
   ],
   "source": [
    "#答案\n",
    "import numpy as np\n",
    "\n",
    "arr = np.full([3, 3], True, dtype=np.bool)\n",
    "print(arr)\n",
    "# [[ True  True  True]\n",
    "#  [ True  True  True]\n",
    "#  [ True  True  True]]"
   ]
  },
  {
   "cell_type": "markdown",
   "metadata": {},
   "source": [
    "**创建一个长度为10并且除了第五个值为1的空向量**\n",
    "\n",
    "【知识点：数组的创建】\n",
    "\n",
    "- (提示: array[4])"
   ]
  },
  {
   "cell_type": "code",
   "execution_count": 203,
   "metadata": {
    "ExecuteTime": {
     "end_time": "2020-09-04T05:57:59.004744Z",
     "start_time": "2020-09-04T05:57:58.999757Z"
    }
   },
   "outputs": [
    {
     "name": "stdout",
     "output_type": "stream",
     "text": [
      "[0. 0. 0. 0. 1. 0. 0. 0. 0. 0.]\n"
     ]
    }
   ],
   "source": [
    "Z = np.zeros(10)\n",
    "Z[4] = 1\n",
    "print(Z)"
   ]
  },
  {
   "cell_type": "markdown",
   "metadata": {
    "ExecuteTime": {
     "end_time": "2020-09-04T05:58:20.995843Z",
     "start_time": "2020-09-04T05:58:20.990855Z"
    }
   },
   "source": [
    "**创建一个值域范围从10到49的向量**\n",
    "\n",
    "【知识点：创建数组】\n",
    "\n",
    "- (提示: np.arange)"
   ]
  },
  {
   "cell_type": "code",
   "execution_count": 204,
   "metadata": {
    "ExecuteTime": {
     "end_time": "2020-09-04T05:58:45.316583Z",
     "start_time": "2020-09-04T05:58:45.312592Z"
    }
   },
   "outputs": [
    {
     "name": "stdout",
     "output_type": "stream",
     "text": [
      "[10 11 12 13 14 15 16 17 18 19 20 21 22 23 24 25 26 27 28 29 30 31 32 33\n",
      " 34 35 36 37 38 39 40 41 42 43 44 45 46 47 48 49]\n"
     ]
    }
   ],
   "source": [
    "Z = np.arange(10,50)\n",
    "print(Z)"
   ]
  },
  {
   "cell_type": "markdown",
   "metadata": {},
   "source": [
    "**创建一个 3x3x3的随机数组**\n",
    "\n",
    "【知识点：创建数组】\n",
    "\n",
    "(提示: np.random.random)"
   ]
  },
  {
   "cell_type": "code",
   "execution_count": 205,
   "metadata": {
    "ExecuteTime": {
     "end_time": "2020-09-06T02:25:01.890974Z",
     "start_time": "2020-09-06T02:25:01.555976Z"
    }
   },
   "outputs": [
    {
     "name": "stdout",
     "output_type": "stream",
     "text": [
      "[[[0.37298227 0.43736218 0.52796117]\n",
      "  [0.47658154 0.18296444 0.94359628]\n",
      "  [0.55839288 0.80884574 0.458976  ]]\n",
      "\n",
      " [[0.11886374 0.96145857 0.39771457]\n",
      "  [0.12974356 0.41939274 0.51369783]\n",
      "  [0.91755017 0.01226159 0.57470837]]\n",
      "\n",
      " [[0.23566079 0.27196292 0.14854895]\n",
      "  [0.10459785 0.6067349  0.83878583]\n",
      "  [0.95768328 0.04291035 0.5302736 ]]]\n"
     ]
    }
   ],
   "source": [
    "Z = np.random.random((3,3,3))\n",
    "print(Z)"
   ]
  },
  {
   "cell_type": "markdown",
   "metadata": {},
   "source": [
    "**创建一个二维数组，其中边界值为1，其余值为0**\n",
    "\n",
    "【知识点：二维数组的创建】\n",
    "\n",
    "- (提示: array[1:-1, 1:-1])"
   ]
  },
  {
   "cell_type": "code",
   "execution_count": 206,
   "metadata": {
    "ExecuteTime": {
     "end_time": "2020-09-06T02:26:25.019587Z",
     "start_time": "2020-09-06T02:26:25.015563Z"
    }
   },
   "outputs": [
    {
     "name": "stdout",
     "output_type": "stream",
     "text": [
      "[[1. 1. 1. 1. 1. 1. 1. 1. 1. 1.]\n",
      " [1. 0. 0. 0. 0. 0. 0. 0. 0. 1.]\n",
      " [1. 0. 0. 0. 0. 0. 0. 0. 0. 1.]\n",
      " [1. 0. 0. 0. 0. 0. 0. 0. 0. 1.]\n",
      " [1. 0. 0. 0. 0. 0. 0. 0. 0. 1.]\n",
      " [1. 0. 0. 0. 0. 0. 0. 0. 0. 1.]\n",
      " [1. 0. 0. 0. 0. 0. 0. 0. 0. 1.]\n",
      " [1. 0. 0. 0. 0. 0. 0. 0. 0. 1.]\n",
      " [1. 0. 0. 0. 0. 0. 0. 0. 0. 1.]\n",
      " [1. 1. 1. 1. 1. 1. 1. 1. 1. 1.]]\n"
     ]
    }
   ],
   "source": [
    "Z = np.ones((10,10))\n",
    "Z[1:-1,1:-1] = 0\n",
    "print(Z)"
   ]
  },
  {
   "cell_type": "markdown",
   "metadata": {
    "ExecuteTime": {
     "end_time": "2020-09-06T03:24:54.695345Z",
     "start_time": "2020-09-06T03:24:54.691389Z"
    }
   },
   "source": [
    "**创建长度为10的numpy数组，从5开始，在连续的数字之间的步长为3。**\n",
    "\n",
    "【知识点：数组的创建与属性】\n",
    "- 如何在给定起始点、长度和步骤的情况下创建一个numpy数组序列？"
   ]
  },
  {
   "cell_type": "code",
   "execution_count": 207,
   "metadata": {
    "ExecuteTime": {
     "end_time": "2020-09-06T03:25:11.711285Z",
     "start_time": "2020-09-06T03:25:11.708316Z"
    }
   },
   "outputs": [
    {
     "name": "stdout",
     "output_type": "stream",
     "text": [
      "[ 5  8 11 14 17 20 23 26 29 32]\n"
     ]
    }
   ],
   "source": [
    "import numpy as np\n",
    "\n",
    "start = 5\n",
    "step = 3\n",
    "length = 10\n",
    "a = np.arange(start, start + step * length, step)\n",
    "print(a)  # [ 5  8 11 14 17 20 23 26 29 32]"
   ]
  },
  {
   "cell_type": "markdown",
   "metadata": {
    "ExecuteTime": {
     "end_time": "2020-09-06T03:25:34.766852Z",
     "start_time": "2020-09-06T03:25:34.762862Z"
    }
   },
   "source": [
    "**将本地图像导入并将其转换为numpy数组。**\n",
    "\n",
    "【知识点：数组的创建与属性】\n",
    "- 如何将图像转换为numpy数组？"
   ]
  },
  {
   "cell_type": "code",
   "execution_count": 208,
   "metadata": {
    "ExecuteTime": {
     "end_time": "2020-09-06T03:27:06.728838Z",
     "start_time": "2020-09-06T03:27:06.496621Z"
    }
   },
   "outputs": [
    {
     "name": "stdout",
     "output_type": "stream",
     "text": [
      "(959, 959, 3) uint8\n"
     ]
    }
   ],
   "source": [
    "import numpy as np\n",
    "from PIL import Image\n",
    "\n",
    "img1 = Image.open('test.jpg')\n",
    "a = np.array(img1)\n",
    "\n",
    "print(a.shape, a.dtype)\n",
    "# (959, 959, 3) uint8"
   ]
  },
  {
   "cell_type": "code",
   "execution_count": null,
   "metadata": {},
   "outputs": [],
   "source": []
  },
  {
   "cell_type": "code",
   "execution_count": null,
   "metadata": {},
   "outputs": [],
   "source": []
  }
 ],
 "metadata": {
  "kernelspec": {
   "display_name": "Python 3",
   "language": "python",
   "name": "python3"
  },
  "language_info": {
   "codemirror_mode": {
    "name": "ipython",
    "version": 3
   },
   "file_extension": ".py",
   "mimetype": "text/x-python",
   "name": "python",
   "nbconvert_exporter": "python",
   "pygments_lexer": "ipython3",
   "version": "3.8.3"
  },
  "toc-autonumbering": true
 },
 "nbformat": 4,
 "nbformat_minor": 4
}
