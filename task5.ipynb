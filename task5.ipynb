{
 "cells": [
  {
   "cell_type": "markdown",
   "metadata": {},
   "source": [
    "# 排序，搜索和计数"
   ]
  },
  {
   "cell_type": "markdown",
   "metadata": {},
   "source": [
    "## 排序"
   ]
  },
  {
   "cell_type": "markdown",
   "metadata": {},
   "source": [
    "### numpy.sort()\n",
    "- `numpy.sort(a[, axis=-1, kind='quicksort', order=None])` Return a sorted **copy** of an array.\n",
    "    - axis：排序沿数组的（轴）方向，0表示按行，1表示按列，None表示展开来排序，默认为-1，表示沿最后的轴排序。\n",
    "    - kind：排序的算法，提供了快排'quicksort'、混排'mergesort'、堆排'heapsort'， 默认为‘quicksort'。\n",
    "    - order：排序的字段名，可指定字段排序，默认为None。"
   ]
  },
  {
   "cell_type": "markdown",
   "metadata": {
    "jupyter": {
     "source_hidden": true
    }
   },
   "source": [
    "【例】\n",
    "```python\n",
    "import numpy as np\n",
    "\n",
    "np.random.seed(20200612)\n",
    "x = np.random.rand(5, 5) * 10\n",
    "x = np.around(x, 2)\n",
    "print(x)\n",
    "# [[2.32 7.54 9.78 1.73 6.22]\n",
    "#  [6.93 5.17 9.28 9.76 8.25]\n",
    "#  [0.01 4.23 0.19 1.73 9.27]\n",
    "#  [7.99 4.97 0.88 7.32 4.29]\n",
    "#  [9.05 0.07 8.95 7.9  6.99]]\n",
    "\n",
    "y = np.sort(x)\n",
    "print(y)\n",
    "# [[1.73 2.32 6.22 7.54 9.78]\n",
    "#  [5.17 6.93 8.25 9.28 9.76]\n",
    "#  [0.01 0.19 1.73 4.23 9.27]\n",
    "#  [0.88 4.29 4.97 7.32 7.99]\n",
    "#  [0.07 6.99 7.9  8.95 9.05]]\n",
    "\n",
    "y = np.sort(x, axis=0)\n",
    "print(y)\n",
    "# [[0.01 0.07 0.19 1.73 4.29]\n",
    "#  [2.32 4.23 0.88 1.73 6.22]\n",
    "#  [6.93 4.97 8.95 7.32 6.99]\n",
    "#  [7.99 5.17 9.28 7.9  8.25]\n",
    "#  [9.05 7.54 9.78 9.76 9.27]]\n",
    "\n",
    "y = np.sort(x, axis=1)\n",
    "print(y)\n",
    "# [[1.73 2.32 6.22 7.54 9.78]\n",
    "#  [5.17 6.93 8.25 9.28 9.76]\n",
    "#  [0.01 0.19 1.73 4.23 9.27]\n",
    "#  [0.88 4.29 4.97 7.32 7.99]\n",
    "#  [0.07 6.99 7.9  8.95 9.05]]\n",
    "```\n",
    "\n",
    "【例】\n",
    "```python\n",
    "import numpy as np\n",
    "\n",
    "dt = np.dtype([('name', 'S10'), ('age', np.int)])\n",
    "a = np.array([(\"Mike\", 21), (\"Nancy\", 25), (\"Bob\", 17), (\"Jane\", 27)], dtype=dt)\n",
    "b = np.sort(a, order='name')\n",
    "print(b)\n",
    "# [(b'Bob', 17) (b'Jane', 27) (b'Mike', 21) (b'Nancy', 25)]\n",
    "\n",
    "b = np.sort(a, order='age')\n",
    "print(b)\n",
    "# [(b'Bob', 17) (b'Mike', 21) (b'Nancy', 25) (b'Jane', 27)]\n",
    "```\n",
    "\n",
    "\n"
   ]
  },
  {
   "cell_type": "code",
   "execution_count": 170,
   "metadata": {},
   "outputs": [
    {
     "name": "stdout",
     "output_type": "stream",
     "text": [
      "1.18.1\n"
     ]
    }
   ],
   "source": [
    "import numpy as np\n",
    "print(np.version.full_version)"
   ]
  },
  {
   "cell_type": "code",
   "execution_count": 171,
   "metadata": {},
   "outputs": [
    {
     "name": "stdout",
     "output_type": "stream",
     "text": [
      "[[2.32 7.54 9.78 1.73 6.22]\n",
      " [6.93 5.17 9.28 9.76 8.25]\n",
      " [0.01 4.23 0.19 1.73 9.27]\n",
      " [7.99 4.97 0.88 7.32 4.29]\n",
      " [9.05 0.07 8.95 7.9  6.99]]\n"
     ]
    }
   ],
   "source": [
    "#【例】\n",
    "np.random.seed(20200612) #确定seed以得到确定的结果\n",
    "x = np.random.rand(5, 5) * 10\n",
    "x = np.around(x, 2)\n",
    "print(x)\n",
    "# [[2.32 7.54 9.78 1.73 6.22]\n",
    "#  [6.93 5.17 9.28 9.76 8.25]\n",
    "#  [0.01 4.23 0.19 1.73 9.27]\n",
    "#  [7.99 4.97 0.88 7.32 4.29]\n",
    "#  [9.05 0.07 8.95 7.9  6.99]]"
   ]
  },
  {
   "cell_type": "code",
   "execution_count": 172,
   "metadata": {},
   "outputs": [
    {
     "name": "stdout",
     "output_type": "stream",
     "text": [
      "[[1.73 2.32 6.22 7.54 9.78]\n",
      " [5.17 6.93 8.25 9.28 9.76]\n",
      " [0.01 0.19 1.73 4.23 9.27]\n",
      " [0.88 4.29 4.97 7.32 7.99]\n",
      " [0.07 6.99 7.9  8.95 9.05]]\n"
     ]
    }
   ],
   "source": [
    "y = np.sort(x) # 将每个行向量的元素按从小到大排序\n",
    "print(y)\n",
    "# [[1.73 2.32 6.22 7.54 9.78]\n",
    "#  [5.17 6.93 8.25 9.28 9.76]\n",
    "#  [0.01 0.19 1.73 4.23 9.27]\n",
    "#  [0.88 4.29 4.97 7.32 7.99]\n",
    "#  [0.07 6.99 7.9  8.95 9.05]]"
   ]
  },
  {
   "cell_type": "code",
   "execution_count": 173,
   "metadata": {},
   "outputs": [
    {
     "name": "stdout",
     "output_type": "stream",
     "text": [
      "[[0.01 0.07 0.19 1.73 4.29]\n",
      " [2.32 4.23 0.88 1.73 6.22]\n",
      " [6.93 4.97 8.95 7.32 6.99]\n",
      " [7.99 5.17 9.28 7.9  8.25]\n",
      " [9.05 7.54 9.78 9.76 9.27]]\n"
     ]
    }
   ],
   "source": [
    "y = np.sort(x, axis=0) #使用axis参数指定轴为0, 则将列向量的元素按从小到大排序\n",
    "print(y)\n",
    "# [[0.01 0.07 0.19 1.73 4.29]\n",
    "#  [2.32 4.23 0.88 1.73 6.22]\n",
    "#  [6.93 4.97 8.95 7.32 6.99]\n",
    "#  [7.99 5.17 9.28 7.9  8.25]\n",
    "#  [9.05 7.54 9.78 9.76 9.27]]"
   ]
  },
  {
   "cell_type": "code",
   "execution_count": 174,
   "metadata": {},
   "outputs": [
    {
     "name": "stdout",
     "output_type": "stream",
     "text": [
      "[[1.73 2.32 6.22 7.54 9.78]\n",
      " [5.17 6.93 8.25 9.28 9.76]\n",
      " [0.01 0.19 1.73 4.23 9.27]\n",
      " [0.88 4.29 4.97 7.32 7.99]\n",
      " [0.07 6.99 7.9  8.95 9.05]]\n"
     ]
    }
   ],
   "source": [
    "y = np.sort(x, axis=1)\n",
    "print(y)\n",
    "# [[1.73 2.32 6.22 7.54 9.78]\n",
    "#  [5.17 6.93 8.25 9.28 9.76]\n",
    "#  [0.01 0.19 1.73 4.23 9.27]\n",
    "#  [0.88 4.29 4.97 7.32 7.99]\n",
    "#  [0.07 6.99 7.9  8.95 9.05]]"
   ]
  },
  {
   "cell_type": "code",
   "execution_count": 175,
   "metadata": {},
   "outputs": [],
   "source": [
    "# 对于高维的情况,需要注意轴的编号对应的是哪个轴\n"
   ]
  },
  {
   "cell_type": "code",
   "execution_count": 176,
   "metadata": {},
   "outputs": [
    {
     "name": "stdout",
     "output_type": "stream",
     "text": [
      "[(b'Bob', 17) (b'Jane', 27) (b'Mike', 21) (b'Nancy', 25)]\n"
     ]
    }
   ],
   "source": [
    "#【例】\n",
    "dt = np.dtype([('name', 'S10'), ('age', np.int)]) # 传入的两个元组, 为每列起名并指定数据类型\n",
    "a = np.array([(\"Mike\", 21), (\"Nancy\", 25), (\"Bob\", 17), (\"Jane\", 27)], dtype=dt)\n",
    "b = np.sort(a, order='name')\n",
    "print(b)\n",
    "# [(b'Bob', 17) (b'Jane', 27) (b'Mike', 21) (b'Nancy', 25)]"
   ]
  },
  {
   "cell_type": "code",
   "execution_count": 177,
   "metadata": {},
   "outputs": [
    {
     "name": "stdout",
     "output_type": "stream",
     "text": [
      "[(b'Bob', 17) (b'Mike', 21) (b'Nancy', 25) (b'Jane', 27)]\n"
     ]
    }
   ],
   "source": [
    "b = np.sort(a, order='age')\n",
    "print(b)\n",
    "# [(b'Bob', 17) (b'Mike', 21) (b'Nancy', 25) (b'Jane', 27)]"
   ]
  },
  {
   "cell_type": "code",
   "execution_count": 178,
   "metadata": {},
   "outputs": [
    {
     "data": {
      "text/plain": [
       "dtype([('name', 'S10'), ('age', '<i4')])"
      ]
     },
     "execution_count": 178,
     "metadata": {},
     "output_type": "execute_result"
    }
   ],
   "source": [
    "b.dtype"
   ]
  },
  {
   "cell_type": "markdown",
   "metadata": {},
   "source": [
    "### numpy.argsort()\n",
    "- `numpy.argsort(a[, axis=-1, kind='quicksort', order=None])` Returns the indices that would sort an array.   \n",
    "\n",
    "如果排序后，想用元素的索引位置替代排序后的实际结果，就用numpy.argsort()   \n",
    "\n",
    "【例】对数组沿给定轴执行间接排序，并使用指定排序类型返回数据的索引数组。这个索引数组用于构造排序后的数组。\n"
   ]
  },
  {
   "cell_type": "markdown",
   "metadata": {},
   "source": [
    "```python\n",
    "import numpy as np\n",
    "\n",
    "np.random.seed(20200612)\n",
    "x = np.random.randint(0, 10, 10)\n",
    "print(x)\n",
    "# [6 1 8 5 5 4 1 2 9 1]\n",
    "\n",
    "y = np.argsort(x)\n",
    "print(y)\n",
    "# [1 6 9 7 5 3 4 0 2 8]\n",
    "\n",
    "print(x[y])\n",
    "# [1 1 1 2 4 5 5 6 8 9]\n",
    "\n",
    "y = np.argsort(-x)\n",
    "print(y)\n",
    "# [8 2 0 3 4 5 7 1 6 9]\n",
    "\n",
    "print(x[y])\n",
    "# [9 8 6 5 5 4 2 1 1 1]\n",
    "```\n",
    "\n",
    "【例】\n",
    "```python\n",
    "import numpy as np\n",
    "\n",
    "np.random.seed(20200612)\n",
    "x = np.random.rand(5, 5) * 10\n",
    "x = np.around(x, 2)\n",
    "print(x)\n",
    "# [[2.32 7.54 9.78 1.73 6.22]\n",
    "#  [6.93 5.17 9.28 9.76 8.25]\n",
    "#  [0.01 4.23 0.19 1.73 9.27]\n",
    "#  [7.99 4.97 0.88 7.32 4.29]\n",
    "#  [9.05 0.07 8.95 7.9  6.99]]\n",
    "\n",
    "y = np.argsort(x)\n",
    "print(y)\n",
    "# [[3 0 4 1 2]\n",
    "#  [1 0 4 2 3]\n",
    "#  [0 2 3 1 4]\n",
    "#  [2 4 1 3 0]\n",
    "#  [1 4 3 2 0]]\n",
    "\n",
    "y = np.argsort(x, axis=0)\n",
    "print(y)\n",
    "# [[2 4 2 0 3]\n",
    "#  [0 2 3 2 0]\n",
    "#  [1 3 4 3 4]\n",
    "#  [3 1 1 4 1]\n",
    "#  [4 0 0 1 2]]\n",
    "\n",
    "y = np.argsort(x, axis=1)\n",
    "print(y)\n",
    "# [[3 0 4 1 2]\n",
    "#  [1 0 4 2 3]\n",
    "#  [0 2 3 1 4]\n",
    "#  [2 4 1 3 0]\n",
    "#  [1 4 3 2 0]]\n",
    "\n",
    "y = np.array([np.take(x[i], np.argsort(x[i])) for i in range(5)])  \n",
    "#numpy.take(a, indices, axis=None, out=None, mode='raise')沿轴从数组中获取元素。\n",
    "print(y)\n",
    "# [[1.73 2.32 6.22 7.54 9.78]\n",
    "#  [5.17 6.93 8.25 9.28 9.76]\n",
    "#  [0.01 0.19 1.73 4.23 9.27]\n",
    "#  [0.88 4.29 4.97 7.32 7.99]\n",
    "#  [0.07 6.99 7.9  8.95 9.05]]\n",
    "```"
   ]
  },
  {
   "cell_type": "code",
   "execution_count": 179,
   "metadata": {},
   "outputs": [
    {
     "name": "stdout",
     "output_type": "stream",
     "text": [
      "[6 1 8 5 5 4 1 2 9 1]\n"
     ]
    }
   ],
   "source": [
    "#【例】对数组沿给定轴执行间接排序，并使用指定排序类型返回数据的索引数组。这个索引数组用于构造排序后的数组。\n",
    "np.random.seed(20200612)\n",
    "x = np.random.randint(0, 10, 10)\n",
    "print(x)\n",
    "# [6 1 8 5 5 4 1 2 9 1]"
   ]
  },
  {
   "cell_type": "code",
   "execution_count": 180,
   "metadata": {},
   "outputs": [
    {
     "name": "stdout",
     "output_type": "stream",
     "text": [
      "[1 6 9 7 5 3 4 0 2 8]\n"
     ]
    }
   ],
   "source": [
    "y = np.argsort(x)\n",
    "print(y) # 返回的是索引位置,不是值\n",
    "# [1 6 9 7 5 3 4 0 2 8]"
   ]
  },
  {
   "cell_type": "code",
   "execution_count": 181,
   "metadata": {},
   "outputs": [
    {
     "name": "stdout",
     "output_type": "stream",
     "text": [
      "[1 1 1 2 4 5 5 6 8 9]\n"
     ]
    }
   ],
   "source": [
    "print(x[y])\n",
    "# [1 1 1 2 4 5 5 6 8 9]"
   ]
  },
  {
   "cell_type": "code",
   "execution_count": 182,
   "metadata": {},
   "outputs": [
    {
     "name": "stdout",
     "output_type": "stream",
     "text": [
      "[8 2 0 3 4 5 7 1 6 9]\n"
     ]
    }
   ],
   "source": [
    "y = np.argsort(-x)\n",
    "print(y)\n",
    "# [8 2 0 3 4 5 7 1 6 9]"
   ]
  },
  {
   "cell_type": "code",
   "execution_count": 183,
   "metadata": {},
   "outputs": [
    {
     "name": "stdout",
     "output_type": "stream",
     "text": [
      "[9 8 6 5 5 4 2 1 1 1]\n"
     ]
    }
   ],
   "source": [
    "print(x[y])\n",
    "# [9 8 6 5 5 4 2 1 1 1]"
   ]
  },
  {
   "cell_type": "code",
   "execution_count": 184,
   "metadata": {},
   "outputs": [
    {
     "name": "stdout",
     "output_type": "stream",
     "text": [
      "[[2.32 7.54 9.78 1.73 6.22]\n",
      " [6.93 5.17 9.28 9.76 8.25]\n",
      " [0.01 4.23 0.19 1.73 9.27]\n",
      " [7.99 4.97 0.88 7.32 4.29]\n",
      " [9.05 0.07 8.95 7.9  6.99]]\n"
     ]
    }
   ],
   "source": [
    "#【例】\n",
    "np.random.seed(20200612)\n",
    "x = np.random.rand(5, 5) * 10\n",
    "x = np.around(x, 2)\n",
    "print(x)\n",
    "# [[2.32 7.54 9.78 1.73 6.22]\n",
    "#  [6.93 5.17 9.28 9.76 8.25]\n",
    "#  [0.01 4.23 0.19 1.73 9.27]\n",
    "#  [7.99 4.97 0.88 7.32 4.29]\n",
    "#  [9.05 0.07 8.95 7.9  6.99]]"
   ]
  },
  {
   "cell_type": "code",
   "execution_count": 185,
   "metadata": {},
   "outputs": [
    {
     "name": "stdout",
     "output_type": "stream",
     "text": [
      "[[3 0 4 1 2]\n",
      " [1 0 4 2 3]\n",
      " [0 2 3 1 4]\n",
      " [2 4 1 3 0]\n",
      " [1 4 3 2 0]]\n"
     ]
    }
   ],
   "source": [
    "y = np.argsort(x) #默认按行向量返回值从小到大排序对应的原始索引\n",
    "print(y)\n",
    "# [[3 0 4 1 2]\n",
    "#  [1 0 4 2 3]\n",
    "#  [0 2 3 1 4]\n",
    "#  [2 4 1 3 0]\n",
    "#  [1 4 3 2 0]]"
   ]
  },
  {
   "cell_type": "code",
   "execution_count": 186,
   "metadata": {},
   "outputs": [
    {
     "name": "stdout",
     "output_type": "stream",
     "text": [
      "[[2 4 2 0 3]\n",
      " [0 2 3 2 0]\n",
      " [1 3 4 3 4]\n",
      " [3 1 1 4 1]\n",
      " [4 0 0 1 2]]\n"
     ]
    }
   ],
   "source": [
    "y = np.argsort(x, axis=0) #按列向量返回值从小到大排序的原始索引\n",
    "print(y)\n",
    "# [[2 4 2 0 3]\n",
    "#  [0 2 3 2 0]\n",
    "#  [1 3 4 3 4]\n",
    "#  [3 1 1 4 1]\n",
    "#  [4 0 0 1 2]]"
   ]
  },
  {
   "cell_type": "code",
   "execution_count": 187,
   "metadata": {},
   "outputs": [
    {
     "name": "stdout",
     "output_type": "stream",
     "text": [
      "[[3 0 4 1 2]\n",
      " [1 0 4 2 3]\n",
      " [0 2 3 1 4]\n",
      " [2 4 1 3 0]\n",
      " [1 4 3 2 0]]\n"
     ]
    }
   ],
   "source": [
    "y = np.argsort(x, axis=1)\n",
    "print(y)\n",
    "# [[3 0 4 1 2]\n",
    "#  [1 0 4 2 3]\n",
    "#  [0 2 3 1 4]\n",
    "#  [2 4 1 3 0]\n",
    "#  [1 4 3 2 0]]"
   ]
  },
  {
   "cell_type": "code",
   "execution_count": 188,
   "metadata": {},
   "outputs": [
    {
     "name": "stdout",
     "output_type": "stream",
     "text": [
      "[[1.73 2.32 6.22 7.54 9.78]\n",
      " [5.17 6.93 8.25 9.28 9.76]\n",
      " [0.01 0.19 1.73 4.23 9.27]\n",
      " [0.88 4.29 4.97 7.32 7.99]\n",
      " [0.07 6.99 7.9  8.95 9.05]]\n"
     ]
    }
   ],
   "source": [
    "y = np.array([np.take(x[i], np.argsort(x[i])) for i in range(5)]) #numpy.take(a, indices, axis=None, out=None, mode='raise')沿轴从数组中获取元素。\n",
    "print(y)\n",
    "# [[1.73 2.32 6.22 7.54 9.78]\n",
    "#  [5.17 6.93 8.25 9.28 9.76]\n",
    "#  [0.01 0.19 1.73 4.23 9.27]\n",
    "#  [0.88 4.29 4.97 7.32 7.99]\n",
    "#  [0.07 6.99 7.9  8.95 9.05]]"
   ]
  },
  {
   "cell_type": "code",
   "execution_count": 189,
   "metadata": {},
   "outputs": [
    {
     "data": {
      "text/plain": [
       "[array([5.17, 6.93, 8.25, 9.28, 9.76])]"
      ]
     },
     "execution_count": 189,
     "metadata": {},
     "output_type": "execute_result"
    }
   ],
   "source": [
    "# i=1\n",
    "[np.take(x[1], np.argsort(x[1]))]"
   ]
  },
  {
   "cell_type": "markdown",
   "metadata": {},
   "source": [
    "### numpy.lexsort()\n",
    "- `numpy.lexsort(keys[, axis=-1])` Perform an indirect stable sort using a sequence of keys.（使用键序列执行间接稳定排序。）\n",
    "\n",
    "如何将数据按照某一指标进行排序呢？\n",
    "\n",
    "- 给定多个可以在电子表格中解释为列的排序键，lexsort返回一个整数索引数组，该数组描述了按多个列排序的顺序。序列中的最后一个键用于主排序顺序，倒数第二个键用于辅助排序顺序，依此类推。keys参数必须是可以转换为相同形状的数组的对象序列。如果为keys参数提供了2D数组，则将其行解释为排序键，并根据最后一行，倒数第二行等进行排序。\n",
    "\n",
    "\n",
    "\n",
    "【例】按照第一列的升序或者降序对整体数据进行排序。\n"
   ]
  },
  {
   "cell_type": "markdown",
   "metadata": {},
   "source": [
    "```python\n",
    "import numpy as np\n",
    "\n",
    "np.random.seed(20200612)\n",
    "x = np.random.rand(5, 5) * 10\n",
    "x = np.around(x, 2)\n",
    "print(x)\n",
    "# [[2.32 7.54 9.78 1.73 6.22]\n",
    "#  [6.93 5.17 9.28 9.76 8.25]\n",
    "#  [0.01 4.23 0.19 1.73 9.27]\n",
    "#  [7.99 4.97 0.88 7.32 4.29]\n",
    "#  [9.05 0.07 8.95 7.9  6.99]]\n",
    "\n",
    "index = np.lexsort([x[:, 0]])\n",
    "print(index)\n",
    "# [2 0 1 3 4]\n",
    "\n",
    "y = x[index]\n",
    "print(y)\n",
    "# [[0.01 4.23 0.19 1.73 9.27]\n",
    "#  [2.32 7.54 9.78 1.73 6.22]\n",
    "#  [6.93 5.17 9.28 9.76 8.25]\n",
    "#  [7.99 4.97 0.88 7.32 4.29]\n",
    "#  [9.05 0.07 8.95 7.9  6.99]]\n",
    "\n",
    "index = np.lexsort([-1 * x[:, 0]])\n",
    "print(index)\n",
    "# [4 3 1 0 2]\n",
    "\n",
    "y = x[index]\n",
    "print(y)\n",
    "# [[9.05 0.07 8.95 7.9  6.99]\n",
    "#  [7.99 4.97 0.88 7.32 4.29]\n",
    "#  [6.93 5.17 9.28 9.76 8.25]\n",
    "#  [2.32 7.54 9.78 1.73 6.22]\n",
    "#  [0.01 4.23 0.19 1.73 9.27]]\n",
    "```\n",
    "\n",
    "【例】\n",
    "```python\n",
    "import numpy as np\n",
    "\n",
    "x = np.array([1, 5, 1, 4, 3, 4, 4])\n",
    "y = np.array([9, 4, 0, 4, 0, 2, 1])\n",
    "a = np.lexsort([x])\n",
    "b = np.lexsort([y])\n",
    "print(a)\n",
    "# [0 2 4 3 5 6 1]\n",
    "print(x[a])\n",
    "# [1 1 3 4 4 4 5]\n",
    "\n",
    "print(b)\n",
    "# [2 4 6 5 1 3 0]\n",
    "print(y[b])\n",
    "# [0 0 1 2 4 4 9]\n",
    "\n",
    "z = np.lexsort([y, x])\n",
    "print(z)\n",
    "# [2 0 4 6 5 3 1]\n",
    "print(x[z])\n",
    "# [1 1 3 4 4 4 5]\n",
    "\n",
    "z = np.lexsort([x, y])\n",
    "print(z)\n",
    "# [2 4 6 5 3 1 0]\n",
    "print(y[z])\n",
    "# [0 0 1 2 4 4 9]\n",
    "```"
   ]
  },
  {
   "cell_type": "code",
   "execution_count": 190,
   "metadata": {},
   "outputs": [
    {
     "name": "stdout",
     "output_type": "stream",
     "text": [
      "[[2.32 7.54 9.78 1.73 6.22]\n",
      " [6.93 5.17 9.28 9.76 8.25]\n",
      " [0.01 4.23 0.19 1.73 9.27]\n",
      " [7.99 4.97 0.88 7.32 4.29]\n",
      " [9.05 0.07 8.95 7.9  6.99]]\n"
     ]
    }
   ],
   "source": [
    "#【例】按照第一列的升序或者降序对整体数据进行排序。\n",
    "np.random.seed(20200612)\n",
    "x = np.random.rand(5, 5) * 10\n",
    "x = np.around(x, 2)\n",
    "print(x)\n",
    "# [[2.32 7.54 9.78 1.73 6.22]\n",
    "#  [6.93 5.17 9.28 9.76 8.25]\n",
    "#  [0.01 4.23 0.19 1.73 9.27]\n",
    "#  [7.99 4.97 0.88 7.32 4.29]\n",
    "#  [9.05 0.07 8.95 7.9  6.99]]"
   ]
  },
  {
   "cell_type": "code",
   "execution_count": 191,
   "metadata": {},
   "outputs": [
    {
     "name": "stdout",
     "output_type": "stream",
     "text": [
      "[2 0 1 3 4]\n"
     ]
    }
   ],
   "source": [
    "index = np.lexsort([x[:, 0]]) # 返回x的第一列排序后的索引\n",
    "print(index)\n",
    "# [2 0 1 3 4]"
   ]
  },
  {
   "cell_type": "code",
   "execution_count": 192,
   "metadata": {},
   "outputs": [
    {
     "name": "stdout",
     "output_type": "stream",
     "text": [
      "[[0.01 4.23 0.19 1.73 9.27]\n",
      " [2.32 7.54 9.78 1.73 6.22]\n",
      " [6.93 5.17 9.28 9.76 8.25]\n",
      " [7.99 4.97 0.88 7.32 4.29]\n",
      " [9.05 0.07 8.95 7.9  6.99]]\n"
     ]
    }
   ],
   "source": [
    "y = x[index]# 将x的行向量按第一列的值的大小顺序重新排序--行向量没变,只是(按照x第一列的值的大小顺序)交换了顺序\n",
    "print(y)\n",
    "# [[0.01 4.23 0.19 1.73 9.27]\n",
    "#  [2.32 7.54 9.78 1.73 6.22]\n",
    "#  [6.93 5.17 9.28 9.76 8.25]\n",
    "#  [7.99 4.97 0.88 7.32 4.29]\n",
    "#  [9.05 0.07 8.95 7.9  6.99]]"
   ]
  },
  {
   "cell_type": "code",
   "execution_count": 193,
   "metadata": {},
   "outputs": [
    {
     "name": "stdout",
     "output_type": "stream",
     "text": [
      "[4 3 1 0 2]\n"
     ]
    }
   ],
   "source": [
    "index = np.lexsort([-1 * x[:, 0]]) # 倒序\n",
    "print(index)\n",
    "# [4 3 1 0 2]"
   ]
  },
  {
   "cell_type": "code",
   "execution_count": 194,
   "metadata": {},
   "outputs": [
    {
     "name": "stdout",
     "output_type": "stream",
     "text": [
      "[[9.05 0.07 8.95 7.9  6.99]\n",
      " [7.99 4.97 0.88 7.32 4.29]\n",
      " [6.93 5.17 9.28 9.76 8.25]\n",
      " [2.32 7.54 9.78 1.73 6.22]\n",
      " [0.01 4.23 0.19 1.73 9.27]]\n"
     ]
    }
   ],
   "source": [
    "y = x[index]\n",
    "print(y)\n",
    "# [[9.05 0.07 8.95 7.9  6.99]\n",
    "#  [7.99 4.97 0.88 7.32 4.29]\n",
    "#  [6.93 5.17 9.28 9.76 8.25]\n",
    "#  [2.32 7.54 9.78 1.73 6.22]\n",
    "#  [0.01 4.23 0.19 1.73 9.27]]"
   ]
  },
  {
   "cell_type": "code",
   "execution_count": 195,
   "metadata": {},
   "outputs": [
    {
     "name": "stdout",
     "output_type": "stream",
     "text": [
      "[0 2 4 3 5 6 1]\n",
      "[1 1 3 4 4 4 5]\n"
     ]
    }
   ],
   "source": [
    "#【例】\n",
    "x = np.array([1, 5, 1, 4, 3, 4, 4])\n",
    "a = np.lexsort([x])\n",
    "print(a)# [0 2 4 3 5 6 1]\n",
    "print(x[a])# [1 1 3 4 4 4 5]"
   ]
  },
  {
   "cell_type": "code",
   "execution_count": 196,
   "metadata": {},
   "outputs": [
    {
     "name": "stdout",
     "output_type": "stream",
     "text": [
      "[2 4 6 5 1 3 0]\n",
      "[0 0 1 2 4 4 9]\n"
     ]
    }
   ],
   "source": [
    "y = np.array([9, 4, 0, 4, 0, 2, 1])\n",
    "b = np.lexsort([y])\n",
    "print(b)# [2 4 6 5 1 3 0]\n",
    "print(y[b])# [0 0 1 2 4 4 9]"
   ]
  },
  {
   "cell_type": "code",
   "execution_count": 197,
   "metadata": {},
   "outputs": [
    {
     "name": "stdout",
     "output_type": "stream",
     "text": [
      "[2 0 4 6 5 3 1]\n",
      "[1 1 3 4 4 4 5]\n"
     ]
    }
   ],
   "source": [
    "z = np.lexsort([y, x]) ## Sort by x, then by y\n",
    "print(z)# [2 0 4 6 5 3 1]\n",
    "print(x[z])# [1 1 3 4 4 4 5]"
   ]
  },
  {
   "cell_type": "code",
   "execution_count": 198,
   "metadata": {},
   "outputs": [
    {
     "data": {
      "text/plain": [
       "[array([9, 4, 0, 4, 0, 2, 1]), array([1, 5, 1, 4, 3, 4, 4])]"
      ]
     },
     "execution_count": 198,
     "metadata": {},
     "output_type": "execute_result"
    }
   ],
   "source": [
    "[y,x]"
   ]
  },
  {
   "cell_type": "code",
   "execution_count": 199,
   "metadata": {},
   "outputs": [
    {
     "data": {
      "text/plain": [
       "\u001b[1;31mDocstring:\u001b[0m\n",
       "lexsort(keys, axis=-1)\n",
       "\n",
       "Perform an indirect stable sort using a sequence of keys.\n",
       "\n",
       "Given multiple sorting keys, which can be interpreted as columns in a\n",
       "spreadsheet, lexsort returns an array of integer indices that describes\n",
       "the sort order by multiple columns. The last key in the sequence is used\n",
       "for the primary sort order, the second-to-last key for the secondary sort\n",
       "order, and so on. The keys argument must be a sequence of objects that\n",
       "can be converted to arrays of the same shape. If a 2D array is provided\n",
       "for the keys argument, it's rows are interpreted as the sorting keys and\n",
       "sorting is according to the last row, second last row etc.\n",
       "\n",
       "Parameters\n",
       "----------\n",
       "keys : (k, N) array or tuple containing k (N,)-shaped sequences\n",
       "    The `k` different \"columns\" to be sorted.  The last column (or row if\n",
       "    `keys` is a 2D array) is the primary sort key.\n",
       "axis : int, optional\n",
       "    Axis to be indirectly sorted.  By default, sort over the last axis.\n",
       "\n",
       "Returns\n",
       "-------\n",
       "indices : (N,) ndarray of ints\n",
       "    Array of indices that sort the keys along the specified axis.\n",
       "\n",
       "See Also\n",
       "--------\n",
       "argsort : Indirect sort.\n",
       "ndarray.sort : In-place sort.\n",
       "sort : Return a sorted copy of an array.\n",
       "\n",
       "Examples\n",
       "--------\n",
       "Sort names: first by surname, then by name.\n",
       "\n",
       ">>> surnames =    ('Hertz',    'Galilei', 'Hertz')\n",
       ">>> first_names = ('Heinrich', 'Galileo', 'Gustav')\n",
       ">>> ind = np.lexsort((first_names, surnames))\n",
       ">>> ind\n",
       "array([1, 2, 0])\n",
       "\n",
       ">>> [surnames[i] + \", \" + first_names[i] for i in ind]\n",
       "['Galilei, Galileo', 'Hertz, Gustav', 'Hertz, Heinrich']\n",
       "\n",
       "Sort two columns of numbers:\n",
       "\n",
       ">>> a = [1,5,1,4,3,4,4] # First column\n",
       ">>> b = [9,4,0,4,0,2,1] # Second column\n",
       ">>> ind = np.lexsort((b,a)) # Sort by a, then by b\n",
       ">>> ind\n",
       "array([2, 0, 4, 6, 5, 3, 1])\n",
       "\n",
       ">>> [(a[i],b[i]) for i in ind]\n",
       "[(1, 0), (1, 9), (3, 0), (4, 1), (4, 2), (4, 4), (5, 4)]\n",
       "\n",
       "Note that sorting is first according to the elements of ``a``.\n",
       "Secondary sorting is according to the elements of ``b``.\n",
       "\n",
       "A normal ``argsort`` would have yielded:\n",
       "\n",
       ">>> [(a[i],b[i]) for i in np.argsort(a)]\n",
       "[(1, 9), (1, 0), (3, 0), (4, 4), (4, 2), (4, 1), (5, 4)]\n",
       "\n",
       "Structured arrays are sorted lexically by ``argsort``:\n",
       "\n",
       ">>> x = np.array([(1,9), (5,4), (1,0), (4,4), (3,0), (4,2), (4,1)],\n",
       "...              dtype=np.dtype([('x', int), ('y', int)]))\n",
       "\n",
       ">>> np.argsort(x) # or np.argsort(x, order=('x', 'y'))\n",
       "array([2, 0, 4, 6, 5, 3, 1])\n",
       "\u001b[1;31mType:\u001b[0m      function\n"
      ]
     },
     "metadata": {},
     "output_type": "display_data"
    }
   ],
   "source": [
    "np.lexsort??"
   ]
  },
  {
   "cell_type": "code",
   "execution_count": 200,
   "metadata": {},
   "outputs": [
    {
     "name": "stdout",
     "output_type": "stream",
     "text": [
      "[2 4 6 5 3 1 0]\n",
      "[0 0 1 2 4 4 9]\n"
     ]
    }
   ],
   "source": [
    "z = np.lexsort([x, y])\n",
    "print(z)# [2 4 6 5 3 1 0]\n",
    "print(y[z])# [0 0 1 2 4 4 9]"
   ]
  },
  {
   "cell_type": "markdown",
   "metadata": {},
   "source": [
    "### numpy.partition()\n",
    "- `numpy.partition(a, kth, axis=-1, kind='introselect', order=None)` Return a partitioned copy of an array.\n",
    "\n",
    "Creates a copy of the array with its elements rearranged in such a way that the value of the element in k-th position is in the position it would be in a sorted array. All elements smaller than the k-th element are moved before this element and all equal or greater are moved behind it. The ordering of the elements in the two partitions is undefined.\n",
    "\n",
    "\n",
    "【例】以索引是 kth 的元素为基准，将元素分成两部分，即大于该元素的放在其后面，小于该元素的放在其前面，这里有点类似于快排。"
   ]
  },
  {
   "cell_type": "markdown",
   "metadata": {},
   "source": [
    "```python\n",
    "import numpy as np\n",
    "\n",
    "np.random.seed(100)\n",
    "x = np.random.randint(1, 30, [8, 3])\n",
    "print(x)\n",
    "# [[ 9 25  4]\n",
    "#  [ 8 24 16]\n",
    "#  [17 11 21]\n",
    "#  [ 3 22  3]\n",
    "#  [ 3 15  3]\n",
    "#  [18 17 25]\n",
    "#  [16  5 12]\n",
    "#  [29 27 17]]\n",
    "\n",
    "y = np.sort(x, axis=0)\n",
    "print(y)\n",
    "# [[ 3  5  3]\n",
    "#  [ 3 11  3]\n",
    "#  [ 8 15  4]\n",
    "#  [ 9 17 12]\n",
    "#  [16 22 16]\n",
    "#  [17 24 17]\n",
    "#  [18 25 21]\n",
    "#  [29 27 25]]\n",
    "\n",
    "z = np.partition(x, kth=2, axis=0)\n",
    "print(z)\n",
    "# [[ 3  5  3]\n",
    "#  [ 3 11  3]\n",
    "#  [ 8 15  4]\n",
    "#  [ 9 22 21]\n",
    "#  [17 24 16]\n",
    "#  [18 17 25]\n",
    "#  [16 25 12]\n",
    "#  [29 27 17]]\n",
    "```\n",
    "【例】选取每一列第三小的数\n",
    "\n",
    "```python\n",
    "import numpy as np\n",
    "\n",
    "np.random.seed(100)\n",
    "x = np.random.randint(1, 30, [8, 3])\n",
    "print(x)\n",
    "# [[ 9 25  4]\n",
    "#  [ 8 24 16]\n",
    "#  [17 11 21]\n",
    "#  [ 3 22  3]\n",
    "#  [ 3 15  3]\n",
    "#  [18 17 25]\n",
    "#  [16  5 12]\n",
    "#  [29 27 17]]\n",
    "z = np.partition(x, kth=2, axis=0)\n",
    "print(z[2])\n",
    "# [ 8 15  4]\n",
    "```\n",
    "\n",
    "【例】选取每一列第三大的数据\n",
    "\n",
    "```python\n",
    "import numpy as np\n",
    "\n",
    "np.random.seed(100)\n",
    "x = np.random.randint(1, 30, [8, 3])\n",
    "print(x)\n",
    "# [[ 9 25  4]\n",
    "#  [ 8 24 16]\n",
    "#  [17 11 21]\n",
    "#  [ 3 22  3]\n",
    "#  [ 3 15  3]\n",
    "#  [18 17 25]\n",
    "#  [16  5 12]\n",
    "#  [29 27 17]]\n",
    "z = np.partition(x, kth=-3, axis=0)\n",
    "print(z[-3])\n",
    "# [17 24 17]\n",
    "```"
   ]
  },
  {
   "cell_type": "code",
   "execution_count": 201,
   "metadata": {},
   "outputs": [
    {
     "name": "stdout",
     "output_type": "stream",
     "text": [
      "[[ 7 12 11]\n",
      " [18 16 25]\n",
      " [22 22  5]\n",
      " [14 18 14]\n",
      " [ 3 10 11]\n",
      " [28 18 13]\n",
      " [29 21 13]\n",
      " [ 2 20 15]]\n"
     ]
    }
   ],
   "source": [
    "#【例】以索引是 kth 的元素为基准，将元素分成两部分，即大于该元素的放在其后面，小于该元素的放在其前面，这里有点类似于快排。\n",
    "np.random.seed(20200612) # 修改seed以测试其他值的情形\n",
    "x = np.random.randint(1, 30, [8, 3])\n",
    "print(x)"
   ]
  },
  {
   "cell_type": "code",
   "execution_count": 202,
   "metadata": {},
   "outputs": [
    {
     "name": "stdout",
     "output_type": "stream",
     "text": [
      "[[ 2 10  5]\n",
      " [ 3 12 11]\n",
      " [ 7 16 11]\n",
      " [14 18 13]\n",
      " [18 18 13]\n",
      " [22 20 14]\n",
      " [28 21 15]\n",
      " [29 22 25]]\n"
     ]
    }
   ],
   "source": [
    "y = np.sort(x, axis=0)\n",
    "print(y)"
   ]
  },
  {
   "cell_type": "code",
   "execution_count": 203,
   "metadata": {},
   "outputs": [
    {
     "name": "stdout",
     "output_type": "stream",
     "text": [
      "[[ 3 10  5]\n",
      " [ 2 12 11]\n",
      " [ 7 16 11]\n",
      " [14 18 13]\n",
      " [18 18 13]\n",
      " [22 22 14]\n",
      " [29 21 25]\n",
      " [28 20 15]]\n"
     ]
    }
   ],
   "source": [
    "z = np.partition(x, kth=3, axis=0) #多次反复执行会发现,上下两部分并不会严格排序,但上边的肯定小于 第三行, 下边的肯定大于第三行\n",
    "print(z)"
   ]
  },
  {
   "cell_type": "code",
   "execution_count": 204,
   "metadata": {},
   "outputs": [
    {
     "name": "stdout",
     "output_type": "stream",
     "text": [
      "[[ 9 25  4]\n",
      " [ 8 24 16]\n",
      " [17 11 21]\n",
      " [ 3 22  3]\n",
      " [ 3 15  3]\n",
      " [18 17 25]\n",
      " [16  5 12]\n",
      " [29 27 17]]\n"
     ]
    }
   ],
   "source": [
    "#【例】选取每一列第三小的数\n",
    "np.random.seed(100)\n",
    "x = np.random.randint(1, 30, [8, 3])\n",
    "print(x)\n",
    "# [[ 9 25  4]\n",
    "#  [ 8 24 16]\n",
    "#  [17 11 21]\n",
    "#  [ 3 22  3]\n",
    "#  [ 3 15  3]\n",
    "#  [18 17 25]\n",
    "#  [16  5 12]\n",
    "#  [29 27 17]]"
   ]
  },
  {
   "cell_type": "code",
   "execution_count": 205,
   "metadata": {},
   "outputs": [
    {
     "name": "stdout",
     "output_type": "stream",
     "text": [
      "[[ 3  5  3]\n",
      " [ 3 11  3]\n",
      " [ 8 15  4]\n",
      " [ 9 22 21]\n",
      " [17 24 16]\n",
      " [18 17 25]\n",
      " [16 25 12]\n",
      " [29 27 17]]\n"
     ]
    }
   ],
   "source": [
    "z = np.partition(x, kth=2, axis=0)\n",
    "print(z)"
   ]
  },
  {
   "cell_type": "code",
   "execution_count": 206,
   "metadata": {},
   "outputs": [
    {
     "name": "stdout",
     "output_type": "stream",
     "text": [
      "[ 8 15  4]\n"
     ]
    }
   ],
   "source": [
    "z = np.partition(x, kth=2, axis=0)\n",
    "print(z[2])# [ 8 15  4]"
   ]
  },
  {
   "cell_type": "code",
   "execution_count": 207,
   "metadata": {},
   "outputs": [
    {
     "name": "stdout",
     "output_type": "stream",
     "text": [
      "[[ 9 25  4]\n",
      " [ 8 24 16]\n",
      " [17 11 21]\n",
      " [ 3 22  3]\n",
      " [ 3 15  3]\n",
      " [18 17 25]\n",
      " [16  5 12]\n",
      " [29 27 17]]\n"
     ]
    }
   ],
   "source": [
    "#【例】选取每一列第三大的数据\n",
    "np.random.seed(100)\n",
    "x = np.random.randint(1, 30, [8, 3])\n",
    "print(x)\n",
    "# [[ 9 25  4]\n",
    "#  [ 8 24 16]\n",
    "#  [17 11 21]\n",
    "#  [ 3 22  3]\n",
    "#  [ 3 15  3]\n",
    "#  [18 17 25]\n",
    "#  [16  5 12]\n",
    "#  [29 27 17]]"
   ]
  },
  {
   "cell_type": "code",
   "execution_count": 208,
   "metadata": {},
   "outputs": [
    {
     "name": "stdout",
     "output_type": "stream",
     "text": [
      "[17 24 17]\n"
     ]
    }
   ],
   "source": [
    "z = np.partition(x, kth=-3, axis=0)\n",
    "print(z[-3])\n",
    "# [17 24 17]"
   ]
  },
  {
   "cell_type": "markdown",
   "metadata": {},
   "source": [
    "### numpy.argpartition()\n",
    "\n",
    "- `numpy.argpartition(a, kth, axis=-1, kind='introselect', order=None)`\n",
    "\n",
    "Perform an indirect partition along the given axis using the algorithm specified by the `kind` keyword. It returns an array of indices of the same shape as `a` that index data along the given axis in partitioned order."
   ]
  },
  {
   "cell_type": "markdown",
   "metadata": {},
   "source": [
    "【例】\n",
    "\n",
    "```python\n",
    "import numpy as np\n",
    "\n",
    "np.random.seed(100)\n",
    "x = np.random.randint(1, 30, [8, 3])\n",
    "print(x)\n",
    "# [[ 9 25  4]\n",
    "#  [ 8 24 16]\n",
    "#  [17 11 21]\n",
    "#  [ 3 22  3]\n",
    "#  [ 3 15  3]\n",
    "#  [18 17 25]\n",
    "#  [16  5 12]\n",
    "#  [29 27 17]]\n",
    "\n",
    "y = np.argsort(x, axis=0)\n",
    "print(y)\n",
    "# [[3 6 3]\n",
    "#  [4 2 4]\n",
    "#  [1 4 0]\n",
    "#  [0 5 6]\n",
    "#  [6 3 1]\n",
    "#  [2 1 7]\n",
    "#  [5 0 2]\n",
    "#  [7 7 5]]\n",
    "\n",
    "z = np.argpartition(x, kth=2, axis=0)\n",
    "print(z)\n",
    "# [[3 6 3]\n",
    "#  [4 2 4]\n",
    "#  [1 4 0]\n",
    "#  [0 3 2]\n",
    "#  [2 1 1]\n",
    "#  [5 5 5]\n",
    "#  [6 0 6]\n",
    "#  [7 7 7]]\n",
    "```\n",
    "\n",
    "【例】选取每一列第三小的数的索引\n",
    "\n",
    "```python\n",
    "import numpy as np\n",
    "\n",
    "np.random.seed(100)\n",
    "x = np.random.randint(1, 30, [8, 3])\n",
    "print(x)\n",
    "# [[ 9 25  4]\n",
    "#  [ 8 24 16]\n",
    "#  [17 11 21]\n",
    "#  [ 3 22  3]\n",
    "#  [ 3 15  3]\n",
    "#  [18 17 25]\n",
    "#  [16  5 12]\n",
    "#  [29 27 17]]\n",
    "\n",
    "z = np.argpartition(x, kth=2, axis=0)\n",
    "print(z[2])\n",
    "# [1 4 0]\n",
    "```\n",
    "\n",
    "【例】选取每一列第三大的数的索引\n",
    "```python\n",
    "import numpy as np\n",
    "\n",
    "np.random.seed(100)\n",
    "x = np.random.randint(1, 30, [8, 3])\n",
    "print(x)\n",
    "# [[ 9 25  4]\n",
    "#  [ 8 24 16]\n",
    "#  [17 11 21]\n",
    "#  [ 3 22  3]\n",
    "#  [ 3 15  3]\n",
    "#  [18 17 25]\n",
    "#  [16  5 12]\n",
    "#  [29 27 17]]\n",
    "\n",
    "z = np.argpartition(x, kth=-3, axis=0)\n",
    "print(z[-3])\n",
    "# [2 1 7]\n",
    "```"
   ]
  },
  {
   "cell_type": "code",
   "execution_count": 209,
   "metadata": {},
   "outputs": [
    {
     "name": "stdout",
     "output_type": "stream",
     "text": [
      "[[ 9 25  4]\n",
      " [ 8 24 16]\n",
      " [17 11 21]\n",
      " [ 3 22  3]\n",
      " [ 3 15  3]\n",
      " [18 17 25]\n",
      " [16  5 12]\n",
      " [29 27 17]]\n"
     ]
    }
   ],
   "source": [
    "#【例】\n",
    "np.random.seed(100)\n",
    "x = np.random.randint(1, 30, [8, 3])\n",
    "print(x)\n",
    "# [[ 9 25  4]\n",
    "#  [ 8 24 16]\n",
    "#  [17 11 21]\n",
    "#  [ 3 22  3]\n",
    "#  [ 3 15  3]\n",
    "#  [18 17 25]\n",
    "#  [16  5 12]\n",
    "#  [29 27 17]]"
   ]
  },
  {
   "cell_type": "code",
   "execution_count": 210,
   "metadata": {},
   "outputs": [
    {
     "name": "stdout",
     "output_type": "stream",
     "text": [
      "[[3 6 3]\n",
      " [4 2 4]\n",
      " [1 4 0]\n",
      " [0 5 6]\n",
      " [6 3 1]\n",
      " [2 1 7]\n",
      " [5 0 2]\n",
      " [7 7 5]]\n"
     ]
    }
   ],
   "source": [
    "y = np.argsort(x, axis=0) # 返回的是值从小到大排序的原始索引\n",
    "print(y)\n",
    "# [[3 6 3]\n",
    "#  [4 2 4]\n",
    "#  [1 4 0]\n",
    "#  [0 5 6]\n",
    "#  [6 3 1]\n",
    "#  [2 1 7]\n",
    "#  [5 0 2]\n",
    "#  [7 7 5]]"
   ]
  },
  {
   "cell_type": "code",
   "execution_count": 211,
   "metadata": {},
   "outputs": [
    {
     "name": "stdout",
     "output_type": "stream",
     "text": [
      "[[3 6 3]\n",
      " [4 2 4]\n",
      " [1 4 0]\n",
      " [0 3 2]\n",
      " [2 1 1]\n",
      " [5 5 5]\n",
      " [6 0 6]\n",
      " [7 7 7]]\n"
     ]
    }
   ],
   "source": [
    "z = np.argpartition(x, kth=2, axis=0)#按第三大的值将矩阵分为上下两个部分\n",
    "print(z)\n",
    "# [[3 6 3]\n",
    "#  [4 2 4]\n",
    "#  [1 4 0]\n",
    "#  [0 3 2]\n",
    "#  [2 1 1]\n",
    "#  [5 5 5]\n",
    "#  [6 0 6]\n",
    "#  [7 7 7]]"
   ]
  },
  {
   "cell_type": "code",
   "execution_count": 212,
   "metadata": {},
   "outputs": [
    {
     "name": "stdout",
     "output_type": "stream",
     "text": [
      "[[ 9 25  4]\n",
      " [ 8 24 16]\n",
      " [17 11 21]\n",
      " [ 3 22  3]\n",
      " [ 3 15  3]\n",
      " [18 17 25]\n",
      " [16  5 12]\n",
      " [29 27 17]]\n"
     ]
    }
   ],
   "source": [
    "#【例】选取每一列第三小的数的索引\n",
    "np.random.seed(100)\n",
    "x = np.random.randint(1, 30, [8, 3])\n",
    "print(x)\n",
    "# [[ 9 25  4]\n",
    "#  [ 8 24 16]\n",
    "#  [17 11 21]\n",
    "#  [ 3 22  3]\n",
    "#  [ 3 15  3]\n",
    "#  [18 17 25]\n",
    "#  [16  5 12]\n",
    "#  [29 27 17]]"
   ]
  },
  {
   "cell_type": "code",
   "execution_count": 213,
   "metadata": {},
   "outputs": [
    {
     "name": "stdout",
     "output_type": "stream",
     "text": [
      "[1 4 0]\n"
     ]
    }
   ],
   "source": [
    "z = np.argpartition(x, kth=2, axis=0)\n",
    "print(z[2])\n",
    "# [1 4 0]"
   ]
  },
  {
   "cell_type": "code",
   "execution_count": 214,
   "metadata": {},
   "outputs": [
    {
     "name": "stdout",
     "output_type": "stream",
     "text": [
      "[[ 9 25  4]\n",
      " [ 8 24 16]\n",
      " [17 11 21]\n",
      " [ 3 22  3]\n",
      " [ 3 15  3]\n",
      " [18 17 25]\n",
      " [16  5 12]\n",
      " [29 27 17]]\n"
     ]
    }
   ],
   "source": [
    "#【例】选取每一列第三大的数的索引\n",
    "np.random.seed(100)\n",
    "x = np.random.randint(1, 30, [8, 3])\n",
    "print(x)\n",
    "# [[ 9 25  4]\n",
    "#  [ 8 24 16]\n",
    "#  [17 11 21]\n",
    "#  [ 3 22  3]\n",
    "#  [ 3 15  3]\n",
    "#  [18 17 25]\n",
    "#  [16  5 12]\n",
    "#  [29 27 17]]"
   ]
  },
  {
   "cell_type": "code",
   "execution_count": 215,
   "metadata": {},
   "outputs": [
    {
     "name": "stdout",
     "output_type": "stream",
     "text": [
      "[2 1 7]\n"
     ]
    }
   ],
   "source": [
    "z = np.argpartition(x, kth=-3, axis=0)\n",
    "print(z[-3])\n",
    "# [2 1 7]"
   ]
  },
  {
   "cell_type": "markdown",
   "metadata": {},
   "source": [
    "## 搜索"
   ]
  },
  {
   "cell_type": "markdown",
   "metadata": {},
   "source": [
    "### numpy.argmax()\n",
    "- `numpy.argmax(a[, axis=None, out=None])`Returns the indices of the maximum values along an axis."
   ]
  },
  {
   "cell_type": "markdown",
   "metadata": {},
   "source": [
    "【例】\n",
    "```python\n",
    "import numpy as np\n",
    "\n",
    "np.random.seed(20200612)\n",
    "x = np.random.rand(5, 5) * 10\n",
    "x = np.around(x, 2)\n",
    "print(x)\n",
    "# [[2.32 7.54 9.78 1.73 6.22]\n",
    "#  [6.93 5.17 9.28 9.76 8.25]\n",
    "#  [0.01 4.23 0.19 1.73 9.27]\n",
    "#  [7.99 4.97 0.88 7.32 4.29]\n",
    "#  [9.05 0.07 8.95 7.9  6.99]]\n",
    "\n",
    "y = np.argmax(x)\n",
    "print(y)  # 2\n",
    "\n",
    "y = np.argmax(x, axis=0)\n",
    "print(y)\n",
    "# [4 0 0 1 2]\n",
    "\n",
    "y = np.argmax(x, axis=1)\n",
    "print(y)\n",
    "# [2 3 4 0 0]\n",
    "```"
   ]
  },
  {
   "cell_type": "code",
   "execution_count": 216,
   "metadata": {},
   "outputs": [
    {
     "name": "stdout",
     "output_type": "stream",
     "text": [
      "[[ 2.  8. 10.  2.  6.]\n",
      " [ 7.  5.  9. 10.  8.]\n",
      " [ 0.  4.  0.  2.  9.]\n",
      " [ 8.  5.  1.  7.  4.]\n",
      " [ 9.  0.  9.  8.  7.]]\n"
     ]
    }
   ],
   "source": [
    "#【例】\n",
    "np.random.seed(20200612)\n",
    "x = np.random.rand(5, 5) * 10\n",
    "#x = np.around(x, 2)\n",
    "x = np.around(x, 0)\n",
    "print(x)\n",
    "# [[2.32 7.54 9.78 1.73 6.22]\n",
    "#  [6.93 5.17 9.28 9.76 8.25]\n",
    "#  [0.01 4.23 0.19 1.73 9.27]\n",
    "#  [7.99 4.97 0.88 7.32 4.29]\n",
    "#  [9.05 0.07 8.95 7.9  6.99]]"
   ]
  },
  {
   "cell_type": "code",
   "execution_count": 217,
   "metadata": {},
   "outputs": [
    {
     "name": "stdout",
     "output_type": "stream",
     "text": [
      "2\n"
     ]
    }
   ],
   "source": [
    "y = np.argmax(x)#应该返回的是具有最大模的行向量的索引吧? --是列 --也不是列, 是将y作为行向量的最大的值的索引\n",
    "print(y)  # 2"
   ]
  },
  {
   "cell_type": "code",
   "execution_count": 218,
   "metadata": {},
   "outputs": [
    {
     "name": "stdout",
     "output_type": "stream",
     "text": [
      "[array([ 2.,  8., 10.,  2.,  6.]), array([ 7.,  5.,  9., 10.,  8.]), array([0., 4., 0., 2., 9.]), array([8., 5., 1., 7., 4.]), array([9., 0., 9., 8., 7.])]\n"
     ]
    },
    {
     "data": {
      "text/plain": [
       "[14.422205101855956,\n",
       " 17.86057109949175,\n",
       " 10.04987562112089,\n",
       " 12.449899597988733,\n",
       " 16.583123951777]"
      ]
     },
     "execution_count": 218,
     "metadata": {},
     "output_type": "execute_result"
    }
   ],
   "source": [
    "from numpy import linalg as LA\n",
    "print([i for i in x])\n",
    "[LA.norm(i) for i in x]"
   ]
  },
  {
   "cell_type": "code",
   "execution_count": 219,
   "metadata": {},
   "outputs": [
    {
     "name": "stdout",
     "output_type": "stream",
     "text": [
      "[array([2., 7., 0., 8., 9.]), array([8., 5., 4., 5., 0.]), array([10.,  9.,  0.,  1.,  9.]), array([ 2., 10.,  2.,  7.,  8.]), array([6., 8., 9., 4., 7.])]\n"
     ]
    },
    {
     "data": {
      "text/plain": [
       "[14.071247279470288,\n",
       " 11.40175425099138,\n",
       " 16.217274740226856,\n",
       " 14.866068747318506,\n",
       " 15.684387141358123]"
      ]
     },
     "execution_count": 219,
     "metadata": {},
     "output_type": "execute_result"
    }
   ],
   "source": [
    "from numpy import linalg as LA\n",
    "print([i for i in x.T])\n",
    "[LA.norm(i) for i in x.T]"
   ]
  },
  {
   "cell_type": "code",
   "execution_count": 220,
   "metadata": {},
   "outputs": [
    {
     "name": "stdout",
     "output_type": "stream",
     "text": [
      "[4 0 0 1 2]\n"
     ]
    }
   ],
   "source": [
    "y = np.argmax(x, axis=0)#返回每一列的最大值对应的行索引\n",
    "print(y)# [4 0 0 1 2]"
   ]
  },
  {
   "cell_type": "code",
   "execution_count": 221,
   "metadata": {},
   "outputs": [
    {
     "name": "stdout",
     "output_type": "stream",
     "text": [
      "[2 3 4 0 0]\n"
     ]
    }
   ],
   "source": [
    "y = np.argmax(x, axis=1)#返回每一行的最大值对应的列索引\n",
    "print(y)# [2 3 4 0 0]"
   ]
  },
  {
   "cell_type": "markdown",
   "metadata": {},
   "source": [
    "### numpy.argmin()\n",
    "- `numpy.argmin(a[, axis=None, out=None])`Returns the indices of the minimum values along an axis."
   ]
  },
  {
   "cell_type": "markdown",
   "metadata": {},
   "source": [
    "【例】\n",
    "```python\n",
    "import numpy as np\n",
    "\n",
    "np.random.seed(20200612)\n",
    "x = np.random.rand(5, 5) * 10\n",
    "x = np.around(x, 2)\n",
    "print(x)\n",
    "# [[2.32 7.54 9.78 1.73 6.22]\n",
    "#  [6.93 5.17 9.28 9.76 8.25]\n",
    "#  [0.01 4.23 0.19 1.73 9.27]\n",
    "#  [7.99 4.97 0.88 7.32 4.29]\n",
    "#  [9.05 0.07 8.95 7.9  6.99]]\n",
    "\n",
    "y = np.argmin(x)\n",
    "print(y)  # 10\n",
    "\n",
    "y = np.argmin(x, axis=0)\n",
    "print(y)\n",
    "# [2 4 2 0 3]\n",
    "\n",
    "y = np.argmin(x, axis=1)\n",
    "print(y)\n",
    "# [3 1 0 2 1]\n",
    "```"
   ]
  },
  {
   "cell_type": "code",
   "execution_count": 222,
   "metadata": {},
   "outputs": [
    {
     "name": "stdout",
     "output_type": "stream",
     "text": [
      "[[2.32 7.54 9.78 1.73 6.22]\n",
      " [6.93 5.17 9.28 9.76 8.25]\n",
      " [0.01 4.23 0.19 1.73 9.27]\n",
      " [7.99 4.97 0.88 7.32 4.29]\n",
      " [9.05 0.07 8.95 7.9  6.99]]\n"
     ]
    }
   ],
   "source": [
    "#【例】\n",
    "np.random.seed(20200612)\n",
    "x = np.random.rand(5, 5) * 10\n",
    "x = np.around(x, 2)\n",
    "print(x)\n",
    "# [[2.32 7.54 9.78 1.73 6.22]\n",
    "#  [6.93 5.17 9.28 9.76 8.25]\n",
    "#  [0.01 4.23 0.19 1.73 9.27]\n",
    "#  [7.99 4.97 0.88 7.32 4.29]\n",
    "#  [9.05 0.07 8.95 7.9  6.99]]"
   ]
  },
  {
   "cell_type": "code",
   "execution_count": 223,
   "metadata": {},
   "outputs": [
    {
     "name": "stdout",
     "output_type": "stream",
     "text": [
      "10\n"
     ]
    }
   ],
   "source": [
    "y = np.argmin(x)\n",
    "print(y)  # 10"
   ]
  },
  {
   "cell_type": "code",
   "execution_count": 224,
   "metadata": {},
   "outputs": [
    {
     "name": "stdout",
     "output_type": "stream",
     "text": [
      "[2 4 2 0 3]\n"
     ]
    }
   ],
   "source": [
    "y = np.argmin(x, axis=0)\n",
    "print(y)\n",
    "# [2 4 2 0 3]"
   ]
  },
  {
   "cell_type": "code",
   "execution_count": 225,
   "metadata": {},
   "outputs": [
    {
     "name": "stdout",
     "output_type": "stream",
     "text": [
      "[3 1 0 2 1]\n"
     ]
    }
   ],
   "source": [
    "y = np.argmin(x, axis=1)\n",
    "print(y)\n",
    "# [3 1 0 2 1]"
   ]
  },
  {
   "cell_type": "markdown",
   "metadata": {},
   "source": [
    "### numppy.nonzero()\n",
    "\n",
    "- `numppy.nonzero(a)` Return the indices of the elements that are non-zero.\n",
    "\n",
    "，其值为非零元素的下标在对应轴上的值。\n",
    "\n",
    "1. 只有`a`中非零元素才会有索引值，那些零值元素没有索引值。\n",
    "2. 返回一个长度为`a.ndim`的元组（tuple），元组的每个元素都是一个整数数组（array）。\n",
    "3. 每一个array均是从一个维度上来描述其索引值。比如，如果`a`是一个二维数组，则tuple包含两个array，第一个array从行维度来描述索引值；第二个array从列维度来描述索引值。\n",
    "4. 该 `np.transpose(np.nonzero(x))` 函数能够描述出每一个非零元素在不同维度的索引值。\n",
    "5. 通过`a[nonzero(a)]`得到所有`a`中的非零值。"
   ]
  },
  {
   "cell_type": "markdown",
   "metadata": {},
   "source": [
    "【例】一维数组\n",
    "```python\n",
    "import numpy as np\n",
    "\n",
    "x = np.array([0, 2, 3])\n",
    "print(x)  # [0 2 3]\n",
    "print(x.shape)  # (3,)\n",
    "print(x.ndim)  # 1\n",
    "\n",
    "y = np.nonzero(x)\n",
    "print(y)  # (array([1, 2], dtype=int64),)\n",
    "print(np.array(y))  # [[1 2]]\n",
    "print(np.array(y).shape)  # (1, 2)\n",
    "print(np.array(y).ndim)  # 2\n",
    "print(np.transpose(y))\n",
    "# [[1]\n",
    "#  [2]]\n",
    "print(x[np.nonzero(x)])\n",
    "#[2, 3]\n",
    "```\n",
    "\n",
    "【例】二维数组\n",
    "```python\n",
    "import numpy as np\n",
    "\n",
    "x = np.array([[3, 0, 0], [0, 4, 0], [5, 6, 0]])\n",
    "print(x)\n",
    "# [[3 0 0]\n",
    "#  [0 4 0]\n",
    "#  [5 6 0]]\n",
    "print(x.shape)  # (3, 3)\n",
    "print(x.ndim)  # 2\n",
    "\n",
    "y = np.nonzero(x)\n",
    "print(y)\n",
    "# (array([0, 1, 2, 2], dtype=int64), array([0, 1, 0, 1], dtype=int64))\n",
    "print(np.array(y))\n",
    "# [[0 1 2 2]\n",
    "#  [0 1 0 1]]\n",
    "print(np.array(y).shape)  # (2, 4)\n",
    "print(np.array(y).ndim)  # 2\n",
    "\n",
    "y = x[np.nonzero(x)]\n",
    "print(y)  # [3 4 5 6]\n",
    "\n",
    "y = np.transpose(np.nonzero(x))\n",
    "print(y)\n",
    "# [[0 0]\n",
    "#  [1 1]\n",
    "#  [2 0]\n",
    "#  [2 1]]\n",
    "```\n",
    "【例】三维数组\n",
    "```python\n",
    "import numpy as np\n",
    "\n",
    "x = np.array([[[0, 1], [1, 0]], [[0, 1], [1, 0]], [[0, 0], [1, 0]]])\n",
    "print(x)\n",
    "# [[[0 1]\n",
    "#   [1 0]]\n",
    "#\n",
    "#  [[0 1]\n",
    "#   [1 0]]\n",
    "#\n",
    "#  [[0 0]\n",
    "#   [1 0]]]\n",
    "print(np.shape(x))  # (3, 2, 2)\n",
    "print(x.ndim)  # 3\n",
    "\n",
    "y = np.nonzero(x)\n",
    "print(np.array(y))\n",
    "# [[0 0 1 1 2]\n",
    "#  [0 1 0 1 1]\n",
    "#  [1 0 1 0 0]]\n",
    "print(np.array(y).shape)  # (3, 5)\n",
    "print(np.array(y).ndim)  # 2\n",
    "print(y)\n",
    "# (array([0, 0, 1, 1, 2], dtype=int64), array([0, 1, 0, 1, 1], dtype=int64), array([1, 0, 1, 0, 0], dtype=int64))\n",
    "print(x[np.nonzero(x)])\n",
    "#[1 1 1 1 1]\n",
    "```\n",
    "\n",
    "【例】`nonzero()`将布尔数组转换成整数数组进行操作。\n",
    "```python\n",
    "import numpy as np\n",
    "\n",
    "x = np.array([[1, 2, 3], [4, 5, 6], [7, 8, 9]])\n",
    "print(x)\n",
    "# [[1 2 3]\n",
    "#  [4 5 6]\n",
    "#  [7 8 9]]\n",
    "\n",
    "y = x > 3\n",
    "print(y)\n",
    "# [[False False False]\n",
    "#  [ True  True  True]\n",
    "#  [ True  True  True]]\n",
    "\n",
    "y = np.nonzero(x > 3)\n",
    "print(y)\n",
    "# (array([1, 1, 1, 2, 2, 2], dtype=int64), array([0, 1, 2, 0, 1, 2], dtype=int64))\n",
    "\n",
    "y = x[np.nonzero(x > 3)]\n",
    "print(y)\n",
    "# [4 5 6 7 8 9]\n",
    "\n",
    "y = x[x > 3]\n",
    "print(y)\n",
    "# [4 5 6 7 8 9]\n",
    "```"
   ]
  },
  {
   "cell_type": "code",
   "execution_count": 226,
   "metadata": {},
   "outputs": [
    {
     "name": "stdout",
     "output_type": "stream",
     "text": [
      "[0 2 3]\n",
      "(3,)\n",
      "1\n",
      "(array([1, 2], dtype=int64),)\n",
      "[[1 2]]\n",
      "(1, 2)\n",
      "2\n",
      "[[1]\n",
      " [2]]\n",
      "[2 3]\n"
     ]
    }
   ],
   "source": [
    "#【例】一维数组\n",
    "x = np.array([0, 2, 3])\n",
    "print(x)  # [0 2 3]\n",
    "print(x.shape)  # (3,)\n",
    "print(x.ndim)  # 1\n",
    "\n",
    "y = np.nonzero(x)\n",
    "print(y)  # (array([1, 2], dtype=int64),)\n",
    "print(np.array(y))  # [[1 2]]\n",
    "print(np.array(y).shape)  # (1, 2)\n",
    "print(np.array(y).ndim)  # 2\n",
    "print(np.transpose(y))\n",
    "# [[1]\n",
    "#  [2]]\n",
    "print(x[np.nonzero(x)])#[2, 3]"
   ]
  },
  {
   "cell_type": "code",
   "execution_count": 227,
   "metadata": {},
   "outputs": [
    {
     "name": "stdout",
     "output_type": "stream",
     "text": [
      "[[3 0 0]\n",
      " [0 4 0]\n",
      " [5 6 0]]\n",
      "(3, 3)\n",
      "2\n",
      "(array([0, 1, 2, 2], dtype=int64), array([0, 1, 0, 1], dtype=int64))\n",
      "[[0 1 2 2]\n",
      " [0 1 0 1]]\n",
      "(2, 4)\n",
      "2\n",
      "[3 4 5 6]\n",
      "[[0 0]\n",
      " [1 1]\n",
      " [2 0]\n",
      " [2 1]]\n"
     ]
    }
   ],
   "source": [
    "#【例】二维数组\n",
    "x = np.array([[3, 0, 0], [0, 4, 0], [5, 6, 0]])\n",
    "print(x)\n",
    "# [[3 0 0]\n",
    "#  [0 4 0]\n",
    "#  [5 6 0]]\n",
    "print(x.shape)  # (3, 3)\n",
    "print(x.ndim)  # 2\n",
    "\n",
    "y = np.nonzero(x)\n",
    "print(y)\n",
    "# (array([0, 1, 2, 2], dtype=int64), array([0, 1, 0, 1], dtype=int64))\n",
    "print(np.array(y))\n",
    "# [[0 1 2 2]\n",
    "#  [0 1 0 1]]\n",
    "print(np.array(y).shape)  # (2, 4)\n",
    "print(np.array(y).ndim)  # 2\n",
    "\n",
    "y = x[np.nonzero(x)]\n",
    "print(y)  # [3 4 5 6]\n",
    "\n",
    "y = np.transpose(np.nonzero(x))\n",
    "print(y)\n",
    "# [[0 0]\n",
    "#  [1 1]\n",
    "#  [2 0]\n",
    "#  [2 1]]"
   ]
  },
  {
   "cell_type": "code",
   "execution_count": 228,
   "metadata": {},
   "outputs": [
    {
     "name": "stdout",
     "output_type": "stream",
     "text": [
      "[[[0 1]\n",
      "  [1 0]]\n",
      "\n",
      " [[0 1]\n",
      "  [1 0]]\n",
      "\n",
      " [[0 0]\n",
      "  [1 0]]]\n",
      "(3, 2, 2)\n",
      "3\n",
      "[[0 0 1 1 2]\n",
      " [0 1 0 1 1]\n",
      " [1 0 1 0 0]]\n",
      "(3, 5)\n",
      "2\n",
      "(array([0, 0, 1, 1, 2], dtype=int64), array([0, 1, 0, 1, 1], dtype=int64), array([1, 0, 1, 0, 0], dtype=int64))\n",
      "[1 1 1 1 1]\n"
     ]
    }
   ],
   "source": [
    "#【例】三维数组\n",
    "x = np.array([[[0, 1], [1, 0]], [[0, 1], [1, 0]], [[0, 0], [1, 0]]])\n",
    "print(x)\n",
    "# [[[0 1]\n",
    "#   [1 0]]\n",
    "#\n",
    "#  [[0 1]\n",
    "#   [1 0]]\n",
    "#\n",
    "#  [[0 0]\n",
    "#   [1 0]]]\n",
    "print(np.shape(x))  # (3, 2, 2)\n",
    "print(x.ndim)  # 3\n",
    "\n",
    "y = np.nonzero(x)\n",
    "print(np.array(y))\n",
    "# [[0 0 1 1 2]\n",
    "#  [0 1 0 1 1]\n",
    "#  [1 0 1 0 0]]\n",
    "print(np.array(y).shape)  # (3, 5)\n",
    "print(np.array(y).ndim)  # 2\n",
    "print(y)\n",
    "# (array([0, 0, 1, 1, 2], dtype=int64), array([0, 1, 0, 1, 1], dtype=int64), array([1, 0, 1, 0, 0], dtype=int64))\n",
    "print(x[np.nonzero(x)])\n",
    "#[1 1 1 1 1]"
   ]
  },
  {
   "cell_type": "code",
   "execution_count": 229,
   "metadata": {},
   "outputs": [
    {
     "name": "stdout",
     "output_type": "stream",
     "text": [
      "[[1 2 3]\n",
      " [4 5 6]\n",
      " [7 8 9]]\n",
      "[[False False False]\n",
      " [ True  True  True]\n",
      " [ True  True  True]]\n",
      "(array([1, 1, 1, 2, 2, 2], dtype=int64), array([0, 1, 2, 0, 1, 2], dtype=int64))\n",
      "[4 5 6 7 8 9]\n",
      "[4 5 6 7 8 9]\n"
     ]
    }
   ],
   "source": [
    "#【例】nonzero()将布尔数组转换成整数数组进行操作。\n",
    "x = np.array([[1, 2, 3], [4, 5, 6], [7, 8, 9]])\n",
    "print(x)\n",
    "# [[1 2 3]\n",
    "#  [4 5 6]\n",
    "#  [7 8 9]]\n",
    "\n",
    "y = x > 3\n",
    "print(y)\n",
    "# [[False False False]\n",
    "#  [ True  True  True]\n",
    "#  [ True  True  True]]\n",
    "\n",
    "y = np.nonzero(x > 3)\n",
    "print(y)\n",
    "# (array([1, 1, 1, 2, 2, 2], dtype=int64), array([0, 1, 2, 0, 1, 2], dtype=int64))\n",
    "\n",
    "y = x[np.nonzero(x > 3)]\n",
    "print(y)\n",
    "# [4 5 6 7 8 9]\n",
    "\n",
    "y = x[x > 3]\n",
    "print(y)\n",
    "# [4 5 6 7 8 9]"
   ]
  },
  {
   "cell_type": "markdown",
   "metadata": {},
   "source": [
    "### numpy.where()\n",
    "- `numpy.where(condition, [x=None, y=None])`  Return elements chosen from `x` or `y` depending on `condition`.\n"
   ]
  },
  {
   "cell_type": "markdown",
   "metadata": {},
   "source": [
    "\n",
    "【例】满足条件`condition`，输出`x`，不满足输出`y`。\n",
    "```python\n",
    "import numpy as np\n",
    "\n",
    "x = np.arange(10)\n",
    "print(x)\n",
    "# [0 1 2 3 4 5 6 7 8 9]\n",
    "\n",
    "y = np.where(x < 5, x, 10 * x)\n",
    "print(y)\n",
    "# [ 0  1  2  3  4 50 60 70 80 90]\n",
    "\n",
    "x = np.array([[0, 1, 2],\n",
    "              [0, 2, 4],\n",
    "              [0, 3, 6]])\n",
    "y = np.where(x < 4, x, -1)\n",
    "print(y)\n",
    "# [[ 0  1  2]\n",
    "#  [ 0  2 -1]\n",
    "#  [ 0  3 -1]]\n",
    "```\n",
    "\n",
    "【例】只有`condition`，没有`x`和`y`，则输出满足条件 (即非0) 元素的坐标 (等价于`numpy.nonzero`)。这里的坐标以tuple的形式给出，通常原数组有多少维，输出的tuple中就包含几个数组，分别对应符合条件元素的各维坐标。\n",
    "```python\n",
    "import numpy as np\n",
    "\n",
    "x = np.array([1, 2, 3, 4, 5, 6, 7, 8])\n",
    "y = np.where(x > 5)\n",
    "print(y)\n",
    "# (array([5, 6, 7], dtype=int64),)\n",
    "print(x[y])\n",
    "# [6 7 8]\n",
    "\n",
    "y = np.nonzero(x > 5)\n",
    "print(y)\n",
    "# (array([5, 6, 7], dtype=int64),)\n",
    "print(x[y])\n",
    "# [6 7 8]\n",
    "\n",
    "x = np.array([[11, 12, 13, 14, 15],\n",
    "              [16, 17, 18, 19, 20],\n",
    "              [21, 22, 23, 24, 25],\n",
    "              [26, 27, 28, 29, 30],\n",
    "              [31, 32, 33, 34, 35]])\n",
    "y = np.where(x > 25)\n",
    "print(y)\n",
    "# (array([3, 3, 3, 3, 3, 4, 4, 4, 4, 4], dtype=int64), array([0, 1, 2, 3, 4, 0, 1, 2, 3, 4], dtype=int64))\n",
    "\n",
    "print(x[y])\n",
    "# [26 27 28 29 30 31 32 33 34 35]\n",
    "\n",
    "y = np.nonzero(x > 25)\n",
    "print(y)\n",
    "# (array([3, 3, 3, 3, 3, 4, 4, 4, 4, 4], dtype=int64), array([0, 1, 2, 3, 4, 0, 1, 2, 3, 4], dtype=int64))\n",
    "print(x[y])\n",
    "# [26 27 28 29 30 31 32 33 34 35]\n",
    "```"
   ]
  },
  {
   "cell_type": "code",
   "execution_count": 230,
   "metadata": {},
   "outputs": [
    {
     "name": "stdout",
     "output_type": "stream",
     "text": [
      "[0 1 2 3 4 5 6 7 8 9]\n",
      "[ 0  1  2  3  4 50 60 70 80 90]\n",
      "[[ 0  1  2]\n",
      " [ 0  2 -1]\n",
      " [ 0  3 -1]]\n"
     ]
    }
   ],
   "source": [
    "#【例】满足条件condition，输出x，不满足输出y。\n",
    "x = np.arange(10)\n",
    "print(x)\n",
    "# [0 1 2 3 4 5 6 7 8 9]\n",
    "\n",
    "y = np.where(x < 5, x, 10 * x)\n",
    "print(y)\n",
    "# [ 0  1  2  3  4 50 60 70 80 90]\n",
    "\n",
    "x = np.array([[0, 1, 2],\n",
    "              [0, 2, 4],\n",
    "              [0, 3, 6]])\n",
    "y = np.where(x < 4, x, -1)\n",
    "print(y)\n",
    "# [[ 0  1  2]\n",
    "#  [ 0  2 -1]\n",
    "#  [ 0  3 -1]]"
   ]
  },
  {
   "cell_type": "code",
   "execution_count": 231,
   "metadata": {},
   "outputs": [
    {
     "name": "stdout",
     "output_type": "stream",
     "text": [
      "(array([5, 6, 7], dtype=int64),)\n",
      "[6 7 8]\n",
      "(array([5, 6, 7], dtype=int64),)\n",
      "[6 7 8]\n",
      "(array([3, 3, 3, 3, 3, 4, 4, 4, 4, 4], dtype=int64), array([0, 1, 2, 3, 4, 0, 1, 2, 3, 4], dtype=int64))\n",
      "[26 27 28 29 30 31 32 33 34 35]\n",
      "(array([3, 3, 3, 3, 3, 4, 4, 4, 4, 4], dtype=int64), array([0, 1, 2, 3, 4, 0, 1, 2, 3, 4], dtype=int64))\n",
      "[26 27 28 29 30 31 32 33 34 35]\n"
     ]
    }
   ],
   "source": [
    "#【例】只有condition，没有x和y，则输出满足条件 (即非0) 元素的坐标 (等价于numpy.nonzero)。\n",
    "#     这里的坐标以tuple的形式给出，通常原数组有多少维，输出的tuple中就包含几个数组，分别对应符合条件元素的各维坐标。\n",
    "x = np.array([1, 2, 3, 4, 5, 6, 7, 8])\n",
    "y = np.where(x > 5)\n",
    "print(y)\n",
    "# (array([5, 6, 7], dtype=int64),)\n",
    "print(x[y])\n",
    "# [6 7 8]\n",
    "\n",
    "y = np.nonzero(x > 5)\n",
    "print(y)\n",
    "# (array([5, 6, 7], dtype=int64),)\n",
    "print(x[y])\n",
    "# [6 7 8]\n",
    "\n",
    "x = np.array([[11, 12, 13, 14, 15],\n",
    "              [16, 17, 18, 19, 20],\n",
    "              [21, 22, 23, 24, 25],\n",
    "              [26, 27, 28, 29, 30],\n",
    "              [31, 32, 33, 34, 35]])\n",
    "y = np.where(x > 25)\n",
    "print(y)\n",
    "# (array([3, 3, 3, 3, 3, 4, 4, 4, 4, 4], dtype=int64), array([0, 1, 2, 3, 4, 0, 1, 2, 3, 4], dtype=int64))\n",
    "\n",
    "print(x[y])\n",
    "# [26 27 28 29 30 31 32 33 34 35]\n",
    "\n",
    "y = np.nonzero(x > 25)\n",
    "print(y)\n",
    "# (array([3, 3, 3, 3, 3, 4, 4, 4, 4, 4], dtype=int64), array([0, 1, 2, 3, 4, 0, 1, 2, 3, 4], dtype=int64))\n",
    "print(x[y])\n",
    "# [26 27 28 29 30 31 32 33 34 35]"
   ]
  },
  {
   "cell_type": "markdown",
   "metadata": {},
   "source": [
    "### numpy.searchsorted()\n",
    "- `numpy.searchsorted(a, v[, side='left', sorter=None])` Find indices where elements should be inserted to maintain order.\n",
    "    - a：一维输入数组。当`sorter`参数为`None`的时候，`a`必须为升序数组；否则，`sorter`不能为空，存放`a`中元素的`index`，用于反映`a`数组的升序排列方式。\n",
    "    - v：插入`a`数组的值，可以为单个元素，`list`或者`ndarray`。\n",
    "    - side：查询方向，当为`left`时，将返回第一个符合条件的元素下标；当为`right`时，将返回最后一个符合条件的元素下标。\n",
    "    - sorter：一维数组存放`a`数组元素的 index，index 对应元素为升序。"
   ]
  },
  {
   "cell_type": "markdown",
   "metadata": {},
   "source": [
    "【例】\n",
    "```python\n",
    "import numpy as np\n",
    "\n",
    "x = np.array([0, 1, 5, 9, 11, 18, 26, 33])\n",
    "y = np.searchsorted(x, 15)\n",
    "print(y)  # 5\n",
    "\n",
    "y = np.searchsorted(x, 15, side='right')\n",
    "print(y)  # 5\n",
    "\n",
    "y = np.searchsorted(x, -1)\n",
    "print(y)  # 0\n",
    "\n",
    "y = np.searchsorted(x, -1, side='right')\n",
    "print(y)  # 0\n",
    "\n",
    "y = np.searchsorted(x, 35)\n",
    "print(y)  # 8\n",
    "\n",
    "y = np.searchsorted(x, 35, side='right')\n",
    "print(y)  # 8\n",
    "\n",
    "y = np.searchsorted(x, 11)\n",
    "print(y)  # 4\n",
    "\n",
    "y = np.searchsorted(x, 11, side='right')\n",
    "print(y)  # 5\n",
    "\n",
    "y = np.searchsorted(x, 0)\n",
    "print(y)  # 0\n",
    "\n",
    "y = np.searchsorted(x, 0, side='right')\n",
    "print(y)  # 1\n",
    "\n",
    "y = np.searchsorted(x, 33)\n",
    "print(y)  # 7\n",
    "\n",
    "y = np.searchsorted(x, 33, side='right')\n",
    "print(y)  # 8\n",
    "```\n",
    "\n",
    "【例】\n",
    "```python\n",
    "import numpy as np\n",
    "\n",
    "x = np.array([0, 1, 5, 9, 11, 18, 26, 33])\n",
    "y = np.searchsorted(x, [-1, 0, 11, 15, 33, 35])\n",
    "print(y)  # [0 0 4 5 7 8]\n",
    "\n",
    "y = np.searchsorted(x, [-1, 0, 11, 15, 33, 35], side='right')\n",
    "print(y)  # [0 1 5 5 8 8]\n",
    "```\n",
    "\n",
    "【例】\n",
    "```python\n",
    "import numpy as np\n",
    "\n",
    "x = np.array([0, 1, 5, 9, 11, 18, 26, 33])\n",
    "np.random.shuffle(x)\n",
    "print(x)  # [33  1  9 18 11 26  0  5]\n",
    "\n",
    "x_sort = np.argsort(x)\n",
    "print(x_sort)  # [6 1 7 2 4 3 5 0]\n",
    "\n",
    "y = np.searchsorted(x, [-1, 0, 11, 15, 33, 35], sorter=x_sort)\n",
    "print(y)  # [0 0 4 5 7 8]\n",
    "\n",
    "y = np.searchsorted(x, [-1, 0, 11, 15, 33, 35], side='right', sorter=x_sort)\n",
    "print(y)  # [0 1 5 5 8 8]\n",
    "```\n"
   ]
  },
  {
   "cell_type": "code",
   "execution_count": 232,
   "metadata": {},
   "outputs": [
    {
     "name": "stdout",
     "output_type": "stream",
     "text": [
      "5\n"
     ]
    }
   ],
   "source": [
    "#【例】\n",
    "x = np.array([0, 1, 5, 9, 11, 18, 26, 33])\n",
    "y = np.searchsorted(x, 15)\n",
    "print(y)  # 5"
   ]
  },
  {
   "cell_type": "code",
   "execution_count": 233,
   "metadata": {},
   "outputs": [
    {
     "name": "stdout",
     "output_type": "stream",
     "text": [
      "5\n"
     ]
    }
   ],
   "source": [
    "y = np.searchsorted(x, 15, side='right')\n",
    "print(y)  # 5"
   ]
  },
  {
   "cell_type": "code",
   "execution_count": 234,
   "metadata": {},
   "outputs": [
    {
     "name": "stdout",
     "output_type": "stream",
     "text": [
      "0\n"
     ]
    }
   ],
   "source": [
    "y = np.searchsorted(x, -1)\n",
    "print(y)  # 0"
   ]
  },
  {
   "cell_type": "code",
   "execution_count": 235,
   "metadata": {},
   "outputs": [
    {
     "name": "stdout",
     "output_type": "stream",
     "text": [
      "0\n"
     ]
    }
   ],
   "source": [
    "y = np.searchsorted(x, -1, side='right')\n",
    "print(y)  # 0"
   ]
  },
  {
   "cell_type": "code",
   "execution_count": 236,
   "metadata": {},
   "outputs": [
    {
     "name": "stdout",
     "output_type": "stream",
     "text": [
      "8\n"
     ]
    }
   ],
   "source": [
    "y = np.searchsorted(x, 35)\n",
    "print(y)  # 8"
   ]
  },
  {
   "cell_type": "code",
   "execution_count": 237,
   "metadata": {},
   "outputs": [
    {
     "name": "stdout",
     "output_type": "stream",
     "text": [
      "8\n"
     ]
    }
   ],
   "source": [
    "y = np.searchsorted(x, 35, side='right')\n",
    "print(y)  # 8"
   ]
  },
  {
   "cell_type": "code",
   "execution_count": 238,
   "metadata": {},
   "outputs": [
    {
     "name": "stdout",
     "output_type": "stream",
     "text": [
      "4\n"
     ]
    }
   ],
   "source": [
    "y = np.searchsorted(x, 11)\n",
    "print(y)  # 4"
   ]
  },
  {
   "cell_type": "code",
   "execution_count": 239,
   "metadata": {},
   "outputs": [
    {
     "name": "stdout",
     "output_type": "stream",
     "text": [
      "5\n"
     ]
    }
   ],
   "source": [
    "y = np.searchsorted(x, 11, side='right')\n",
    "print(y)  # 5"
   ]
  },
  {
   "cell_type": "code",
   "execution_count": 240,
   "metadata": {},
   "outputs": [
    {
     "name": "stdout",
     "output_type": "stream",
     "text": [
      "0\n"
     ]
    }
   ],
   "source": [
    "y = np.searchsorted(x, 0)\n",
    "print(y)  # 0"
   ]
  },
  {
   "cell_type": "code",
   "execution_count": 241,
   "metadata": {},
   "outputs": [
    {
     "name": "stdout",
     "output_type": "stream",
     "text": [
      "1\n"
     ]
    }
   ],
   "source": [
    "y = np.searchsorted(x, 0, side='right')\n",
    "print(y)  # 1"
   ]
  },
  {
   "cell_type": "code",
   "execution_count": 242,
   "metadata": {},
   "outputs": [
    {
     "name": "stdout",
     "output_type": "stream",
     "text": [
      "7\n"
     ]
    }
   ],
   "source": [
    "y = np.searchsorted(x, 33)\n",
    "print(y)  # 7"
   ]
  },
  {
   "cell_type": "code",
   "execution_count": 243,
   "metadata": {},
   "outputs": [
    {
     "name": "stdout",
     "output_type": "stream",
     "text": [
      "8\n"
     ]
    }
   ],
   "source": [
    "y = np.searchsorted(x, 33, side='right')\n",
    "print(y)  # 8"
   ]
  },
  {
   "cell_type": "code",
   "execution_count": 244,
   "metadata": {},
   "outputs": [
    {
     "name": "stdout",
     "output_type": "stream",
     "text": [
      "[0 0 4 5 7 8]\n"
     ]
    }
   ],
   "source": [
    "#【例】\n",
    "x = np.array([0, 1, 5, 9, 11, 18, 26, 33])\n",
    "y = np.searchsorted(x, [-1, 0, 11, 15, 33, 35])\n",
    "print(y)  # [0 0 4 5 7 8]"
   ]
  },
  {
   "cell_type": "code",
   "execution_count": 245,
   "metadata": {},
   "outputs": [
    {
     "name": "stdout",
     "output_type": "stream",
     "text": [
      "[0 1 5 5 8 8]\n"
     ]
    }
   ],
   "source": [
    "y = np.searchsorted(x, [-1, 0, 11, 15, 33, 35], side='right')\n",
    "print(y)  # [0 1 5 5 8 8]"
   ]
  },
  {
   "cell_type": "code",
   "execution_count": 246,
   "metadata": {},
   "outputs": [
    {
     "name": "stdout",
     "output_type": "stream",
     "text": [
      "[ 1  0 26  9 33 11 18  5]\n"
     ]
    }
   ],
   "source": [
    "#【例】\n",
    "x = np.array([0, 1, 5, 9, 11, 18, 26, 33])\n",
    "np.random.shuffle(x)\n",
    "print(x)  # [33  1  9 18 11 26  0  5]"
   ]
  },
  {
   "cell_type": "code",
   "execution_count": 247,
   "metadata": {},
   "outputs": [
    {
     "name": "stdout",
     "output_type": "stream",
     "text": [
      "[1 0 7 3 5 6 2 4]\n"
     ]
    }
   ],
   "source": [
    "x_sort = np.argsort(x)\n",
    "print(x_sort)  # [6 1 7 2 4 3 5 0]"
   ]
  },
  {
   "cell_type": "code",
   "execution_count": 248,
   "metadata": {},
   "outputs": [
    {
     "name": "stdout",
     "output_type": "stream",
     "text": [
      "[0 0 4 5 7 8]\n"
     ]
    }
   ],
   "source": [
    "y = np.searchsorted(x, [-1, 0, 11, 15, 33, 35], sorter=x_sort)\n",
    "print(y)  # [0 0 4 5 7 8]"
   ]
  },
  {
   "cell_type": "code",
   "execution_count": 249,
   "metadata": {},
   "outputs": [
    {
     "name": "stdout",
     "output_type": "stream",
     "text": [
      "[0 1 5 5 8 8]\n"
     ]
    }
   ],
   "source": [
    "y = np.searchsorted(x, [-1, 0, 11, 15, 33, 35], side='right', sorter=x_sort)\n",
    "print(y)  # [0 1 5 5 8 8]"
   ]
  },
  {
   "cell_type": "markdown",
   "metadata": {},
   "source": [
    "## 计数"
   ]
  },
  {
   "cell_type": "markdown",
   "metadata": {},
   "source": [
    "### numpy.count_nonzero()\n",
    "- `numpy.count_nonzero(a, axis=None)` Counts the number of non-zero values in the array a.\n",
    "\n",
    "【例】返回数组中的非0元素个数。\n"
   ]
  },
  {
   "cell_type": "markdown",
   "metadata": {},
   "source": [
    "```python\n",
    "import numpy as np\n",
    "\n",
    "x = np.count_nonzero(np.eye(4))\n",
    "print(x)  # 4\n",
    "\n",
    "x = np.count_nonzero([[0, 1, 7, 0, 0], [3, 0, 0, 2, 19]])\n",
    "print(x)  # 5\n",
    "\n",
    "x = np.count_nonzero([[0, 1, 7, 0, 0], [3, 0, 0, 2, 19]], axis=0)\n",
    "print(x)  # [1 1 1 1 1]\n",
    "\n",
    "x = np.count_nonzero([[0, 1, 7, 0, 0], [3, 0, 0, 2, 19]], axis=1)\n",
    "print(x)  # [2 3]\n",
    "```"
   ]
  },
  {
   "cell_type": "code",
   "execution_count": 250,
   "metadata": {},
   "outputs": [
    {
     "name": "stdout",
     "output_type": "stream",
     "text": [
      "4\n",
      "5\n",
      "[1 1 1 1 1]\n",
      "[2 3]\n"
     ]
    }
   ],
   "source": [
    "x = np.count_nonzero(np.eye(4))\n",
    "print(x)  # 4\n",
    "\n",
    "x = np.count_nonzero([[0, 1, 7, 0, 0], [3, 0, 0, 2, 19]])\n",
    "print(x)  # 5\n",
    "\n",
    "x = np.count_nonzero([[0, 1, 7, 0, 0], [3, 0, 0, 2, 19]], axis=0)\n",
    "print(x)  # [1 1 1 1 1]\n",
    "\n",
    "x = np.count_nonzero([[0, 1, 7, 0, 0], [3, 0, 0, 2, 19]], axis=1)\n",
    "print(x)  # [2 3]"
   ]
  },
  {
   "cell_type": "markdown",
   "metadata": {},
   "source": [
    "**参考文献**\n",
    "\n",
    "- https://blog.csdn.net/u013698770/article/details/54632047\n",
    "- https://www.cnblogs.com/massquantity/p/8908859.html"
   ]
  },
  {
   "cell_type": "markdown",
   "metadata": {},
   "source": [
    "# 集合操作"
   ]
  },
  {
   "cell_type": "markdown",
   "metadata": {},
   "source": [
    "## 构造集合\n",
    "\n",
    "- `numpy.unique(ar, return_index=False, return_inverse=False, return_counts=False, axis=None)` Find the unique elements of an array.\n",
    "    - `return_index=True` 表示返回新列表元素在旧列表中的位置。\n",
    "    - `return_inverse=True`表示返回旧列表元素在新列表中的位置。\n",
    "    - `return_counts=True`表示返回新列表元素在旧列表中出现的次数。"
   ]
  },
  {
   "cell_type": "markdown",
   "metadata": {},
   "source": [
    "【例】找出数组中的唯一值并返回已排序的结果。\n",
    "```python\n",
    "import numpy as np\n",
    "\n",
    "x = np.unique([1, 1, 3, 2, 3, 3])\n",
    "print(x)  # [1 2 3]\n",
    "\n",
    "x = sorted(set([1, 1, 3, 2, 3, 3]))\n",
    "print(x)  # [1, 2, 3]\n",
    "\n",
    "x = np.array([[1, 1], [2, 3]])\n",
    "u = np.unique(x)\n",
    "print(u)  # [1 2 3]\n",
    "\n",
    "x = np.array([[1, 0, 0], [1, 0, 0], [2, 3, 4]])\n",
    "y = np.unique(x, axis=0)\n",
    "print(y)\n",
    "# [[1 0 0]\n",
    "#  [2 3 4]]\n",
    "\n",
    "x = np.array(['a', 'b', 'b', 'c', 'a'])\n",
    "u, index = np.unique(x, return_index=True)\n",
    "print(u)  # ['a' 'b' 'c']\n",
    "print(index)  # [0 1 3]\n",
    "print(x[index])  # ['a' 'b' 'c']\n",
    "\n",
    "x = np.array([1, 2, 6, 4, 2, 3, 2])\n",
    "u, index = np.unique(x, return_inverse=True)\n",
    "print(u)  # [1 2 3 4 6]\n",
    "print(index)  # [0 1 4 3 1 2 1]\n",
    "print(u[index])  # [1 2 6 4 2 3 2]\n",
    "\n",
    "u, count = np.unique(x, return_counts=True)\n",
    "print(u)  # [1 2 3 4 6]\n",
    "print(count)  # [1 3 1 1 1]\n",
    "```"
   ]
  },
  {
   "cell_type": "code",
   "execution_count": 251,
   "metadata": {},
   "outputs": [
    {
     "name": "stdout",
     "output_type": "stream",
     "text": [
      "[1 2 3]\n"
     ]
    }
   ],
   "source": [
    "#【例】找出数组中的唯一值并返回已排序的结果。\n",
    "x = np.unique([1, 1, 3, 2, 3, 3])\n",
    "print(x)  # [1 2 3]"
   ]
  },
  {
   "cell_type": "code",
   "execution_count": 252,
   "metadata": {},
   "outputs": [
    {
     "name": "stdout",
     "output_type": "stream",
     "text": [
      "[1, 2, 3]\n"
     ]
    }
   ],
   "source": [
    "x = sorted(set([1, 1, 3, 2, 3, 3]))\n",
    "print(x)  # [1, 2, 3]"
   ]
  },
  {
   "cell_type": "code",
   "execution_count": 253,
   "metadata": {},
   "outputs": [
    {
     "name": "stdout",
     "output_type": "stream",
     "text": [
      "[1 2 3]\n"
     ]
    }
   ],
   "source": [
    "x = np.array([[1, 1], [2, 3]])\n",
    "u = np.unique(x)\n",
    "print(u)  # [1 2 3]"
   ]
  },
  {
   "cell_type": "code",
   "execution_count": 254,
   "metadata": {},
   "outputs": [
    {
     "name": "stdout",
     "output_type": "stream",
     "text": [
      "[[1 0 0]\n",
      " [2 3 4]]\n"
     ]
    }
   ],
   "source": [
    "x = np.array([[1, 0, 0], [1, 0, 0], [2, 3, 4]])\n",
    "y = np.unique(x, axis=0)\n",
    "print(y)\n",
    "# [[1 0 0]\n",
    "#  [2 3 4]]"
   ]
  },
  {
   "cell_type": "code",
   "execution_count": 255,
   "metadata": {},
   "outputs": [
    {
     "name": "stdout",
     "output_type": "stream",
     "text": [
      "['a' 'b' 'c']\n",
      "[0 1 3]\n",
      "['a' 'b' 'c']\n"
     ]
    }
   ],
   "source": [
    "x = np.array(['a', 'b', 'b', 'c', 'a'])\n",
    "u, index = np.unique(x, return_index=True)\n",
    "print(u)  # ['a' 'b' 'c']\n",
    "print(index)  # [0 1 3]\n",
    "print(x[index])  # ['a' 'b' 'c']"
   ]
  },
  {
   "cell_type": "code",
   "execution_count": 256,
   "metadata": {},
   "outputs": [
    {
     "name": "stdout",
     "output_type": "stream",
     "text": [
      "[1 2 3 4 6]\n",
      "[0 1 4 3 1 2 1]\n",
      "[1 2 6 4 2 3 2]\n"
     ]
    }
   ],
   "source": [
    "x = np.array([1, 2, 6, 4, 2, 3, 2])\n",
    "u, index = np.unique(x, return_inverse=True)\n",
    "print(u)  # [1 2 3 4 6]\n",
    "print(index)  # [0 1 4 3 1 2 1]\n",
    "print(u[index])  # [1 2 6 4 2 3 2]"
   ]
  },
  {
   "cell_type": "code",
   "execution_count": 257,
   "metadata": {},
   "outputs": [
    {
     "name": "stdout",
     "output_type": "stream",
     "text": [
      "[1 2 3 4 6]\n",
      "[1 3 1 1 1]\n"
     ]
    }
   ],
   "source": [
    "u, count = np.unique(x, return_counts=True)\n",
    "print(u)  # [1 2 3 4 6]\n",
    "print(count)  # [1 3 1 1 1]"
   ]
  },
  {
   "cell_type": "markdown",
   "metadata": {},
   "source": [
    "## 布尔运算\n",
    "\n",
    "- `numpy.in1d(ar1, ar2, assume_unique=False, invert=False)` Test whether each element of a 1-D array is also present in a second array.\n",
    "\n",
    "Returns a boolean array the same length as `ar1` that is True where an element of `ar1` is in `ar2` and False otherwise.\n",
    "\n",
    "【例】前面的数组是否包含于后面的数组，返回布尔值。返回的值是针对第一个参数的数组的，所以维数和第一个参数一致，布尔值与数组的元素位置也一一对应。"
   ]
  },
  {
   "cell_type": "markdown",
   "metadata": {},
   "source": [
    "```python\n",
    "import numpy as np\n",
    "\n",
    "test = np.array([0, 1, 2, 5, 0])\n",
    "states = [0, 2]\n",
    "mask = np.in1d(test, states)\n",
    "print(mask)  # [ True False  True False  True]\n",
    "print(test[mask])  # [0 2 0]\n",
    "\n",
    "mask = np.in1d(test, states, invert=True)\n",
    "print(mask)  # [False  True False  True False]\n",
    "print(test[mask])  # [1 5]\n",
    "```"
   ]
  },
  {
   "cell_type": "code",
   "execution_count": 258,
   "metadata": {},
   "outputs": [
    {
     "name": "stdout",
     "output_type": "stream",
     "text": [
      "[ True False  True False  True]\n",
      "[0 2 0]\n"
     ]
    }
   ],
   "source": [
    "test = np.array([0, 1, 2, 5, 0])\n",
    "states = [0, 2]\n",
    "mask = np.in1d(test, states)\n",
    "print(mask)  # [ True False  True False  True]\n",
    "print(test[mask])  # [0 2 0]"
   ]
  },
  {
   "cell_type": "code",
   "execution_count": 259,
   "metadata": {},
   "outputs": [
    {
     "name": "stdout",
     "output_type": "stream",
     "text": [
      "[False  True False  True False]\n",
      "[1 5]\n"
     ]
    }
   ],
   "source": [
    "mask = np.in1d(test, states, invert=True)\n",
    "print(mask)  # [False  True False  True False]\n",
    "print(test[mask])  # [1 5]"
   ]
  },
  {
   "cell_type": "markdown",
   "metadata": {},
   "source": [
    "### 求两个集合的交集：\n",
    "\n",
    "- `numpy.intersect1d(ar1, ar2, assume_unique=False, return_indices=False)` Find the intersection of two arrays.\n",
    "\n",
    "Return the sorted, unique values that are in both of the input arrays.\n",
    "\n",
    "【例】求两个数组的唯一化+求交集+排序函数。\n"
   ]
  },
  {
   "cell_type": "markdown",
   "metadata": {},
   "source": [
    "```python\n",
    "import numpy as np\n",
    "from functools import reduce\n",
    "\n",
    "x = np.intersect1d([1, 3, 4, 3], [3, 1, 2, 1])\n",
    "print(x)  # [1 3]\n",
    "\n",
    "x = np.array([1, 1, 2, 3, 4])\n",
    "y = np.array([2, 1, 4, 6])\n",
    "xy, x_ind, y_ind = np.intersect1d(x, y, return_indices=True)\n",
    "print(x_ind)  # [0 2 4]\n",
    "print(y_ind)  # [1 0 2]\n",
    "print(xy)  # [1 2 4]\n",
    "print(x[x_ind])  # [1 2 4]\n",
    "print(y[y_ind])  # [1 2 4]\n",
    "\n",
    "x = reduce(np.intersect1d, ([1, 3, 4, 3], [3, 1, 2, 1], [6, 3, 4, 2]))\n",
    "print(x)  # [3]\n",
    "```"
   ]
  },
  {
   "cell_type": "code",
   "execution_count": 260,
   "metadata": {},
   "outputs": [
    {
     "name": "stdout",
     "output_type": "stream",
     "text": [
      "[1 3]\n"
     ]
    }
   ],
   "source": [
    "#【例】求两个数组的唯一化+求交集+排序函数。\n",
    "from functools import reduce\n",
    "\n",
    "x = np.intersect1d([1, 3, 4, 3], [3, 1, 2, 1])\n",
    "print(x)  # [1 3]"
   ]
  },
  {
   "cell_type": "code",
   "execution_count": 261,
   "metadata": {},
   "outputs": [
    {
     "name": "stdout",
     "output_type": "stream",
     "text": [
      "[0 2 4]\n",
      "[1 0 2]\n",
      "[1 2 4]\n",
      "[1 2 4]\n",
      "[1 2 4]\n"
     ]
    }
   ],
   "source": [
    "x = np.array([1, 1, 2, 3, 4])\n",
    "y = np.array([2, 1, 4, 6])\n",
    "xy, x_ind, y_ind = np.intersect1d(x, y, return_indices=True)\n",
    "print(x_ind)  # [0 2 4]\n",
    "print(y_ind)  # [1 0 2]\n",
    "print(xy)  # [1 2 4]\n",
    "print(x[x_ind])  # [1 2 4]\n",
    "print(y[y_ind])  # [1 2 4]"
   ]
  },
  {
   "cell_type": "code",
   "execution_count": 262,
   "metadata": {},
   "outputs": [
    {
     "name": "stdout",
     "output_type": "stream",
     "text": [
      "[3]\n"
     ]
    }
   ],
   "source": [
    "x = reduce(np.intersect1d, ([1, 3, 4, 3], [3, 1, 2, 1], [6, 3, 4, 2]))\n",
    "print(x)  # [3]"
   ]
  },
  {
   "cell_type": "markdown",
   "metadata": {},
   "source": [
    "### 求两个集合的并集：\n",
    "\n",
    "- `numpy.union1d(ar1, ar2)` Find the union of two arrays.\n",
    "\n",
    "Return the unique, sorted array of values that are in either of the two input arrays.\n",
    "\n",
    "【例】计算两个集合的并集，唯一化并排序。\n",
    "```python\n",
    "import numpy as np\n",
    "from functools import reduce\n",
    "\n",
    "x = np.union1d([-1, 0, 1], [-2, 0, 2])\n",
    "print(x)  # [-2 -1  0  1  2]\n",
    "x = reduce(np.union1d, ([1, 3, 4, 3], [3, 1, 2, 1], [6, 3, 4, 2]))\n",
    "print(x)  # [1 2 3 4 6]\n",
    "'''\n",
    "functools.reduce(function, iterable[, initializer])\n",
    "将两个参数的 function 从左至右积累地应用到 iterable 的条目，以便将该可迭代对象缩减为单一的值。 例如，reduce(lambda x, y: x+y, [1, 2, 3, 4, 5]) 是计算 ((((1+2)+3)+4)+5) 的值。 左边的参数 x 是积累值而右边的参数 y 则是来自 iterable 的更新值。 如果存在可选项 initializer，它会被放在参与计算的可迭代对象的条目之前，并在可迭代对象为空时作为默认值。 如果没有给出 initializer 并且 iterable 仅包含一个条目，则将返回第一项。\n",
    "\n",
    "大致相当于：\n",
    "def reduce(function, iterable, initializer=None):\n",
    "    it = iter(iterable)\n",
    "    if initializer is None:\n",
    "        value = next(it)\n",
    "    else:\n",
    "        value = initializer\n",
    "    for element in it:\n",
    "        value = function(value, element)\n",
    "    return value\n",
    "'''\n",
    "```"
   ]
  },
  {
   "cell_type": "code",
   "execution_count": 263,
   "metadata": {},
   "outputs": [
    {
     "name": "stdout",
     "output_type": "stream",
     "text": [
      "[-2 -1  0  1  2]\n",
      "[1 2 3 4 6]\n"
     ]
    }
   ],
   "source": [
    "from functools import reduce\n",
    "\n",
    "x = np.union1d([-1, 0, 1], [-2, 0, 2])\n",
    "print(x)  # [-2 -1  0  1  2]\n",
    "x = reduce(np.union1d, ([1, 3, 4, 3], [3, 1, 2, 1], [6, 3, 4, 2]))\n",
    "print(x)  # [1 2 3 4 6]"
   ]
  },
  {
   "cell_type": "markdown",
   "metadata": {},
   "source": [
    "### 求两个集合的差集：\n",
    "\n",
    "- `numpy.setdiff1d(ar1, ar2, assume_unique=False)` Find the set difference of two arrays.\n",
    "\n",
    "\n",
    "Return the unique values in `ar1` that are not in `ar2`.\n",
    "\n",
    "【例】集合的差，即元素存在于第一个函数不存在于第二个函数中。\n"
   ]
  },
  {
   "cell_type": "markdown",
   "metadata": {},
   "source": [
    "```python\n",
    "import numpy as np\n",
    "\n",
    "a = np.array([1, 2, 3, 2, 4, 1])\n",
    "b = np.array([3, 4, 5, 6])\n",
    "x = np.setdiff1d(a, b)\n",
    "print(x)  # [1 2]\n",
    "```"
   ]
  },
  {
   "cell_type": "code",
   "execution_count": 264,
   "metadata": {},
   "outputs": [
    {
     "name": "stdout",
     "output_type": "stream",
     "text": [
      "[1 2]\n"
     ]
    }
   ],
   "source": [
    "a = np.array([1, 2, 3, 2, 4, 1])\n",
    "b = np.array([3, 4, 5, 6])\n",
    "x = np.setdiff1d(a, b)\n",
    "print(x)  # [1 2]"
   ]
  },
  {
   "cell_type": "markdown",
   "metadata": {},
   "source": [
    "### 求两个集合的异或：\n",
    "\n",
    "- `setxor1d(ar1, ar2, assume_unique=False)` Find the set exclusive-or of two arrays.\n",
    "\n",
    "【例】集合的对称差，即两个集合的交集的补集。简言之，就是两个数组中各自独自拥有的元素的集合。"
   ]
  },
  {
   "cell_type": "markdown",
   "metadata": {},
   "source": [
    "```python\n",
    "import numpy as np\n",
    "\n",
    "a = np.array([1, 2, 3, 2, 4, 1])\n",
    "b = np.array([3, 4, 5, 6])\n",
    "x = np.setxor1d(a, b)\n",
    "print(x)  # [1 2 5 6]\n",
    "```"
   ]
  },
  {
   "cell_type": "code",
   "execution_count": 265,
   "metadata": {},
   "outputs": [
    {
     "name": "stdout",
     "output_type": "stream",
     "text": [
      "[1 2 5 6]\n"
     ]
    }
   ],
   "source": [
    "a = np.array([1, 2, 3, 2, 4, 1])\n",
    "b = np.array([3, 4, 5, 6])\n",
    "x = np.setxor1d(a, b)\n",
    "print(x)  # [1 2 5 6]"
   ]
  },
  {
   "cell_type": "markdown",
   "metadata": {},
   "source": [
    "**参考文献**\n",
    "- https://www.jianshu.com/p/3bfe21aa1adb"
   ]
  },
  {
   "cell_type": "markdown",
   "metadata": {},
   "source": [
    "# 练习"
   ]
  },
  {
   "cell_type": "markdown",
   "metadata": {},
   "source": [
    "## 排序搜索计数"
   ]
  },
  {
   "cell_type": "markdown",
   "metadata": {},
   "source": [
    "### **如何通过第n列对一个数组进行排序**\n",
    "- `Z = np.random.randint(0,10,(3,3))`\n",
    "\n",
    "【知识点:排序】\n",
    "\n",
    "- (提示: argsort)\n"
   ]
  },
  {
   "cell_type": "markdown",
   "metadata": {},
   "source": [
    "### **从`arr`中提取所有奇数。**\n",
    "\n",
    "- `arr = np.arange(10)`\n",
    "\n",
    "【知识点：搜索】\n",
    "- 如何从一维数组中提取满足指定条件的元素？"
   ]
  },
  {
   "cell_type": "markdown",
   "metadata": {},
   "source": [
    "### **将`arr`中的偶数元素替换为0。**\n",
    "\n",
    "- `arr = np.arange(10)`\n",
    "\n",
    "【知识点：搜索】\n",
    "- 如何用numpy数组中的另一个值替换满足条件的元素项？"
   ]
  },
  {
   "cell_type": "markdown",
   "metadata": {},
   "source": [
    "### ** 将 `arr` 中的所有偶数元素替换为0，而不改变arr。**\n",
    "- `arr = np.arange(10)`\n",
    "\n",
    "【知识点：搜索】\n",
    "- 如何在不影响原始数组的情况下替换满足条件的元素项？"
   ]
  },
  {
   "cell_type": "markdown",
   "metadata": {},
   "source": [
    "### **获取给定数组a中前5个最大值的位置。**\n",
    "\n",
    "- `a = np.random.uniform(1, 50, 20)`\n",
    "\n",
    "【知识点：搜索】\n",
    "- 如何从numpy数组中获取最大的n个值的位置？"
   ]
  },
  {
   "cell_type": "markdown",
   "metadata": {},
   "source": [
    "### **删除一维numpy数组中所有NaN值。**\n",
    "\n",
    "- `a = np.array([1, 2, 3, np.nan, 5, 6, 7, np.nan])`\n",
    "\n",
    "【知识点：逻辑函数、搜索】\n",
    "- 如何删除numpy数组中的缺失值？"
   ]
  },
  {
   "cell_type": "markdown",
   "metadata": {},
   "source": [
    "## 集合操作"
   ]
  },
  {
   "cell_type": "markdown",
   "metadata": {},
   "source": [
    "### **获取数组a和数组b之间的公共项。**\n",
    "\n",
    "- `a = np.array([1, 2, 3, 2, 3, 4, 3, 4, 5, 6])`\n",
    "- `b = np.array([7, 2, 10, 2, 7, 4, 9, 4, 9, 8])`\n",
    "\n",
    "【知识点：集合操作】\n",
    "- 如何获取两个numpy数组之间的公共项？"
   ]
  },
  {
   "cell_type": "markdown",
   "metadata": {},
   "source": [
    "### **从数组a中删除数组b中的所有项。**\n",
    "- `a = np.array([1, 2, 3, 4, 5])`\n",
    "- `b = np.array([5, 6, 7, 8, 9])`\n",
    "\n",
    "【知识点：集合操作】\n",
    "- 如何从一个数组中删除存在于另一个数组中的项？"
   ]
  },
  {
   "cell_type": "markdown",
   "metadata": {},
   "source": [
    "# 参考答案"
   ]
  },
  {
   "cell_type": "markdown",
   "metadata": {},
   "source": [
    "## 排序搜索计数"
   ]
  },
  {
   "cell_type": "markdown",
   "metadata": {},
   "source": [
    "**如何通过第n列对一个数组进行排序**\n",
    "\n",
    "【知识点:排序】\n",
    "\n",
    "- (提示: argsort)\n",
    "\n"
   ]
  },
  {
   "cell_type": "code",
   "execution_count": 266,
   "metadata": {
    "ExecuteTime": {
     "end_time": "2020-09-15T07:06:34.985841Z",
     "start_time": "2020-09-15T07:06:34.567440Z"
    }
   },
   "outputs": [
    {
     "name": "stdout",
     "output_type": "stream",
     "text": [
      "[[0 3 9]\n",
      " [4 3 6]\n",
      " [3 2 6]]\n"
     ]
    }
   ],
   "source": [
    "Z = np.random.randint(0,10,(3,3))\n",
    "print (Z)\n"
   ]
  },
  {
   "cell_type": "code",
   "execution_count": 267,
   "metadata": {
    "ExecuteTime": {
     "end_time": "2020-09-15T07:06:35.022771Z",
     "start_time": "2020-09-15T07:06:35.000801Z"
    }
   },
   "outputs": [
    {
     "name": "stdout",
     "output_type": "stream",
     "text": [
      "[[4 3 6]\n",
      " [3 2 6]\n",
      " [0 3 9]]\n"
     ]
    }
   ],
   "source": [
    "print (Z[Z[:,2].argsort()])"
   ]
  },
  {
   "cell_type": "markdown",
   "metadata": {
    "ExecuteTime": {
     "end_time": "2020-09-06T02:43:15.537614Z",
     "start_time": "2020-09-06T02:43:15.532628Z"
    }
   },
   "source": [
    "**从`arr`中提取所有奇数。**\n",
    "\n",
    "- `arr = np.arange(10)`\n",
    "\n",
    "【知识点：搜索】\n",
    "- 如何从一维数组中提取满足指定条件的元素？"
   ]
  },
  {
   "cell_type": "code",
   "execution_count": 268,
   "metadata": {
    "ExecuteTime": {
     "end_time": "2020-09-15T07:06:35.384825Z",
     "start_time": "2020-09-15T07:06:35.376847Z"
    }
   },
   "outputs": [
    {
     "name": "stdout",
     "output_type": "stream",
     "text": [
      "[1 3 5 7 9]\n",
      "[1 3 5 7 9]\n"
     ]
    }
   ],
   "source": [
    "#【答案】\n",
    "import numpy as np\n",
    "\n",
    "arr = np.arange(10)\n",
    "\n",
    "# 方法1\n",
    "index = np.where(arr % 2 == 1)\n",
    "print(arr[index])\n",
    "# [1 3 5 7 9]\n",
    "\n",
    "# 方法2\n",
    "x = arr[arr % 2 == 1]\n",
    "print(x)\n",
    "# [1 3 5 7 9]"
   ]
  },
  {
   "cell_type": "markdown",
   "metadata": {},
   "source": [
    "**将`arr`中的偶数元素替换为0。**\n",
    "\n",
    "- `arr = np.arange(10)`\n",
    "\n",
    "【知识点：搜索】\n",
    "- 如何用numpy数组中的另一个值替换满足条件的元素项？"
   ]
  },
  {
   "cell_type": "code",
   "execution_count": 269,
   "metadata": {
    "ExecuteTime": {
     "end_time": "2020-09-15T07:06:35.907995Z",
     "start_time": "2020-09-15T07:06:35.903011Z"
    }
   },
   "outputs": [
    {
     "name": "stdout",
     "output_type": "stream",
     "text": [
      "[0 1 0 3 0 5 0 7 0 9]\n"
     ]
    }
   ],
   "source": [
    "import numpy as np\n",
    "\n",
    "arr = np.arange(10)\n",
    "index = np.where(arr % 2 == 0)\n",
    "arr[index] = 0\n",
    "print(arr)\n",
    "# [0 1 0 3 0 5 0 7 0 9]"
   ]
  },
  {
   "cell_type": "markdown",
   "metadata": {},
   "source": [
    "**将 `arr` 中的所有偶数元素替换为0，而不改变arr。**\n",
    "- `arr = np.arange(10)`\n",
    "\n",
    "【知识点：搜索】\n",
    "- 如何在不影响原始数组的情况下替换满足条件的元素项？"
   ]
  },
  {
   "cell_type": "code",
   "execution_count": 270,
   "metadata": {
    "ExecuteTime": {
     "end_time": "2020-09-15T07:06:36.689514Z",
     "start_time": "2020-09-15T07:06:36.608498Z"
    }
   },
   "outputs": [
    {
     "name": "stdout",
     "output_type": "stream",
     "text": [
      "[0 1 0 3 0 5 0 7 0 9]\n",
      "[0 1 2 3 4 5 6 7 8 9]\n",
      "[0 1 0 3 0 5 0 7 0 9]\n",
      "[0 1 2 3 4 5 6 7 8 9]\n"
     ]
    }
   ],
   "source": [
    "import numpy as np\n",
    "\n",
    "arr = np.arange(10)\n",
    "\n",
    "# 方法1\n",
    "x = np.where(arr % 2 == 0, 0, arr)\n",
    "print(x)\n",
    "# [0 1 0 3 0 5 0 7 0 9]\n",
    "print(arr)\n",
    "# [0 1 2 3 4 5 6 7 8 9]\n",
    "\n",
    "# 方法2\n",
    "x = np.copy(arr)\n",
    "x[x % 2 == 0] = 0\n",
    "print(x)\n",
    "# [0 1 0 3 0 5 0 7 0 9]\n",
    "print(arr)\n",
    "# [0 1 2 3 4 5 6 7 8 9]"
   ]
  },
  {
   "cell_type": "markdown",
   "metadata": {
    "ExecuteTime": {
     "end_time": "2020-09-06T03:10:15.790588Z",
     "start_time": "2020-09-06T03:10:15.785591Z"
    }
   },
   "source": [
    "**获取给定数组a中前5个最大值的位置。**\n",
    "\n",
    "- `a = np.random.uniform(1, 50, 20)`\n",
    "\n",
    "【知识点：搜索】\n",
    "- 如何从numpy数组中获取最大的n个值的位置？"
   ]
  },
  {
   "cell_type": "code",
   "execution_count": 271,
   "metadata": {
    "ExecuteTime": {
     "end_time": "2020-09-15T07:06:37.223217Z",
     "start_time": "2020-09-15T07:06:37.205278Z"
    }
   },
   "outputs": [
    {
     "name": "stdout",
     "output_type": "stream",
     "text": [
      "[27.62684215 14.64009987 21.80136195 42.39403048  1.23122395  6.95688692\n",
      " 33.86670515 41.466785    7.69862289 29.17957314 44.67477576 11.25090398\n",
      " 10.08108276  6.31046763 11.76517714 48.95256545 40.77247431  9.42510962\n",
      " 40.99501269 14.42961361]\n",
      "[ 4 13  5  8 17 12 11 14 19  1  2  0  9  6 16 18  7  3 10 15]\n",
      "[18  7  3 10 15]\n",
      "(array([ 3,  7, 10, 15, 18], dtype=int64),)\n",
      "[18  7  3 10 15]\n"
     ]
    }
   ],
   "source": [
    "import numpy as np\n",
    "\n",
    "np.random.seed(100)\n",
    "a = np.random.uniform(1, 50, 20)\n",
    "print(a)\n",
    "# [27.62684215 14.64009987 21.80136195 42.39403048  1.23122395  6.95688692\n",
    "#  33.86670515 41.466785    7.69862289 29.17957314 44.67477576 11.25090398\n",
    "#  10.08108276  6.31046763 11.76517714 48.95256545 40.77247431  9.42510962\n",
    "#  40.99501269 14.42961361]\n",
    "\n",
    "# 方法1\n",
    "b = np.argsort(a)\n",
    "print(b)\n",
    "print(b[-5:])\n",
    "# [18  7  3 10 15]\n",
    "\n",
    "# 方法2\n",
    "b = np.sort(a)\n",
    "b = np.where(a >= b[-5])\n",
    "print(b)\n",
    "# (array([ 3,  7, 10, 15, 18], dtype=int64),)\n",
    "\n",
    "# 方法3\n",
    "b = np.argpartition(a, kth=-5)\n",
    "print(b[-5:])\n",
    "# [18  7  3 10 15]"
   ]
  },
  {
   "cell_type": "markdown",
   "metadata": {
    "ExecuteTime": {
     "end_time": "2020-09-06T03:16:45.278429Z",
     "start_time": "2020-09-06T03:16:45.274474Z"
    }
   },
   "source": [
    "**删除一维numpy数组中所有NaN值。**\n",
    "\n",
    "- `a = np.array([1, 2, 3, np.nan, 5, 6, 7, np.nan])`\n",
    "\n",
    "【知识点：逻辑函数、搜索】\n",
    "- 如何删除numpy数组中的缺失值？"
   ]
  },
  {
   "cell_type": "code",
   "execution_count": 272,
   "metadata": {
    "ExecuteTime": {
     "end_time": "2020-09-15T07:06:37.705909Z",
     "start_time": "2020-09-15T07:06:37.699887Z"
    }
   },
   "outputs": [
    {
     "name": "stdout",
     "output_type": "stream",
     "text": [
      "[1. 2. 3. 5. 6. 7.]\n"
     ]
    }
   ],
   "source": [
    "import numpy as np\n",
    "\n",
    "a = np.array([1, 2, 3, np.nan, 5, 6, 7, np.nan])\n",
    "b = np.isnan(a)\n",
    "c = np.where(np.logical_not(b))\n",
    "print(a[c])\n",
    "# [1. 2. 3. 5. 6. 7.]"
   ]
  },
  {
   "cell_type": "markdown",
   "metadata": {},
   "source": [
    "## 集合操作"
   ]
  },
  {
   "cell_type": "markdown",
   "metadata": {
    "ExecuteTime": {
     "end_time": "2020-09-06T02:49:53.817130Z",
     "start_time": "2020-09-06T02:49:53.812188Z"
    }
   },
   "source": [
    "**获取数组a和数组b之间的公共项。**\n",
    "\n",
    "- `a = np.array([1, 2, 3, 2, 3, 4, 3, 4, 5, 6])`\n",
    "- `b = np.array([7, 2, 10, 2, 7, 4, 9, 4, 9, 8])`\n",
    "\n",
    "【知识点：集合操作】\n",
    "- 如何获取两个numpy数组之间的公共项？"
   ]
  },
  {
   "cell_type": "code",
   "execution_count": 273,
   "metadata": {
    "ExecuteTime": {
     "end_time": "2020-09-15T07:06:38.496578Z",
     "start_time": "2020-09-15T07:06:38.489570Z"
    }
   },
   "outputs": [
    {
     "name": "stdout",
     "output_type": "stream",
     "text": [
      "[2 4]\n"
     ]
    }
   ],
   "source": [
    "import numpy as np\n",
    "\n",
    "a = np.array([1, 2, 3, 2, 3, 4, 3, 4, 5, 6])\n",
    "b = np.array([7, 2, 10, 2, 7, 4, 9, 4, 9, 8])\n",
    "x = np.intersect1d(a, b)\n",
    "print(x)  # [2 4]"
   ]
  },
  {
   "cell_type": "markdown",
   "metadata": {
    "ExecuteTime": {
     "end_time": "2020-09-06T02:50:45.262179Z",
     "start_time": "2020-09-06T02:50:45.257192Z"
    }
   },
   "source": [
    "**从数组a中删除数组b中的所有项。**\n",
    "- `a = np.array([1, 2, 3, 4, 5])`\n",
    "- `b = np.array([5, 6, 7, 8, 9])`\n",
    "\n",
    "【知识点：集合操作】\n",
    "- 如何从一个数组中删除存在于另一个数组中的项？"
   ]
  },
  {
   "cell_type": "code",
   "execution_count": 274,
   "metadata": {
    "ExecuteTime": {
     "end_time": "2020-09-15T07:06:39.018110Z",
     "start_time": "2020-09-15T07:06:38.996083Z"
    }
   },
   "outputs": [
    {
     "name": "stdout",
     "output_type": "stream",
     "text": [
      "[1 2 3 4]\n"
     ]
    }
   ],
   "source": [
    "import numpy as np\n",
    "\n",
    "a = np.array([1, 2, 3, 4, 5])\n",
    "b = np.array([5, 6, 7, 8, 9])\n",
    "x = np.setdiff1d(a, b)\n",
    "print(x)  # [1 2 3 4]"
   ]
  },
  {
   "cell_type": "code",
   "execution_count": null,
   "metadata": {},
   "outputs": [],
   "source": []
  },
  {
   "cell_type": "code",
   "execution_count": null,
   "metadata": {},
   "outputs": [],
   "source": []
  },
  {
   "cell_type": "code",
   "execution_count": null,
   "metadata": {},
   "outputs": [],
   "source": []
  }
 ],
 "metadata": {
  "kernelspec": {
   "display_name": "Python 3",
   "language": "python",
   "name": "python3"
  },
  "language_info": {
   "codemirror_mode": {
    "name": "ipython",
    "version": 3
   },
   "file_extension": ".py",
   "mimetype": "text/x-python",
   "name": "python",
   "nbconvert_exporter": "python",
   "pygments_lexer": "ipython3",
   "version": "3.7.3"
  },
  "toc-autonumbering": true
 },
 "nbformat": 4,
 "nbformat_minor": 4
}
