{
 "cells": [
  {
   "cell_type": "markdown",
   "metadata": {},
   "source": [
    "task4"
   ]
  },
  {
   "cell_type": "markdown",
   "metadata": {},
   "source": [
    "# 向量化和广播\n",
    "\n",
    "向量化和广播这两个概念是 numpy 内部实现的基础。有了向量化，编写代码时无需使用显式循环。这些循环实际上不能省略，只不过是在内部实现，被代码中的其他结构代替。向量化的应用使得代码更简洁，可读性更强，也可以说使用了向量化方法的代码看上去更“Pythonic”。\n",
    "\n",
    "广播（Broadcasting）机制描述了 numpy 如何在算术运算期间处理具有不同形状的数组，让较小的数组在较大的数组上“广播”，以便它们具有兼容的形状。并不是所有的维度都要彼此兼容才符合广播机制的要求，但它们必须满足一定的条件。\n",
    "\n",
    "若两个数组的各维度兼容，也就是两个数组的每一维等长，或其中一个数组为 一维，那么广播机制就适用。如果这两个条件不满足，numpy就会抛出异常，说两个数组不兼容。\n",
    "\n",
    "总结来说，广播的规则有三个：\n",
    "- 如果两个数组的维度数dim不相同，那么小维度数组的形状将会在左边补1。\n",
    "- 如果shape维度不匹配，但是有维度是1，那么可以扩展维度是1的维度匹配另一个数组；\n",
    "- 如果shape维度不匹配，但是没有任何一个维度是1，则匹配引发错误；\n"
   ]
  },
  {
   "cell_type": "markdown",
   "metadata": {},
   "source": [
    "【例】二维数组加一维数组\n",
    "\n",
    "```python\n",
    "import numpy as np\n",
    "\n",
    "x = np.arange(4)\n",
    "y = np.ones((3, 4))\n",
    "print(x.shape)  # (4,)\n",
    "print(y.shape)  # (3, 4)\n",
    "\n",
    "print((x + y).shape)  # (3, 4)\n",
    "print(x + y)\n",
    "# [[1. 2. 3. 4.]\n",
    "#  [1. 2. 3. 4.]\n",
    "#  [1. 2. 3. 4.]]\n",
    "```\n",
    "\n",
    "\n",
    "【例】两个数组均需要广播\n",
    "```python\n",
    "import numpy as np\n",
    "\n",
    "x = np.arange(4).reshape(4, 1)\n",
    "y = np.ones(5)\n",
    "\n",
    "print(x.shape)  # (4, 1)\n",
    "print(y.shape)  # (5,)\n",
    "\n",
    "print((x + y).shape)  # (4, 5)\n",
    "print(x + y)\n",
    "# [[1. 1. 1. 1. 1.]\n",
    "#  [2. 2. 2. 2. 2.]\n",
    "#  [3. 3. 3. 3. 3.]\n",
    "#  [4. 4. 4. 4. 4.]]\n",
    "\n",
    "x = np.array([0.0, 10.0, 20.0, 30.0])\n",
    "y = np.array([1.0, 2.0, 3.0])\n",
    "z = x[:, np.newaxis] + y \n",
    "print(z)\n",
    "# [[ 1.  2.  3.]\n",
    "#  [11. 12. 13.]\n",
    "#  [21. 22. 23.]\n",
    "#  [31. 32. 33.]]\n",
    "```\n",
    "\n",
    "【例】不匹配报错的例子\n",
    "```python\n",
    "import numpy as np\n",
    "\n",
    "x = np.arange(4)\n",
    "y = np.ones(5)\n",
    "\n",
    "print(x.shape)  # (4,)\n",
    "print(y.shape)  # (5,)\n",
    "\n",
    "print(x + y)\n",
    "# ValueError: operands could not be broadcast together with shapes (4,) (5,) \n",
    "```"
   ]
  },
  {
   "cell_type": "code",
   "execution_count": 3,
   "metadata": {},
   "outputs": [
    {
     "name": "stdout",
     "output_type": "stream",
     "text": [
      "1.18.5\n"
     ]
    }
   ],
   "source": [
    "import numpy as np\n",
    "print(np.version.full_version)"
   ]
  },
  {
   "cell_type": "code",
   "execution_count": 170,
   "metadata": {},
   "outputs": [
    {
     "name": "stdout",
     "output_type": "stream",
     "text": [
      "(4,)\n",
      "(3, 4)\n",
      "(3, 4)\n",
      "[0 1 2 3]\n",
      "[[1. 1. 1. 1.]\n",
      " [1. 1. 1. 1.]\n",
      " [1. 1. 1. 1.]]\n",
      "[[1. 2. 3. 4.]\n",
      " [1. 2. 3. 4.]\n",
      " [1. 2. 3. 4.]]\n"
     ]
    }
   ],
   "source": [
    "#【例】二维数组加一维数组\n",
    "x = np.arange(4)\n",
    "y = np.ones((3, 4))\n",
    "print(x.shape)  # (4,)\n",
    "print(y.shape)  # (3, 4)\n",
    "\n",
    "print((x + y).shape)  # (3, 4)\n",
    "print(x)\n",
    "print(y)\n",
    "print(x + y)\n",
    "# [[1. 2. 3. 4.]\n",
    "#  [1. 2. 3. 4.]\n",
    "#  [1. 2. 3. 4.]]"
   ]
  },
  {
   "cell_type": "code",
   "execution_count": 171,
   "metadata": {},
   "outputs": [
    {
     "name": "stdout",
     "output_type": "stream",
     "text": [
      "(4, 1) \n",
      " [[0]\n",
      " [1]\n",
      " [2]\n",
      " [3]]\n",
      "(5,) \n",
      " [1. 1. 1. 1. 1.]\n",
      "(4, 5)\n",
      "[[1. 1. 1. 1. 1.]\n",
      " [2. 2. 2. 2. 2.]\n",
      " [3. 3. 3. 3. 3.]\n",
      " [4. 4. 4. 4. 4.]]\n"
     ]
    }
   ],
   "source": [
    "#【例】两个数组均需要广播\n",
    "x = np.arange(4).reshape(4, 1)\n",
    "y = np.ones(5)\n",
    "\n",
    "print(x.shape,'\\n',x)  # (4, 1)\n",
    "print(y.shape,'\\n',y)  # (5,)\n",
    "\n",
    "print((x + y).shape)  # (4, 5)\n",
    "print(x + y)\n",
    "# [[1. 1. 1. 1. 1.]\n",
    "#  [2. 2. 2. 2. 2.]\n",
    "#  [3. 3. 3. 3. 3.]\n",
    "#  [4. 4. 4. 4. 4.]]"
   ]
  },
  {
   "cell_type": "code",
   "execution_count": 172,
   "metadata": {},
   "outputs": [
    {
     "name": "stdout",
     "output_type": "stream",
     "text": [
      "[ 0. 10. 20. 30.]\n",
      "[1. 2. 3.]\n",
      "[[ 0.]\n",
      " [10.]\n",
      " [20.]\n",
      " [30.]]\n",
      "[[ 1.  2.  3.]\n",
      " [11. 12. 13.]\n",
      " [21. 22. 23.]\n",
      " [31. 32. 33.]]\n"
     ]
    }
   ],
   "source": [
    "x = np.array([0.0, 10.0, 20.0, 30.0])\n",
    "y = np.array([1.0, 2.0, 3.0])\n",
    "print(x)\n",
    "print(y)\n",
    "z = x[:, np.newaxis] # x[:, np.newaxis]升维\n",
    "print(z)\n",
    "z = x[:, np.newaxis] + y\n",
    "print(z)\n",
    "# [[ 1.  2.  3.]\n",
    "#  [11. 12. 13.]\n",
    "#  [21. 22. 23.]\n",
    "#  [31. 32. 33.]]"
   ]
  },
  {
   "cell_type": "code",
   "execution_count": 173,
   "metadata": {},
   "outputs": [
    {
     "name": "stdout",
     "output_type": "stream",
     "text": [
      "(4,) \n",
      " [0 1 2 3]\n",
      "(5,) \n",
      " [1. 1. 1. 1. 1.]\n"
     ]
    },
    {
     "ename": "ValueError",
     "evalue": "operands could not be broadcast together with shapes (4,) (5,) ",
     "output_type": "error",
     "traceback": [
      "\u001b[0;31m---------------------------------------------------------------------------\u001b[0m",
      "\u001b[0;31mValueError\u001b[0m                                Traceback (most recent call last)",
      "\u001b[0;32m<ipython-input-173-7e775fc9ccff>\u001b[0m in \u001b[0;36m<module>\u001b[0;34m\u001b[0m\n\u001b[1;32m      6\u001b[0m \u001b[0mprint\u001b[0m\u001b[0;34m(\u001b[0m\u001b[0my\u001b[0m\u001b[0;34m.\u001b[0m\u001b[0mshape\u001b[0m\u001b[0;34m,\u001b[0m\u001b[0;34m'\\n'\u001b[0m\u001b[0;34m,\u001b[0m\u001b[0my\u001b[0m\u001b[0;34m)\u001b[0m  \u001b[0;31m# (5,)\u001b[0m\u001b[0;34m\u001b[0m\u001b[0;34m\u001b[0m\u001b[0m\n\u001b[1;32m      7\u001b[0m \u001b[0;34m\u001b[0m\u001b[0m\n\u001b[0;32m----> 8\u001b[0;31m \u001b[0mprint\u001b[0m\u001b[0;34m(\u001b[0m\u001b[0mx\u001b[0m \u001b[0;34m+\u001b[0m \u001b[0my\u001b[0m\u001b[0;34m)\u001b[0m\u001b[0;34m\u001b[0m\u001b[0;34m\u001b[0m\u001b[0m\n\u001b[0m\u001b[1;32m      9\u001b[0m \u001b[0;31m# ValueError: operands could not be broadcast together with shapes (4,) (5,)\u001b[0m\u001b[0;34m\u001b[0m\u001b[0;34m\u001b[0m\u001b[0;34m\u001b[0m\u001b[0m\n",
      "\u001b[0;31mValueError\u001b[0m: operands could not be broadcast together with shapes (4,) (5,) "
     ]
    }
   ],
   "source": [
    "#【例】不匹配报错的例子\n",
    "x = np.arange(4)\n",
    "y = np.ones(5)\n",
    "\n",
    "print(x.shape,'\\n',x)  # (4,)\n",
    "print(y.shape,'\\n',y)  # (5,)\n",
    "\n",
    "print(x + y)\n",
    "# ValueError: operands could not be broadcast together with shapes (4,) (5,) "
   ]
  },
  {
   "cell_type": "markdown",
   "metadata": {},
   "source": [
    "# 数学函数"
   ]
  },
  {
   "cell_type": "markdown",
   "metadata": {},
   "source": [
    "## 算数运算"
   ]
  },
  {
   "cell_type": "markdown",
   "metadata": {},
   "source": [
    "### numpy.add\n",
    "- `numpy.add(x1, x2, *args, **kwargs)` Add arguments element-wise.    "
   ]
  },
  {
   "cell_type": "markdown",
   "metadata": {},
   "source": [
    "### numpy.subtract\n",
    "- `numpy.subtract(x1, x2, *args, **kwargs)` Subtract arguments element-wise.          "
   ]
  },
  {
   "cell_type": "markdown",
   "metadata": {},
   "source": [
    "### numpy.multiply\n",
    "- `numpy.multiply(x1, x2, *args, **kwargs)` Multiply arguments element-wise.      "
   ]
  },
  {
   "cell_type": "markdown",
   "metadata": {},
   "source": [
    "### numpy.divide\n",
    "- `numpy.divide(x1, x2, *args, **kwargs)` Returns a true division of the inputs, element-wise.         "
   ]
  },
  {
   "cell_type": "markdown",
   "metadata": {},
   "source": [
    "### numpy.floor_divide\n",
    "- `numpy.floor_divide(x1, x2, *args, **kwargs)` Return the largest integer smaller or equal to the division of the inputs.         "
   ]
  },
  {
   "cell_type": "markdown",
   "metadata": {},
   "source": [
    "### numpy.power\n",
    "- `numpy.power(x1, x2, *args, **kwargs)` First array elements raised to powers from second array, element-wise.       \n",
    "    \n",
    "    \n",
    "在 numpy 中对以上函数进行了运算符的重载，且运算符为 **元素级**。也就是说，它们只用于位置相同的元素之间，所得到的运算结果组成一个新的数组。\n"
   ]
  },
  {
   "cell_type": "markdown",
   "metadata": {},
   "source": [
    "【例】注意 numpy 的广播规则。\n",
    "```python\n",
    "import numpy as np\n",
    "\n",
    "x = np.array([1, 2, 3, 4, 5, 6, 7, 8])\n",
    "y = x + 1\n",
    "print(y)\n",
    "print(np.add(x, 1))\n",
    "# [2 3 4 5 6 7 8 9]\n",
    "\n",
    "y = x - 1\n",
    "print(y)\n",
    "print(np.subtract(x, 1))\n",
    "# [0 1 2 3 4 5 6 7]\n",
    "\n",
    "y = x * 2\n",
    "print(y)\n",
    "print(np.multiply(x, 2))\n",
    "# [ 2  4  6  8 10 12 14 16]\n",
    "\n",
    "y = x / 2\n",
    "print(y)\n",
    "print(np.divide(x, 2))\n",
    "# [0.5 1.  1.5 2.  2.5 3.  3.5 4. ]\n",
    "\n",
    "y = x // 2\n",
    "print(y)\n",
    "print(np.floor_divide(x, 2))\n",
    "# [0 1 1 2 2 3 3 4]\n",
    "\n",
    "y = x ** 2\n",
    "print(y)\n",
    "print(np.power(x, 2))\n",
    "# [ 1  4  9 16 25 36 49 64]\n",
    "```\n",
    "\n",
    "\n",
    "\n",
    "\n",
    "【例】注意 numpy 的广播规则。\n",
    "```python\n",
    "import numpy as np\n",
    "\n",
    "x = np.array([[11, 12, 13, 14, 15],\n",
    "              [16, 17, 18, 19, 20],\n",
    "              [21, 22, 23, 24, 25],\n",
    "              [26, 27, 28, 29, 30],\n",
    "              [31, 32, 33, 34, 35]])\n",
    "y = x + 1\n",
    "print(y)\n",
    "print(np.add(x, 1))\n",
    "# [[12 13 14 15 16]\n",
    "#  [17 18 19 20 21]\n",
    "#  [22 23 24 25 26]\n",
    "#  [27 28 29 30 31]\n",
    "#  [32 33 34 35 36]]\n",
    "\n",
    "y = x - 1\n",
    "print(y)\n",
    "print(np.subtract(x, 1))\n",
    "# [[10 11 12 13 14]\n",
    "#  [15 16 17 18 19]\n",
    "#  [20 21 22 23 24]\n",
    "#  [25 26 27 28 29]\n",
    "#  [30 31 32 33 34]]\n",
    "\n",
    "y = x * 2\n",
    "print(y)\n",
    "print(np.multiply(x, 2))\n",
    "# [[22 24 26 28 30]\n",
    "#  [32 34 36 38 40]\n",
    "#  [42 44 46 48 50]\n",
    "#  [52 54 56 58 60]\n",
    "#  [62 64 66 68 70]]\n",
    "\n",
    "y = x / 2\n",
    "print(y)\n",
    "print(np.divide(x, 2))\n",
    "# [[ 5.5  6.   6.5  7.   7.5]\n",
    "#  [ 8.   8.5  9.   9.5 10. ]\n",
    "#  [10.5 11.  11.5 12.  12.5]\n",
    "#  [13.  13.5 14.  14.5 15. ]\n",
    "#  [15.5 16.  16.5 17.  17.5]]\n",
    "\n",
    "y = x // 2\n",
    "print(y)\n",
    "print(np.floor_divide(x, 2))\n",
    "# [[ 5  6  6  7  7]\n",
    "#  [ 8  8  9  9 10]\n",
    "#  [10 11 11 12 12]\n",
    "#  [13 13 14 14 15]\n",
    "#  [15 16 16 17 17]]\n",
    "\n",
    "y = x ** 2\n",
    "print(y)\n",
    "print(np.power(x, 2))\n",
    "# [[ 121  144  169  196  225]\n",
    "#  [ 256  289  324  361  400]\n",
    "#  [ 441  484  529  576  625]\n",
    "#  [ 676  729  784  841  900]\n",
    "#  [ 961 1024 1089 1156 1225]]\n",
    "```\n",
    "\n",
    "【例】注意 numpy 的广播规则。\n",
    "```python\n",
    "import numpy as np\n",
    "\n",
    "x = np.array([[11, 12, 13, 14, 15],\n",
    "              [16, 17, 18, 19, 20],\n",
    "              [21, 22, 23, 24, 25],\n",
    "              [26, 27, 28, 29, 30],\n",
    "              [31, 32, 33, 34, 35]])\n",
    "\n",
    "y = np.arange(1, 6)\n",
    "print(y)\n",
    "# [1 2 3 4 5]\n",
    "\n",
    "z = x + y\n",
    "print(z)\n",
    "print(np.add(x, y))\n",
    "# [[12 14 16 18 20]\n",
    "#  [17 19 21 23 25]\n",
    "#  [22 24 26 28 30]\n",
    "#  [27 29 31 33 35]\n",
    "#  [32 34 36 38 40]]\n",
    "\n",
    "z = x - y\n",
    "print(z)\n",
    "print(np.subtract(x, y))\n",
    "# [[10 10 10 10 10]\n",
    "#  [15 15 15 15 15]\n",
    "#  [20 20 20 20 20]\n",
    "#  [25 25 25 25 25]\n",
    "#  [30 30 30 30 30]]\n",
    "\n",
    "z = x * y\n",
    "print(z)\n",
    "print(np.multiply(x, y))\n",
    "# [[ 11  24  39  56  75]\n",
    "#  [ 16  34  54  76 100]\n",
    "#  [ 21  44  69  96 125]\n",
    "#  [ 26  54  84 116 150]\n",
    "#  [ 31  64  99 136 175]]\n",
    "\n",
    "z = x / y\n",
    "print(z)\n",
    "print(np.divide(x, y))\n",
    "# [[11.          6.          4.33333333  3.5         3.        ]\n",
    "#  [16.          8.5         6.          4.75        4.        ]\n",
    "#  [21.         11.          7.66666667  6.          5.        ]\n",
    "#  [26.         13.5         9.33333333  7.25        6.        ]\n",
    "#  [31.         16.         11.          8.5         7.        ]]\n",
    "\n",
    "z = x // y\n",
    "print(z)\n",
    "print(np.floor_divide(x, y))\n",
    "# [[11  6  4  3  3]\n",
    "#  [16  8  6  4  4]\n",
    "#  [21 11  7  6  5]\n",
    "#  [26 13  9  7  6]\n",
    "#  [31 16 11  8  7]]\n",
    "\n",
    "z = x ** np.full([1, 5], 2)\n",
    "print(z)\n",
    "print(np.power(x, np.full([5, 5], 2)))\n",
    "# [[ 121  144  169  196  225]\n",
    "#  [ 256  289  324  361  400]\n",
    "#  [ 441  484  529  576  625]\n",
    "#  [ 676  729  784  841  900]\n",
    "#  [ 961 1024 1089 1156 1225]]\n",
    "```\n",
    "\n",
    "\n",
    "【例】\n",
    "```python\n",
    "import numpy as np\n",
    "\n",
    "x = np.array([[11, 12, 13, 14, 15],\n",
    "              [16, 17, 18, 19, 20],\n",
    "              [21, 22, 23, 24, 25],\n",
    "              [26, 27, 28, 29, 30],\n",
    "              [31, 32, 33, 34, 35]])\n",
    "\n",
    "y = np.arange(1, 26).reshape([5, 5])\n",
    "print(y)\n",
    "# [[ 1  2  3  4  5]\n",
    "#  [ 6  7  8  9 10]\n",
    "#  [11 12 13 14 15]\n",
    "#  [16 17 18 19 20]\n",
    "#  [21 22 23 24 25]]\n",
    "\n",
    "z = x + y\n",
    "print(z)\n",
    "print(np.add(x, y))\n",
    "# [[12 14 16 18 20]\n",
    "#  [22 24 26 28 30]\n",
    "#  [32 34 36 38 40]\n",
    "#  [42 44 46 48 50]\n",
    "#  [52 54 56 58 60]]\n",
    "\n",
    "z = x - y\n",
    "print(z)\n",
    "print(np.subtract(x, y))\n",
    "# [[10 10 10 10 10]\n",
    "#  [10 10 10 10 10]\n",
    "#  [10 10 10 10 10]\n",
    "#  [10 10 10 10 10]\n",
    "#  [10 10 10 10 10]]\n",
    "\n",
    "z = x * y\n",
    "print(z)\n",
    "print(np.multiply(x, y))\n",
    "# [[ 11  24  39  56  75]\n",
    "#  [ 96 119 144 171 200]\n",
    "#  [231 264 299 336 375]\n",
    "#  [416 459 504 551 600]\n",
    "#  [651 704 759 816 875]]\n",
    "\n",
    "z = x / y\n",
    "print(z)\n",
    "print(np.divide(x, y))\n",
    "# [[11.          6.          4.33333333  3.5         3.        ]\n",
    "#  [ 2.66666667  2.42857143  2.25        2.11111111  2.        ]\n",
    "#  [ 1.90909091  1.83333333  1.76923077  1.71428571  1.66666667]\n",
    "#  [ 1.625       1.58823529  1.55555556  1.52631579  1.5       ]\n",
    "#  [ 1.47619048  1.45454545  1.43478261  1.41666667  1.4       ]]\n",
    "\n",
    "z = x // y\n",
    "print(z)\n",
    "print(np.floor_divide(x, y))\n",
    "# [[11  6  4  3  3]\n",
    "#  [ 2  2  2  2  2]\n",
    "#  [ 1  1  1  1  1]\n",
    "#  [ 1  1  1  1  1]\n",
    "#  [ 1  1  1  1  1]]\n",
    "\n",
    "z = x ** np.full([5, 5], 2)\n",
    "print(z)\n",
    "print(np.power(x, np.full([5, 5], 2)))\n",
    "# [[ 121  144  169  196  225]\n",
    "#  [ 256  289  324  361  400]\n",
    "#  [ 441  484  529  576  625]\n",
    "#  [ 676  729  784  841  900]\n",
    "#  [ 961 1024 1089 1156 1225]]\n",
    "```"
   ]
  },
  {
   "cell_type": "code",
   "execution_count": 174,
   "metadata": {},
   "outputs": [
    {
     "name": "stdout",
     "output_type": "stream",
     "text": [
      "[2 3 4 5 6 7 8 9]\n",
      "[2 3 4 5 6 7 8 9]\n"
     ]
    }
   ],
   "source": [
    "#【例】注意 numpy 的广播规则。\n",
    "x = np.array([1, 2, 3, 4, 5, 6, 7, 8])\n",
    "y = x + 1\n",
    "print(y)\n",
    "print(np.add(x, 1))\n",
    "# [2 3 4 5 6 7 8 9]"
   ]
  },
  {
   "cell_type": "code",
   "execution_count": 175,
   "metadata": {},
   "outputs": [
    {
     "name": "stdout",
     "output_type": "stream",
     "text": [
      "[0 1 2 3 4 5 6 7]\n",
      "[0 1 2 3 4 5 6 7]\n"
     ]
    }
   ],
   "source": [
    "y = x - 1\n",
    "print(y)\n",
    "print(np.subtract(x, 1))\n",
    "# [0 1 2 3 4 5 6 7]"
   ]
  },
  {
   "cell_type": "code",
   "execution_count": 176,
   "metadata": {},
   "outputs": [
    {
     "name": "stdout",
     "output_type": "stream",
     "text": [
      "[ 2  4  6  8 10 12 14 16]\n",
      "[ 2  4  6  8 10 12 14 16]\n"
     ]
    }
   ],
   "source": [
    "y = x * 2\n",
    "print(y)\n",
    "print(np.multiply(x, 2))\n",
    "# [ 2  4  6  8 10 12 14 16]"
   ]
  },
  {
   "cell_type": "code",
   "execution_count": 177,
   "metadata": {},
   "outputs": [
    {
     "name": "stdout",
     "output_type": "stream",
     "text": [
      "[0.5 1.  1.5 2.  2.5 3.  3.5 4. ]\n",
      "[0.5 1.  1.5 2.  2.5 3.  3.5 4. ]\n"
     ]
    }
   ],
   "source": [
    "y = x / 2\n",
    "print(y)\n",
    "print(np.divide(x, 2))\n",
    "# [0.5 1.  1.5 2.  2.5 3.  3.5 4. ]"
   ]
  },
  {
   "cell_type": "code",
   "execution_count": 178,
   "metadata": {},
   "outputs": [
    {
     "name": "stdout",
     "output_type": "stream",
     "text": [
      "[0 1 1 2 2 3 3 4]\n",
      "[0 1 1 2 2 3 3 4]\n"
     ]
    }
   ],
   "source": [
    "y = x // 2\n",
    "print(y)\n",
    "print(np.floor_divide(x, 2))\n",
    "# [0 1 1 2 2 3 3 4]"
   ]
  },
  {
   "cell_type": "code",
   "execution_count": 179,
   "metadata": {},
   "outputs": [
    {
     "name": "stdout",
     "output_type": "stream",
     "text": [
      "[ 1  4  9 16 25 36 49 64]\n",
      "[ 1  4  9 16 25 36 49 64]\n"
     ]
    }
   ],
   "source": [
    "y = x ** 2\n",
    "print(y)\n",
    "print(np.power(x, 2))\n",
    "# [ 1  4  9 16 25 36 49 64]"
   ]
  },
  {
   "cell_type": "code",
   "execution_count": 180,
   "metadata": {},
   "outputs": [
    {
     "name": "stdout",
     "output_type": "stream",
     "text": [
      "[[12 13 14 15 16]\n",
      " [17 18 19 20 21]\n",
      " [22 23 24 25 26]\n",
      " [27 28 29 30 31]\n",
      " [32 33 34 35 36]]\n",
      "[[12 13 14 15 16]\n",
      " [17 18 19 20 21]\n",
      " [22 23 24 25 26]\n",
      " [27 28 29 30 31]\n",
      " [32 33 34 35 36]]\n"
     ]
    }
   ],
   "source": [
    "##【例】注意 numpy 的广播规则。\n",
    "x = np.array([[11, 12, 13, 14, 15],\n",
    "              [16, 17, 18, 19, 20],\n",
    "              [21, 22, 23, 24, 25],\n",
    "              [26, 27, 28, 29, 30],\n",
    "              [31, 32, 33, 34, 35]])\n",
    "y = x + 1\n",
    "print(y)\n",
    "print(np.add(x, 1))\n",
    "# [[12 13 14 15 16]\n",
    "#  [17 18 19 20 21]\n",
    "#  [22 23 24 25 26]\n",
    "#  [27 28 29 30 31]\n",
    "#  [32 33 34 35 36]]"
   ]
  },
  {
   "cell_type": "code",
   "execution_count": 181,
   "metadata": {},
   "outputs": [
    {
     "name": "stdout",
     "output_type": "stream",
     "text": [
      "[[10 11 12 13 14]\n",
      " [15 16 17 18 19]\n",
      " [20 21 22 23 24]\n",
      " [25 26 27 28 29]\n",
      " [30 31 32 33 34]]\n",
      "[[10 11 12 13 14]\n",
      " [15 16 17 18 19]\n",
      " [20 21 22 23 24]\n",
      " [25 26 27 28 29]\n",
      " [30 31 32 33 34]]\n"
     ]
    }
   ],
   "source": [
    "y = x - 1\n",
    "print(y)\n",
    "print(np.subtract(x, 1))\n",
    "# [[10 11 12 13 14]\n",
    "#  [15 16 17 18 19]\n",
    "#  [20 21 22 23 24]\n",
    "#  [25 26 27 28 29]\n",
    "#  [30 31 32 33 34]]"
   ]
  },
  {
   "cell_type": "code",
   "execution_count": 182,
   "metadata": {},
   "outputs": [
    {
     "name": "stdout",
     "output_type": "stream",
     "text": [
      "[[22 24 26 28 30]\n",
      " [32 34 36 38 40]\n",
      " [42 44 46 48 50]\n",
      " [52 54 56 58 60]\n",
      " [62 64 66 68 70]]\n",
      "[[22 24 26 28 30]\n",
      " [32 34 36 38 40]\n",
      " [42 44 46 48 50]\n",
      " [52 54 56 58 60]\n",
      " [62 64 66 68 70]]\n"
     ]
    }
   ],
   "source": [
    "y = x * 2\n",
    "print(y)\n",
    "print(np.multiply(x, 2))\n",
    "# [[22 24 26 28 30]\n",
    "#  [32 34 36 38 40]\n",
    "#  [42 44 46 48 50]\n",
    "#  [52 54 56 58 60]\n",
    "#  [62 64 66 68 70]]"
   ]
  },
  {
   "cell_type": "code",
   "execution_count": 183,
   "metadata": {},
   "outputs": [
    {
     "name": "stdout",
     "output_type": "stream",
     "text": [
      "[[ 5.5  6.   6.5  7.   7.5]\n",
      " [ 8.   8.5  9.   9.5 10. ]\n",
      " [10.5 11.  11.5 12.  12.5]\n",
      " [13.  13.5 14.  14.5 15. ]\n",
      " [15.5 16.  16.5 17.  17.5]]\n",
      "[[ 5.5  6.   6.5  7.   7.5]\n",
      " [ 8.   8.5  9.   9.5 10. ]\n",
      " [10.5 11.  11.5 12.  12.5]\n",
      " [13.  13.5 14.  14.5 15. ]\n",
      " [15.5 16.  16.5 17.  17.5]]\n"
     ]
    }
   ],
   "source": [
    "y = x / 2\n",
    "print(y)\n",
    "print(np.divide(x, 2))\n",
    "# [[ 5.5  6.   6.5  7.   7.5]\n",
    "#  [ 8.   8.5  9.   9.5 10. ]\n",
    "#  [10.5 11.  11.5 12.  12.5]\n",
    "#  [13.  13.5 14.  14.5 15. ]\n",
    "#  [15.5 16.  16.5 17.  17.5]]"
   ]
  },
  {
   "cell_type": "code",
   "execution_count": 184,
   "metadata": {},
   "outputs": [
    {
     "name": "stdout",
     "output_type": "stream",
     "text": [
      "[[ 5  6  6  7  7]\n",
      " [ 8  8  9  9 10]\n",
      " [10 11 11 12 12]\n",
      " [13 13 14 14 15]\n",
      " [15 16 16 17 17]]\n",
      "[[ 5  6  6  7  7]\n",
      " [ 8  8  9  9 10]\n",
      " [10 11 11 12 12]\n",
      " [13 13 14 14 15]\n",
      " [15 16 16 17 17]]\n"
     ]
    }
   ],
   "source": [
    "y = x // 2\n",
    "print(y)\n",
    "print(np.floor_divide(x, 2))\n",
    "# [[ 5  6  6  7  7]\n",
    "#  [ 8  8  9  9 10]\n",
    "#  [10 11 11 12 12]\n",
    "#  [13 13 14 14 15]\n",
    "#  [15 16 16 17 17]]"
   ]
  },
  {
   "cell_type": "code",
   "execution_count": 185,
   "metadata": {},
   "outputs": [
    {
     "name": "stdout",
     "output_type": "stream",
     "text": [
      "[[ 121  144  169  196  225]\n",
      " [ 256  289  324  361  400]\n",
      " [ 441  484  529  576  625]\n",
      " [ 676  729  784  841  900]\n",
      " [ 961 1024 1089 1156 1225]]\n",
      "[[ 121  144  169  196  225]\n",
      " [ 256  289  324  361  400]\n",
      " [ 441  484  529  576  625]\n",
      " [ 676  729  784  841  900]\n",
      " [ 961 1024 1089 1156 1225]]\n"
     ]
    }
   ],
   "source": [
    "y = x ** 2\n",
    "print(y)\n",
    "print(np.power(x, 2))\n",
    "# [[ 121  144  169  196  225]\n",
    "#  [ 256  289  324  361  400]\n",
    "#  [ 441  484  529  576  625]\n",
    "#  [ 676  729  784  841  900]\n",
    "#  [ 961 1024 1089 1156 1225]]"
   ]
  },
  {
   "cell_type": "code",
   "execution_count": null,
   "metadata": {},
   "outputs": [],
   "source": []
  },
  {
   "cell_type": "code",
   "execution_count": 186,
   "metadata": {},
   "outputs": [
    {
     "name": "stdout",
     "output_type": "stream",
     "text": [
      "(5, 5) \n",
      " [[11 12 13 14 15]\n",
      " [16 17 18 19 20]\n",
      " [21 22 23 24 25]\n",
      " [26 27 28 29 30]\n",
      " [31 32 33 34 35]]\n",
      "(5,) \n",
      " [1 2 3 4 5]\n"
     ]
    }
   ],
   "source": [
    "#【例】注意 numpy 的广播规则。\n",
    "x = np.array([[11, 12, 13, 14, 15],\n",
    "              [16, 17, 18, 19, 20],\n",
    "              [21, 22, 23, 24, 25],\n",
    "              [26, 27, 28, 29, 30],\n",
    "              [31, 32, 33, 34, 35]])\n",
    "\n",
    "y = np.arange(1, 6)\n",
    "print(x.shape,'\\n',x)\n",
    "print(y.shape,'\\n',y)\n",
    "# [1 2 3 4 5]"
   ]
  },
  {
   "cell_type": "code",
   "execution_count": 190,
   "metadata": {},
   "outputs": [
    {
     "name": "stdout",
     "output_type": "stream",
     "text": [
      "[[12 14 16 18 20]\n",
      " [17 19 21 23 25]\n",
      " [22 24 26 28 30]\n",
      " [27 29 31 33 35]\n",
      " [32 34 36 38 40]]\n",
      "[[12 14 16 18 20]\n",
      " [17 19 21 23 25]\n",
      " [22 24 26 28 30]\n",
      " [27 29 31 33 35]\n",
      " [32 34 36 38 40]]\n"
     ]
    }
   ],
   "source": [
    "z = x + y\n",
    "#print(x.shape,'\\n',x)\n",
    "#print(y.shape,'\\n',y)\n",
    "print(z)\n",
    "print(np.add(x, y))\n",
    "# [[12 14 16 18 20]\n",
    "#  [17 19 21 23 25]\n",
    "#  [22 24 26 28 30]\n",
    "#  [27 29 31 33 35]\n",
    "#  [32 34 36 38 40]]"
   ]
  },
  {
   "cell_type": "code",
   "execution_count": 198,
   "metadata": {},
   "outputs": [
    {
     "name": "stdout",
     "output_type": "stream",
     "text": [
      "x.shape=(5, 5),y.shape=(5,)\n",
      "x - y=\n",
      "[[10 10 10 10 10]\n",
      " [15 15 15 15 15]\n",
      " [20 20 20 20 20]\n",
      " [25 25 25 25 25]\n",
      " [30 30 30 30 30]]\n",
      "[[10 10 10 10 10]\n",
      " [15 15 15 15 15]\n",
      " [20 20 20 20 20]\n",
      " [25 25 25 25 25]\n",
      " [30 30 30 30 30]]\n"
     ]
    }
   ],
   "source": [
    "print(f'x.shape={x.shape},y.shape={y.shape}')\n",
    "z = x - y\n",
    "print(f'x - y=\\n{z}')\n",
    "print(np.subtract(x, y))\n",
    "# [[10 10 10 10 10]\n",
    "#  [15 15 15 15 15]\n",
    "#  [20 20 20 20 20]\n",
    "#  [25 25 25 25 25]\n",
    "#  [30 30 30 30 30]]"
   ]
  },
  {
   "cell_type": "code",
   "execution_count": 199,
   "metadata": {},
   "outputs": [
    {
     "name": "stdout",
     "output_type": "stream",
     "text": [
      "[[ 11  24  39  56  75]\n",
      " [ 16  34  54  76 100]\n",
      " [ 21  44  69  96 125]\n",
      " [ 26  54  84 116 150]\n",
      " [ 31  64  99 136 175]]\n",
      "[[ 11  24  39  56  75]\n",
      " [ 16  34  54  76 100]\n",
      " [ 21  44  69  96 125]\n",
      " [ 26  54  84 116 150]\n",
      " [ 31  64  99 136 175]]\n"
     ]
    }
   ],
   "source": [
    "z = x * y\n",
    "print(z)\n",
    "print(np.multiply(x, y))\n",
    "# [[ 11  24  39  56  75]\n",
    "#  [ 16  34  54  76 100]\n",
    "#  [ 21  44  69  96 125]\n",
    "#  [ 26  54  84 116 150]\n",
    "#  [ 31  64  99 136 175]]"
   ]
  },
  {
   "cell_type": "code",
   "execution_count": 200,
   "metadata": {},
   "outputs": [
    {
     "name": "stdout",
     "output_type": "stream",
     "text": [
      "[[11.          6.          4.33333333  3.5         3.        ]\n",
      " [16.          8.5         6.          4.75        4.        ]\n",
      " [21.         11.          7.66666667  6.          5.        ]\n",
      " [26.         13.5         9.33333333  7.25        6.        ]\n",
      " [31.         16.         11.          8.5         7.        ]]\n",
      "[[11.          6.          4.33333333  3.5         3.        ]\n",
      " [16.          8.5         6.          4.75        4.        ]\n",
      " [21.         11.          7.66666667  6.          5.        ]\n",
      " [26.         13.5         9.33333333  7.25        6.        ]\n",
      " [31.         16.         11.          8.5         7.        ]]\n"
     ]
    }
   ],
   "source": [
    "z = x / y\n",
    "print(z)\n",
    "print(np.divide(x, y))\n",
    "# [[11.          6.          4.33333333  3.5         3.        ]\n",
    "#  [16.          8.5         6.          4.75        4.        ]\n",
    "#  [21.         11.          7.66666667  6.          5.        ]\n",
    "#  [26.         13.5         9.33333333  7.25        6.        ]\n",
    "#  [31.         16.         11.          8.5         7.        ]]"
   ]
  },
  {
   "cell_type": "code",
   "execution_count": 201,
   "metadata": {},
   "outputs": [
    {
     "name": "stdout",
     "output_type": "stream",
     "text": [
      "[[11  6  4  3  3]\n",
      " [16  8  6  4  4]\n",
      " [21 11  7  6  5]\n",
      " [26 13  9  7  6]\n",
      " [31 16 11  8  7]]\n",
      "[[11  6  4  3  3]\n",
      " [16  8  6  4  4]\n",
      " [21 11  7  6  5]\n",
      " [26 13  9  7  6]\n",
      " [31 16 11  8  7]]\n"
     ]
    }
   ],
   "source": [
    "z = x // y\n",
    "print(z)\n",
    "print(np.floor_divide(x, y))\n",
    "# [[11  6  4  3  3]\n",
    "#  [16  8  6  4  4]\n",
    "#  [21 11  7  6  5]\n",
    "#  [26 13  9  7  6]\n",
    "#  [31 16 11  8  7]]"
   ]
  },
  {
   "cell_type": "code",
   "execution_count": 202,
   "metadata": {},
   "outputs": [
    {
     "name": "stdout",
     "output_type": "stream",
     "text": [
      "(5, 5) \n",
      " [[11 12 13 14 15]\n",
      " [16 17 18 19 20]\n",
      " [21 22 23 24 25]\n",
      " [26 27 28 29 30]\n",
      " [31 32 33 34 35]]\n",
      "(1, 5) \n",
      " [[2 2 2 2 2]]\n",
      "[[ 121  144  169  196  225]\n",
      " [ 256  289  324  361  400]\n",
      " [ 441  484  529  576  625]\n",
      " [ 676  729  784  841  900]\n",
      " [ 961 1024 1089 1156 1225]]\n",
      "[[ 121  144  169  196  225]\n",
      " [ 256  289  324  361  400]\n",
      " [ 441  484  529  576  625]\n",
      " [ 676  729  784  841  900]\n",
      " [ 961 1024 1089 1156 1225]]\n"
     ]
    }
   ],
   "source": [
    "print(x.shape,'\\n',x)\n",
    "print(np.full([1, 5], 2).shape,'\\n',np.full([1, 5], 2))\n",
    "z = x ** np.full([1, 5], 2)\n",
    "print(z)\n",
    "print(np.power(x, np.full([5, 5], 2)))\n",
    "# [[ 121  144  169  196  225]\n",
    "#  [ 256  289  324  361  400]\n",
    "#  [ 441  484  529  576  625]\n",
    "#  [ 676  729  784  841  900]\n",
    "#  [ 961 1024 1089 1156 1225]]"
   ]
  },
  {
   "cell_type": "code",
   "execution_count": null,
   "metadata": {},
   "outputs": [],
   "source": []
  },
  {
   "cell_type": "code",
   "execution_count": 203,
   "metadata": {},
   "outputs": [
    {
     "name": "stdout",
     "output_type": "stream",
     "text": [
      "(5, 6) \n",
      " [[ 0 11 12 13 14 15]\n",
      " [ 1 16 17 18 19 20]\n",
      " [ 2 21 22 23 24 25]\n",
      " [ 3 26 27 28 29 30]\n",
      " [ 4 31 32 33 34 35]]\n",
      "(5,) \n",
      " [1 2 3 4 5]\n"
     ]
    }
   ],
   "source": [
    "#【例】注意 numpy 的广播规则。----------改变维数\n",
    "x = np.array([[0,11, 12, 13, 14, 15],\n",
    "              [1,16, 17, 18, 19, 20],\n",
    "              [2,21, 22, 23, 24, 25],\n",
    "              [3,26, 27, 28, 29, 30],\n",
    "              [4,31, 32, 33, 34, 35]])\n",
    "\n",
    "y = np.arange(1, 6)\n",
    "print(x.shape,'\\n',x)\n",
    "print(y.shape,'\\n',y)\n",
    "# [1 2 3 4 5]"
   ]
  },
  {
   "cell_type": "code",
   "execution_count": 86,
   "metadata": {},
   "outputs": [],
   "source": [
    "#z = x + y  \n",
    "#print(z) #ValueError: operands could not be broadcast together with shapes (5,6) (5,)\n",
    "\n",
    "#print(np.add(x, y)) #ValueError: operands could not be broadcast together with shapes (5,6) (5,) \n"
   ]
  },
  {
   "cell_type": "code",
   "execution_count": 204,
   "metadata": {},
   "outputs": [
    {
     "name": "stdout",
     "output_type": "stream",
     "text": [
      "[[ 1 12 13 14 15 16]\n",
      " [ 3 18 19 20 21 22]\n",
      " [ 5 24 25 26 27 28]\n",
      " [ 7 30 31 32 33 34]\n",
      " [ 9 36 37 38 39 40]]\n",
      "[[ 1 12 13 14 15 16]\n",
      " [ 3 18 19 20 21 22]\n",
      " [ 5 24 25 26 27 28]\n",
      " [ 7 30 31 32 33 34]\n",
      " [ 9 36 37 38 39 40]]\n"
     ]
    }
   ],
   "source": [
    "z = x + y.T[:, np.newaxis] #需要先给y转置然后再升维  \n",
    "print(z)\n",
    "print(np.add(x, y.T[:, np.newaxis]))\n",
    "#[[ 1. 11. 21. 31.]\n",
    "# [ 2. 12. 22. 32.]\n",
    "# [ 3. 13. 23. 33.]]"
   ]
  },
  {
   "cell_type": "code",
   "execution_count": 205,
   "metadata": {},
   "outputs": [
    {
     "name": "stdout",
     "output_type": "stream",
     "text": [
      "[[-1 10 11 12 13 14]\n",
      " [-1 14 15 16 17 18]\n",
      " [-1 18 19 20 21 22]\n",
      " [-1 22 23 24 25 26]\n",
      " [-1 26 27 28 29 30]]\n",
      "[[-1 10 11 12 13 14]\n",
      " [-1 14 15 16 17 18]\n",
      " [-1 18 19 20 21 22]\n",
      " [-1 22 23 24 25 26]\n",
      " [-1 26 27 28 29 30]]\n"
     ]
    }
   ],
   "source": [
    "z = x - y.T[:, np.newaxis]\n",
    "print(z)\n",
    "print(np.subtract(x, y.T[:, np.newaxis]))"
   ]
  },
  {
   "cell_type": "code",
   "execution_count": 206,
   "metadata": {},
   "outputs": [
    {
     "name": "stdout",
     "output_type": "stream",
     "text": [
      "[[  0  11  12  13  14  15]\n",
      " [  2  32  34  36  38  40]\n",
      " [  6  63  66  69  72  75]\n",
      " [ 12 104 108 112 116 120]\n",
      " [ 20 155 160 165 170 175]]\n",
      "[[  0  11  12  13  14  15]\n",
      " [  2  32  34  36  38  40]\n",
      " [  6  63  66  69  72  75]\n",
      " [ 12 104 108 112 116 120]\n",
      " [ 20 155 160 165 170 175]]\n"
     ]
    }
   ],
   "source": [
    "z = x * y.T[:, np.newaxis]\n",
    "print(z)\n",
    "print(np.multiply(x, y.T[:, np.newaxis]))"
   ]
  },
  {
   "cell_type": "code",
   "execution_count": 207,
   "metadata": {},
   "outputs": [
    {
     "name": "stdout",
     "output_type": "stream",
     "text": [
      "[[ 0.         11.         12.         13.         14.         15.        ]\n",
      " [ 0.5         8.          8.5         9.          9.5        10.        ]\n",
      " [ 0.66666667  7.          7.33333333  7.66666667  8.          8.33333333]\n",
      " [ 0.75        6.5         6.75        7.          7.25        7.5       ]\n",
      " [ 0.8         6.2         6.4         6.6         6.8         7.        ]]\n",
      "[[ 0.         11.         12.         13.         14.         15.        ]\n",
      " [ 0.5         8.          8.5         9.          9.5        10.        ]\n",
      " [ 0.66666667  7.          7.33333333  7.66666667  8.          8.33333333]\n",
      " [ 0.75        6.5         6.75        7.          7.25        7.5       ]\n",
      " [ 0.8         6.2         6.4         6.6         6.8         7.        ]]\n"
     ]
    }
   ],
   "source": [
    "z = x / y.T[:, np.newaxis]\n",
    "print(z)\n",
    "print(np.divide(x, y.T[:, np.newaxis]))"
   ]
  },
  {
   "cell_type": "code",
   "execution_count": 208,
   "metadata": {},
   "outputs": [
    {
     "name": "stdout",
     "output_type": "stream",
     "text": [
      "[[ 0 11 12 13 14 15]\n",
      " [ 0  8  8  9  9 10]\n",
      " [ 0  7  7  7  8  8]\n",
      " [ 0  6  6  7  7  7]\n",
      " [ 0  6  6  6  6  7]]\n",
      "[[ 0 11 12 13 14 15]\n",
      " [ 0  8  8  9  9 10]\n",
      " [ 0  7  7  7  8  8]\n",
      " [ 0  6  6  7  7  7]\n",
      " [ 0  6  6  6  6  7]]\n"
     ]
    }
   ],
   "source": [
    "z = x // y.T[:, np.newaxis]\n",
    "print(z)\n",
    "print(np.floor_divide(x, y.T[:, np.newaxis]))"
   ]
  },
  {
   "cell_type": "code",
   "execution_count": 209,
   "metadata": {},
   "outputs": [
    {
     "name": "stdout",
     "output_type": "stream",
     "text": [
      "(5, 6) \n",
      " [[ 0 11 12 13 14 15]\n",
      " [ 1 16 17 18 19 20]\n",
      " [ 2 21 22 23 24 25]\n",
      " [ 3 26 27 28 29 30]\n",
      " [ 4 31 32 33 34 35]]\n",
      "(1, 6) \n",
      " [[2 2 2 2 2 2]]\n",
      "[[   0  121  144  169  196  225]\n",
      " [   1  256  289  324  361  400]\n",
      " [   4  441  484  529  576  625]\n",
      " [   9  676  729  784  841  900]\n",
      " [  16  961 1024 1089 1156 1225]]\n",
      "[[   0  121  144  169  196  225]\n",
      " [   1  256  289  324  361  400]\n",
      " [   4  441  484  529  576  625]\n",
      " [   9  676  729  784  841  900]\n",
      " [  16  961 1024 1089 1156 1225]]\n"
     ]
    }
   ],
   "source": [
    "print(x.shape,'\\n',x)\n",
    "print(np.full([1, 6], 2).shape,'\\n',np.full([1, 6], 2))\n",
    "z = x ** np.full([1, 6], 2)\n",
    "print(z)\n",
    "print(np.power(x, np.full([5, 6], 2)))"
   ]
  },
  {
   "cell_type": "code",
   "execution_count": null,
   "metadata": {},
   "outputs": [],
   "source": []
  },
  {
   "cell_type": "code",
   "execution_count": 210,
   "metadata": {},
   "outputs": [
    {
     "name": "stdout",
     "output_type": "stream",
     "text": [
      "(5, 5) \n",
      " [[11 12 13 14 15]\n",
      " [16 17 18 19 20]\n",
      " [21 22 23 24 25]\n",
      " [26 27 28 29 30]\n",
      " [31 32 33 34 35]]\n",
      "(5, 5) \n",
      " [[ 1  2  3  4  5]\n",
      " [ 6  7  8  9 10]\n",
      " [11 12 13 14 15]\n",
      " [16 17 18 19 20]\n",
      " [21 22 23 24 25]]\n"
     ]
    }
   ],
   "source": [
    "#【例】\n",
    "x = np.array([[11, 12, 13, 14, 15],\n",
    "              [16, 17, 18, 19, 20],\n",
    "              [21, 22, 23, 24, 25],\n",
    "              [26, 27, 28, 29, 30],\n",
    "              [31, 32, 33, 34, 35]])\n",
    "\n",
    "y = np.arange(1, 26).reshape([5, 5])\n",
    "print(x.shape,'\\n',x)\n",
    "print(y.shape,'\\n',y)"
   ]
  },
  {
   "cell_type": "code",
   "execution_count": 211,
   "metadata": {},
   "outputs": [
    {
     "name": "stdout",
     "output_type": "stream",
     "text": [
      "[[12 14 16 18 20]\n",
      " [22 24 26 28 30]\n",
      " [32 34 36 38 40]\n",
      " [42 44 46 48 50]\n",
      " [52 54 56 58 60]]\n",
      "[[12 14 16 18 20]\n",
      " [22 24 26 28 30]\n",
      " [32 34 36 38 40]\n",
      " [42 44 46 48 50]\n",
      " [52 54 56 58 60]]\n"
     ]
    }
   ],
   "source": [
    "z = x + y\n",
    "print(z)\n",
    "print(np.add(x, y))"
   ]
  },
  {
   "cell_type": "code",
   "execution_count": 212,
   "metadata": {},
   "outputs": [
    {
     "name": "stdout",
     "output_type": "stream",
     "text": [
      "[[10 10 10 10 10]\n",
      " [10 10 10 10 10]\n",
      " [10 10 10 10 10]\n",
      " [10 10 10 10 10]\n",
      " [10 10 10 10 10]]\n",
      "[[10 10 10 10 10]\n",
      " [10 10 10 10 10]\n",
      " [10 10 10 10 10]\n",
      " [10 10 10 10 10]\n",
      " [10 10 10 10 10]]\n"
     ]
    }
   ],
   "source": [
    "z = x - y\n",
    "print(z)\n",
    "print(np.subtract(x, y))"
   ]
  },
  {
   "cell_type": "code",
   "execution_count": 213,
   "metadata": {},
   "outputs": [
    {
     "name": "stdout",
     "output_type": "stream",
     "text": [
      "[[ 11  24  39  56  75]\n",
      " [ 96 119 144 171 200]\n",
      " [231 264 299 336 375]\n",
      " [416 459 504 551 600]\n",
      " [651 704 759 816 875]]\n",
      "[[ 11  24  39  56  75]\n",
      " [ 96 119 144 171 200]\n",
      " [231 264 299 336 375]\n",
      " [416 459 504 551 600]\n",
      " [651 704 759 816 875]]\n"
     ]
    }
   ],
   "source": [
    "z = x * y\n",
    "print(z)\n",
    "print(np.multiply(x, y))"
   ]
  },
  {
   "cell_type": "code",
   "execution_count": 214,
   "metadata": {},
   "outputs": [
    {
     "name": "stdout",
     "output_type": "stream",
     "text": [
      "[[11.          6.          4.33333333  3.5         3.        ]\n",
      " [ 2.66666667  2.42857143  2.25        2.11111111  2.        ]\n",
      " [ 1.90909091  1.83333333  1.76923077  1.71428571  1.66666667]\n",
      " [ 1.625       1.58823529  1.55555556  1.52631579  1.5       ]\n",
      " [ 1.47619048  1.45454545  1.43478261  1.41666667  1.4       ]]\n",
      "[[11.          6.          4.33333333  3.5         3.        ]\n",
      " [ 2.66666667  2.42857143  2.25        2.11111111  2.        ]\n",
      " [ 1.90909091  1.83333333  1.76923077  1.71428571  1.66666667]\n",
      " [ 1.625       1.58823529  1.55555556  1.52631579  1.5       ]\n",
      " [ 1.47619048  1.45454545  1.43478261  1.41666667  1.4       ]]\n"
     ]
    }
   ],
   "source": [
    "z = x / y\n",
    "print(z)\n",
    "print(np.divide(x, y))"
   ]
  },
  {
   "cell_type": "code",
   "execution_count": 215,
   "metadata": {},
   "outputs": [
    {
     "name": "stdout",
     "output_type": "stream",
     "text": [
      "[[11  6  4  3  3]\n",
      " [ 2  2  2  2  2]\n",
      " [ 1  1  1  1  1]\n",
      " [ 1  1  1  1  1]\n",
      " [ 1  1  1  1  1]]\n",
      "[[11  6  4  3  3]\n",
      " [ 2  2  2  2  2]\n",
      " [ 1  1  1  1  1]\n",
      " [ 1  1  1  1  1]\n",
      " [ 1  1  1  1  1]]\n"
     ]
    }
   ],
   "source": [
    "z = x // y\n",
    "print(z)\n",
    "print(np.floor_divide(x, y))"
   ]
  },
  {
   "cell_type": "code",
   "execution_count": 216,
   "metadata": {},
   "outputs": [
    {
     "name": "stdout",
     "output_type": "stream",
     "text": [
      "[[ 121  144  169  196  225]\n",
      " [ 256  289  324  361  400]\n",
      " [ 441  484  529  576  625]\n",
      " [ 676  729  784  841  900]\n",
      " [ 961 1024 1089 1156 1225]]\n",
      "[[ 121  144  169  196  225]\n",
      " [ 256  289  324  361  400]\n",
      " [ 441  484  529  576  625]\n",
      " [ 676  729  784  841  900]\n",
      " [ 961 1024 1089 1156 1225]]\n"
     ]
    }
   ],
   "source": [
    "z = x ** np.full([5, 5], 2)\n",
    "print(z)\n",
    "print(np.power(x, np.full([5, 5], 2)))"
   ]
  },
  {
   "cell_type": "code",
   "execution_count": null,
   "metadata": {},
   "outputs": [],
   "source": []
  },
  {
   "cell_type": "code",
   "execution_count": 222,
   "metadata": {},
   "outputs": [
    {
     "name": "stdout",
     "output_type": "stream",
     "text": [
      "(2, 3, 4) \n",
      " [[[ 0  1  2  3]\n",
      "  [ 4  5  6  7]\n",
      "  [ 8  9 10 11]]\n",
      "\n",
      " [[12 13 14 15]\n",
      "  [16 17 18 19]\n",
      "  [20 21 22 23]]]\n",
      "(2, 3) \n",
      " [[1 2 3]\n",
      " [4 5 6]]\n"
     ]
    }
   ],
   "source": [
    "#改变维数\n",
    "x = np.arange(24).reshape(2,3,4)\n",
    "\n",
    "y = np.arange(1, 7).reshape([2, 3])\n",
    "print(x.shape,'\\n',x)\n",
    "print(y.shape,'\\n',y)"
   ]
  },
  {
   "cell_type": "code",
   "execution_count": 226,
   "metadata": {
    "collapsed": true,
    "jupyter": {
     "outputs_hidden": true
    }
   },
   "outputs": [
    {
     "ename": "ValueError",
     "evalue": "operands could not be broadcast together with shapes (2,3,4) (2,3) ",
     "output_type": "error",
     "traceback": [
      "\u001b[0;31m---------------------------------------------------------------------------\u001b[0m",
      "\u001b[0;31mValueError\u001b[0m                                Traceback (most recent call last)",
      "\u001b[0;32m<ipython-input-226-9e11c9ad069e>\u001b[0m in \u001b[0;36m<module>\u001b[0;34m\u001b[0m\n\u001b[1;32m      1\u001b[0m \u001b[0;31m#print(x + y) #ValueError: operands could not be broadcast together with shapes (2,3,4) (2,3)\u001b[0m\u001b[0;34m\u001b[0m\u001b[0;34m\u001b[0m\u001b[0;34m\u001b[0m\u001b[0m\n\u001b[0;32m----> 2\u001b[0;31m \u001b[0mprint\u001b[0m\u001b[0;34m(\u001b[0m\u001b[0mnp\u001b[0m\u001b[0;34m.\u001b[0m\u001b[0madd\u001b[0m\u001b[0;34m(\u001b[0m\u001b[0mx\u001b[0m\u001b[0;34m,\u001b[0m \u001b[0my\u001b[0m\u001b[0;34m)\u001b[0m\u001b[0;34m)\u001b[0m\u001b[0;34m\u001b[0m\u001b[0;34m\u001b[0m\u001b[0m\n\u001b[0m",
      "\u001b[0;31mValueError\u001b[0m: operands could not be broadcast together with shapes (2,3,4) (2,3) "
     ]
    }
   ],
   "source": [
    "#print(x + y) #ValueError: operands could not be broadcast together with shapes (2,3,4) (2,3) \n",
    "#print(np.add(x, y)) #ValueError: operands could not be broadcast together with shapes (2,3,4) (2,3) "
   ]
  },
  {
   "cell_type": "code",
   "execution_count": 233,
   "metadata": {},
   "outputs": [
    {
     "name": "stdout",
     "output_type": "stream",
     "text": [
      "[[[ 1  2  3  4]\n",
      "  [ 6  7  8  9]\n",
      "  [11 12 13 14]]\n",
      "\n",
      " [[16 17 18 19]\n",
      "  [21 22 23 24]\n",
      "  [26 27 28 29]]]\n",
      "[[[ 1  2  3  4]\n",
      "  [ 6  7  8  9]\n",
      "  [11 12 13 14]]\n",
      "\n",
      " [[16 17 18 19]\n",
      "  [21 22 23 24]\n",
      "  [26 27 28 29]]]\n"
     ]
    }
   ],
   "source": [
    "# 升维之后就可以运算了--注意保证新维度加在适当的位置,以使得相等的维度能够对应\n",
    "print(x + y[:,:, np.newaxis] ) \n",
    "print(np.add(x, y[:,:, np.newaxis] )) "
   ]
  },
  {
   "cell_type": "code",
   "execution_count": 234,
   "metadata": {},
   "outputs": [
    {
     "name": "stdout",
     "output_type": "stream",
     "text": [
      "[[[-1  0  1  2]\n",
      "  [ 2  3  4  5]\n",
      "  [ 5  6  7  8]]\n",
      "\n",
      " [[ 8  9 10 11]\n",
      "  [11 12 13 14]\n",
      "  [14 15 16 17]]]\n",
      "[[[-1  0  1  2]\n",
      "  [ 2  3  4  5]\n",
      "  [ 5  6  7  8]]\n",
      "\n",
      " [[ 8  9 10 11]\n",
      "  [11 12 13 14]\n",
      "  [14 15 16 17]]]\n"
     ]
    }
   ],
   "source": [
    "z = x - y[:,:, np.newaxis]\n",
    "print(z)\n",
    "print(np.subtract(x, y[:,:, np.newaxis]))"
   ]
  },
  {
   "cell_type": "code",
   "execution_count": 235,
   "metadata": {},
   "outputs": [
    {
     "name": "stdout",
     "output_type": "stream",
     "text": [
      "[[[  0   1   2   3]\n",
      "  [  8  10  12  14]\n",
      "  [ 24  27  30  33]]\n",
      "\n",
      " [[ 48  52  56  60]\n",
      "  [ 80  85  90  95]\n",
      "  [120 126 132 138]]]\n",
      "[[[  0   1   2   3]\n",
      "  [  8  10  12  14]\n",
      "  [ 24  27  30  33]]\n",
      "\n",
      " [[ 48  52  56  60]\n",
      "  [ 80  85  90  95]\n",
      "  [120 126 132 138]]]\n"
     ]
    }
   ],
   "source": [
    "z = x * y[:,:, np.newaxis]\n",
    "print(z)\n",
    "print(np.multiply(x, y[:,:, np.newaxis]))"
   ]
  },
  {
   "cell_type": "code",
   "execution_count": 236,
   "metadata": {},
   "outputs": [
    {
     "name": "stdout",
     "output_type": "stream",
     "text": [
      "[[[0.         1.         2.         3.        ]\n",
      "  [2.         2.5        3.         3.5       ]\n",
      "  [2.66666667 3.         3.33333333 3.66666667]]\n",
      "\n",
      " [[3.         3.25       3.5        3.75      ]\n",
      "  [3.2        3.4        3.6        3.8       ]\n",
      "  [3.33333333 3.5        3.66666667 3.83333333]]]\n",
      "[[[0.         1.         2.         3.        ]\n",
      "  [2.         2.5        3.         3.5       ]\n",
      "  [2.66666667 3.         3.33333333 3.66666667]]\n",
      "\n",
      " [[3.         3.25       3.5        3.75      ]\n",
      "  [3.2        3.4        3.6        3.8       ]\n",
      "  [3.33333333 3.5        3.66666667 3.83333333]]]\n"
     ]
    }
   ],
   "source": [
    "z = x / y[:,:, np.newaxis]\n",
    "print(z)\n",
    "print(np.divide(x, y[:,:, np.newaxis]))"
   ]
  },
  {
   "cell_type": "code",
   "execution_count": 237,
   "metadata": {},
   "outputs": [
    {
     "name": "stdout",
     "output_type": "stream",
     "text": [
      "[[[0 1 2 3]\n",
      "  [2 2 3 3]\n",
      "  [2 3 3 3]]\n",
      "\n",
      " [[3 3 3 3]\n",
      "  [3 3 3 3]\n",
      "  [3 3 3 3]]]\n",
      "[[[0 1 2 3]\n",
      "  [2 2 3 3]\n",
      "  [2 3 3 3]]\n",
      "\n",
      " [[3 3 3 3]\n",
      "  [3 3 3 3]\n",
      "  [3 3 3 3]]]\n"
     ]
    }
   ],
   "source": [
    "z = x // y[:,:, np.newaxis]\n",
    "print(z)\n",
    "print(np.floor_divide(x, y[:,:, np.newaxis]))"
   ]
  },
  {
   "cell_type": "code",
   "execution_count": 240,
   "metadata": {},
   "outputs": [
    {
     "name": "stdout",
     "output_type": "stream",
     "text": [
      "[[[  0   1   4   9]\n",
      "  [ 16  25  36  49]\n",
      "  [ 64  81 100 121]]\n",
      "\n",
      " [[144 169 196 225]\n",
      "  [256 289 324 361]\n",
      "  [400 441 484 529]]]\n",
      "[[[  0   1   4   9]\n",
      "  [ 16  25  36  49]\n",
      "  [ 64  81 100 121]]\n",
      "\n",
      " [[144 169 196 225]\n",
      "  [256 289 324 361]\n",
      "  [400 441 484 529]]]\n"
     ]
    }
   ],
   "source": [
    "z = x ** np.full([2,3,4], 2)\n",
    "print(z)\n",
    "print(np.power(x, np.full([2,3,4], 2)))"
   ]
  },
  {
   "cell_type": "code",
   "execution_count": null,
   "metadata": {},
   "outputs": [],
   "source": []
  },
  {
   "cell_type": "markdown",
   "metadata": {},
   "source": [
    "### numpy.sqrt\n",
    "- `numpy.sqrt(x, *args, **kwargs)` Return the non-negative square-root of an array, element-wise.     "
   ]
  },
  {
   "cell_type": "markdown",
   "metadata": {},
   "source": [
    "### numpy.square\n",
    "- `numpy.square(x, *args, **kwargs)` Return the element-wise square of the input."
   ]
  },
  {
   "cell_type": "markdown",
   "metadata": {
    "jupyter": {
     "source_hidden": true
    }
   },
   "source": [
    "【例】\n",
    "```python\n",
    "import numpy as np\n",
    "\n",
    "x = np.arange(1, 5)\n",
    "print(x)  # [1 2 3 4]\n",
    "\n",
    "y = np.sqrt(x)\n",
    "print(y)\n",
    "# [1.         1.41421356 1.73205081 2.        ]\n",
    "print(np.power(x, 0.5))\n",
    "# [1.         1.41421356 1.73205081 2.        ]\n",
    "\n",
    "y = np.square(x)\n",
    "print(y)\n",
    "# [ 1  4  9 16]\n",
    "print(np.power(x, 2))\n",
    "# [ 1  4  9 16]\n",
    "```\n"
   ]
  },
  {
   "cell_type": "code",
   "execution_count": 241,
   "metadata": {},
   "outputs": [
    {
     "name": "stdout",
     "output_type": "stream",
     "text": [
      "[1 2 3 4]\n"
     ]
    }
   ],
   "source": [
    "x = np.arange(1, 5)\n",
    "print(x)  # [1 2 3 4]"
   ]
  },
  {
   "cell_type": "code",
   "execution_count": 242,
   "metadata": {},
   "outputs": [
    {
     "name": "stdout",
     "output_type": "stream",
     "text": [
      "[1.         1.41421356 1.73205081 2.        ]\n",
      "[1.         1.41421356 1.73205081 2.        ]\n"
     ]
    }
   ],
   "source": [
    "y = np.sqrt(x)\n",
    "print(y) # [1.         1.41421356 1.73205081 2.        ]\n",
    "print(np.power(x, 0.5)) # [1.         1.41421356 1.73205081 2.        ]"
   ]
  },
  {
   "cell_type": "code",
   "execution_count": 243,
   "metadata": {},
   "outputs": [
    {
     "name": "stdout",
     "output_type": "stream",
     "text": [
      "[ 1  4  9 16]\n",
      "[ 1  4  9 16]\n"
     ]
    }
   ],
   "source": [
    "y = np.square(x)\n",
    "print(y) # [ 1  4  9 16]\n",
    "print(np.power(x, 2)) # [ 1  4  9 16]"
   ]
  },
  {
   "cell_type": "markdown",
   "metadata": {},
   "source": [
    "## 三角函数\n",
    "\n",
    "### numpy.sin\n",
    "- `numpy.sin(x, *args, **kwargs)` Trigonometric sine, element-wise.    \n",
    "\n",
    "### numpy.cos\n",
    "- `numpy.cos(x, *args, **kwargs)` Cosine element-wise.   \n",
    "\n",
    "### numpy.tan\n",
    "- `numpy.tan(x, *args, **kwargs)` Compute tangent element-wise.   \n",
    "\n",
    "### numpy.arcsin\n",
    "- `numpy.arcsin(x, *args, **kwargs)` Inverse sine, element-wise.  \n",
    "\n",
    "### numpy.arccos\n",
    "- `numpy.arccos(x, *args, **kwargs)` Trigonometric inverse cosine, element-wise.  \n",
    "\n",
    "### numpy.arctan\n",
    "- `numpy.arctan(x, *args, **kwargs)` Trigonometric inverse tangent, element-wise.\n",
    "\n",
    "\n",
    "**通用函数**（universal function）通常叫作ufunc，它对数组中的各个元素逐一进行操作。这表明，通用函数分别处理输入数组的每个元素，生成的结果组成一个新的输出数组。输出数组的大小跟输入数组相同。\n",
    "\n",
    "三角函数等很多数学运算符合通用函数的定义，例如，计算平方根的`sqrt()`函数、用来取对数的`log()`函数和求正弦值的`sin()`函数。"
   ]
  },
  {
   "cell_type": "markdown",
   "metadata": {
    "jupyter": {
     "source_hidden": true
    }
   },
   "source": [
    "【例】\n",
    "```python\n",
    "import numpy as np\n",
    "\n",
    "x = np.linspace(start=0, stop=np.pi / 2, num=10)\n",
    "print(x)\n",
    "# [0.         0.17453293 0.34906585 0.52359878 0.6981317  0.87266463\n",
    "#  1.04719755 1.22173048 1.3962634  1.57079633]\n",
    "\n",
    "y = np.sin(x)\n",
    "print(y)\n",
    "# [0.         0.17364818 0.34202014 0.5        0.64278761 0.76604444\n",
    "#  0.8660254  0.93969262 0.98480775 1.        ]\n",
    "\n",
    "z = np.arcsin(y)\n",
    "print(z)\n",
    "# [0.         0.17453293 0.34906585 0.52359878 0.6981317  0.87266463\n",
    "#  1.04719755 1.22173048 1.3962634  1.57079633]\n",
    "\n",
    "y = np.cos(x)\n",
    "print(y)\n",
    "# [1.00000000e+00 9.84807753e-01 9.39692621e-01 8.66025404e-01\n",
    "#  7.66044443e-01 6.42787610e-01 5.00000000e-01 3.42020143e-01\n",
    "#  1.73648178e-01 6.12323400e-17]\n",
    "\n",
    "z = np.arccos(y)\n",
    "print(z)\n",
    "# [0.         0.17453293 0.34906585 0.52359878 0.6981317  0.87266463\n",
    "#  1.04719755 1.22173048 1.3962634  1.57079633]\n",
    "\n",
    "y = np.tan(x)\n",
    "print(y)\n",
    "# [0.00000000e+00 1.76326981e-01 3.63970234e-01 5.77350269e-01\n",
    "#  8.39099631e-01 1.19175359e+00 1.73205081e+00 2.74747742e+00\n",
    "#  5.67128182e+00 1.63312394e+16]\n",
    "\n",
    "z = np.arctan(y)\n",
    "print(z)\n",
    "# [0.         0.17453293 0.34906585 0.52359878 0.6981317  0.87266463\n",
    "#  1.04719755 1.22173048 1.3962634  1.57079633]\n",
    "```"
   ]
  },
  {
   "cell_type": "code",
   "execution_count": 244,
   "metadata": {},
   "outputs": [
    {
     "name": "stdout",
     "output_type": "stream",
     "text": [
      "[0.         0.17453293 0.34906585 0.52359878 0.6981317  0.87266463\n",
      " 1.04719755 1.22173048 1.3962634  1.57079633]\n"
     ]
    }
   ],
   "source": [
    "x = np.linspace(start=0, stop=np.pi / 2, num=10)\n",
    "print(x)\n",
    "# [0.         0.17453293 0.34906585 0.52359878 0.6981317  0.87266463\n",
    "#  1.04719755 1.22173048 1.3962634  1.57079633]"
   ]
  },
  {
   "cell_type": "code",
   "execution_count": 245,
   "metadata": {},
   "outputs": [
    {
     "name": "stdout",
     "output_type": "stream",
     "text": [
      "[0.         0.17364818 0.34202014 0.5        0.64278761 0.76604444\n",
      " 0.8660254  0.93969262 0.98480775 1.        ]\n"
     ]
    }
   ],
   "source": [
    "y = np.sin(x)\n",
    "print(y)\n",
    "# [0.         0.17364818 0.34202014 0.5        0.64278761 0.76604444\n",
    "#  0.8660254  0.93969262 0.98480775 1.        ]"
   ]
  },
  {
   "cell_type": "code",
   "execution_count": 246,
   "metadata": {},
   "outputs": [
    {
     "name": "stdout",
     "output_type": "stream",
     "text": [
      "[0.         0.17453293 0.34906585 0.52359878 0.6981317  0.87266463\n",
      " 1.04719755 1.22173048 1.3962634  1.57079633]\n"
     ]
    }
   ],
   "source": [
    "z = np.arcsin(y)\n",
    "print(z)\n",
    "# [0.         0.17453293 0.34906585 0.52359878 0.6981317  0.87266463\n",
    "#  1.04719755 1.22173048 1.3962634  1.57079633]"
   ]
  },
  {
   "cell_type": "code",
   "execution_count": 247,
   "metadata": {},
   "outputs": [
    {
     "name": "stdout",
     "output_type": "stream",
     "text": [
      "[1.00000000e+00 9.84807753e-01 9.39692621e-01 8.66025404e-01\n",
      " 7.66044443e-01 6.42787610e-01 5.00000000e-01 3.42020143e-01\n",
      " 1.73648178e-01 6.12323400e-17]\n"
     ]
    }
   ],
   "source": [
    "y = np.cos(x)\n",
    "print(y)\n",
    "# [1.00000000e+00 9.84807753e-01 9.39692621e-01 8.66025404e-01\n",
    "#  7.66044443e-01 6.42787610e-01 5.00000000e-01 3.42020143e-01\n",
    "#  1.73648178e-01 6.12323400e-17]"
   ]
  },
  {
   "cell_type": "code",
   "execution_count": 248,
   "metadata": {},
   "outputs": [
    {
     "name": "stdout",
     "output_type": "stream",
     "text": [
      "[0.         0.17453293 0.34906585 0.52359878 0.6981317  0.87266463\n",
      " 1.04719755 1.22173048 1.3962634  1.57079633]\n"
     ]
    }
   ],
   "source": [
    "z = np.arccos(y)\n",
    "print(z)\n",
    "# [0.         0.17453293 0.34906585 0.52359878 0.6981317  0.87266463\n",
    "#  1.04719755 1.22173048 1.3962634  1.57079633]"
   ]
  },
  {
   "cell_type": "code",
   "execution_count": 249,
   "metadata": {},
   "outputs": [
    {
     "name": "stdout",
     "output_type": "stream",
     "text": [
      "[0.00000000e+00 1.76326981e-01 3.63970234e-01 5.77350269e-01\n",
      " 8.39099631e-01 1.19175359e+00 1.73205081e+00 2.74747742e+00\n",
      " 5.67128182e+00 1.63312394e+16]\n"
     ]
    }
   ],
   "source": [
    "y = np.tan(x)\n",
    "print(y)\n",
    "# [0.00000000e+00 1.76326981e-01 3.63970234e-01 5.77350269e-01\n",
    "#  8.39099631e-01 1.19175359e+00 1.73205081e+00 2.74747742e+00\n",
    "#  5.67128182e+00 1.63312394e+16]"
   ]
  },
  {
   "cell_type": "code",
   "execution_count": 250,
   "metadata": {},
   "outputs": [
    {
     "name": "stdout",
     "output_type": "stream",
     "text": [
      "[0.         0.17453293 0.34906585 0.52359878 0.6981317  0.87266463\n",
      " 1.04719755 1.22173048 1.3962634  1.57079633]\n"
     ]
    }
   ],
   "source": [
    "z = np.arctan(y)\n",
    "print(z)\n",
    "# [0.         0.17453293 0.34906585 0.52359878 0.6981317  0.87266463\n",
    "#  1.04719755 1.22173048 1.3962634  1.57079633]"
   ]
  },
  {
   "cell_type": "markdown",
   "metadata": {},
   "source": [
    "## 指数和对数"
   ]
  },
  {
   "cell_type": "markdown",
   "metadata": {},
   "source": [
    "### numpy.exp\n",
    "- `numpy.exp(x, *args, **kwargs)` Calculate the exponential of all elements in the input array."
   ]
  },
  {
   "cell_type": "markdown",
   "metadata": {},
   "source": [
    "### numpy.log\n",
    "- `numpy.log(x, *args, **kwargs)` Natural logarithm, element-wise."
   ]
  },
  {
   "cell_type": "markdown",
   "metadata": {},
   "source": [
    "### numpy.exp2\n",
    "- `numpy.exp2(x, *args, **kwargs)` Calculate `2**p` for all `p` in the input array."
   ]
  },
  {
   "cell_type": "markdown",
   "metadata": {},
   "source": [
    "### numpy.log2\n",
    "- `numpy.log2(x, *args, **kwargs)` Base-2 logarithm of `x`."
   ]
  },
  {
   "cell_type": "markdown",
   "metadata": {},
   "source": [
    "### numpy.log10\n",
    "- `numpy.log10(x, *args, **kwargs)` Return the base 10 logarithm of the input array, element-wise."
   ]
  },
  {
   "cell_type": "markdown",
   "metadata": {},
   "source": [
    "【例】The natural logarithm `log` is the inverse of the exponential function, so that `log(exp(x)) = x`. The natural logarithm is logarithm in base `e`."
   ]
  },
  {
   "cell_type": "markdown",
   "metadata": {
    "jupyter": {
     "source_hidden": true
    }
   },
   "source": [
    "```python\n",
    "import numpy as np\n",
    "\n",
    "x = np.arange(1, 5)\n",
    "print(x)\n",
    "# [1 2 3 4]\n",
    "y = np.exp(x)\n",
    "print(y)\n",
    "# [ 2.71828183  7.3890561  20.08553692 54.59815003]\n",
    "z = np.log(y)\n",
    "print(z)\n",
    "# [1. 2. 3. 4.]\n",
    "```"
   ]
  },
  {
   "cell_type": "code",
   "execution_count": 251,
   "metadata": {},
   "outputs": [
    {
     "name": "stdout",
     "output_type": "stream",
     "text": [
      "[1 2 3 4]\n"
     ]
    }
   ],
   "source": [
    "x = np.arange(1, 5)\n",
    "print(x)\n",
    "# [1 2 3 4]"
   ]
  },
  {
   "cell_type": "code",
   "execution_count": 252,
   "metadata": {},
   "outputs": [
    {
     "name": "stdout",
     "output_type": "stream",
     "text": [
      "[ 2.71828183  7.3890561  20.08553692 54.59815003]\n"
     ]
    }
   ],
   "source": [
    "y = np.exp(x)\n",
    "print(y)\n",
    "# [ 2.71828183  7.3890561  20.08553692 54.59815003]"
   ]
  },
  {
   "cell_type": "code",
   "execution_count": 253,
   "metadata": {},
   "outputs": [
    {
     "name": "stdout",
     "output_type": "stream",
     "text": [
      "[1. 2. 3. 4.]\n"
     ]
    }
   ],
   "source": [
    "z = np.log(y)\n",
    "print(z)\n",
    "# [1. 2. 3. 4."
   ]
  },
  {
   "cell_type": "markdown",
   "metadata": {},
   "source": [
    "## 加法函数、乘法函数"
   ]
  },
  {
   "cell_type": "markdown",
   "metadata": {},
   "source": [
    "### numpy.sum\n",
    "\n",
    "- `numpy.sum(a[, axis=None, dtype=None, out=None, …])` Sum of array elements over a given axis.\n",
    "\n",
    "通过不同的 `axis`，numpy 会沿着不同的方向进行操作：如果不设置，那么对所有的元素操作；如果`axis=0`，则沿着纵轴进行操作；`axis=1`，则沿着横轴进行操作。但这只是简单的二位数组，如果是多维的呢？可以总结为一句话：设`axis=i`，则 numpy 沿着第`i`个下标变化的方向进行操作。\n"
   ]
  },
  {
   "cell_type": "markdown",
   "metadata": {},
   "source": [
    "### numpy.cumsum\n",
    "\n",
    "- `numpy.cumsum(a, axis=None, dtype=None, out=None)` Return the cumulative sum of the elements along a given axis.\n",
    "\n",
    "**聚合函数** 是指对一组值（比如一个数组）进行操作，返回一个单一值作为结果的函数。因而，求数组所有元素之和的函数就是聚合函数。`ndarray`类实现了多个这样的函数。\n"
   ]
  },
  {
   "cell_type": "markdown",
   "metadata": {
    "jupyter": {
     "source_hidden": true
    }
   },
   "source": [
    "【例】返回给定轴上的数组元素的总和。\n",
    "```python\n",
    "import numpy as np\n",
    "\n",
    "x = np.array([[11, 12, 13, 14, 15],\n",
    "              [16, 17, 18, 19, 20],\n",
    "              [21, 22, 23, 24, 25],\n",
    "              [26, 27, 28, 29, 30],\n",
    "              [31, 32, 33, 34, 35]])\n",
    "y = np.sum(x)\n",
    "print(y)  # 575\n",
    "\n",
    "y = np.sum(x, axis=0)\n",
    "print(y)  # [105 110 115 120 125]\n",
    "\n",
    "y = np.sum(x, axis=1)\n",
    "print(y)  # [ 65  90 115 140 165]\n",
    "```\n",
    "\n",
    "\n",
    "【例】返回给定轴上的数组元素的累加和。\n",
    "```python\n",
    "import numpy as np\n",
    "\n",
    "x = np.array([[11, 12, 13, 14, 15],\n",
    "              [16, 17, 18, 19, 20],\n",
    "              [21, 22, 23, 24, 25],\n",
    "              [26, 27, 28, 29, 30],\n",
    "              [31, 32, 33, 34, 35]])\n",
    "y = np.cumsum(x)\n",
    "print(y)\n",
    "# [ 11  23  36  50  65  81  98 116 135 155 176 198 221 245 270 296 323 351\n",
    "#  380 410 441 473 506 540 575]\n",
    "\n",
    "y = np.cumsum(x, axis=0)\n",
    "print(y)\n",
    "# [[ 11  12  13  14  15]\n",
    "#  [ 27  29  31  33  35]\n",
    "#  [ 48  51  54  57  60]\n",
    "#  [ 74  78  82  86  90]\n",
    "#  [105 110 115 120 125]]\n",
    "\n",
    "y = np.cumsum(x, axis=1)\n",
    "print(y)\n",
    "# [[ 11  23  36  50  65]\n",
    "#  [ 16  33  51  70  90]\n",
    "#  [ 21  43  66  90 115]\n",
    "#  [ 26  53  81 110 140]\n",
    "#  [ 31  63  96 130 165]]\n",
    "```"
   ]
  },
  {
   "cell_type": "code",
   "execution_count": 254,
   "metadata": {},
   "outputs": [
    {
     "name": "stdout",
     "output_type": "stream",
     "text": [
      "575\n",
      "[105 110 115 120 125]\n",
      "[ 65  90 115 140 165]\n"
     ]
    }
   ],
   "source": [
    "#【例】返回给定轴上的数组元素的总和。\n",
    "x = np.array([[11, 12, 13, 14, 15],\n",
    "              [16, 17, 18, 19, 20],\n",
    "              [21, 22, 23, 24, 25],\n",
    "              [26, 27, 28, 29, 30],\n",
    "              [31, 32, 33, 34, 35]])\n",
    "y = np.sum(x)\n",
    "print(y)  # 575\n",
    "\n",
    "y = np.sum(x, axis=0)\n",
    "print(y)  # [105 110 115 120 125]\n",
    "\n",
    "y = np.sum(x, axis=1)\n",
    "print(y)  # [ 65  90 115 140 165]"
   ]
  },
  {
   "cell_type": "code",
   "execution_count": 255,
   "metadata": {},
   "outputs": [
    {
     "name": "stdout",
     "output_type": "stream",
     "text": [
      "[ 11  23  36  50  65  81  98 116 135 155 176 198 221 245 270 296 323 351\n",
      " 380 410 441 473 506 540 575]\n",
      "[[ 11  12  13  14  15]\n",
      " [ 27  29  31  33  35]\n",
      " [ 48  51  54  57  60]\n",
      " [ 74  78  82  86  90]\n",
      " [105 110 115 120 125]]\n",
      "[[ 11  23  36  50  65]\n",
      " [ 16  33  51  70  90]\n",
      " [ 21  43  66  90 115]\n",
      " [ 26  53  81 110 140]\n",
      " [ 31  63  96 130 165]]\n"
     ]
    }
   ],
   "source": [
    "#【例】返回给定轴上的数组元素的累加和。\n",
    "x = np.array([[11, 12, 13, 14, 15],\n",
    "              [16, 17, 18, 19, 20],\n",
    "              [21, 22, 23, 24, 25],\n",
    "              [26, 27, 28, 29, 30],\n",
    "              [31, 32, 33, 34, 35]])\n",
    "y = np.cumsum(x)\n",
    "print(y)\n",
    "# [ 11  23  36  50  65  81  98 116 135 155 176 198 221 245 270 296 323 351\n",
    "#  380 410 441 473 506 540 575]\n",
    "\n",
    "y = np.cumsum(x, axis=0)\n",
    "print(y)\n",
    "# [[ 11  12  13  14  15]\n",
    "#  [ 27  29  31  33  35]\n",
    "#  [ 48  51  54  57  60]\n",
    "#  [ 74  78  82  86  90]\n",
    "#  [105 110 115 120 125]]\n",
    "\n",
    "y = np.cumsum(x, axis=1)\n",
    "print(y)\n",
    "# [[ 11  23  36  50  65]\n",
    "#  [ 16  33  51  70  90]\n",
    "#  [ 21  43  66  90 115]\n",
    "#  [ 26  53  81 110 140]\n",
    "#  [ 31  63  96 130 165]]"
   ]
  },
  {
   "cell_type": "markdown",
   "metadata": {},
   "source": [
    "### numpy.prod 乘积\n",
    "- `numpy.prod(a[, axis=None, dtype=None, out=None, …])` Return the product of array elements over a given axis."
   ]
  },
  {
   "cell_type": "markdown",
   "metadata": {},
   "source": [
    "### numpy.cumprod 累乘\n",
    "- `numpy.cumprod(a, axis=None, dtype=None, out=None)` Return the cumulative product of elements along a given axis."
   ]
  },
  {
   "cell_type": "markdown",
   "metadata": {
    "jupyter": {
     "source_hidden": true
    }
   },
   "source": [
    "【例】返回给定轴上数组元素的乘积。\n",
    "```python\n",
    "import numpy as np\n",
    "\n",
    "x = np.array([[11, 12, 13, 14, 15],\n",
    "              [16, 17, 18, 19, 20],\n",
    "              [21, 22, 23, 24, 25],\n",
    "              [26, 27, 28, 29, 30],\n",
    "              [31, 32, 33, 34, 35]])\n",
    "y = np.prod(x)\n",
    "print(y)  # 788529152\n",
    "\n",
    "y = np.prod(x, axis=0)\n",
    "print(y)\n",
    "# [2978976 3877632 4972968 6294624 7875000]\n",
    "\n",
    "y = np.prod(x, axis=1)\n",
    "print(y)\n",
    "# [  360360  1860480  6375600 17100720 38955840]\n",
    "```\n",
    "\n",
    "\n",
    "【例】返回给定轴上数组元素的累乘。\n",
    "```python\n",
    "import numpy as np\n",
    "\n",
    "x = np.array([[11, 12, 13, 14, 15],\n",
    "              [16, 17, 18, 19, 20],\n",
    "              [21, 22, 23, 24, 25],\n",
    "              [26, 27, 28, 29, 30],\n",
    "              [31, 32, 33, 34, 35]])\n",
    "y = np.cumprod(x)\n",
    "print(y)\n",
    "# [         11         132        1716       24024      360360     5765760\n",
    "#     98017920  1764322560  -837609728   427674624   391232512    17180672\n",
    "#    395155456   893796352   870072320  1147043840   905412608  -418250752\n",
    "#    755630080  1194065920 -1638662144  -897581056   444596224 -2063597568\n",
    "#    788529152]\n",
    "\n",
    "y = np.cumprod(x, axis=0)\n",
    "print(y)\n",
    "# [[     11      12      13      14      15]\n",
    "#  [    176     204     234     266     300]\n",
    "#  [   3696    4488    5382    6384    7500]\n",
    "#  [  96096  121176  150696  185136  225000]\n",
    "#  [2978976 3877632 4972968 6294624 7875000]]\n",
    "\n",
    "y = np.cumprod(x, axis=1)\n",
    "print(y)\n",
    "# [[      11      132     1716    24024   360360]\n",
    "#  [      16      272     4896    93024  1860480]\n",
    "#  [      21      462    10626   255024  6375600]\n",
    "#  [      26      702    19656   570024 17100720]\n",
    "#  [      31      992    32736  1113024 38955840]]\n",
    "```\n"
   ]
  },
  {
   "cell_type": "code",
   "execution_count": 256,
   "metadata": {},
   "outputs": [
    {
     "name": "stdout",
     "output_type": "stream",
     "text": [
      "3712525927079477248\n",
      "[2978976 3877632 4972968 6294624 7875000]\n",
      "[  360360  1860480  6375600 17100720 38955840]\n"
     ]
    }
   ],
   "source": [
    "#【例】返回给定轴上数组元素的乘积。\n",
    "x = np.array([[11, 12, 13, 14, 15],\n",
    "              [16, 17, 18, 19, 20],\n",
    "              [21, 22, 23, 24, 25],\n",
    "              [26, 27, 28, 29, 30],\n",
    "              [31, 32, 33, 34, 35]])\n",
    "y = np.prod(x)\n",
    "print(y)  # 788529152\n",
    "\n",
    "y = np.prod(x, axis=0)\n",
    "print(y)\n",
    "# [2978976 3877632 4972968 6294624 7875000]\n",
    "\n",
    "y = np.prod(x, axis=1)\n",
    "print(y)\n",
    "# [  360360  1860480  6375600 17100720 38955840]"
   ]
  },
  {
   "cell_type": "code",
   "execution_count": 257,
   "metadata": {},
   "outputs": [
    {
     "name": "stdout",
     "output_type": "stream",
     "text": [
      "[                  11                  132                 1716\n",
      "                24024               360360              5765760\n",
      "             98017920           1764322560          33522128640\n",
      "         670442572800       14079294028800      309744468633600\n",
      "     7124122778572800   170978946685747200  4274473667143680000\n",
      "   455850903478370304 -6138769679793553408 -5864854370833530880\n",
      " -4060080090786430976  7324805792373932032  5708050679077273600\n",
      " -1809819006622760960 -4383794997422456832 -1475077322687119360\n",
      "  3712525927079477248]\n",
      "[[     11      12      13      14      15]\n",
      " [    176     204     234     266     300]\n",
      " [   3696    4488    5382    6384    7500]\n",
      " [  96096  121176  150696  185136  225000]\n",
      " [2978976 3877632 4972968 6294624 7875000]]\n",
      "[[      11      132     1716    24024   360360]\n",
      " [      16      272     4896    93024  1860480]\n",
      " [      21      462    10626   255024  6375600]\n",
      " [      26      702    19656   570024 17100720]\n",
      " [      31      992    32736  1113024 38955840]]\n"
     ]
    }
   ],
   "source": [
    "#【例】返回给定轴上数组元素的累乘。\n",
    "x = np.array([[11, 12, 13, 14, 15],\n",
    "              [16, 17, 18, 19, 20],\n",
    "              [21, 22, 23, 24, 25],\n",
    "              [26, 27, 28, 29, 30],\n",
    "              [31, 32, 33, 34, 35]])\n",
    "y = np.cumprod(x)\n",
    "print(y)\n",
    "# [         11         132        1716       24024      360360     5765760\n",
    "#     98017920  1764322560  -837609728   427674624   391232512    17180672\n",
    "#    395155456   893796352   870072320  1147043840   905412608  -418250752\n",
    "#    755630080  1194065920 -1638662144  -897581056   444596224 -2063597568\n",
    "#    788529152]\n",
    "\n",
    "y = np.cumprod(x, axis=0)\n",
    "print(y)\n",
    "# [[     11      12      13      14      15]\n",
    "#  [    176     204     234     266     300]\n",
    "#  [   3696    4488    5382    6384    7500]\n",
    "#  [  96096  121176  150696  185136  225000]\n",
    "#  [2978976 3877632 4972968 6294624 7875000]]\n",
    "\n",
    "y = np.cumprod(x, axis=1)\n",
    "print(y)\n",
    "# [[      11      132     1716    24024   360360]\n",
    "#  [      16      272     4896    93024  1860480]\n",
    "#  [      21      462    10626   255024  6375600]\n",
    "#  [      26      702    19656   570024 17100720]\n",
    "#  [      31      992    32736  1113024 38955840]]\n"
   ]
  },
  {
   "cell_type": "markdown",
   "metadata": {},
   "source": [
    "### numpy.diff 差值\n",
    "\n",
    "- `numpy.diff(a, n=1, axis=-1, prepend=np._NoValue, append=np._NoValue)` Calculate the n-th discrete difference along the given axis.\n",
    "    - a：输入矩阵\n",
    "    - n：可选，代表要执行几次差值\n",
    "    - axis：默认是最后一个\n",
    "\n",
    "\n",
    "The first difference is given by `out[i] = a[i+1] - a[i]` along the given axis, higher differences are calculated by using `diff` recursively.    \n",
    "【例】沿着指定轴计算第N维的离散差值。\n"
   ]
  },
  {
   "cell_type": "markdown",
   "metadata": {
    "jupyter": {
     "source_hidden": true
    }
   },
   "source": [
    "```python\n",
    "import numpy as np\n",
    "\n",
    "A = np.arange(2, 14).reshape((3, 4))\n",
    "A[1, 1] = 8\n",
    "print(A)\n",
    "# [[ 2  3  4  5]\n",
    "#  [ 6  8  8  9]\n",
    "#  [10 11 12 13]]\n",
    "print(np.diff(A))\n",
    "# [[1 1 1]\n",
    "#  [2 0 1]\n",
    "#  [1 1 1]]\n",
    "print(np.diff(A, axis=0))\n",
    "# [[4 5 4 4]\n",
    "#  [4 3 4 4]]\n",
    "```"
   ]
  },
  {
   "cell_type": "code",
   "execution_count": 119,
   "metadata": {},
   "outputs": [
    {
     "name": "stdout",
     "output_type": "stream",
     "text": [
      "[[ 2  3  4  5]\n",
      " [ 6  8  8  9]\n",
      " [10 11 12 13]]\n",
      "[[1 1 1]\n",
      " [2 0 1]\n",
      " [1 1 1]]\n",
      "[[4 5 4 4]\n",
      " [4 3 4 4]]\n"
     ]
    }
   ],
   "source": [
    "#【例】沿着指定轴计算第N维的离散差值。\n",
    "A = np.arange(2, 14).reshape((3, 4))\n",
    "A[1, 1] = 8\n",
    "print(A)\n",
    "# [[ 2  3  4  5]\n",
    "#  [ 6  8  8  9]\n",
    "#  [10 11 12 13]]\n",
    "print(np.diff(A))\n",
    "# [[1 1 1]\n",
    "#  [2 0 1]\n",
    "#  [1 1 1]]\n",
    "print(np.diff(A, axis=0))\n",
    "# [[4 5 4 4]\n",
    "#  [4 3 4 4]]\n",
    "\n"
   ]
  },
  {
   "cell_type": "markdown",
   "metadata": {},
   "source": [
    "## 四舍五入"
   ]
  },
  {
   "cell_type": "markdown",
   "metadata": {},
   "source": [
    "### numpy.around 舍入\n",
    "\n",
    "- `numpy.around(a, decimals=0, out=None)` Evenly round to the given number of decimals.      \n",
    "【例】将数组舍入到给定的小数位数。\n"
   ]
  },
  {
   "cell_type": "markdown",
   "metadata": {
    "jupyter": {
     "source_hidden": true
    }
   },
   "source": [
    "```python\n",
    "import numpy as np\n",
    "\n",
    "x = np.random.rand(3, 3) * 10\n",
    "print(x)\n",
    "# [[6.59144457 3.78566113 8.15321227]\n",
    "#  [1.68241475 3.78753332 7.68886328]\n",
    "#  [2.84255822 9.58106727 7.86678037]]\n",
    "\n",
    "y = np.around(x)\n",
    "print(y)\n",
    "# [[ 7.  4.  8.]\n",
    "#  [ 2.  4.  8.]\n",
    "#  [ 3. 10.  8.]]\n",
    "\n",
    "y = np.around(x, decimals=2)\n",
    "print(y)\n",
    "# [[6.59 3.79 8.15]\n",
    "#  [1.68 3.79 7.69]\n",
    "#  [2.84 9.58 7.87]]\n",
    "```"
   ]
  },
  {
   "cell_type": "code",
   "execution_count": 258,
   "metadata": {},
   "outputs": [
    {
     "name": "stdout",
     "output_type": "stream",
     "text": [
      "[[2.53381034 4.19656566 5.82408314]\n",
      " [0.15056819 3.11454291 4.70637488]\n",
      " [1.53053372 5.94815398 3.82411538]]\n",
      "[[3. 4. 6.]\n",
      " [0. 3. 5.]\n",
      " [2. 6. 4.]]\n",
      "[[2.53 4.2  5.82]\n",
      " [0.15 3.11 4.71]\n",
      " [1.53 5.95 3.82]]\n"
     ]
    }
   ],
   "source": [
    "#【例】将数组舍入到给定的小数位数。\n",
    "x = np.random.rand(3, 3) * 10\n",
    "print(x)\n",
    "# [[6.59144457 3.78566113 8.15321227]\n",
    "#  [1.68241475 3.78753332 7.68886328]\n",
    "#  [2.84255822 9.58106727 7.86678037]]\n",
    "\n",
    "y = np.around(x)\n",
    "print(y)\n",
    "# [[ 7.  4.  8.]\n",
    "#  [ 2.  4.  8.]\n",
    "#  [ 3. 10.  8.]]\n",
    "\n",
    "y = np.around(x, decimals=2)\n",
    "print(y)\n",
    "# [[6.59 3.79 8.15]\n",
    "#  [1.68 3.79 7.69]\n",
    "#  [2.84 9.58 7.87]]"
   ]
  },
  {
   "cell_type": "markdown",
   "metadata": {},
   "source": [
    "### numpy.ceil 上限\n",
    "- `numpy.ceil(x, *args, **kwargs)` Return the ceiling of the input, element-wise."
   ]
  },
  {
   "cell_type": "markdown",
   "metadata": {},
   "source": [
    "### numpy.floor 下限\n",
    "- `numpy.floor(x, *args, **kwargs)` Return the floor of the input, element-wise."
   ]
  },
  {
   "cell_type": "markdown",
   "metadata": {
    "jupyter": {
     "source_hidden": true
    }
   },
   "source": [
    "【例】\n",
    "```python\n",
    "import numpy as np\n",
    "\n",
    "x = np.random.rand(3, 3) * 10\n",
    "print(x)\n",
    "# [[0.67847795 1.33073923 4.53920122]\n",
    "#  [7.55724676 5.88854047 2.65502046]\n",
    "#  [8.67640444 8.80110812 5.97528726]]\n",
    "\n",
    "y = np.ceil(x)\n",
    "print(y)\n",
    "# [[1. 2. 5.]\n",
    "#  [8. 6. 3.]\n",
    "#  [9. 9. 6.]]\n",
    "\n",
    "y = np.floor(x)\n",
    "print(y)\n",
    "# [[0. 1. 4.]\n",
    "#  [7. 5. 2.]\n",
    "#  [8. 8. 5.]]\n",
    "```"
   ]
  },
  {
   "cell_type": "code",
   "execution_count": 259,
   "metadata": {},
   "outputs": [
    {
     "name": "stdout",
     "output_type": "stream",
     "text": [
      "[[1.71712114 3.04108939 8.44499147]\n",
      " [0.63699974 5.22265247 8.245768  ]\n",
      " [7.20516197 0.68709718 3.78554694]]\n",
      "[[2. 4. 9.]\n",
      " [1. 6. 9.]\n",
      " [8. 1. 4.]]\n",
      "[[1. 3. 8.]\n",
      " [0. 5. 8.]\n",
      " [7. 0. 3.]]\n"
     ]
    }
   ],
   "source": [
    "#【例】\n",
    "x = np.random.rand(3, 3) * 10\n",
    "print(x)\n",
    "# [[0.67847795 1.33073923 4.53920122]\n",
    "#  [7.55724676 5.88854047 2.65502046]\n",
    "#  [8.67640444 8.80110812 5.97528726]]\n",
    "\n",
    "y = np.ceil(x)\n",
    "print(y)\n",
    "# [[1. 2. 5.]\n",
    "#  [8. 6. 3.]\n",
    "#  [9. 9. 6.]]\n",
    "\n",
    "y = np.floor(x)\n",
    "print(y)\n",
    "# [[0. 1. 4.]\n",
    "#  [7. 5. 2.]\n",
    "#  [8. 8. 5.]]"
   ]
  },
  {
   "cell_type": "markdown",
   "metadata": {},
   "source": [
    "## 杂项"
   ]
  },
  {
   "cell_type": "markdown",
   "metadata": {},
   "source": [
    "### numpy.clip 裁剪\n",
    "\n",
    "- `numpy.clip(a, a_min, a_max, out=None, **kwargs):` Clip (limit) the values in an array.\n",
    "\n",
    "Given an interval, values outside the interval are clipped to the interval edges.  For example, if an interval of `[0, 1]` is specified, values smaller than 0 become 0, and values larger than 1 become 1. \n",
    "【例】裁剪（限制）数组中的值。\n"
   ]
  },
  {
   "cell_type": "markdown",
   "metadata": {
    "jupyter": {
     "source_hidden": true
    }
   },
   "source": [
    "```python\n",
    "import numpy as np\n",
    "\n",
    "x = np.array([[11, 12, 13, 14, 15],\n",
    "              [16, 17, 18, 19, 20],\n",
    "              [21, 22, 23, 24, 25],\n",
    "              [26, 27, 28, 29, 30],\n",
    "              [31, 32, 33, 34, 35]])\n",
    "y = np.clip(x, a_min=20, a_max=30)\n",
    "print(y)\n",
    "# [[20 20 20 20 20]\n",
    "#  [20 20 20 20 20]\n",
    "#  [21 22 23 24 25]\n",
    "#  [26 27 28 29 30]\n",
    "#  [30 30 30 30 30]]\n",
    "```"
   ]
  },
  {
   "cell_type": "code",
   "execution_count": 260,
   "metadata": {},
   "outputs": [
    {
     "name": "stdout",
     "output_type": "stream",
     "text": [
      "[[20 20 20 20 20]\n",
      " [20 20 20 20 20]\n",
      " [21 22 23 24 25]\n",
      " [26 27 28 29 30]\n",
      " [30 30 30 30 30]]\n"
     ]
    }
   ],
   "source": [
    "x = np.array([[11, 12, 13, 14, 15],\n",
    "              [16, 17, 18, 19, 20],\n",
    "              [21, 22, 23, 24, 25],\n",
    "              [26, 27, 28, 29, 30],\n",
    "              [31, 32, 33, 34, 35]])\n",
    "y = np.clip(x, a_min=20, a_max=30)\n",
    "print(y)\n",
    "# [[20 20 20 20 20]\n",
    "#  [20 20 20 20 20]\n",
    "#  [21 22 23 24 25]\n",
    "#  [26 27 28 29 30]\n",
    "#  [30 30 30 30 30]]"
   ]
  },
  {
   "cell_type": "markdown",
   "metadata": {},
   "source": [
    "### numpy.absolute 绝对值\n",
    "- `numpy.absolute(x, *args, **kwargs)` Calculate the absolute value element-wise. "
   ]
  },
  {
   "cell_type": "markdown",
   "metadata": {},
   "source": [
    "### numpy.abs\n",
    "- `numpy.abs(x, *args, **kwargs)` is a shorthand for this function."
   ]
  },
  {
   "cell_type": "markdown",
   "metadata": {
    "jupyter": {
     "source_hidden": true
    }
   },
   "source": [
    "【例】\n",
    "```python\n",
    "import numpy as np\n",
    "\n",
    "x = np.arange(-5, 5)\n",
    "print(x)\n",
    "# [-5 -4 -3 -2 -1  0  1  2  3  4]\n",
    "\n",
    "y = np.abs(x)\n",
    "print(y)\n",
    "# [5 4 3 2 1 0 1 2 3 4]\n",
    "\n",
    "y = np.absolute(x)\n",
    "print(y)\n",
    "# [5 4 3 2 1 0 1 2 3 4]\n",
    "```\n"
   ]
  },
  {
   "cell_type": "code",
   "execution_count": 261,
   "metadata": {},
   "outputs": [
    {
     "name": "stdout",
     "output_type": "stream",
     "text": [
      "[-5 -4 -3 -2 -1  0  1  2  3  4]\n",
      "[5 4 3 2 1 0 1 2 3 4]\n",
      "[5 4 3 2 1 0 1 2 3 4]\n"
     ]
    }
   ],
   "source": [
    "x = np.arange(-5, 5)\n",
    "print(x)\n",
    "# [-5 -4 -3 -2 -1  0  1  2  3  4]\n",
    "\n",
    "y = np.abs(x)\n",
    "print(y)\n",
    "# [5 4 3 2 1 0 1 2 3 4]\n",
    "\n",
    "y = np.absolute(x)\n",
    "print(y)\n",
    "# [5 4 3 2 1 0 1 2 3 4]"
   ]
  },
  {
   "cell_type": "markdown",
   "metadata": {},
   "source": [
    "### numpy.sign 返回数字符号的逐元素指示\n",
    "- `numpy.sign(x, *args, **kwargs)` Returns an element-wise indication of the sign of a number.\n",
    "\n",
    "\n"
   ]
  },
  {
   "cell_type": "markdown",
   "metadata": {
    "jupyter": {
     "source_hidden": true
    }
   },
   "source": [
    "【例】\n",
    "\n",
    "```python\n",
    "x = np.arange(-5, 5)\n",
    "print(x)\n",
    "#[-5 -4 -3 -2 -1  0  1  2  3  4]\n",
    "print(np.sign(x))\n",
    "#[-1 -1 -1 -1 -1  0  1  1  1  1]\n",
    "```"
   ]
  },
  {
   "cell_type": "code",
   "execution_count": 262,
   "metadata": {},
   "outputs": [
    {
     "name": "stdout",
     "output_type": "stream",
     "text": [
      "[-5 -4 -3 -2 -1  0  1  2  3  4]\n",
      "[-1 -1 -1 -1 -1  0  1  1  1  1]\n"
     ]
    }
   ],
   "source": [
    "x = np.arange(-5, 5)\n",
    "print(x)\n",
    "print(np.sign(x))"
   ]
  },
  {
   "cell_type": "markdown",
   "metadata": {},
   "source": [
    "**参考文献**\n",
    "- https://mp.weixin.qq.com/s/RWsGvvmw4ptf7d8zPIDEJw\n",
    "- https://blog.csdn.net/hanshuobest/article/details/78558826?utm_medium=distribute.pc_relevant.none-task-blog-baidujs-1\n"
   ]
  },
  {
   "cell_type": "code",
   "execution_count": null,
   "metadata": {},
   "outputs": [],
   "source": []
  },
  {
   "cell_type": "markdown",
   "metadata": {},
   "source": [
    "# 逻辑函数"
   ]
  },
  {
   "cell_type": "markdown",
   "metadata": {},
   "source": [
    "## 真值测试"
   ]
  },
  {
   "cell_type": "markdown",
   "metadata": {},
   "source": [
    "### numpy.all\n",
    "- `numpy.all(a, axis=None, out=None, keepdims=np._NoValue)` Test whether all array elements along a given axis evaluate to True."
   ]
  },
  {
   "cell_type": "markdown",
   "metadata": {},
   "source": [
    "### numpy.any\n",
    "- `numpy.any(a, axis=None, out=None, keepdims=np._NoValue)` Test whether any array element along a given axis evaluates to True."
   ]
  },
  {
   "cell_type": "markdown",
   "metadata": {
    "jupyter": {
     "source_hidden": true
    }
   },
   "source": [
    "【例】\n",
    "```python\n",
    "import numpy as np\n",
    "\n",
    "a = np.array([0, 4, 5])\n",
    "b = np.copy(a)\n",
    "print(np.all(a == b))  # True\n",
    "print(np.any(a == b))  # True\n",
    "\n",
    "b[0] = 1\n",
    "print(np.all(a == b))  # False\n",
    "print(np.any(a == b))  # True\n",
    "\n",
    "print(np.all([1.0, np.nan]))  # True\n",
    "print(np.any([1.0, np.nan]))  # True\n",
    "\n",
    "a = np.eye(3)\n",
    "print(np.all(a, axis=0))  # [False False False]\n",
    "print(np.any(a, axis=0))  # [ True  True  True]\n",
    "```\n"
   ]
  },
  {
   "cell_type": "code",
   "execution_count": 263,
   "metadata": {},
   "outputs": [
    {
     "name": "stdout",
     "output_type": "stream",
     "text": [
      "True\n",
      "True\n"
     ]
    }
   ],
   "source": [
    "a = np.array([0, 4, 5])\n",
    "b = np.copy(a)\n",
    "print(np.all(a == b))  # True\n",
    "print(np.any(a == b))  # True"
   ]
  },
  {
   "cell_type": "code",
   "execution_count": 264,
   "metadata": {},
   "outputs": [
    {
     "name": "stdout",
     "output_type": "stream",
     "text": [
      "False\n",
      "True\n",
      "True\n",
      "True\n"
     ]
    }
   ],
   "source": [
    "b[0] = 1\n",
    "print(np.all(a == b))  # False\n",
    "print(np.any(a == b))  # True\n",
    "\n",
    "print(np.all([1.0, np.nan]))  # True\n",
    "print(np.any([1.0, np.nan]))  # True"
   ]
  },
  {
   "cell_type": "code",
   "execution_count": 265,
   "metadata": {},
   "outputs": [
    {
     "name": "stdout",
     "output_type": "stream",
     "text": [
      "[False False False]\n",
      "[ True  True  True]\n"
     ]
    }
   ],
   "source": [
    "a = np.eye(3)\n",
    "print(np.all(a, axis=0))  # [False False False]\n",
    "print(np.any(a, axis=0))  # [ True  True  True]"
   ]
  },
  {
   "cell_type": "markdown",
   "metadata": {},
   "source": [
    "## 数组内容"
   ]
  },
  {
   "cell_type": "markdown",
   "metadata": {},
   "source": [
    "### numpy.isnan\n",
    "\n",
    "- `numpy.isnan(x, *args, **kwargs)` Test element-wise for NaN and return result as a boolean array.\n",
    "\n",
    "\n",
    "【例】\n",
    "```python\n",
    "a=np.array([1,2,np.nan])\n",
    "print(np.isnan(a))\n",
    "#[False False  True]\n",
    "\n",
    "```"
   ]
  },
  {
   "cell_type": "code",
   "execution_count": 266,
   "metadata": {},
   "outputs": [
    {
     "name": "stdout",
     "output_type": "stream",
     "text": [
      "[False False  True]\n"
     ]
    }
   ],
   "source": [
    "a=np.array([1,2,np.nan])\n",
    "print(np.isnan(a))\n",
    "#[False False  True]"
   ]
  },
  {
   "cell_type": "markdown",
   "metadata": {},
   "source": [
    "## 逻辑运算"
   ]
  },
  {
   "cell_type": "markdown",
   "metadata": {},
   "source": [
    "### numpy.logical_not\n",
    "- `numpy.logical_not(x, *args, **kwargs)`Compute the truth value of NOT x element-wise."
   ]
  },
  {
   "cell_type": "markdown",
   "metadata": {},
   "source": [
    "### numpy.logical_and\n",
    "- `numpy.logical_and(x1, x2, *args, **kwargs)` Compute the truth value of x1 AND x2 element-wise."
   ]
  },
  {
   "cell_type": "markdown",
   "metadata": {},
   "source": [
    "### numpy.logical_or\n",
    "- `numpy.logical_or(x1, x2, *args, **kwargs)`Compute the truth value of x1 OR x2 element-wise."
   ]
  },
  {
   "cell_type": "markdown",
   "metadata": {},
   "source": [
    "### numpy.logical_xor\n",
    "- `numpy.logical_xor(x1, x2, *args, **kwargs)`Compute the truth value of x1 XOR x2, element-wise.      \n",
    "\n",
    "【例】计算非x元素的真值。\n"
   ]
  },
  {
   "cell_type": "markdown",
   "metadata": {
    "jupyter": {
     "source_hidden": true
    }
   },
   "source": [
    "```python\n",
    "import numpy as np\n",
    "\n",
    "print(np.logical_not(3))  \n",
    "# False\n",
    "print(np.logical_not([True, False, 0, 1]))\n",
    "# [False  True  True False]\n",
    "\n",
    "x = np.arange(5)\n",
    "print(np.logical_not(x < 3))\n",
    "# [False False False  True  True]\n",
    "\n",
    "【例】计算x1 AND x2元素的真值。\n",
    "\n",
    "print(np.logical_and(True, False))  \n",
    "# False\n",
    "print(np.logical_and([True, False], [True, False]))\n",
    "# [ True False]\n",
    "print(np.logical_and(x > 1, x < 4))\n",
    "# [False False  True  True False]\n",
    "\n",
    "【例】逐元素计算x1 OR x2的真值。\n",
    "\n",
    "\n",
    "print(np.logical_or(True, False))\n",
    "# True\n",
    "print(np.logical_or([True, False], [False, False]))\n",
    "# [ True False]\n",
    "print(np.logical_or(x < 1, x > 3))\n",
    "# [ True False False False  True]\n",
    "\n",
    "【例】计算x1 XOR x2的真值，按元素计算。\n",
    "\n",
    "print(np.logical_xor(True, False))\n",
    "# True\n",
    "print(np.logical_xor([True, True, False, False], [True, False, True, False]))\n",
    "# [False  True  True False]\n",
    "print(np.logical_xor(x < 1, x > 3))\n",
    "# [ True False False False  True]\n",
    "print(np.logical_xor(0, np.eye(2)))\n",
    "# [[ True False]\n",
    "#  [False  True]]\n",
    "```"
   ]
  },
  {
   "cell_type": "code",
   "execution_count": 267,
   "metadata": {},
   "outputs": [
    {
     "name": "stdout",
     "output_type": "stream",
     "text": [
      "False\n",
      "[False  True  True False]\n",
      "[False False False  True  True]\n"
     ]
    }
   ],
   "source": [
    "#【例】计算非x元素的真值。\n",
    "print(np.logical_not(3))  \n",
    "# False\n",
    "print(np.logical_not([True, False, 0, 1]))\n",
    "# [False  True  True False]\n",
    "\n",
    "x = np.arange(5)\n",
    "print(np.logical_not(x < 3))\n",
    "# [False False False  True  True]"
   ]
  },
  {
   "cell_type": "code",
   "execution_count": 268,
   "metadata": {},
   "outputs": [
    {
     "name": "stdout",
     "output_type": "stream",
     "text": [
      "False\n",
      "[ True False]\n",
      "[False False  True  True False]\n"
     ]
    }
   ],
   "source": [
    "#【例】计算x1 AND x2元素的真值。\n",
    "print(np.logical_and(True, False))  \n",
    "# False\n",
    "print(np.logical_and([True, False], [True, False]))\n",
    "# [ True False]\n",
    "print(np.logical_and(x > 1, x < 4))\n",
    "# [False False  True  True False]"
   ]
  },
  {
   "cell_type": "code",
   "execution_count": 269,
   "metadata": {},
   "outputs": [
    {
     "name": "stdout",
     "output_type": "stream",
     "text": [
      "True\n",
      "[ True False]\n",
      "[ True False False False  True]\n"
     ]
    }
   ],
   "source": [
    "#【例】逐元素计算x1 OR x2的真值。\n",
    "print(np.logical_or(True, False))\n",
    "# True\n",
    "print(np.logical_or([True, False], [False, False]))\n",
    "# [ True False]\n",
    "print(np.logical_or(x < 1, x > 3))\n",
    "# [ True False False False  True]"
   ]
  },
  {
   "cell_type": "code",
   "execution_count": 270,
   "metadata": {},
   "outputs": [
    {
     "name": "stdout",
     "output_type": "stream",
     "text": [
      "True\n",
      "[False  True  True False]\n",
      "[ True False False False  True]\n",
      "[[ True False]\n",
      " [False  True]]\n"
     ]
    }
   ],
   "source": [
    "#【例】计算x1 XOR x2的真值，按元素计算。\n",
    "print(np.logical_xor(True, False))# True\n",
    "print(np.logical_xor([True, True, False, False], [True, False, True, False]))# [False  True  True False]\n",
    "print(np.logical_xor(x < 1, x > 3))# [ True False False False  True]\n",
    "print(np.logical_xor(0, np.eye(2)))\n",
    "# [[ True False]\n",
    "#  [False  True]]"
   ]
  },
  {
   "cell_type": "markdown",
   "metadata": {},
   "source": [
    "## 对照"
   ]
  },
  {
   "cell_type": "markdown",
   "metadata": {},
   "source": [
    "### numpy.greater\n",
    "- `numpy.greater(x1, x2, *args, **kwargs)` Return the truth value of (x1 > x2) element-wise."
   ]
  },
  {
   "cell_type": "markdown",
   "metadata": {},
   "source": [
    "### numpy.greater_equal\n",
    "- `numpy.greater_equal(x1, x2, *args, **kwargs)` Return the truth value of (x1 >= x2) element-wise."
   ]
  },
  {
   "cell_type": "markdown",
   "metadata": {},
   "source": [
    "### numpy.equal\n",
    "- `numpy.equal(x1, x2, *args, **kwargs)` Return (x1 == x2) element-wise."
   ]
  },
  {
   "cell_type": "markdown",
   "metadata": {},
   "source": [
    "### numpy.not_equal\n",
    "- `numpy.not_equal(x1, x2, *args, **kwargs)` Return (x1 != x2) element-wise."
   ]
  },
  {
   "cell_type": "markdown",
   "metadata": {},
   "source": [
    "### numpy.less\n",
    "- `numpy.less(x1, x2, *args, **kwargs)` Return the truth value of (x1 < x2) element-wise."
   ]
  },
  {
   "cell_type": "markdown",
   "metadata": {},
   "source": [
    "### numpy.less_equal\n",
    "- `numpy.less_equal(x1, x2, *args, **kwargs)` Return the truth value of (x1 =< x2) element-wise.  \n",
    "\n",
    "【例】numpy对以上对照函数进行了运算符的重载。\n"
   ]
  },
  {
   "cell_type": "markdown",
   "metadata": {
    "jupyter": {
     "source_hidden": true
    }
   },
   "source": [
    "```python\n",
    "import numpy as np\n",
    "\n",
    "x = np.array([1, 2, 3, 4, 5, 6, 7, 8])\n",
    "\n",
    "y = x > 2\n",
    "print(y)\n",
    "print(np.greater(x, 2))\n",
    "# [False False  True  True  True  True  True  True]\n",
    "\n",
    "y = x >= 2\n",
    "print(y)\n",
    "print(np.greater_equal(x, 2))\n",
    "# [False  True  True  True  True  True  True  True]\n",
    "\n",
    "y = x == 2\n",
    "print(y)\n",
    "print(np.equal(x, 2))\n",
    "# [False  True False False False False False False]\n",
    "\n",
    "y = x != 2\n",
    "print(y)\n",
    "print(np.not_equal(x, 2))\n",
    "# [ True False  True  True  True  True  True  True]\n",
    "\n",
    "y = x < 2\n",
    "print(y)\n",
    "print(np.less(x, 2))\n",
    "# [ True False False False False False False False]\n",
    "\n",
    "y = x <= 2\n",
    "print(y)\n",
    "print(np.less_equal(x, 2))\n",
    "# [ True  True False False False False False False]\n",
    "```\n",
    "\n",
    "【例】\n",
    "```python\n",
    "import numpy as np\n",
    "\n",
    "x = np.array([[11, 12, 13, 14, 15],\n",
    "              [16, 17, 18, 19, 20],\n",
    "              [21, 22, 23, 24, 25],\n",
    "              [26, 27, 28, 29, 30],\n",
    "              [31, 32, 33, 34, 35]])\n",
    "y = x > 20\n",
    "print(y)\n",
    "print(np.greater(x, 20))\n",
    "# [[False False False False False]\n",
    "#  [False False False False False]\n",
    "#  [ True  True  True  True  True]\n",
    "#  [ True  True  True  True  True]\n",
    "#  [ True  True  True  True  True]]\n",
    "\n",
    "y = x >= 20\n",
    "print(y)\n",
    "print(np.greater_equal(x, 20))\n",
    "# [[False False False False False]\n",
    "#  [False False False False  True]\n",
    "#  [ True  True  True  True  True]\n",
    "#  [ True  True  True  True  True]\n",
    "#  [ True  True  True  True  True]]\n",
    "\n",
    "y = x == 20\n",
    "print(y)\n",
    "print(np.equal(x, 20))\n",
    "# [[False False False False False]\n",
    "#  [False False False False  True]\n",
    "#  [False False False False False]\n",
    "#  [False False False False False]\n",
    "#  [False False False False False]]\n",
    "\n",
    "y = x != 20\n",
    "print(y)\n",
    "print(np.not_equal(x, 20))\n",
    "# [[ True  True  True  True  True]\n",
    "#  [ True  True  True  True False]\n",
    "#  [ True  True  True  True  True]\n",
    "#  [ True  True  True  True  True]\n",
    "#  [ True  True  True  True  True]]\n",
    "\n",
    "\n",
    "y = x < 20\n",
    "print(y)\n",
    "print(np.less(x, 20))\n",
    "# [[ True  True  True  True  True]\n",
    "#  [ True  True  True  True False]\n",
    "#  [False False False False False]\n",
    "#  [False False False False False]\n",
    "#  [False False False False False]]\n",
    "\n",
    "y = x <= 20\n",
    "print(y)\n",
    "print(np.less_equal(x, 20))\n",
    "# [[ True  True  True  True  True]\n",
    "#  [ True  True  True  True  True]\n",
    "#  [False False False False False]\n",
    "#  [False False False False False]\n",
    "#  [False False False False False]]\n",
    "```\n",
    "\n",
    "【例】\n",
    "```python\n",
    "import numpy as np\n",
    "\n",
    "np.random.seed(20200611)\n",
    "x = np.array([[11, 12, 13, 14, 15],\n",
    "              [16, 17, 18, 19, 20],\n",
    "              [21, 22, 23, 24, 25],\n",
    "              [26, 27, 28, 29, 30],\n",
    "              [31, 32, 33, 34, 35]])\n",
    "\n",
    "y = np.random.randint(10, 40, [5, 5])\n",
    "print(y)\n",
    "# [[32 28 31 33 37]\n",
    "#  [23 37 37 30 29]\n",
    "#  [32 24 10 33 15]\n",
    "#  [27 17 10 36 16]\n",
    "#  [25 32 23 39 34]]\n",
    "\n",
    "z = x > y\n",
    "print(z)\n",
    "print(np.greater(x, y))\n",
    "# [[False False False False False]\n",
    "#  [False False False False False]\n",
    "#  [False False  True False  True]\n",
    "#  [False  True  True False  True]\n",
    "#  [ True False  True False  True]]\n",
    "\n",
    "z = x >= y\n",
    "print(z)\n",
    "print(np.greater_equal(x, y))\n",
    "# [[False False False False False]\n",
    "#  [False False False False False]\n",
    "#  [False False  True False  True]\n",
    "#  [False  True  True False  True]\n",
    "#  [ True  True  True False  True]]\n",
    "\n",
    "z = x == y\n",
    "print(z)\n",
    "print(np.equal(x, y))\n",
    "# [[False False False False False]\n",
    "#  [False False False False False]\n",
    "#  [False False False False False]\n",
    "#  [False False False False False]\n",
    "#  [False  True False False False]]\n",
    "\n",
    "z = x != y\n",
    "print(z)\n",
    "print(np.not_equal(x, y))\n",
    "# [[ True  True  True  True  True]\n",
    "#  [ True  True  True  True  True]\n",
    "#  [ True  True  True  True  True]\n",
    "#  [ True  True  True  True  True]\n",
    "#  [ True False  True  True  True]]\n",
    "\n",
    "z = x < y\n",
    "print(z)\n",
    "print(np.less(x, y))\n",
    "# [[ True  True  True  True  True]\n",
    "#  [ True  True  True  True  True]\n",
    "#  [ True  True False  True False]\n",
    "#  [ True False False  True False]\n",
    "#  [False False False  True False]]\n",
    "\n",
    "z = x <= y\n",
    "print(z)\n",
    "print(np.less_equal(x, y))\n",
    "# [[ True  True  True  True  True]\n",
    "#  [ True  True  True  True  True]\n",
    "#  [ True  True False  True False]\n",
    "#  [ True False False  True False]\n",
    "#  [False  True False  True False]]\n",
    "```\n",
    "\n",
    "【例】注意 numpy 的广播规则。\n",
    "```python\n",
    "import numpy as np\n",
    "\n",
    "x = np.array([[11, 12, 13, 14, 15],\n",
    "              [16, 17, 18, 19, 20],\n",
    "              [21, 22, 23, 24, 25],\n",
    "              [26, 27, 28, 29, 30],\n",
    "              [31, 32, 33, 34, 35]])\n",
    "\n",
    "np.random.seed(20200611)\n",
    "y = np.random.randint(10, 50, 5)\n",
    "\n",
    "print(y)\n",
    "# [32 37 30 24 10]\n",
    "\n",
    "z = x > y\n",
    "print(z)\n",
    "print(np.greater(x, y))\n",
    "# [[False False False False  True]\n",
    "#  [False False False False  True]\n",
    "#  [False False False False  True]\n",
    "#  [False False False  True  True]\n",
    "#  [False False  True  True  True]]\n",
    "\n",
    "z = x >= y\n",
    "print(z)\n",
    "print(np.greater_equal(x, y))\n",
    "# [[False False False False  True]\n",
    "#  [False False False False  True]\n",
    "#  [False False False  True  True]\n",
    "#  [False False False  True  True]\n",
    "#  [False False  True  True  True]]\n",
    "\n",
    "z = x == y\n",
    "print(z)\n",
    "print(np.equal(x, y))\n",
    "# [[False False False False False]\n",
    "#  [False False False False False]\n",
    "#  [False False False  True False]\n",
    "#  [False False False False False]\n",
    "#  [False False False False False]]\n",
    "\n",
    "z = x != y\n",
    "print(z)\n",
    "print(np.not_equal(x, y))\n",
    "# [[ True  True  True  True  True]\n",
    "#  [ True  True  True  True  True]\n",
    "#  [ True  True  True False  True]\n",
    "#  [ True  True  True  True  True]\n",
    "#  [ True  True  True  True  True]]\n",
    "\n",
    "z = x < y\n",
    "print(z)\n",
    "print(np.less(x, y))\n",
    "# [[ True  True  True  True False]\n",
    "#  [ True  True  True  True False]\n",
    "#  [ True  True  True False False]\n",
    "#  [ True  True  True False False]\n",
    "#  [ True  True False False False]]\n",
    "\n",
    "z = x <= y\n",
    "print(z)\n",
    "print(np.less_equal(x, y))\n",
    "# [[ True  True  True  True False]\n",
    "#  [ True  True  True  True False]\n",
    "#  [ True  True  True  True False]\n",
    "#  [ True  True  True False False]\n",
    "#  [ True  True False False False]]\n",
    "```\n"
   ]
  },
  {
   "cell_type": "code",
   "execution_count": 271,
   "metadata": {},
   "outputs": [
    {
     "name": "stdout",
     "output_type": "stream",
     "text": [
      "[1 2 3 4 5 6 7 8]\n",
      "[False False  True  True  True  True  True  True]\n",
      "[False False  True  True  True  True  True  True]\n"
     ]
    }
   ],
   "source": [
    "#【例】numpy对以上对照函数进行了运算符的重载。\n",
    "x = np.array([1, 2, 3, 4, 5, 6, 7, 8])\n",
    "y = x > 2\n",
    "print(x)\n",
    "print(y)\n",
    "print(np.greater(x, 2))\n",
    "# [False False  True  True  True  True  True  True]"
   ]
  },
  {
   "cell_type": "code",
   "execution_count": 272,
   "metadata": {},
   "outputs": [
    {
     "name": "stdout",
     "output_type": "stream",
     "text": [
      "[False  True  True  True  True  True  True  True]\n",
      "[False  True  True  True  True  True  True  True]\n"
     ]
    }
   ],
   "source": [
    "y = x >= 2\n",
    "print(y)\n",
    "print(np.greater_equal(x, 2))\n",
    "# [False  True  True  True  True  True  True  True]"
   ]
  },
  {
   "cell_type": "code",
   "execution_count": 273,
   "metadata": {},
   "outputs": [
    {
     "name": "stdout",
     "output_type": "stream",
     "text": [
      "[False  True False False False False False False]\n",
      "[False  True False False False False False False]\n"
     ]
    }
   ],
   "source": [
    "y = x == 2\n",
    "print(y)\n",
    "print(np.equal(x, 2))\n",
    "# [False  True False False False False False False]"
   ]
  },
  {
   "cell_type": "code",
   "execution_count": 274,
   "metadata": {},
   "outputs": [
    {
     "name": "stdout",
     "output_type": "stream",
     "text": [
      "[ True False  True  True  True  True  True  True]\n",
      "[ True False  True  True  True  True  True  True]\n"
     ]
    }
   ],
   "source": [
    "y = x != 2\n",
    "print(y)\n",
    "print(np.not_equal(x, 2))\n",
    "# [ True False  True  True  True  True  True  True]"
   ]
  },
  {
   "cell_type": "code",
   "execution_count": 275,
   "metadata": {},
   "outputs": [
    {
     "name": "stdout",
     "output_type": "stream",
     "text": [
      "[ True False False False False False False False]\n",
      "[ True False False False False False False False]\n"
     ]
    }
   ],
   "source": [
    "y = x < 2\n",
    "print(y)\n",
    "print(np.less(x, 2))\n",
    "# [ True False False False False False False False]"
   ]
  },
  {
   "cell_type": "code",
   "execution_count": 276,
   "metadata": {},
   "outputs": [
    {
     "name": "stdout",
     "output_type": "stream",
     "text": [
      "[ True  True False False False False False False]\n",
      "[ True  True False False False False False False]\n"
     ]
    }
   ],
   "source": [
    "y = x <= 2\n",
    "print(y)\n",
    "print(np.less_equal(x, 2))\n",
    "# [ True  True False False False False False False]"
   ]
  },
  {
   "cell_type": "code",
   "execution_count": 277,
   "metadata": {},
   "outputs": [
    {
     "name": "stdout",
     "output_type": "stream",
     "text": [
      "[[False False False False False]\n",
      " [False False False False False]\n",
      " [ True  True  True  True  True]\n",
      " [ True  True  True  True  True]\n",
      " [ True  True  True  True  True]]\n",
      "[[False False False False False]\n",
      " [False False False False False]\n",
      " [ True  True  True  True  True]\n",
      " [ True  True  True  True  True]\n",
      " [ True  True  True  True  True]]\n"
     ]
    }
   ],
   "source": [
    "#【例】\n",
    "x = np.array([[11, 12, 13, 14, 15],\n",
    "              [16, 17, 18, 19, 20],\n",
    "              [21, 22, 23, 24, 25],\n",
    "              [26, 27, 28, 29, 30],\n",
    "              [31, 32, 33, 34, 35]])\n",
    "y = x > 20\n",
    "print(y)\n",
    "print(np.greater(x, 20))\n",
    "# [[False False False False False]\n",
    "#  [False False False False False]\n",
    "#  [ True  True  True  True  True]\n",
    "#  [ True  True  True  True  True]\n",
    "#  [ True  True  True  True  True]]"
   ]
  },
  {
   "cell_type": "code",
   "execution_count": 278,
   "metadata": {},
   "outputs": [
    {
     "name": "stdout",
     "output_type": "stream",
     "text": [
      "[[False False False False False]\n",
      " [False False False False  True]\n",
      " [ True  True  True  True  True]\n",
      " [ True  True  True  True  True]\n",
      " [ True  True  True  True  True]]\n",
      "[[False False False False False]\n",
      " [False False False False  True]\n",
      " [ True  True  True  True  True]\n",
      " [ True  True  True  True  True]\n",
      " [ True  True  True  True  True]]\n"
     ]
    }
   ],
   "source": [
    "y = x >= 20\n",
    "print(y)\n",
    "print(np.greater_equal(x, 20))\n",
    "# [[False False False False False]\n",
    "#  [False False False False  True]\n",
    "#  [ True  True  True  True  True]\n",
    "#  [ True  True  True  True  True]\n",
    "#  [ True  True  True  True  True]]"
   ]
  },
  {
   "cell_type": "code",
   "execution_count": 279,
   "metadata": {},
   "outputs": [
    {
     "name": "stdout",
     "output_type": "stream",
     "text": [
      "[[False False False False False]\n",
      " [False False False False  True]\n",
      " [False False False False False]\n",
      " [False False False False False]\n",
      " [False False False False False]]\n",
      "[[False False False False False]\n",
      " [False False False False  True]\n",
      " [False False False False False]\n",
      " [False False False False False]\n",
      " [False False False False False]]\n"
     ]
    }
   ],
   "source": [
    "y = x == 20\n",
    "print(y)\n",
    "print(np.equal(x, 20))\n",
    "# [[False False False False False]\n",
    "#  [False False False False  True]\n",
    "#  [False False False False False]\n",
    "#  [False False False False False]\n",
    "#  [False False False False False]]"
   ]
  },
  {
   "cell_type": "code",
   "execution_count": 280,
   "metadata": {},
   "outputs": [
    {
     "name": "stdout",
     "output_type": "stream",
     "text": [
      "[[ True  True  True  True  True]\n",
      " [ True  True  True  True False]\n",
      " [ True  True  True  True  True]\n",
      " [ True  True  True  True  True]\n",
      " [ True  True  True  True  True]]\n",
      "[[ True  True  True  True  True]\n",
      " [ True  True  True  True False]\n",
      " [ True  True  True  True  True]\n",
      " [ True  True  True  True  True]\n",
      " [ True  True  True  True  True]]\n"
     ]
    }
   ],
   "source": [
    "y = x != 20\n",
    "print(y)\n",
    "print(np.not_equal(x, 20))\n",
    "# [[ True  True  True  True  True]\n",
    "#  [ True  True  True  True False]\n",
    "#  [ True  True  True  True  True]\n",
    "#  [ True  True  True  True  True]\n",
    "#  [ True  True  True  True  True]]"
   ]
  },
  {
   "cell_type": "code",
   "execution_count": 281,
   "metadata": {},
   "outputs": [
    {
     "name": "stdout",
     "output_type": "stream",
     "text": [
      "[[ True  True  True  True  True]\n",
      " [ True  True  True  True False]\n",
      " [False False False False False]\n",
      " [False False False False False]\n",
      " [False False False False False]]\n",
      "[[ True  True  True  True  True]\n",
      " [ True  True  True  True False]\n",
      " [False False False False False]\n",
      " [False False False False False]\n",
      " [False False False False False]]\n"
     ]
    }
   ],
   "source": [
    "y = x < 20\n",
    "print(y)\n",
    "print(np.less(x, 20))\n",
    "# [[ True  True  True  True  True]\n",
    "#  [ True  True  True  True False]\n",
    "#  [False False False False False]\n",
    "#  [False False False False False]\n",
    "#  [False False False False False]]"
   ]
  },
  {
   "cell_type": "code",
   "execution_count": 282,
   "metadata": {},
   "outputs": [
    {
     "name": "stdout",
     "output_type": "stream",
     "text": [
      "[[ True  True  True  True  True]\n",
      " [ True  True  True  True  True]\n",
      " [False False False False False]\n",
      " [False False False False False]\n",
      " [False False False False False]]\n",
      "[[ True  True  True  True  True]\n",
      " [ True  True  True  True  True]\n",
      " [False False False False False]\n",
      " [False False False False False]\n",
      " [False False False False False]]\n"
     ]
    }
   ],
   "source": [
    "y = x <= 20\n",
    "print(y)\n",
    "print(np.less_equal(x, 20))\n",
    "# [[ True  True  True  True  True]\n",
    "#  [ True  True  True  True  True]\n",
    "#  [False False False False False]\n",
    "#  [False False False False False]\n",
    "#  [False False False False False]]"
   ]
  },
  {
   "cell_type": "code",
   "execution_count": 283,
   "metadata": {},
   "outputs": [
    {
     "name": "stdout",
     "output_type": "stream",
     "text": [
      "[[32 28 31 33 37]\n",
      " [23 37 37 30 29]\n",
      " [32 24 10 33 15]\n",
      " [27 17 10 36 16]\n",
      " [25 32 23 39 34]]\n"
     ]
    }
   ],
   "source": [
    "#【例】\n",
    "np.random.seed(20200611)\n",
    "x = np.array([[11, 12, 13, 14, 15],\n",
    "              [16, 17, 18, 19, 20],\n",
    "              [21, 22, 23, 24, 25],\n",
    "              [26, 27, 28, 29, 30],\n",
    "              [31, 32, 33, 34, 35]])\n",
    "\n",
    "y = np.random.randint(10, 40, [5, 5])\n",
    "print(y)\n",
    "# [[32 28 31 33 37]\n",
    "#  [23 37 37 30 29]\n",
    "#  [32 24 10 33 15]\n",
    "#  [27 17 10 36 16]\n",
    "#  [25 32 23 39 34]]"
   ]
  },
  {
   "cell_type": "code",
   "execution_count": 284,
   "metadata": {},
   "outputs": [
    {
     "name": "stdout",
     "output_type": "stream",
     "text": [
      "[[False False False False False]\n",
      " [False False False False False]\n",
      " [False False  True False  True]\n",
      " [False  True  True False  True]\n",
      " [ True False  True False  True]]\n",
      "[[False False False False False]\n",
      " [False False False False False]\n",
      " [False False  True False  True]\n",
      " [False  True  True False  True]\n",
      " [ True False  True False  True]]\n"
     ]
    }
   ],
   "source": [
    "z = x > y\n",
    "print(z)\n",
    "print(np.greater(x, y))\n",
    "# [[False False False False False]\n",
    "#  [False False False False False]\n",
    "#  [False False  True False  True]\n",
    "#  [False  True  True False  True]\n",
    "#  [ True False  True False  True]]"
   ]
  },
  {
   "cell_type": "code",
   "execution_count": 285,
   "metadata": {},
   "outputs": [
    {
     "name": "stdout",
     "output_type": "stream",
     "text": [
      "[[False False False False False]\n",
      " [False False False False False]\n",
      " [False False  True False  True]\n",
      " [False  True  True False  True]\n",
      " [ True  True  True False  True]]\n",
      "[[False False False False False]\n",
      " [False False False False False]\n",
      " [False False  True False  True]\n",
      " [False  True  True False  True]\n",
      " [ True  True  True False  True]]\n"
     ]
    }
   ],
   "source": [
    "z = x >= y\n",
    "print(z)\n",
    "print(np.greater_equal(x, y))\n",
    "# [[False False False False False]\n",
    "#  [False False False False False]\n",
    "#  [False False  True False  True]\n",
    "#  [False  True  True False  True]\n",
    "#  [ True  True  True False  True]]"
   ]
  },
  {
   "cell_type": "code",
   "execution_count": 286,
   "metadata": {},
   "outputs": [
    {
     "name": "stdout",
     "output_type": "stream",
     "text": [
      "[[False False False False False]\n",
      " [False False False False False]\n",
      " [False False False False False]\n",
      " [False False False False False]\n",
      " [False  True False False False]]\n",
      "[[False False False False False]\n",
      " [False False False False False]\n",
      " [False False False False False]\n",
      " [False False False False False]\n",
      " [False  True False False False]]\n"
     ]
    }
   ],
   "source": [
    "z = x == y\n",
    "print(z)\n",
    "print(np.equal(x, y))\n",
    "# [[False False False False False]\n",
    "#  [False False False False False]\n",
    "#  [False False False False False]\n",
    "#  [False False False False False]\n",
    "#  [False  True False False False]]"
   ]
  },
  {
   "cell_type": "code",
   "execution_count": 287,
   "metadata": {},
   "outputs": [
    {
     "name": "stdout",
     "output_type": "stream",
     "text": [
      "[[ True  True  True  True  True]\n",
      " [ True  True  True  True  True]\n",
      " [ True  True  True  True  True]\n",
      " [ True  True  True  True  True]\n",
      " [ True False  True  True  True]]\n",
      "[[ True  True  True  True  True]\n",
      " [ True  True  True  True  True]\n",
      " [ True  True  True  True  True]\n",
      " [ True  True  True  True  True]\n",
      " [ True False  True  True  True]]\n"
     ]
    }
   ],
   "source": [
    "z = x != y\n",
    "print(z)\n",
    "print(np.not_equal(x, y))\n",
    "# [[ True  True  True  True  True]\n",
    "#  [ True  True  True  True  True]\n",
    "#  [ True  True  True  True  True]\n",
    "#  [ True  True  True  True  True]\n",
    "#  [ True False  True  True  True]]"
   ]
  },
  {
   "cell_type": "code",
   "execution_count": 288,
   "metadata": {},
   "outputs": [
    {
     "name": "stdout",
     "output_type": "stream",
     "text": [
      "[[ True  True  True  True  True]\n",
      " [ True  True  True  True  True]\n",
      " [ True  True False  True False]\n",
      " [ True False False  True False]\n",
      " [False False False  True False]]\n",
      "[[ True  True  True  True  True]\n",
      " [ True  True  True  True  True]\n",
      " [ True  True False  True False]\n",
      " [ True False False  True False]\n",
      " [False False False  True False]]\n"
     ]
    }
   ],
   "source": [
    "z = x < y\n",
    "print(z)\n",
    "print(np.less(x, y))\n",
    "# [[ True  True  True  True  True]\n",
    "#  [ True  True  True  True  True]\n",
    "#  [ True  True False  True False]\n",
    "#  [ True False False  True False]\n",
    "#  [False False False  True False]]"
   ]
  },
  {
   "cell_type": "code",
   "execution_count": 289,
   "metadata": {},
   "outputs": [
    {
     "name": "stdout",
     "output_type": "stream",
     "text": [
      "[[ True  True  True  True  True]\n",
      " [ True  True  True  True  True]\n",
      " [ True  True False  True False]\n",
      " [ True False False  True False]\n",
      " [False  True False  True False]]\n",
      "[[ True  True  True  True  True]\n",
      " [ True  True  True  True  True]\n",
      " [ True  True False  True False]\n",
      " [ True False False  True False]\n",
      " [False  True False  True False]]\n"
     ]
    }
   ],
   "source": [
    "z = x <= y\n",
    "print(z)\n",
    "print(np.less_equal(x, y))\n",
    "# [[ True  True  True  True  True]\n",
    "#  [ True  True  True  True  True]\n",
    "#  [ True  True False  True False]\n",
    "#  [ True False False  True False]\n",
    "#  [False  True False  True False]]"
   ]
  },
  {
   "cell_type": "code",
   "execution_count": 290,
   "metadata": {},
   "outputs": [
    {
     "name": "stdout",
     "output_type": "stream",
     "text": [
      "[32 37 30 24 10]\n"
     ]
    }
   ],
   "source": [
    "#【例】注意 numpy 的广播规则。\n",
    "x = np.array([[11, 12, 13, 14, 15],\n",
    "              [16, 17, 18, 19, 20],\n",
    "              [21, 22, 23, 24, 25],\n",
    "              [26, 27, 28, 29, 30],\n",
    "              [31, 32, 33, 34, 35]])\n",
    "\n",
    "np.random.seed(20200611)\n",
    "y = np.random.randint(10, 50, 5)\n",
    "\n",
    "print(y)\n",
    "# [32 37 30 24 10]"
   ]
  },
  {
   "cell_type": "code",
   "execution_count": 291,
   "metadata": {},
   "outputs": [
    {
     "name": "stdout",
     "output_type": "stream",
     "text": [
      "[[False False False False  True]\n",
      " [False False False False  True]\n",
      " [False False False False  True]\n",
      " [False False False  True  True]\n",
      " [False False  True  True  True]]\n",
      "[[False False False False  True]\n",
      " [False False False False  True]\n",
      " [False False False False  True]\n",
      " [False False False  True  True]\n",
      " [False False  True  True  True]]\n"
     ]
    }
   ],
   "source": [
    "z = x > y\n",
    "print(z)\n",
    "print(np.greater(x, y))\n",
    "# [[False False False False  True]\n",
    "#  [False False False False  True]\n",
    "#  [False False False False  True]\n",
    "#  [False False False  True  True]\n",
    "#  [False False  True  True  True]]"
   ]
  },
  {
   "cell_type": "code",
   "execution_count": 292,
   "metadata": {},
   "outputs": [
    {
     "name": "stdout",
     "output_type": "stream",
     "text": [
      "[[False False False False  True]\n",
      " [False False False False  True]\n",
      " [False False False  True  True]\n",
      " [False False False  True  True]\n",
      " [False False  True  True  True]]\n",
      "[[False False False False  True]\n",
      " [False False False False  True]\n",
      " [False False False  True  True]\n",
      " [False False False  True  True]\n",
      " [False False  True  True  True]]\n"
     ]
    }
   ],
   "source": [
    "z = x >= y\n",
    "print(z)\n",
    "print(np.greater_equal(x, y))\n",
    "# [[False False False False  True]\n",
    "#  [False False False False  True]\n",
    "#  [False False False  True  True]\n",
    "#  [False False False  True  True]\n",
    "#  [False False  True  True  True]]"
   ]
  },
  {
   "cell_type": "code",
   "execution_count": 293,
   "metadata": {},
   "outputs": [
    {
     "name": "stdout",
     "output_type": "stream",
     "text": [
      "[[False False False False False]\n",
      " [False False False False False]\n",
      " [False False False  True False]\n",
      " [False False False False False]\n",
      " [False False False False False]]\n",
      "[[False False False False False]\n",
      " [False False False False False]\n",
      " [False False False  True False]\n",
      " [False False False False False]\n",
      " [False False False False False]]\n"
     ]
    }
   ],
   "source": [
    "z = x == y\n",
    "print(z)\n",
    "print(np.equal(x, y))\n",
    "# [[False False False False False]\n",
    "#  [False False False False False]\n",
    "#  [False False False  True False]\n",
    "#  [False False False False False]\n",
    "#  [False False False False False]]"
   ]
  },
  {
   "cell_type": "code",
   "execution_count": 294,
   "metadata": {},
   "outputs": [
    {
     "name": "stdout",
     "output_type": "stream",
     "text": [
      "[[ True  True  True  True  True]\n",
      " [ True  True  True  True  True]\n",
      " [ True  True  True False  True]\n",
      " [ True  True  True  True  True]\n",
      " [ True  True  True  True  True]]\n",
      "[[ True  True  True  True  True]\n",
      " [ True  True  True  True  True]\n",
      " [ True  True  True False  True]\n",
      " [ True  True  True  True  True]\n",
      " [ True  True  True  True  True]]\n"
     ]
    }
   ],
   "source": [
    "z = x != y\n",
    "print(z)\n",
    "print(np.not_equal(x, y))\n",
    "# [[ True  True  True  True  True]\n",
    "#  [ True  True  True  True  True]\n",
    "#  [ True  True  True False  True]\n",
    "#  [ True  True  True  True  True]\n",
    "#  [ True  True  True  True  True]]"
   ]
  },
  {
   "cell_type": "code",
   "execution_count": 295,
   "metadata": {},
   "outputs": [
    {
     "name": "stdout",
     "output_type": "stream",
     "text": [
      "[[ True  True  True  True False]\n",
      " [ True  True  True  True False]\n",
      " [ True  True  True False False]\n",
      " [ True  True  True False False]\n",
      " [ True  True False False False]]\n",
      "[[ True  True  True  True False]\n",
      " [ True  True  True  True False]\n",
      " [ True  True  True False False]\n",
      " [ True  True  True False False]\n",
      " [ True  True False False False]]\n"
     ]
    }
   ],
   "source": [
    "z = x < y\n",
    "print(z)\n",
    "print(np.less(x, y))\n",
    "# [[ True  True  True  True False]\n",
    "#  [ True  True  True  True False]\n",
    "#  [ True  True  True False False]\n",
    "#  [ True  True  True False False]\n",
    "#  [ True  True False False False]]"
   ]
  },
  {
   "cell_type": "code",
   "execution_count": 296,
   "metadata": {},
   "outputs": [
    {
     "name": "stdout",
     "output_type": "stream",
     "text": [
      "[[ True  True  True  True False]\n",
      " [ True  True  True  True False]\n",
      " [ True  True  True  True False]\n",
      " [ True  True  True False False]\n",
      " [ True  True False False False]]\n",
      "[[ True  True  True  True False]\n",
      " [ True  True  True  True False]\n",
      " [ True  True  True  True False]\n",
      " [ True  True  True False False]\n",
      " [ True  True False False False]]\n"
     ]
    }
   ],
   "source": [
    "z = x <= y\n",
    "print(z)\n",
    "print(np.less_equal(x, y))\n",
    "# [[ True  True  True  True False]\n",
    "#  [ True  True  True  True False]\n",
    "#  [ True  True  True  True False]\n",
    "#  [ True  True  True False False]\n",
    "#  [ True  True False False False]]"
   ]
  },
  {
   "cell_type": "markdown",
   "metadata": {},
   "source": [
    "### numpy.isclose\n",
    "- `numpy.isclose(a, b, rtol=1.e-5, atol=1.e-8, equal_nan=False)` Returns a boolean array where two arrays are element-wise equal within a tolerance."
   ]
  },
  {
   "cell_type": "markdown",
   "metadata": {},
   "source": [
    "### numpy.allclose\n",
    "- `numpy.allclose(a, b, rtol=1.e-5, atol=1.e-8, equal_nan=False)` Returns True if two arrays are element-wise equal within a tolerance. \n",
    "`numpy.allclose()` 等价于 `numpy.all(isclose(a, b, rtol=rtol, atol=atol, equal_nan=equal_nan))`。\n",
    "\n",
    "The tolerance values are positive, typically very small numbers.  The relative difference (`rtol * abs(b)`) and the absolute difference `atol` are added together to compare against the absolute difference between `a` and `b`.\n",
    "\n",
    "判断是否为True的计算依据：\n",
    "\n",
    "```python\n",
    "np.absolute(a - b) <= (atol + rtol * absolute(b))\n",
    "\n",
    "- atol：float，绝对公差。\n",
    "- rtol：float，相对公差。\n",
    "```\n",
    "\n",
    "NaNs are treated as equal if they are in the same place and if `equal_nan=True`.  Infs are treated as equal if they are in the same place and of the same sign in both arrays.\n",
    "\n",
    "【例】比较两个数组是否可以认为相等。\n"
   ]
  },
  {
   "cell_type": "markdown",
   "metadata": {
    "jupyter": {
     "source_hidden": true
    }
   },
   "source": [
    "```python\n",
    "import numpy as np\n",
    "\n",
    "x = np.isclose([1e10, 1e-7], [1.00001e10, 1e-8])\n",
    "print(x)  # [ True False]\n",
    "\n",
    "x = np.allclose([1e10, 1e-7], [1.00001e10, 1e-8])\n",
    "print(x)  # False\n",
    "\n",
    "x = np.isclose([1e10, 1e-8], [1.00001e10, 1e-9])\n",
    "print(x)  # [ True  True]\n",
    "\n",
    "x = np.allclose([1e10, 1e-8], [1.00001e10, 1e-9])\n",
    "print(x)  # True\n",
    "\n",
    "x = np.isclose([1e10, 1e-8], [1.0001e10, 1e-9])\n",
    "print(x)  # [False  True]\n",
    "\n",
    "x = np.allclose([1e10, 1e-8], [1.0001e10, 1e-9])\n",
    "print(x)  # False\n",
    "\n",
    "x = np.isclose([1.0, np.nan], [1.0, np.nan])\n",
    "print(x)  # [ True False]\n",
    "\n",
    "x = np.allclose([1.0, np.nan], [1.0, np.nan])\n",
    "print(x)  # False\n",
    "\n",
    "x = np.isclose([1.0, np.nan], [1.0, np.nan], equal_nan=True)\n",
    "print(x)  # [ True  True]\n",
    "\n",
    "x = np.allclose([1.0, np.nan], [1.0, np.nan], equal_nan=True)\n",
    "print(x)  # True\n",
    "```"
   ]
  },
  {
   "cell_type": "code",
   "execution_count": 297,
   "metadata": {},
   "outputs": [
    {
     "name": "stdout",
     "output_type": "stream",
     "text": [
      "[ True False]\n"
     ]
    }
   ],
   "source": [
    "#【例】比较两个数组是否可以认为相等。\n",
    "x = np.isclose([1e10, 1e-7], [1.00001e10, 1e-8])\n",
    "print(x)  # [ True False]"
   ]
  },
  {
   "cell_type": "code",
   "execution_count": 298,
   "metadata": {},
   "outputs": [
    {
     "name": "stdout",
     "output_type": "stream",
     "text": [
      "False\n"
     ]
    }
   ],
   "source": [
    "x = np.allclose([1e10, 1e-7], [1.00001e10, 1e-8])\n",
    "print(x)  # False"
   ]
  },
  {
   "cell_type": "code",
   "execution_count": 299,
   "metadata": {},
   "outputs": [
    {
     "name": "stdout",
     "output_type": "stream",
     "text": [
      "[ True  True]\n"
     ]
    }
   ],
   "source": [
    "x = np.isclose([1e10, 1e-8], [1.00001e10, 1e-9])\n",
    "print(x)  # [ True  True]"
   ]
  },
  {
   "cell_type": "code",
   "execution_count": 300,
   "metadata": {},
   "outputs": [
    {
     "name": "stdout",
     "output_type": "stream",
     "text": [
      "True\n"
     ]
    }
   ],
   "source": [
    "x = np.allclose([1e10, 1e-8], [1.00001e10, 1e-9])\n",
    "print(x)  # True"
   ]
  },
  {
   "cell_type": "code",
   "execution_count": 301,
   "metadata": {},
   "outputs": [
    {
     "name": "stdout",
     "output_type": "stream",
     "text": [
      "[False  True]\n"
     ]
    }
   ],
   "source": [
    "x = np.isclose([1e10, 1e-8], [1.0001e10, 1e-9])\n",
    "print(x)  # [False  True]"
   ]
  },
  {
   "cell_type": "code",
   "execution_count": 302,
   "metadata": {},
   "outputs": [
    {
     "name": "stdout",
     "output_type": "stream",
     "text": [
      "False\n"
     ]
    }
   ],
   "source": [
    "x = np.allclose([1e10, 1e-8], [1.0001e10, 1e-9])\n",
    "print(x)  # False"
   ]
  },
  {
   "cell_type": "code",
   "execution_count": 303,
   "metadata": {},
   "outputs": [
    {
     "name": "stdout",
     "output_type": "stream",
     "text": [
      "[ True False]\n"
     ]
    }
   ],
   "source": [
    "x = np.isclose([1.0, np.nan], [1.0, np.nan])\n",
    "print(x)  # [ True False]"
   ]
  },
  {
   "cell_type": "code",
   "execution_count": 304,
   "metadata": {},
   "outputs": [
    {
     "name": "stdout",
     "output_type": "stream",
     "text": [
      "False\n"
     ]
    }
   ],
   "source": [
    "x = np.allclose([1.0, np.nan], [1.0, np.nan])\n",
    "print(x)  # False"
   ]
  },
  {
   "cell_type": "code",
   "execution_count": 305,
   "metadata": {},
   "outputs": [
    {
     "name": "stdout",
     "output_type": "stream",
     "text": [
      "[ True  True]\n"
     ]
    }
   ],
   "source": [
    "x = np.isclose([1.0, np.nan], [1.0, np.nan], equal_nan=True)\n",
    "print(x)  # [ True  True]"
   ]
  },
  {
   "cell_type": "code",
   "execution_count": 306,
   "metadata": {},
   "outputs": [
    {
     "name": "stdout",
     "output_type": "stream",
     "text": [
      "True\n"
     ]
    }
   ],
   "source": [
    "x = np.allclose([1.0, np.nan], [1.0, np.nan], equal_nan=True)\n",
    "print(x)  # True"
   ]
  },
  {
   "cell_type": "markdown",
   "metadata": {},
   "source": [
    "# 练习"
   ]
  },
  {
   "cell_type": "markdown",
   "metadata": {},
   "source": [
    "## 数学函数"
   ]
  },
  {
   "cell_type": "markdown",
   "metadata": {},
   "source": [
    "### **将数组a中大于30的值替换为30，小于10的值替换为10。**\n",
    "\n",
    "- `a = np.random.uniform(1, 50, 20)`\n",
    "\n",
    "【知识点：数学函数、搜索】\n",
    "- 如何将大于给定值的所有值替换为给定的截止值？"
   ]
  },
  {
   "cell_type": "code",
   "execution_count": 309,
   "metadata": {},
   "outputs": [
    {
     "name": "stdout",
     "output_type": "stream",
     "text": [
      "[[30.82499649 24.51645139 24.55845156 26.90412442]\n",
      " [32.1672995  15.02539694 30.5331784   4.40509134]\n",
      " [36.5086521  14.4994562  15.27168447 10.2667024 ]\n",
      " [23.15270069 20.5059267   8.94120518  7.85074259]\n",
      " [16.15218898 37.70292559 43.12650678 37.02498228]]\n"
     ]
    },
    {
     "data": {
      "text/plain": [
       "array([[30.        , 24.51645139, 24.55845156, 26.90412442],\n",
       "       [30.        , 15.02539694, 30.        , 10.        ],\n",
       "       [30.        , 14.4994562 , 15.27168447, 10.2667024 ],\n",
       "       [23.15270069, 20.5059267 , 10.        , 10.        ],\n",
       "       [16.15218898, 30.        , 30.        , 30.        ]])"
      ]
     },
     "execution_count": 309,
     "metadata": {},
     "output_type": "execute_result"
    }
   ],
   "source": [
    "a = np.random.uniform(1, 50, 20).reshape(5,4)\n",
    "print(a)\n",
    "np.clip(a,10,30)"
   ]
  },
  {
   "cell_type": "markdown",
   "metadata": {},
   "source": [
    "### **找到一个一维数字数组a中的所有峰值。峰顶是两边被较小数值包围的点。**\n",
    "\n",
    "- `a = np.array([1, 3, 7, 1, 2, 6, 0, 1])`\n",
    "\n",
    "【知识点：数学函数、搜索】\n",
    "- 如何在一维数组中找到所有的局部极大值（或峰值）？"
   ]
  },
  {
   "cell_type": "code",
   "execution_count": 341,
   "metadata": {},
   "outputs": [
    {
     "data": {
      "text/plain": [
       "(array([1, 3, 7, 6, 1, 2, 6, 0, 1]),\n",
       " array([ 2,  4, -1, -5,  1,  4, -6,  1]),\n",
       " array([1, 0, 6, 2, 1, 6, 7, 3, 1]),\n",
       " array([1, 3, 7, 6, 1, 2, 6, 0]),\n",
       " array([3, 7, 6, 1, 2, 6, 0, 1]),\n",
       " array([False, False,  True,  True, False, False,  True, False]),\n",
       " array([ True, False,  True,  True, False, False,  True,  True]),\n",
       " (array([], dtype=int64),))"
      ]
     },
     "execution_count": 341,
     "metadata": {},
     "output_type": "execute_result"
    }
   ],
   "source": [
    "#a = np.array([1, 3, 7, 1, 2, 6, 0, 1])\n",
    "a = np.array([1, 3, 7, 6, 1, 2, 6, 0, 1])\n",
    "#a = np.random.randint(0,50,10)\n",
    "a,np.diff(a),a[::-1],a[:-1],a[1:],(a[:-1]>a[1:]),(a[::-1][:-1]>a[::-1][1:]),np.where((a[:-1]>a[1:])&(np.diff(a)>0))"
   ]
  },
  {
   "cell_type": "code",
   "execution_count": 352,
   "metadata": {},
   "outputs": [
    {
     "data": {
      "text/plain": [
       "array([ True,  True, False, False,  True,  True, False,  True])"
      ]
     },
     "execution_count": 352,
     "metadata": {},
     "output_type": "execute_result"
    }
   ],
   "source": [
    "#np.diff(a)>0,\n",
    "np.diff(a)>0"
   ]
  },
  {
   "cell_type": "markdown",
   "metadata": {},
   "source": [
    "### **对于给定的一维数组，计算窗口大小为3的移动平均值。**\n",
    "\n",
    "- `z = np.random.randint(10, size=10)`\n",
    "\n",
    "【知识点：数学函数】\n",
    "- 如何计算numpy数组的移动平均值？"
   ]
  },
  {
   "cell_type": "markdown",
   "metadata": {},
   "source": [
    "### **对一个5x5的随机矩阵做归一化**\n",
    "\n",
    "-`Z = np.random.random((5,5))` \n",
    "\n",
    "【知识点：数学函数】\n",
    "- (提示: (x - min) / (max - min))"
   ]
  },
  {
   "cell_type": "markdown",
   "metadata": {},
   "source": [
    "### **用五种不同的方法去提取一个随机数组的整数部分**\n",
    "\n",
    "- `Z = np.random.uniform(0,10,10) `\n",
    "\n",
    "【知识点：数学函数】\n",
    "\n",
    "- (提示: %, np.floor, np.ceil, astype, np.trunc)"
   ]
  },
  {
   "attachments": {
    "image.png": {
     "image/png": "[encoded data removed]"
    }
   },
   "cell_type": "markdown",
   "metadata": {},
   "source": [
    "### **考虑一维数组Z，构建一个二维数组，其第一行为（Z [0]，Z [1]，Z [2]），随后的每一行都移位1（最后一行应为（Z [ -3]，Z [-2]，Z [-1]）**\n",
    "\n",
    "【知识点：数学函数】\n",
    "\n",
    "- （提示np.lib.stride_tricks）\n",
    "\n",
    "[0, 1, 2, 3, 4, 5, 6, 7, 8, 9]--------> ![image.png](attachment:image.png) "
   ]
  },
  {
   "cell_type": "markdown",
   "metadata": {},
   "source": [
    "### **考虑两组点集P0和P1去描述一组线(二维)和一个点p,如何计算点p到每一条线 i (P0[i],P1[i])的距离？**\n",
    "- `P0 = np.random.uniform(-10,10,(10,2))\n",
    "P1 = np.random.uniform(-10,10,(10,2))\n",
    "p  = np.random.uniform(-10,10,( 1,2))`\n",
    "\n",
    "【知识点：数学函数】\n",
    "- 提示 设P(x0,y0)，直线方程为：Ax+By+C=0\n",
    "则P到直线的距离为:d=|Ax0+By0+C|/√(A²+B²)"
   ]
  },
  {
   "cell_type": "markdown",
   "metadata": {},
   "source": [
    "### **画正弦函数和余弦函数， x = np.arange(0, 3 * np.pi, 0.1)？**\n",
    "【知识点：数学函数】"
   ]
  },
  {
   "cell_type": "markdown",
   "metadata": {},
   "source": [
    "### **减去矩阵每一行的平均值 ？**\n",
    "【知识点：数学函数】\n",
    "- 提示: mean(axis=,keepdims=)"
   ]
  },
  {
   "cell_type": "markdown",
   "metadata": {},
   "source": [
    "### **进行概率统计分析 ？**\n",
    "- `arr1 = np.random.randint(1,10,10)\n",
    "arr2 = np.random.randint(1,10,10))\n",
    "【知识点：数学函数】 \n",
    "平均数，中位数，方差，标准差，相关性矩阵，协方差矩阵等`\n"
   ]
  },
  {
   "cell_type": "markdown",
   "metadata": {},
   "source": [
    "## 逻辑函数"
   ]
  },
  {
   "cell_type": "markdown",
   "metadata": {},
   "source": [
    "### **获取a和b元素匹配的位置。**\n",
    "- `a = np.array([1, 2, 3, 2, 3, 4, 3, 4, 5, 6])`\n",
    "- `b = np.array([7, 2, 10, 2, 7, 4, 9, 4, 9, 8])`\n",
    "\n",
    "【知识点：逻辑函数】\n",
    "- 如何得到两个数组元素匹配的位置？"
   ]
  },
  {
   "cell_type": "markdown",
   "metadata": {},
   "source": [
    "### **获取5到10 之间的所有元素。**\n",
    "- `a = np.array([2, 6, 1, 9, 10, 3, 27])`\n",
    "\n",
    "【知识点：逻辑函数】\n",
    "- 如何从numpy数组中提取给定范围内的所有元素？"
   ]
  },
  {
   "cell_type": "markdown",
   "metadata": {},
   "source": [
    "### **对于两个随机数组A和B,检查他们是否相等**\n",
    "- `A = np.random.randint(0,2,5)\n",
    "B = np.random.randint(0,2,5)`\n",
    "\n",
    "【知识点：逻辑函数】\n",
    "\n",
    "- (提示: np.allclose, np.array_equal)"
   ]
  },
  {
   "cell_type": "markdown",
   "metadata": {},
   "source": [
    "### **何对布尔值取反，或者原位(in-place)改变浮点数的符号(sign)？**\n",
    "\n",
    "【知识点：逻辑函数】\n",
    "- (提示: np.logical_not, np.negative)"
   ]
  },
  {
   "cell_type": "markdown",
   "metadata": {},
   "source": [
    "### **找出数组中与给定值最接近的数**\n",
    "\n",
    "【知识点：逻辑函数】\n",
    "- (提示: np.abs().argmin())"
   ]
  },
  {
   "cell_type": "code",
   "execution_count": null,
   "metadata": {},
   "outputs": [],
   "source": []
  },
  {
   "cell_type": "markdown",
   "metadata": {},
   "source": [
    "# 参考答案"
   ]
  },
  {
   "cell_type": "markdown",
   "metadata": {},
   "source": [
    "## 数学函数"
   ]
  },
  {
   "cell_type": "markdown",
   "metadata": {},
   "source": [
    "**将数组a中大于30的值替换为30，小于10的值替换为10。**\n",
    "\n",
    "- `a = np.random.uniform(1, 50, 20)`\n",
    "\n",
    "【知识点：数学函数、搜索】\n",
    "- 如何将大于给定值的所有值替换为给定的截止值？"
   ]
  },
  {
   "cell_type": "code",
   "execution_count": 353,
   "metadata": {
    "ExecuteTime": {
     "end_time": "2020-09-06T03:08:51.850958Z",
     "start_time": "2020-09-06T03:08:51.759473Z"
    }
   },
   "outputs": [
    {
     "name": "stdout",
     "output_type": "stream",
     "text": [
      "[27.63 14.64 21.8  42.39  1.23  6.96 33.87 41.47  7.7  29.18 44.67 11.25\n",
      " 10.08  6.31 11.77 48.95 40.77  9.43 41.   14.43]\n",
      "[27.63 14.64 21.8  30.   10.   10.   30.   30.   10.   29.18 30.   11.25\n",
      " 10.08 10.   11.77 30.   30.   10.   30.   14.43]\n",
      "[27.63 14.64 21.8  30.   10.   10.   30.   30.   10.   29.18 30.   11.25\n",
      " 10.08 10.   11.77 30.   30.   10.   30.   14.43]\n"
     ]
    }
   ],
   "source": [
    "import numpy as np\n",
    "\n",
    "np.set_printoptions(precision=2)\n",
    "np.random.seed(100)\n",
    "a = np.random.uniform(1, 50, 20)\n",
    "print(a)\n",
    "# [27.63 14.64 21.8  42.39  1.23  6.96 33.87 41.47  7.7  29.18 44.67 11.25\n",
    "#  10.08  6.31 11.77 48.95 40.77  9.43 41.   14.43]\n",
    "\n",
    "# 方法1\n",
    "b = np.clip(a, a_min=10, a_max=30)\n",
    "print(b)\n",
    "# [27.63 14.64 21.8  30.   10.   10.   30.   30.   10.   29.18 30.   11.25\n",
    "#  10.08 10.   11.77 30.   30.   10.   30.   14.43]\n",
    "\n",
    "# 方法2\n",
    "b = np.where(a < 10, 10, a)\n",
    "b = np.where(b > 30, 30, b)\n",
    "print(b)\n",
    "# [27.63 14.64 21.8  30.   10.   10.   30.   30.   10.   29.18 30.   11.25\n",
    "#  10.08 10.   11.77 30.   30.   10.   30.   14.43]"
   ]
  },
  {
   "cell_type": "markdown",
   "metadata": {
    "ExecuteTime": {
     "end_time": "2020-09-06T03:21:06.830747Z",
     "start_time": "2020-09-06T03:21:06.825756Z"
    }
   },
   "source": [
    "\n",
    "**找到一个一维数字数组a中的所有峰值。峰顶是两边被较小数值包围的点。**\n",
    "\n",
    "- `a = np.array([1, 3, 7, 1, 2, 6, 0, 1])`\n",
    "\n",
    "【知识点：数学函数、搜索】\n",
    "- 如何在一维数组中找到所有的局部极大值（或峰值）？"
   ]
  },
  {
   "cell_type": "code",
   "execution_count": 354,
   "metadata": {
    "ExecuteTime": {
     "end_time": "2020-09-06T03:21:25.424045Z",
     "start_time": "2020-09-06T03:21:25.417035Z"
    }
   },
   "outputs": [
    {
     "name": "stdout",
     "output_type": "stream",
     "text": [
      "[ 2  4 -6  1  4 -6  1]\n",
      "[ 1  1 -1  1  1 -1  1]\n",
      "[ 0 -2  2  0 -2  2]\n",
      "[2 5]\n"
     ]
    }
   ],
   "source": [
    "import numpy as np\n",
    "\n",
    "a = np.array([1, 3, 7, 1, 2, 6, 0, 1])\n",
    "b1 = np.diff(a)\n",
    "b2 = np.sign(b1)\n",
    "b3 = np.diff(b2)\n",
    "\n",
    "print(b1)  # [ 2  4 -6  1  4 -6  1]\n",
    "print(b2)  # [ 1  1 -1  1  1 -1  1]\n",
    "print(b3)  # [ 0 -2  2  0 -2  2]\n",
    "index = np.where(np.equal(b3, -2))[0] + 1\n",
    "print(index) # [2 5]"
   ]
  },
  {
   "cell_type": "markdown",
   "metadata": {},
   "source": [
    "**对于给定的一维数组，计算窗口大小为3的移动平均值。**\n",
    "\n",
    "- `z = np.random.randint(10, size=10)`\n",
    "\n",
    "【知识点：数学函数】\n",
    "- 如何计算numpy数组的移动平均值？"
   ]
  },
  {
   "cell_type": "code",
   "execution_count": 355,
   "metadata": {
    "ExecuteTime": {
     "end_time": "2020-09-06T03:23:59.067424Z",
     "start_time": "2020-09-06T03:23:59.062437Z"
    }
   },
   "outputs": [
    {
     "name": "stdout",
     "output_type": "stream",
     "text": [
      "[8 8 3 7 7 0 4 2 5 2]\n",
      "[6.33 6.   5.67 4.67 3.67 2.   3.67 3.  ]\n"
     ]
    }
   ],
   "source": [
    "import numpy as np\n",
    "\n",
    "np.random.seed(100)\n",
    "z = np.random.randint(10, size=10)\n",
    "print(z)\n",
    "# [8 8 3 7 7 0 4 2 5 2]\n",
    "\n",
    "def MovingAverage(arr, n=3):\n",
    "    a = np.cumsum(arr)\n",
    "    a[n:] = a[n:] - a[:-n]\n",
    "    return a[n - 1:] / n\n",
    "\n",
    "\n",
    "r = MovingAverage(z, 3)\n",
    "print(np.around(r, 2))\n",
    "# [6.33 6.   5.67 4.67 3.67 2.   3.67 3.  ]"
   ]
  },
  {
   "cell_type": "markdown",
   "metadata": {
    "ExecuteTime": {
     "end_time": "2020-09-14T09:26:27.187954Z",
     "start_time": "2020-09-14T09:26:27.183972Z"
    }
   },
   "source": [
    "**对一个5x5的随机矩阵做归一化**\n",
    "\n",
    "【知识点：数学函数】\n",
    "- (提示: (x - min) / (max - min))"
   ]
  },
  {
   "cell_type": "code",
   "execution_count": 356,
   "metadata": {
    "ExecuteTime": {
     "end_time": "2020-09-14T09:26:59.520324Z",
     "start_time": "2020-09-14T09:26:59.515666Z"
    }
   },
   "outputs": [
    {
     "name": "stdout",
     "output_type": "stream",
     "text": [
      "[[0.22 0.47 0.92 0.06 0.65]\n",
      " [0.55 0.59 0.   0.32 1.  ]\n",
      " [0.13 0.08 0.32 0.66 0.73]\n",
      " [0.67 0.97 0.31 0.6  0.18]\n",
      " [0.56 0.68 0.14 0.61 0.5 ]]\n"
     ]
    }
   ],
   "source": [
    "Z = np.random.random((5,5))\n",
    "Zmax, Zmin = Z.max(), Z.min()\n",
    "Z = (Z - Zmin)/(Zmax - Zmin)\n",
    "print(Z)"
   ]
  },
  {
   "cell_type": "markdown",
   "metadata": {},
   "source": [
    "**用五种不同的方法去提取一个随机数组的整数部分**\n",
    "\n",
    "【知识点：数学函数】\n",
    "\n",
    "- (提示: %, np.floor, np.ceil, astype, np.trunc)"
   ]
  },
  {
   "cell_type": "code",
   "execution_count": 357,
   "metadata": {
    "ExecuteTime": {
     "end_time": "2020-09-14T09:31:37.950320Z",
     "start_time": "2020-09-14T09:31:37.944304Z"
    }
   },
   "outputs": [
    {
     "name": "stdout",
     "output_type": "stream",
     "text": [
      "[3. 4. 4. 4. 0. 7. 5. 3. 5. 9.]\n",
      "[3. 4. 4. 4. 0. 7. 5. 3. 5. 9.]\n",
      "[3. 4. 4. 4. 0. 7. 5. 3. 5. 9.]\n",
      "[3 4 4 4 0 7 5 3 5 9]\n",
      "[3. 4. 4. 4. 0. 7. 5. 3. 5. 9.]\n"
     ]
    }
   ],
   "source": [
    "Z = np.random.uniform(0,10,10)\n",
    "\n",
    "print (Z - Z%1)\n",
    "print (np.floor(Z))\n",
    "print (np.ceil(Z)-1)\n",
    "print (Z.astype(int))\n",
    "print (np.trunc(Z))"
   ]
  },
  {
   "cell_type": "markdown",
   "metadata": {},
   "source": [
    "**考虑一维数组Z，构建一个二维数组，其第一行为（Z [0]，Z [1]，Z [2]），随后的每一行都移位1（最后一行应为（Z [ -3]，Z [-2]，Z [-1]）**\n",
    "\n",
    "【知识点：数学函数】\n",
    "\n",
    "- （提示np.lib.stride_tricks）"
   ]
  },
  {
   "attachments": {
    "image.png": {
     "image/png": "[encoded data removed]"
    }
   },
   "cell_type": "markdown",
   "metadata": {},
   "source": [
    "[0, 1, 2, 3, 4, 5, 6, 7, 8, 9]--------> ![image.png](attachment:image.png)     "
   ]
  },
  {
   "cell_type": "code",
   "execution_count": 358,
   "metadata": {
    "ExecuteTime": {
     "end_time": "2020-09-14T13:38:56.805424Z",
     "start_time": "2020-09-14T13:38:56.800436Z"
    }
   },
   "outputs": [
    {
     "data": {
      "text/plain": [
       "8"
      ]
     },
     "execution_count": 358,
     "metadata": {},
     "output_type": "execute_result"
    }
   ],
   "source": [
    "np.arange(10).itemsize"
   ]
  },
  {
   "cell_type": "code",
   "execution_count": 359,
   "metadata": {
    "ExecuteTime": {
     "end_time": "2020-09-14T13:32:50.080815Z",
     "start_time": "2020-09-14T13:32:49.737937Z"
    }
   },
   "outputs": [
    {
     "name": "stdout",
     "output_type": "stream",
     "text": [
      "[[0 1 2]\n",
      " [1 2 3]\n",
      " [2 3 4]\n",
      " [3 4 5]\n",
      " [4 5 6]\n",
      " [5 6 7]\n",
      " [6 7 8]\n",
      " [7 8 9]]\n"
     ]
    }
   ],
   "source": [
    "from numpy.lib import stride_tricks\n",
    "def rolling(a, window):\n",
    "    shape = (a.size - window + 1, window)\n",
    "    strides = (a.itemsize, a.itemsize)\n",
    "    return stride_tricks.as_strided(a, shape=shape, strides=strides)\n",
    "Z = rolling(np.arange(10), 3)\n",
    "print (Z)"
   ]
  },
  {
   "cell_type": "markdown",
   "metadata": {},
   "source": [
    "**考虑两组点集P0和P1去描述一组线(二维)和一个点p,如何计算点p到每一条线 i (P0[i],P1[i])的距离？**\n",
    "\n",
    "【知识点：数学函数】\n",
    "- 提示 设P(x0,y0)，直线方程为：Ax+By+C=0\n",
    "则P到直线的距离为:d=|Ax0+By0+C|/√(A²+B²)\n"
   ]
  },
  {
   "cell_type": "code",
   "execution_count": 360,
   "metadata": {
    "ExecuteTime": {
     "end_time": "2020-09-15T05:37:30.811695Z",
     "start_time": "2020-09-15T05:37:30.805709Z"
    }
   },
   "outputs": [],
   "source": [
    "import numpy as np\n",
    "def distance(P0,P1,p):\n",
    "    A=-1/(P1[:,0]-P0[:,0])\n",
    "    B=1/(P1[:,1]-P0[:,1])\n",
    "    C=P0[:,0]/(P1[:,0]-P0[:,0])-P0[:,1]/(P1[:,1]-P0[:,1])\n",
    "    return np.abs(A*p[:,0]+B*p[:,1]+C)/np.sqrt(A**2+B**2)"
   ]
  },
  {
   "cell_type": "code",
   "execution_count": 361,
   "metadata": {
    "ExecuteTime": {
     "end_time": "2020-09-15T05:37:37.692332Z",
     "start_time": "2020-09-15T05:37:37.687379Z"
    }
   },
   "outputs": [
    {
     "name": "stdout",
     "output_type": "stream",
     "text": [
      "[1.31e+01 9.93e+00 1.04e-02 5.54e+00 7.57e+00 1.04e+01 3.07e-01 6.24e+00\n",
      " 2.98e+00 9.87e+00]\n"
     ]
    }
   ],
   "source": [
    "P0 = np.random.uniform(-10,10,(10,2))\n",
    "P1 = np.random.uniform(-10,10,(10,2))\n",
    "p  = np.random.uniform(-10,10,( 1,2))\n",
    "\n",
    "print (distance(P0, P1, p))"
   ]
  },
  {
   "cell_type": "markdown",
   "metadata": {},
   "source": [
    " **画正弦函数和余弦函数， x = np.arange(0, 3 * np.pi, 0.1)？**"
   ]
  },
  {
   "cell_type": "code",
   "execution_count": 362,
   "metadata": {},
   "outputs": [
    {
     "data": {
      "text/plain": [
       "[<matplotlib.lines.Line2D at 0x7f53655647c0>]"
      ]
     },
     "execution_count": 362,
     "metadata": {},
     "output_type": "execute_result"
    },
    {
     "data": {
      "image/png": "[encoded data removed]",
      "text/plain": [
       "<Figure size 432x288 with 1 Axes>"
      ]
     },
     "metadata": {
      "needs_background": "light"
     },
     "output_type": "display_data"
    }
   ],
   "source": [
    "import numpy as np\n",
    "from matplotlib import pyplot as plt\n",
    "x = np.arange(0, 3*np.pi, 0.1)\n",
    "y1 = np.sin(x)\n",
    "y2 = np.cos(x)\n",
    "plt.plot(x, y1)\n",
    "plt.plot(x, y2)"
   ]
  },
  {
   "cell_type": "markdown",
   "metadata": {},
   "source": [
    "**减去矩阵每一行的平均值 ？**"
   ]
  },
  {
   "cell_type": "code",
   "execution_count": 363,
   "metadata": {},
   "outputs": [
    {
     "name": "stdout",
     "output_type": "stream",
     "text": [
      "[[ 0.06 -0.17  0.52 -0.28 -0.24  0.09 -0.36 -0.12  0.51 -0.03]\n",
      " [ 0.05  0.17 -0.3  -0.05 -0.05  0.47 -0.14 -0.19  0.4  -0.36]\n",
      " [ 0.24 -0.45  0.11 -0.46  0.37 -0.05  0.07  0.33 -0.4   0.22]\n",
      " [-0.05 -0.42 -0.39 -0.    0.54 -0.34  0.11  0.2   0.    0.35]\n",
      " [ 0.08  0.1  -0.12  0.11  0.25 -0.06  0.06 -0.25 -0.03 -0.14]]\n"
     ]
    }
   ],
   "source": [
    "X = np.random.rand(5, 10)\n",
    "# 新\n",
    "Y = X - X.mean(axis=1, keepdims=True)\n",
    "# 旧\n",
    "Y = X - X.mean(axis=1).reshape(-1, 1)\n",
    "print(Y)"
   ]
  },
  {
   "cell_type": "markdown",
   "metadata": {},
   "source": [
    "**进行概率统计分析 ？**\n",
    "- `arr1 = np.random.randint(1,10,10)\n",
    "arr2 = np.random.randint(1,10,10))`"
   ]
  },
  {
   "cell_type": "code",
   "execution_count": 372,
   "metadata": {},
   "outputs": [
    {
     "name": "stdout",
     "output_type": "stream",
     "text": [
      "arr1的平均数为:5.8\n",
      "arr1的中位数为:6.5\n",
      "arr1的方差为:4.96\n",
      "arr1的标准差为:2.227105745132009\n",
      "arr1,arr的相关性矩阵为:[[5.51 0.8 ]\n",
      " [0.8  4.54]]\n",
      "arr1,arr的协方差矩阵为:[[1.   0.16]\n",
      " [0.16 1.  ]]\n"
     ]
    }
   ],
   "source": [
    "#f\n",
    "arr1 = np.random.randint(1,10,10)\n",
    "arr2 = np.random.randint(1,10,10)\n",
    "\n",
    "print(\"arr1的平均数为:%s\" %np.mean(arr1))\n",
    "print(\"arr1的中位数为:%s\" %np.median(arr1))\n",
    "print(\"arr1的方差为:%s\" %np.var(arr1))\n",
    "print(\"arr1的标准差为:%s\" %np.std(arr1))\n",
    "print(\"arr1,arr的相关性矩阵为:%s\" %np.cov(arr1,arr2))\n",
    "print(\"arr1,arr的协方差矩阵为:%s\" %np.corrcoef(arr1,arr2))"
   ]
  },
  {
   "cell_type": "markdown",
   "metadata": {
    "ExecuteTime": {
     "end_time": "2020-09-06T02:33:06.525406Z",
     "start_time": "2020-09-06T02:33:06.520453Z"
    }
   },
   "source": [
    "## 逻辑函数"
   ]
  },
  {
   "cell_type": "markdown",
   "metadata": {},
   "source": [
    "**获取a和b元素匹配的位置。**\n",
    "- `a = np.array([1, 2, 3, 2, 3, 4, 3, 4, 5, 6])`\n",
    "- `b = np.array([7, 2, 10, 2, 7, 4, 9, 4, 9, 8])`\n",
    "\n",
    "【知识点：逻辑函数】\n",
    "- 如何得到两个数组元素匹配的位置？"
   ]
  },
  {
   "cell_type": "code",
   "execution_count": 365,
   "metadata": {
    "ExecuteTime": {
     "end_time": "2020-09-06T02:53:59.537622Z",
     "start_time": "2020-09-06T02:53:59.531638Z"
    }
   },
   "outputs": [
    {
     "name": "stdout",
     "output_type": "stream",
     "text": [
      "(array([1, 3, 5, 7]),)\n",
      "(array([1, 3, 5, 7]),)\n"
     ]
    }
   ],
   "source": [
    "import numpy as np\n",
    "\n",
    "a = np.array([1, 2, 3, 2, 3, 4, 3, 4, 5, 6])\n",
    "b = np.array([7, 2, 10, 2, 7, 4, 9, 4, 9, 8])\n",
    "mask = np.equal(a, b)\n",
    "\n",
    "# 方法1\n",
    "x = np.where(mask)\n",
    "print(x)  # (array([1, 3, 5, 7], dtype=int64),)\n",
    "\n",
    "# 方法2\n",
    "x = np.nonzero(mask)\n",
    "print(x)  # (array([1, 3, 5, 7], dtype=int64),)"
   ]
  },
  {
   "cell_type": "markdown",
   "metadata": {
    "ExecuteTime": {
     "end_time": "2020-09-06T02:54:19.320517Z",
     "start_time": "2020-09-06T02:54:19.315496Z"
    }
   },
   "source": [
    "**获取5到10 之间的所有元素。**\n",
    "- `a = np.array([2, 6, 1, 9, 10, 3, 27])`\n",
    "\n",
    "【知识点：逻辑函数】\n",
    "- 如何从numpy数组中提取给定范围内的所有元素？"
   ]
  },
  {
   "cell_type": "code",
   "execution_count": 366,
   "metadata": {
    "ExecuteTime": {
     "end_time": "2020-09-06T02:55:11.162117Z",
     "start_time": "2020-09-06T02:55:11.156161Z"
    }
   },
   "outputs": [
    {
     "name": "stdout",
     "output_type": "stream",
     "text": [
      "[ 6  9 10]\n",
      "[ 6  9 10]\n",
      "[ 6  9 10]\n"
     ]
    }
   ],
   "source": [
    "import numpy as np\n",
    "\n",
    "a = np.array([2, 6, 1, 9, 10, 3, 27])\n",
    "mask = np.logical_and(np.greater_equal(a, 5), np.less_equal(a, 10))\n",
    "\n",
    "# 方法1\n",
    "x = np.where(mask)\n",
    "print(a[x])  # [ 6  9 10]\n",
    "\n",
    "# 方法2\n",
    "x = np.nonzero(mask)\n",
    "print(a[x])  # [ 6  9 10]\n",
    "\n",
    "# 方法3\n",
    "x = a[np.logical_and(a >= 5, a <= 10)]\n",
    "print(x)  # [ 6  9 10]"
   ]
  },
  {
   "cell_type": "markdown",
   "metadata": {},
   "source": [
    "**对于两个随机数组A和B,检查他们是否相等**\n",
    "\n",
    "【知识点：逻辑函数】\n",
    "\n",
    "- (提示: np.allclose, np.array_equal)"
   ]
  },
  {
   "cell_type": "code",
   "execution_count": 367,
   "metadata": {
    "ExecuteTime": {
     "end_time": "2020-09-14T09:35:57.408576Z",
     "start_time": "2020-09-14T09:35:57.404623Z"
    }
   },
   "outputs": [],
   "source": [
    "A = np.random.randint(0,2,5)\n",
    "B = np.random.randint(0,2,5)"
   ]
  },
  {
   "cell_type": "code",
   "execution_count": 368,
   "metadata": {
    "ExecuteTime": {
     "end_time": "2020-09-14T09:35:58.285123Z",
     "start_time": "2020-09-14T09:35:58.280479Z"
    }
   },
   "outputs": [
    {
     "name": "stdout",
     "output_type": "stream",
     "text": [
      "False\n"
     ]
    }
   ],
   "source": [
    "\n",
    "# Assuming identical shape of the arrays and a tolerance for the comparison of values\n",
    "equal = np.allclose(A,B)\n",
    "print(equal)"
   ]
  },
  {
   "cell_type": "markdown",
   "metadata": {},
   "source": [
    "**何对布尔值取反，或者原位(in-place)改变浮点数的符号(sign)？**\n",
    "\n",
    "【知识点：逻辑函数】\n",
    "- (提示: np.logical_not, np.negative)"
   ]
  },
  {
   "cell_type": "code",
   "execution_count": 369,
   "metadata": {
    "ExecuteTime": {
     "end_time": "2020-09-14T14:05:59.290471Z",
     "start_time": "2020-09-14T14:05:59.284521Z"
    }
   },
   "outputs": [
    {
     "name": "stdout",
     "output_type": "stream",
     "text": [
      "[0 1]\n"
     ]
    },
    {
     "data": {
      "text/plain": [
       "array([1, 0])"
      ]
     },
     "execution_count": 369,
     "metadata": {},
     "output_type": "execute_result"
    }
   ],
   "source": [
    "Z = np.array([0,1])\n",
    "print(Z)\n",
    "np.logical_not(Z, out=Z)\n",
    "# Z = np.random.uniform(-1.0,1.0,100)\n",
    "\n",
    "# np.negative(Z, out=Z)"
   ]
  },
  {
   "cell_type": "code",
   "execution_count": 370,
   "metadata": {
    "ExecuteTime": {
     "end_time": "2020-09-14T14:08:05.101330Z",
     "start_time": "2020-09-14T14:08:05.096343Z"
    }
   },
   "outputs": [
    {
     "name": "stdout",
     "output_type": "stream",
     "text": [
      "[0.2  1.15]\n"
     ]
    },
    {
     "data": {
      "text/plain": [
       "array([-0.2 , -1.15])"
      ]
     },
     "execution_count": 370,
     "metadata": {},
     "output_type": "execute_result"
    }
   ],
   "source": [
    "Z = np.array([0.2,1.15])\n",
    "print(Z)\n",
    "np.negative(Z, out=Z)"
   ]
  },
  {
   "cell_type": "markdown",
   "metadata": {},
   "source": [
    "**找出数组中与给定值最接近的数**"
   ]
  },
  {
   "cell_type": "code",
   "execution_count": 371,
   "metadata": {},
   "outputs": [
    {
     "name": "stdout",
     "output_type": "stream",
     "text": [
      "[[0 1 2 3]\n",
      " [4 5 6 7]]\n",
      "5\n"
     ]
    }
   ],
   "source": [
    "Z=np.array([[0,1,2,3],[4,5,6,7]])\n",
    "print(Z)\n",
    "z=5.1\n",
    "np.abs(Z - z).argmin()\n",
    "print(Z.flat[np.abs(Z - z).argmin()])"
   ]
  },
  {
   "cell_type": "code",
   "execution_count": null,
   "metadata": {},
   "outputs": [],
   "source": []
  },
  {
   "cell_type": "code",
   "execution_count": null,
   "metadata": {},
   "outputs": [],
   "source": []
  }
 ],
 "metadata": {
  "kernelspec": {
   "display_name": "Python 3",
   "language": "python",
   "name": "python3"
  },
  "language_info": {
   "codemirror_mode": {
    "name": "ipython",
    "version": 3
   },
   "file_extension": ".py",
   "mimetype": "text/x-python",
   "name": "python",
   "nbconvert_exporter": "python",
   "pygments_lexer": "ipython3",
   "version": "3.8.3"
  },
  "toc-autonumbering": true
 },
 "nbformat": 4,
 "nbformat_minor": 4
}
